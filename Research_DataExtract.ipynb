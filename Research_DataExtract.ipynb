{
  "nbformat": 4,
  "nbformat_minor": 0,
  "metadata": {
    "colab": {
      "name": "Research_DataExtract.ipynb",
      "provenance": [],
      "collapsed_sections": [],
      "toc_visible": true,
      "include_colab_link": true
    },
    "kernelspec": {
      "name": "python3",
      "display_name": "Python 3"
    },
    "language_info": {
      "name": "python"
    }
  },
  "cells": [
    {
      "cell_type": "markdown",
      "metadata": {
        "id": "view-in-github",
        "colab_type": "text"
      },
      "source": [
        "<a href=\"https://colab.research.google.com/github/farookfazni/AI-to-Predict-Career-Path/blob/master/Research_DataExtract.ipynb\" target=\"_parent\"><img src=\"https://colab.research.google.com/assets/colab-badge.svg\" alt=\"Open In Colab\"/></a>"
      ]
    },
    {
      "cell_type": "code",
      "source": [
        "from google.colab import drive\n",
        "drive.mount('/content/drive')"
      ],
      "metadata": {
        "colab": {
          "base_uri": "https://localhost:8080/"
        },
        "id": "a6Th1AwXJD9D",
        "outputId": "d516c72b-a73d-495f-a3e8-1559d082022b"
      },
      "execution_count": null,
      "outputs": [
        {
          "output_type": "stream",
          "name": "stdout",
          "text": [
            "Mounted at /content/drive\n"
          ]
        }
      ]
    },
    {
      "cell_type": "code",
      "execution_count": null,
      "metadata": {
        "id": "7VQJFgtyAxye"
      },
      "outputs": [],
      "source": [
        "import pandas as pd\n",
        "import numpy as np"
      ]
    },
    {
      "cell_type": "code",
      "source": [
        "Data = pd.read_csv('/content/drive/MyDrive/Research Dataset/csv/Mobile_Dev.csv')\n",
        "# Data.head()"
      ],
      "metadata": {
        "id": "f1TZA1DcBFEM"
      },
      "execution_count": null,
      "outputs": []
    },
    {
      "cell_type": "code",
      "source": [
        "pd.set_option('max_rows', 99999)\n",
        "pd.set_option('max_colwidth', 400)\n",
        "pd.describe_option('max_colwidth')\n",
        "\n",
        "# display.max_colwidth : int\n",
        "#     The maximum width in characters of a column in the repr of\n",
        "#     a pandas data structure. When the column overflows, a \"...\"\n",
        "#     placeholder is embedded in the output.\n",
        "#     [default: 50] [currently: 400]"
      ],
      "metadata": {
        "colab": {
          "base_uri": "https://localhost:8080/"
        },
        "id": "fuvfGlkbfIGo",
        "outputId": "c41b79e9-060e-4c40-9740-9a3b17b29837"
      },
      "execution_count": null,
      "outputs": [
        {
          "output_type": "stream",
          "name": "stdout",
          "text": [
            "display.max_colwidth : int or None\n",
            "    The maximum width in characters of a column in the repr of\n",
            "    a pandas data structure. When the column overflows, a \"...\"\n",
            "    placeholder is embedded in the output. A 'None' value means unlimited.\n",
            "    [default: 50] [currently: 400]\n"
          ]
        }
      ]
    },
    {
      "cell_type": "code",
      "source": [
        "class ex_data:\n",
        "  def __init__(self, dataset):\n",
        "    self.dataset = dataset\n",
        "\n",
        "# Extract the skills (cleaning skill set)\n",
        "  def skill(self, dataset,end=51):\n",
        "    self.dataset = dataset\n",
        "    skills = pd.DataFrame([])\n",
        "    # using banned valued list to remove string null\n",
        "    banned = ['null']\n",
        "    skills = dataset['skills'].str.split(',', expand=True)\n",
        "    # end is used here to get number of skills (it might be differ 1 to another)\n",
        "    for i in range(0,end):\n",
        "      # Removing numbers and other special characters\n",
        "      skills[i] = skills[i].fillna('').astype(str).str.replace(r'[^A-Za-z ]', '', regex=True).replace('', np.nan, regex=False)\n",
        "      # removing null string from dataset\n",
        "      skills[i] = [' '.join([item for item in x.split() \n",
        "                      if item not in banned]) \n",
        "                      for x in skills[i].astype(str)]\n",
        "    dataset_withskil = pd.concat([skills],axis=1)\n",
        "    return dataset_withskil\n",
        "\n",
        "# Extract education in dataset\n",
        "  def edu(self, dataset):\n",
        "    self.dataset = dataset\n",
        "    #  geting only the wanted things in dataset acording to education\n",
        "    dataset_edu1 = dataset[['education_1','education_degree_1','education_start_1','education_end_1','education_description_1']]\n",
        "    dataset_edu2 = dataset[['education_2','education_degree_2','education_start_2','education_end_2','education_description_2']]\n",
        "    dataset_edu3 = dataset[['education_3','education_degree_3','education_start_3','education_end_3','education_description_3']]\n",
        "    dataset_withedu = pd.concat([dataset_edu1,dataset_edu2,dataset_edu3],axis=1)\n",
        "    return dataset_withedu\n",
        "\n",
        "# Extract working expirence in dataset\n",
        "  def work(self, dataset):\n",
        "    self.dataset = dataset\n",
        "    #  geting only the wanted things in dataset acording to work expirence\n",
        "    dataset_work1 = dataset[['organization_1','organization_title_1','organization_start_1']]\n",
        "    dataset_work2 = dataset[['organization_2','organization_title_2','organization_start_2']]\n",
        "    dataset_work3 = dataset[['organization_3','organization_title_3','organization_start_3']]\n",
        "    dataset_work4 = dataset[['organization_4','organization_title_4','organization_start_4']]\n",
        "    dataset_withwork = pd.concat([dataset_work1,dataset_work2,dataset_work3,dataset_work4],axis=1)\n",
        "    return dataset_withwork"
      ],
      "metadata": {
        "id": "o77Upz2pRMjS"
      },
      "execution_count": null,
      "outputs": []
    },
    {
      "cell_type": "code",
      "source": [
        "def concat(dataset,df1,df2,df3):\n",
        "  datset_concat = pd.concat([dataset['id'],df1,df2,df3],axis=1)\n",
        "  return datset_concat"
      ],
      "metadata": {
        "id": "SulN9alxci1C"
      },
      "execution_count": null,
      "outputs": []
    },
    {
      "cell_type": "code",
      "source": [
        "def check_Missing(dataset, precent):\n",
        "  #Checking columns with missing data\n",
        "  Miss_Percent=100*(dataset.isnull().sum()/len(dataset))\n",
        "\n",
        "  #Sorting the data columns by their percentage in descending order (big to small)\n",
        "  # by using Miss_Percent>0 it takes values,ore than 0\n",
        "  # round(1) this is used to round the value to one decimal point .0\n",
        "  Miss_Percent=Miss_Percent[Miss_Percent>precent].sort_values(ascending=False).round(1)\n",
        "\n",
        "  #Creating a dataframe to show percentage of missing data and its respective data column in table\n",
        "  DataFrame=pd.DataFrame(Miss_Percent)\n",
        "  miss_percent_table=DataFrame.rename(columns={0:'% of Missing Values'})\n",
        "  MissPercent=miss_percent_table\n",
        "\n",
        "  #Displaying Missing Value table\n",
        "  return MissPercent"
      ],
      "metadata": {
        "id": "dQ5gszzfGJYa"
      },
      "execution_count": null,
      "outputs": []
    },
    {
      "cell_type": "code",
      "source": [
        "# before Eexcuting this check the prcentage else it will remove all the miss values columns (including 0.1%)\n",
        "def Missing_Removal(dataset,MissPercent):\n",
        "  count = 0\n",
        "  for i in dataset.columns:\n",
        "    for j in MissPercent.index:\n",
        "      if i==j:\n",
        "        dataset.drop(j,axis=1,inplace=True)\n",
        "        count +=1\n",
        "  return dataset"
      ],
      "metadata": {
        "id": "RRwBmaMGKq33"
      },
      "execution_count": null,
      "outputs": []
    },
    {
      "cell_type": "code",
      "source": [
        "Data_BA = pd.read_csv('/content/drive/MyDrive/Research Dataset/csv/BA.csv')\n",
        "Data_Cyber = pd.read_csv('/content/drive/MyDrive/Research Dataset/csv/CyberSecurity_linkedIn.csv')\n",
        "Data_DEng = pd.read_csv('/content/drive/MyDrive/Research Dataset/csv/DataEngineer_LinkedIN.csv')\n",
        "Data_DSci = pd.read_csv('/content/drive/MyDrive/Research Dataset/csv/DataScience_LinkedIN.csv')\n",
        "Data_Dev = pd.read_csv('/content/drive/MyDrive/Research Dataset/csv/DevOps.csv')\n",
        "Data_ML = pd.read_csv('/content/drive/MyDrive/Research Dataset/csv/MLEng_LinkedIn.csv')\n",
        "Data_QA = pd.read_csv('/content/drive/MyDrive/Research Dataset/csv/QA.csv')\n",
        "Data_SE = pd.read_csv('/content/drive/MyDrive/Research Dataset/csv/linkedhelper_SE.csv')\n",
        "Data_NET = pd.read_csv('/content/drive/MyDrive/Research Dataset/csv/linkedhelper_network_engineer.csv')\n",
        "Data_MOB = pd.read_csv('/content/drive/MyDrive/Research Dataset/csv/Mobile_Dev.csv')"
      ],
      "metadata": {
        "id": "yDstPxGzXLW6"
      },
      "execution_count": null,
      "outputs": []
    },
    {
      "cell_type": "code",
      "source": [
        "BA = ex_data(Data_BA)\n",
        "BA_skill = BA.skill(Data_BA,49)\n",
        "BA_edu = BA.edu(Data_BA)\n",
        "BA_work = BA.work(Data_BA)\n",
        "BA_datset_concat = concat(Data_BA,BA_skill,BA_edu,BA_work)\n",
        "BA_datset_concat.columns"
      ],
      "metadata": {
        "id": "ITFWlV9kYgV6"
      },
      "execution_count": null,
      "outputs": []
    },
    {
      "cell_type": "code",
      "source": [
        "Cyber = ex_data(Data_Cyber)\n",
        "Cyber_skill = Cyber.skill(Data_Cyber)\n",
        "Cyber_edu = Cyber.edu(Data_Cyber)\n",
        "Cyber_work = Cyber.work(Data_Cyber)\n",
        "Cyber_datset_concat = concat(Data_Cyber,Cyber_skill,Cyber_edu,Cyber_work)\n",
        "Cyber_datset_concat.columns"
      ],
      "metadata": {
        "id": "AR0O9LUqZIV0"
      },
      "execution_count": null,
      "outputs": []
    },
    {
      "cell_type": "code",
      "source": [
        "DEng = ex_data(Data_DEng)\n",
        "DEng_skill = DEng.skill(Data_DEng)\n",
        "DEng_edu = DEng.edu(Data_DEng)\n",
        "DEng_work = DEng.work(Data_DEng)\n",
        "DEng_datset_concat = concat(Data_DEng,DEng_skill,DEng_edu,DEng_work)\n",
        "DEng_datset_concat.columns"
      ],
      "metadata": {
        "id": "EyRqfQRXZqsB"
      },
      "execution_count": null,
      "outputs": []
    },
    {
      "cell_type": "code",
      "source": [
        "DSci = ex_data(Data_DSci)\n",
        "DSci_skill = DSci.skill(Data_DSci)\n",
        "DSci_edu = DSci.edu(Data_DSci)\n",
        "DSci_work = DSci.work(Data_DSci)\n",
        "DSci_datset_concat = concat(Data_DSci,DSci_skill,DSci_edu,DSci_work)\n",
        "DSci_datset_concat.columns"
      ],
      "metadata": {
        "id": "Xb21171jaJ8B"
      },
      "execution_count": null,
      "outputs": []
    },
    {
      "cell_type": "code",
      "source": [
        "Dev = ex_data(Data_Dev)\n",
        "Dev_skill = Dev.skill(Data_Dev)\n",
        "Dev_edu = Dev.edu(Data_Dev)\n",
        "Dev_work = Dev.work(Data_Dev)\n",
        "Dev_datset_concat = concat(Data_Dev,Dev_skill,Dev_edu,Dev_work)\n",
        "Dev_datset_concat.columns"
      ],
      "metadata": {
        "id": "7-60GzJIa0Nx"
      },
      "execution_count": null,
      "outputs": []
    },
    {
      "cell_type": "code",
      "source": [
        "ML = ex_data(Data_ML)\n",
        "ML_skill = ML.skill(Data_ML)\n",
        "ML_edu = ML.edu(Data_ML)\n",
        "ML_work = ML.work(Data_ML)\n",
        "ML_datset_concat = concat(Data_ML,ML_skill,ML_edu,ML_work)\n",
        "ML_datset_concat.columns"
      ],
      "metadata": {
        "id": "Pf2-dHembMfJ"
      },
      "execution_count": null,
      "outputs": []
    },
    {
      "cell_type": "code",
      "source": [
        "QA = ex_data(Data_QA)\n",
        "QA_skill = QA.skill(Data_QA,49)\n",
        "QA_edu = QA.edu(Data_QA)\n",
        "QA_work = QA.work(Data_QA)\n",
        "QA_datset_concat = concat(Data_QA,QA_skill,QA_edu,QA_work)\n",
        "QA_datset_concat.columns"
      ],
      "metadata": {
        "id": "p_CI7JU6bjXh"
      },
      "execution_count": null,
      "outputs": []
    },
    {
      "cell_type": "code",
      "source": [
        "SE = ex_data(Data_SE)\n",
        "SE_skill = SE.skill(Data_SE)\n",
        "SE_edu = SE.edu(Data_SE)\n",
        "SE_work = SE.work(Data_SE)\n",
        "SE_datset_concat = concat(Data_SE,SE_skill,SE_edu,SE_work)\n",
        "SE_datset_concat.columns"
      ],
      "metadata": {
        "id": "ZM3Oj78Yb8DJ"
      },
      "execution_count": null,
      "outputs": []
    },
    {
      "cell_type": "code",
      "source": [
        "NET = ex_data(Data_NET)\n",
        "NET_skill = NET.skill(Data_NET)\n",
        "NET_edu = NET.edu(Data_NET)\n",
        "NET_work = NET.work(Data_NET)\n",
        "NET_datset_concat = concat(Data_NET,NET_skill,NET_edu,NET_work)\n",
        "NET_datset_concat.columns"
      ],
      "metadata": {
        "id": "MpD2MiSHcOdh"
      },
      "execution_count": null,
      "outputs": []
    },
    {
      "cell_type": "code",
      "source": [
        "MOB = ex_data(Data_MOB)\n",
        "MOB_skill = MOB.skill(Data_MOB)\n",
        "MOB_edu = MOB.edu(Data_MOB)\n",
        "MOB_work = MOB.work(Data_MOB)\n",
        "MOB_datset_concat = concat(Data_MOB,MOB_skill,MOB_edu,MOB_work)\n",
        "MOB_datset_concat.columns"
      ],
      "metadata": {
        "id": "pXJ5Rh5sSV7U"
      },
      "execution_count": null,
      "outputs": []
    },
    {
      "cell_type": "code",
      "source": [
        "BA_datset_concat.to_csv(r'/content/drive/MyDrive/Research Dataset/processed_data/BA_processed1.csv')\n",
        "Cyber_datset_concat.to_csv(r'/content/drive/MyDrive/Research Dataset/processed_data/Cyber_processed1.csv')\n",
        "DEng_datset_concat.to_csv(r'/content/drive/MyDrive/Research Dataset/processed_data/DEng_processed1.csv')\n",
        "DSci_datset_concat.to_csv(r'/content/drive/MyDrive/Research Dataset/processed_data/DSci_processed1.csv')\n",
        "Dev_datset_concat.to_csv(r'/content/drive/MyDrive/Research Dataset/processed_data/Dev_processed1.csv')\n",
        "ML_datset_concat.to_csv(r'/content/drive/MyDrive/Research Dataset/processed_data/ML_processed1.csv')\n",
        "QA_datset_concat.to_csv(r'/content/drive/MyDrive/Research Dataset/processed_data/QA_processed1.csv')\n",
        "SE_datset_concat.to_csv(r'/content/drive/MyDrive/Research Dataset/processed_data/SE_processed1.csv')\n",
        "NET_datset_concat.to_csv(r'/content/drive/MyDrive/Research Dataset/processed_data/NET_processed1.csv')\n",
        "MOB_datset_concat.to_csv(r'/content/drive/MyDrive/Research Dataset/processed_data/MOB_processed1.csv')"
      ],
      "metadata": {
        "id": "x1FtJAQviAyy"
      },
      "execution_count": null,
      "outputs": []
    },
    {
      "cell_type": "code",
      "source": [
        "for i in Data.columns:\n",
        "  print(i)"
      ],
      "metadata": {
        "id": "82OlXTskixAU"
      },
      "execution_count": null,
      "outputs": []
    },
    {
      "cell_type": "code",
      "source": [
        "MissPercent = check_Missing(Data)\n",
        "# MissPercent\n",
        "# Data_New = Missing_Removal(Data,MissPercent)       # Remove only if nesesary"
      ],
      "metadata": {
        "id": "XZkLXm9WMN_f"
      },
      "execution_count": null,
      "outputs": []
    },
    {
      "cell_type": "code",
      "source": [
        "MissPercent = check_Missing(Data[['organization_1','organization_title_1','organization_start_1']],5)\n",
        "MissPercent"
      ],
      "metadata": {
        "colab": {
          "base_uri": "https://localhost:8080/",
          "height": 81
        },
        "id": "i6slg5rYn157",
        "outputId": "4dcddd07-7a4e-4b4a-ae66-1a1a658098c6"
      },
      "execution_count": null,
      "outputs": [
        {
          "output_type": "execute_result",
          "data": {
            "text/html": [
              "\n",
              "  <div id=\"df-229e1ba0-7c69-4618-9c1b-d89cc30be7ff\">\n",
              "    <div class=\"colab-df-container\">\n",
              "      <div>\n",
              "<style scoped>\n",
              "    .dataframe tbody tr th:only-of-type {\n",
              "        vertical-align: middle;\n",
              "    }\n",
              "\n",
              "    .dataframe tbody tr th {\n",
              "        vertical-align: top;\n",
              "    }\n",
              "\n",
              "    .dataframe thead th {\n",
              "        text-align: right;\n",
              "    }\n",
              "</style>\n",
              "<table border=\"1\" class=\"dataframe\">\n",
              "  <thead>\n",
              "    <tr style=\"text-align: right;\">\n",
              "      <th></th>\n",
              "      <th>% of Missing Values</th>\n",
              "    </tr>\n",
              "  </thead>\n",
              "  <tbody>\n",
              "    <tr>\n",
              "      <th>organization_1</th>\n",
              "      <td>6.7</td>\n",
              "    </tr>\n",
              "  </tbody>\n",
              "</table>\n",
              "</div>\n",
              "      <button class=\"colab-df-convert\" onclick=\"convertToInteractive('df-229e1ba0-7c69-4618-9c1b-d89cc30be7ff')\"\n",
              "              title=\"Convert this dataframe to an interactive table.\"\n",
              "              style=\"display:none;\">\n",
              "        \n",
              "  <svg xmlns=\"http://www.w3.org/2000/svg\" height=\"24px\"viewBox=\"0 0 24 24\"\n",
              "       width=\"24px\">\n",
              "    <path d=\"M0 0h24v24H0V0z\" fill=\"none\"/>\n",
              "    <path d=\"M18.56 5.44l.94 2.06.94-2.06 2.06-.94-2.06-.94-.94-2.06-.94 2.06-2.06.94zm-11 1L8.5 8.5l.94-2.06 2.06-.94-2.06-.94L8.5 2.5l-.94 2.06-2.06.94zm10 10l.94 2.06.94-2.06 2.06-.94-2.06-.94-.94-2.06-.94 2.06-2.06.94z\"/><path d=\"M17.41 7.96l-1.37-1.37c-.4-.4-.92-.59-1.43-.59-.52 0-1.04.2-1.43.59L10.3 9.45l-7.72 7.72c-.78.78-.78 2.05 0 2.83L4 21.41c.39.39.9.59 1.41.59.51 0 1.02-.2 1.41-.59l7.78-7.78 2.81-2.81c.8-.78.8-2.07 0-2.86zM5.41 20L4 18.59l7.72-7.72 1.47 1.35L5.41 20z\"/>\n",
              "  </svg>\n",
              "      </button>\n",
              "      \n",
              "  <style>\n",
              "    .colab-df-container {\n",
              "      display:flex;\n",
              "      flex-wrap:wrap;\n",
              "      gap: 12px;\n",
              "    }\n",
              "\n",
              "    .colab-df-convert {\n",
              "      background-color: #E8F0FE;\n",
              "      border: none;\n",
              "      border-radius: 50%;\n",
              "      cursor: pointer;\n",
              "      display: none;\n",
              "      fill: #1967D2;\n",
              "      height: 32px;\n",
              "      padding: 0 0 0 0;\n",
              "      width: 32px;\n",
              "    }\n",
              "\n",
              "    .colab-df-convert:hover {\n",
              "      background-color: #E2EBFA;\n",
              "      box-shadow: 0px 1px 2px rgba(60, 64, 67, 0.3), 0px 1px 3px 1px rgba(60, 64, 67, 0.15);\n",
              "      fill: #174EA6;\n",
              "    }\n",
              "\n",
              "    [theme=dark] .colab-df-convert {\n",
              "      background-color: #3B4455;\n",
              "      fill: #D2E3FC;\n",
              "    }\n",
              "\n",
              "    [theme=dark] .colab-df-convert:hover {\n",
              "      background-color: #434B5C;\n",
              "      box-shadow: 0px 1px 3px 1px rgba(0, 0, 0, 0.15);\n",
              "      filter: drop-shadow(0px 1px 2px rgba(0, 0, 0, 0.3));\n",
              "      fill: #FFFFFF;\n",
              "    }\n",
              "  </style>\n",
              "\n",
              "      <script>\n",
              "        const buttonEl =\n",
              "          document.querySelector('#df-229e1ba0-7c69-4618-9c1b-d89cc30be7ff button.colab-df-convert');\n",
              "        buttonEl.style.display =\n",
              "          google.colab.kernel.accessAllowed ? 'block' : 'none';\n",
              "\n",
              "        async function convertToInteractive(key) {\n",
              "          const element = document.querySelector('#df-229e1ba0-7c69-4618-9c1b-d89cc30be7ff');\n",
              "          const dataTable =\n",
              "            await google.colab.kernel.invokeFunction('convertToInteractive',\n",
              "                                                     [key], {});\n",
              "          if (!dataTable) return;\n",
              "\n",
              "          const docLinkHtml = 'Like what you see? Visit the ' +\n",
              "            '<a target=\"_blank\" href=https://colab.research.google.com/notebooks/data_table.ipynb>data table notebook</a>'\n",
              "            + ' to learn more about interactive tables.';\n",
              "          element.innerHTML = '';\n",
              "          dataTable['output_type'] = 'display_data';\n",
              "          await google.colab.output.renderOutput(dataTable, element);\n",
              "          const docLink = document.createElement('div');\n",
              "          docLink.innerHTML = docLinkHtml;\n",
              "          element.appendChild(docLink);\n",
              "        }\n",
              "      </script>\n",
              "    </div>\n",
              "  </div>\n",
              "  "
            ],
            "text/plain": [
              "                % of Missing Values\n",
              "organization_1                  6.7"
            ]
          },
          "metadata": {},
          "execution_count": 28
        }
      ]
    },
    {
      "cell_type": "code",
      "source": [
        "# Data_Eng_withskil.to_csv(r'/content/drive/MyDrive/Research Dataset/processed_data/dataEngskillprocessed1.csv')\n",
        "# Data_Eng_withsedu.to_csv(r'/content/drive/MyDrive/Research Dataset/processed_data/dataEngeduprocessed1.csv')\n",
        "# dataset_withwork.to_csv(r'/content/drive/MyDrive/Research Dataset/processed_data/dataEngworkprocessed1.csv')"
      ],
      "metadata": {
        "id": "_RVyJ2XMNtrW"
      },
      "execution_count": null,
      "outputs": []
    },
    {
      "cell_type": "code",
      "source": [
        "# Data_New[['organization_4','organization_title_4','organization_start_4']]"
      ],
      "metadata": {
        "id": "6Cf_hvcyrLgj"
      },
      "execution_count": null,
      "outputs": []
    },
    {
      "cell_type": "code",
      "source": [
        "# def skill(dataset):\n",
        "#   skills = pd.DataFrame([])\n",
        "#   banned = ['null']\n",
        "#   skills = dataset['skills'].str.split(',', expand=True)\n",
        "#   for i in range(0,51):\n",
        "#     skills[i] = skills[i].fillna('').astype(str).str.replace(r'[^A-Za-z ]', '', regex=True).replace('', np.nan, regex=False)\n",
        "#     skills[i] = [' '.join([item for item in x.split() \n",
        "#                     if item not in banned]) \n",
        "#                     for x in skills[i].astype(str)]\n",
        "#   dataset_withskil = pd.concat([dataset['id'],skills],axis=1)\n",
        "#   return dataset_withskil"
      ],
      "metadata": {
        "id": "SSLHb5yPtUDR"
      },
      "execution_count": null,
      "outputs": []
    },
    {
      "cell_type": "code",
      "source": [
        "# def edu(dataset):\n",
        "#   dataset_edu1 = dataset[['education_1','education_degree_1','education_start_1','education_end_1','education_description_1']]\n",
        "#   dataset_edu2 = dataset[['education_2','education_degree_2','education_start_2','education_end_2','education_description_2']]\n",
        "#   dataset_edu3 = dataset[['education_3','education_degree_3','education_start_3','education_end_3','education_description_3']]\n",
        "#   dataset_withedu = pd.concat([dataset['id'],dataset_edu1,dataset_edu2,dataset_edu3],axis=1)\n",
        "#   return dataset_withedu"
      ],
      "metadata": {
        "id": "TJT8MKqPwALk"
      },
      "execution_count": null,
      "outputs": []
    },
    {
      "cell_type": "code",
      "source": [
        "# def work(dataset):\n",
        "#   dataset_work1 = dataset[['organization_1','organization_title_1','organization_start_1']]\n",
        "#   dataset_work2 = dataset[['organization_2','organization_title_2','organization_start_2']]\n",
        "#   dataset_work3 = dataset[['organization_3','organization_title_3','organization_start_3']]\n",
        "#   dataset_work4 = dataset[['organization_4','organization_title_4','organization_start_4']]\n",
        "#   dataset_withwork = pd.concat([dataset['id'],dataset_work1,dataset_work2,dataset_work3,dataset_work4],axis=1)\n",
        "#   return dataset_withedu"
      ],
      "metadata": {
        "id": "jl0CRKEFuvWC"
      },
      "execution_count": null,
      "outputs": []
    },
    {
      "cell_type": "code",
      "source": [
        "# df = pd.DataFrame(MissPercent['% of Missing Values'].astype(str).str.split(' ').tolist(),columns = ['fips','row'])\n"
      ],
      "metadata": {
        "id": "kWpgkeiXKE9e"
      },
      "execution_count": null,
      "outputs": []
    },
    {
      "cell_type": "code",
      "source": [
        ""
      ],
      "metadata": {
        "id": "kxQM95XxseE4"
      },
      "execution_count": null,
      "outputs": []
    }
  ]
}