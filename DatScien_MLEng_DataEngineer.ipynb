{
  "nbformat": 4,
  "nbformat_minor": 0,
  "metadata": {
    "colab": {
      "name": "DatScien_MLEng_DataEngineer.ipynb",
      "provenance": [],
      "authorship_tag": "ABX9TyPJ3WY2se6rBWQxF3eEMZLj",
      "include_colab_link": true
    },
    "kernelspec": {
      "name": "python3",
      "display_name": "Python 3"
    },
    "language_info": {
      "name": "python"
    }
  },
  "cells": [
    {
      "cell_type": "markdown",
      "metadata": {
        "id": "view-in-github",
        "colab_type": "text"
      },
      "source": [
        "<a href=\"https://colab.research.google.com/github/farookfazni/AI-to-Predict-Career-Path/blob/master/DatScien_MLEng_DataEngineer.ipynb\" target=\"_parent\"><img src=\"https://colab.research.google.com/assets/colab-badge.svg\" alt=\"Open In Colab\"/></a>"
      ]
    },
    {
      "cell_type": "code",
      "source": [
        "from google.colab import drive\n",
        "drive.mount('/content/drive')"
      ],
      "metadata": {
        "colab": {
          "base_uri": "https://localhost:8080/"
        },
        "id": "9S3vmunkH37S",
        "outputId": "4ed631c5-3a71-4242-e8a7-5bd1ddc1b09f"
      },
      "execution_count": 1,
      "outputs": [
        {
          "output_type": "stream",
          "name": "stdout",
          "text": [
            "Mounted at /content/drive\n"
          ]
        }
      ]
    },
    {
      "cell_type": "code",
      "source": [
        "import pandas as pd"
      ],
      "metadata": {
        "id": "SqL7N8y0H6LK"
      },
      "execution_count": 2,
      "outputs": []
    },
    {
      "cell_type": "code",
      "source": [
        "Data_Sci = pd.read_csv('/content/drive/MyDrive/Research Dataset/processed_data/Cleaned_Data_Step1/DSci_processed1.csv')\n",
        "Data_Eng = pd.read_csv('/content/drive/MyDrive/Research Dataset/processed_data/Cleaned_Data_Step1/DEng_processed1.csv')\n",
        "ML_eng = pd.read_csv('/content/drive/MyDrive/Research Dataset/processed_data/Cleaned_Data_Step1/ML_processed1.csv')"
      ],
      "metadata": {
        "id": "t8cuDLR7IDMC"
      },
      "execution_count": 3,
      "outputs": []
    },
    {
      "cell_type": "code",
      "source": [
        "Data_Sci_title = pd.read_csv('/content/drive/MyDrive/Research Dataset/processed_data/Fully_Extracted_Data/DSci_processed1.csv')\n",
        "Data_Eng_title = pd.read_csv('/content/drive/MyDrive/Research Dataset/processed_data/Fully_Extracted_Data/DEng_processed1.csv')\n",
        "ML_title = pd.read_csv('/content/drive/MyDrive/Research Dataset/processed_data/Fully_Extracted_Data/ML_processed1.csv')"
      ],
      "metadata": {
        "id": "ISmoey1qIlLR"
      },
      "execution_count": 4,
      "outputs": []
    },
    {
      "cell_type": "code",
      "source": [
        "Data_Sci_Data = pd.concat([Data_Sci,Data_Sci_title['organization_title_1']], axis=1)\n",
        "Data_Eng_Data = pd.concat([Data_Eng,Data_Eng_title['organization_title_1']], axis=1)\n",
        "ML_Data = pd.concat([ML_eng,ML_title['organization_title_1']], axis=1)"
      ],
      "metadata": {
        "id": "rIH0JLZLJApZ"
      },
      "execution_count": 5,
      "outputs": []
    },
    {
      "cell_type": "code",
      "source": [
        "# Drop column\n",
        "Data_Sci_Data = Data_Sci_Data.drop(['Unnamed: 0','Unnamed: 0.1'], axis=1)\n",
        "Data_Eng_Data = Data_Eng_Data.drop(['Unnamed: 0','Unnamed: 0.1'], axis=1)\n",
        "ML_Data = ML_Data.drop(['Unnamed: 0','Unnamed: 0.1'], axis=1)"
      ],
      "metadata": {
        "id": "OvtiGW9oJZhB"
      },
      "execution_count": 6,
      "outputs": []
    },
    {
      "cell_type": "code",
      "source": [
        "def check_Avalaiblity(datset,x=\"Software Engineer\"):\n",
        "  countpos = 0\n",
        "  countneg = 0\n",
        "  other_labels = []\n",
        "  label = []\n",
        "  label_name = []\n",
        "  # goimg through the datset\n",
        "  for i in datset['organization_title_1']:\n",
        "    # making sure all values are string\n",
        "    st = str(i)\n",
        "    # cheking the sub string exisits in string\n",
        "    if x in st:\n",
        "      # if sting is available adding 1 to label\n",
        "      label.append(1)\n",
        "      label_name.append(st)\n",
        "      # Keep count\n",
        "      countpos += 1\n",
        "    else:\n",
        "      # if sting is not available adding 0 to label\n",
        "      label.append(0)\n",
        "      # adding the values of other string values to the other_label\n",
        "      other_labels.append(st)\n",
        "      countneg += 1\n",
        "  return label, other_labels, label_name, countpos, countneg"
      ],
      "metadata": {
        "id": "yuayplF8JkMC"
      },
      "execution_count": 7,
      "outputs": []
    },
    {
      "cell_type": "code",
      "source": [
        "Data_Sci_Data.shape"
      ],
      "metadata": {
        "colab": {
          "base_uri": "https://localhost:8080/"
        },
        "id": "UY9xpJnzJrfm",
        "outputId": "8905ff28-db9d-49fa-c59e-ebad208186f1"
      },
      "execution_count": 8,
      "outputs": [
        {
          "output_type": "execute_result",
          "data": {
            "text/plain": [
              "(428, 10)"
            ]
          },
          "metadata": {},
          "execution_count": 8
        }
      ]
    },
    {
      "cell_type": "code",
      "source": [
        "Data_Eng_Data.shape"
      ],
      "metadata": {
        "colab": {
          "base_uri": "https://localhost:8080/"
        },
        "id": "08DDl2xyJrZn",
        "outputId": "ee8c2dec-1fb2-4fd9-e949-46b0a48fc45a"
      },
      "execution_count": 9,
      "outputs": [
        {
          "output_type": "execute_result",
          "data": {
            "text/plain": [
              "(478, 10)"
            ]
          },
          "metadata": {},
          "execution_count": 9
        }
      ]
    },
    {
      "cell_type": "code",
      "source": [
        "ML_Data.shape"
      ],
      "metadata": {
        "colab": {
          "base_uri": "https://localhost:8080/"
        },
        "id": "Az8I1s5wJq5J",
        "outputId": "3c77294e-b516-49da-dbed-ae1cc5fd9a39"
      },
      "execution_count": 10,
      "outputs": [
        {
          "output_type": "execute_result",
          "data": {
            "text/plain": [
              "(631, 10)"
            ]
          },
          "metadata": {},
          "execution_count": 10
        }
      ]
    },
    {
      "cell_type": "code",
      "source": [
        "ML_Data['organization_title_1']"
      ],
      "metadata": {
        "colab": {
          "base_uri": "https://localhost:8080/"
        },
        "id": "cQM5I5_5J1K2",
        "outputId": "2ecaca81-d4e9-40f0-95a3-20e83c144c1b"
      },
      "execution_count": 11,
      "outputs": [
        {
          "output_type": "execute_result",
          "data": {
            "text/plain": [
              "0                          AI/ML Engineer\n",
              "1      Machine Learning Engineer - Intern\n",
              "2               Machine Learning Engineer\n",
              "3                          Data Scientist\n",
              "4               Data Scientist Consultant\n",
              "                      ...                \n",
              "626                        AI/ML Engineer\n",
              "627         ML Engineer | Computer Vision\n",
              "628                        AI/ML Engineer\n",
              "629       Business Intelligence Developer\n",
              "630          Junior ML Engineer at Omdena\n",
              "Name: organization_title_1, Length: 631, dtype: object"
            ]
          },
          "metadata": {},
          "execution_count": 11
        }
      ]
    },
    {
      "cell_type": "code",
      "source": [
        "label, other_labels, label_name, countpos, countneg = check_Avalaiblity(ML_Data,\"Machine Learning Engineer\")"
      ],
      "metadata": {
        "id": "at2JWfRVJm4f"
      },
      "execution_count": 12,
      "outputs": []
    },
    {
      "cell_type": "code",
      "source": [
        "countpos"
      ],
      "metadata": {
        "colab": {
          "base_uri": "https://localhost:8080/"
        },
        "id": "HcYLmacWKBww",
        "outputId": "9ff12a3a-fc25-4271-c000-581de8199a1e"
      },
      "execution_count": 13,
      "outputs": [
        {
          "output_type": "execute_result",
          "data": {
            "text/plain": [
              "68"
            ]
          },
          "metadata": {},
          "execution_count": 13
        }
      ]
    },
    {
      "cell_type": "code",
      "source": [
        "ML_Data['label']=label"
      ],
      "metadata": {
        "id": "wRKOctSmKdRn"
      },
      "execution_count": 18,
      "outputs": []
    },
    {
      "cell_type": "code",
      "source": [
        "ML_Data_1 = ML_Data[ML_Data['label']==1]"
      ],
      "metadata": {
        "id": "B0UFx08EKjK2"
      },
      "execution_count": 19,
      "outputs": []
    },
    {
      "cell_type": "code",
      "source": [
        "ML_Data_1.shape"
      ],
      "metadata": {
        "colab": {
          "base_uri": "https://localhost:8080/"
        },
        "id": "Xh8T0JzQKtPG",
        "outputId": "278f6983-6e40-45e6-a410-761d93033c57"
      },
      "execution_count": 20,
      "outputs": [
        {
          "output_type": "execute_result",
          "data": {
            "text/plain": [
              "(68, 11)"
            ]
          },
          "metadata": {},
          "execution_count": 20
        }
      ]
    },
    {
      "cell_type": "code",
      "source": [
        "ML_Data_1"
      ],
      "metadata": {
        "id": "zkEGo9MqKwf3"
      },
      "execution_count": null,
      "outputs": []
    },
    {
      "cell_type": "code",
      "source": [
        "ML_Data_check1 = ML_Data[ML_Data['label']==0]"
      ],
      "metadata": {
        "id": "c1wFBmvHKz6O"
      },
      "execution_count": 22,
      "outputs": []
    },
    {
      "cell_type": "code",
      "source": [
        "ML_Data_check1.shape"
      ],
      "metadata": {
        "colab": {
          "base_uri": "https://localhost:8080/"
        },
        "id": "X0wcXCqaK552",
        "outputId": "2ba499b2-f562-4a97-b678-8159b4c42ec5"
      },
      "execution_count": 23,
      "outputs": [
        {
          "output_type": "execute_result",
          "data": {
            "text/plain": [
              "(563, 11)"
            ]
          },
          "metadata": {},
          "execution_count": 23
        }
      ]
    },
    {
      "cell_type": "code",
      "source": [
        "label2, other_labels2, label_name2, countpos2, countneg2 = check_Avalaiblity(ML_Data_check1,\"ML Engineer\")"
      ],
      "metadata": {
        "id": "M5llQftKKDFf"
      },
      "execution_count": 24,
      "outputs": []
    },
    {
      "cell_type": "code",
      "source": [
        "countpos2"
      ],
      "metadata": {
        "colab": {
          "base_uri": "https://localhost:8080/"
        },
        "id": "b9I9rJRAKMno",
        "outputId": "f71d1eda-9029-448e-f32c-3cbedb256434"
      },
      "execution_count": 25,
      "outputs": [
        {
          "output_type": "execute_result",
          "data": {
            "text/plain": [
              "260"
            ]
          },
          "metadata": {},
          "execution_count": 25
        }
      ]
    },
    {
      "cell_type": "code",
      "source": [
        "ML_Data_check1['label']=label2"
      ],
      "metadata": {
        "colab": {
          "base_uri": "https://localhost:8080/"
        },
        "id": "7pVk7n1ZLGeR",
        "outputId": "e829d001-b8e8-4651-9cdf-871e487bb5bf"
      },
      "execution_count": 26,
      "outputs": [
        {
          "output_type": "stream",
          "name": "stderr",
          "text": [
            "/usr/local/lib/python3.7/dist-packages/ipykernel_launcher.py:1: SettingWithCopyWarning: \n",
            "A value is trying to be set on a copy of a slice from a DataFrame.\n",
            "Try using .loc[row_indexer,col_indexer] = value instead\n",
            "\n",
            "See the caveats in the documentation: https://pandas.pydata.org/pandas-docs/stable/user_guide/indexing.html#returning-a-view-versus-a-copy\n",
            "  \"\"\"Entry point for launching an IPython kernel.\n"
          ]
        }
      ]
    },
    {
      "cell_type": "code",
      "source": [
        "ML_Data_2 = ML_Data_check1[ML_Data_check1['label']==1]"
      ],
      "metadata": {
        "id": "-DIbWhMYKOEP"
      },
      "execution_count": 27,
      "outputs": []
    },
    {
      "cell_type": "code",
      "source": [
        "ML_Data_2.shape"
      ],
      "metadata": {
        "colab": {
          "base_uri": "https://localhost:8080/"
        },
        "id": "rtSh1zp3LRP4",
        "outputId": "1434e815-89b3-4561-cbe7-abcc92cb6a96"
      },
      "execution_count": 28,
      "outputs": [
        {
          "output_type": "execute_result",
          "data": {
            "text/plain": [
              "(260, 11)"
            ]
          },
          "metadata": {},
          "execution_count": 28
        }
      ]
    },
    {
      "cell_type": "code",
      "source": [
        "ML_Data_2"
      ],
      "metadata": {
        "id": "bIwG6Go9LTN_"
      },
      "execution_count": null,
      "outputs": []
    },
    {
      "cell_type": "code",
      "source": [
        "ML_Data_check2 = ML_Data_check1[ML_Data_check1['label']==0]"
      ],
      "metadata": {
        "id": "WXSuZ8L9LVHf"
      },
      "execution_count": 30,
      "outputs": []
    },
    {
      "cell_type": "code",
      "source": [
        "ML_Data_check2.shape"
      ],
      "metadata": {
        "colab": {
          "base_uri": "https://localhost:8080/"
        },
        "id": "vMaowpPiLhIX",
        "outputId": "8e1fc94c-326f-48ae-faa2-9af65ce89e50"
      },
      "execution_count": 31,
      "outputs": [
        {
          "output_type": "execute_result",
          "data": {
            "text/plain": [
              "(303, 11)"
            ]
          },
          "metadata": {},
          "execution_count": 31
        }
      ]
    },
    {
      "cell_type": "code",
      "source": [
        "label3, other_labels3, label_name3, countpos3, countneg3 = check_Avalaiblity(ML_Data_check2,\"AI\")"
      ],
      "metadata": {
        "id": "ADLj8kuMLjH-"
      },
      "execution_count": 35,
      "outputs": []
    },
    {
      "cell_type": "code",
      "source": [
        "countpos3"
      ],
      "metadata": {
        "colab": {
          "base_uri": "https://localhost:8080/"
        },
        "id": "EiL5RU7lL0Lf",
        "outputId": "9f1629ef-2988-430d-c269-bc7126edb555"
      },
      "execution_count": 36,
      "outputs": [
        {
          "output_type": "execute_result",
          "data": {
            "text/plain": [
              "29"
            ]
          },
          "metadata": {},
          "execution_count": 36
        }
      ]
    },
    {
      "cell_type": "code",
      "source": [
        "label_name3"
      ],
      "metadata": {
        "colab": {
          "base_uri": "https://localhost:8080/"
        },
        "id": "u_vIkyWTL1cG",
        "outputId": "f0284f42-59d6-4960-e57e-70fb3c5977f5"
      },
      "execution_count": 37,
      "outputs": [
        {
          "output_type": "execute_result",
          "data": {
            "text/plain": [
              "['AI Engineer',\n",
              " 'Junior Web developer and AI and ML Consultant',\n",
              " 'AI Engineer',\n",
              " 'Software and AI Engineer',\n",
              " 'AI Engineer',\n",
              " 'Engineer - Technology (AI/ML)',\n",
              " 'Senior AI and Software Developer',\n",
              " 'AI/ML Rotational Engineer',\n",
              " 'Staff Software Engineer (AI/ML)',\n",
              " 'AI lead',\n",
              " 'AI ML engineer',\n",
              " 'AI/ML engineer',\n",
              " 'DS/AI/ML/Big Data Architect',\n",
              " 'Lead ML Developer - AI Labs',\n",
              " 'Software Engineer (AI/ML)',\n",
              " 'AI and ML engineer',\n",
              " 'PI & AI Event Ambassador',\n",
              " 'AI/ML Software Engineer',\n",
              " 'AI Specialist',\n",
              " 'Software Engineer (AI/ML)',\n",
              " 'Software Engineer (ML/AI)',\n",
              " 'Software Engineer(AI/ML)',\n",
              " 'Senior Lead Engineer AI/ML',\n",
              " 'Software Engineer - Python, AI and ML',\n",
              " 'R&D Engineer AI/ML',\n",
              " 'Associate Software Engineer AI/ML',\n",
              " 'AI Engineer',\n",
              " 'Associate Software Engineer (AI/ML)',\n",
              " 'Senior AI/ML Development Engineer ']"
            ]
          },
          "metadata": {},
          "execution_count": 37
        }
      ]
    },
    {
      "cell_type": "code",
      "source": [
        "ML_Data_check2['label']=label3"
      ],
      "metadata": {
        "colab": {
          "base_uri": "https://localhost:8080/"
        },
        "id": "2Mv-9HBKMJ-3",
        "outputId": "5ba103d5-4a88-4b24-cb16-7d4e797cccaa"
      },
      "execution_count": 38,
      "outputs": [
        {
          "output_type": "stream",
          "name": "stderr",
          "text": [
            "/usr/local/lib/python3.7/dist-packages/ipykernel_launcher.py:1: SettingWithCopyWarning: \n",
            "A value is trying to be set on a copy of a slice from a DataFrame.\n",
            "Try using .loc[row_indexer,col_indexer] = value instead\n",
            "\n",
            "See the caveats in the documentation: https://pandas.pydata.org/pandas-docs/stable/user_guide/indexing.html#returning-a-view-versus-a-copy\n",
            "  \"\"\"Entry point for launching an IPython kernel.\n"
          ]
        }
      ]
    },
    {
      "cell_type": "code",
      "source": [
        "ML_Data_3 = ML_Data_check2[ML_Data_check2['label']==1]"
      ],
      "metadata": {
        "id": "BLQzRwYtL3mm"
      },
      "execution_count": 39,
      "outputs": []
    },
    {
      "cell_type": "code",
      "source": [
        "ML_Data_3.shape"
      ],
      "metadata": {
        "colab": {
          "base_uri": "https://localhost:8080/"
        },
        "id": "KxmK65tWMU0I",
        "outputId": "2b8316ff-791a-412a-81b5-c3890d25e931"
      },
      "execution_count": 40,
      "outputs": [
        {
          "output_type": "execute_result",
          "data": {
            "text/plain": [
              "(29, 11)"
            ]
          },
          "metadata": {},
          "execution_count": 40
        }
      ]
    },
    {
      "cell_type": "code",
      "source": [
        "ML_Data_check3 = ML_Data_check2[ML_Data_check2['label']==0]"
      ],
      "metadata": {
        "id": "LUlLjewrMWpH"
      },
      "execution_count": 41,
      "outputs": []
    },
    {
      "cell_type": "code",
      "source": [
        "ML_Data_check3.shape"
      ],
      "metadata": {
        "colab": {
          "base_uri": "https://localhost:8080/"
        },
        "id": "_258HvfhMfG_",
        "outputId": "afdf5599-13d5-4963-a0e1-5061f8b660a6"
      },
      "execution_count": 42,
      "outputs": [
        {
          "output_type": "execute_result",
          "data": {
            "text/plain": [
              "(274, 11)"
            ]
          },
          "metadata": {},
          "execution_count": 42
        }
      ]
    },
    {
      "cell_type": "code",
      "source": [
        "label4, other_labels4, label_name4, countpos4, countneg4 = check_Avalaiblity(ML_Data_check3,\"ML\")"
      ],
      "metadata": {
        "id": "1cjIVp85Mglv"
      },
      "execution_count": 43,
      "outputs": []
    },
    {
      "cell_type": "code",
      "source": [
        "countpos4"
      ],
      "metadata": {
        "colab": {
          "base_uri": "https://localhost:8080/"
        },
        "id": "fpEljYNLMpl3",
        "outputId": "b95574ea-3457-427f-9bda-17b6046461c8"
      },
      "execution_count": 44,
      "outputs": [
        {
          "output_type": "execute_result",
          "data": {
            "text/plain": [
              "70"
            ]
          },
          "metadata": {},
          "execution_count": 44
        }
      ]
    },
    {
      "cell_type": "code",
      "source": [
        "label_name4"
      ],
      "metadata": {
        "colab": {
          "base_uri": "https://localhost:8080/"
        },
        "id": "V-EhkK77Mq9H",
        "outputId": "8fbab763-926b-4cd1-cab7-07ef45b90918"
      },
      "execution_count": 45,
      "outputs": [
        {
          "output_type": "execute_result",
          "data": {
            "text/plain": [
              "['Software Engineer (ML)',\n",
              " 'CV & ML Research Engineer ',\n",
              " 'ML Applications Engineer',\n",
              " 'ML engineer',\n",
              " 'ML engineer',\n",
              " 'Strategic Cloud Engineer - ML',\n",
              " 'Software Engineer (VR & ML)',\n",
              " 'senior ML engineer (VP)',\n",
              " 'ML Software Engineer',\n",
              " 'ML Software Engineer',\n",
              " 'Consultant ML',\n",
              " 'Software Engineer, Data/ML',\n",
              " 'ML Firmware Engineer',\n",
              " 'ML Research Engineer',\n",
              " 'Sr. ML & Data Engineer',\n",
              " 'ML Infrastructure Engineer',\n",
              " 'ML & Software Engineer',\n",
              " 'ML Research Engineer',\n",
              " 'ML Model Engineer',\n",
              " 'Cloud Engineer- ML specialist',\n",
              " 'ML Support Engineer',\n",
              " 'Staff ML engineer',\n",
              " 'ML SOFTWARE ENGINEER',\n",
              " 'Software Engineer - ML Level I',\n",
              " 'ML Vision Engineer',\n",
              " 'Principal ML engineer',\n",
              " 'ML Ops Engineer',\n",
              " 'ML & NLP Engineer',\n",
              " 'ML Ops Engineer',\n",
              " 'Junior ML engineer',\n",
              " 'ML Tech Lead',\n",
              " 'ML Software Engineer',\n",
              " 'ML and Data Engineer',\n",
              " 'ML Research Engineer',\n",
              " 'ML ENGINEER',\n",
              " 'ML Software Engineer',\n",
              " 'Senior ML/CV Engineer',\n",
              " 'ML Application Engineer',\n",
              " 'ML & Data Science Engineer',\n",
              " 'Data and ML engineer',\n",
              " 'Software Engineer (Big Data & ML)',\n",
              " 'Junior ML engineer',\n",
              " 'Software Engineer (ML)',\n",
              " 'Software Engineer ML',\n",
              " 'Software Engineer ML',\n",
              " 'Video ML Algorithm Engineer',\n",
              " 'ML Enginner at Delta Apps(Intern)',\n",
              " 'Senior ML Software Engineer II',\n",
              " 'Senior ML Software Engineer',\n",
              " 'ML Entrepreneur / Product Owner',\n",
              " 'ML Product Engineer',\n",
              " 'ML Lead',\n",
              " 'Bioinformatics (ML) Engineer',\n",
              " 'ML engineer intern',\n",
              " 'Senior ML Data Engineer',\n",
              " 'ML Open Source Engineer',\n",
              " 'ML Software Engineer 2 - Application Development - ML/DL',\n",
              " 'Software Engineer/ML',\n",
              " 'Staff ML Software Engineer',\n",
              " 'Sr. ML Data Engineer',\n",
              " 'System Engineer | ML developer',\n",
              " 'ML Infrastructure Engineer',\n",
              " 'Senior ML engineer',\n",
              " 'Software Engineer, ML sys',\n",
              " 'Software Engineer (ML)',\n",
              " 'ML Research Engineer',\n",
              " 'Software Engineer (ML)',\n",
              " 'CV/ML engineer',\n",
              " 'ML Perf Engineer',\n",
              " 'Senior software engineer | ML']"
            ]
          },
          "metadata": {},
          "execution_count": 45
        }
      ]
    },
    {
      "cell_type": "code",
      "source": [
        "ML_Data_check3['label']=label4"
      ],
      "metadata": {
        "colab": {
          "base_uri": "https://localhost:8080/"
        },
        "id": "B1_aU305MsnP",
        "outputId": "a8c7b12a-d5e2-4ed7-e1ff-e45df178ab78"
      },
      "execution_count": 46,
      "outputs": [
        {
          "output_type": "stream",
          "name": "stderr",
          "text": [
            "/usr/local/lib/python3.7/dist-packages/ipykernel_launcher.py:1: SettingWithCopyWarning: \n",
            "A value is trying to be set on a copy of a slice from a DataFrame.\n",
            "Try using .loc[row_indexer,col_indexer] = value instead\n",
            "\n",
            "See the caveats in the documentation: https://pandas.pydata.org/pandas-docs/stable/user_guide/indexing.html#returning-a-view-versus-a-copy\n",
            "  \"\"\"Entry point for launching an IPython kernel.\n"
          ]
        }
      ]
    },
    {
      "cell_type": "code",
      "source": [
        "ML_Data_4 = ML_Data_check3[ML_Data_check3['label']==1]"
      ],
      "metadata": {
        "id": "MqGQEG8BM3L5"
      },
      "execution_count": 47,
      "outputs": []
    },
    {
      "cell_type": "code",
      "source": [
        "ML_Data_4.shape"
      ],
      "metadata": {
        "colab": {
          "base_uri": "https://localhost:8080/"
        },
        "id": "py_T9pJcM8iu",
        "outputId": "7117c8e9-bb20-4f80-a432-c94b27335938"
      },
      "execution_count": 48,
      "outputs": [
        {
          "output_type": "execute_result",
          "data": {
            "text/plain": [
              "(70, 11)"
            ]
          },
          "metadata": {},
          "execution_count": 48
        }
      ]
    },
    {
      "cell_type": "code",
      "source": [
        "ML_Data_check4 = ML_Data_check3[ML_Data_check3['label']==0]"
      ],
      "metadata": {
        "id": "4JTuIoILM-Il"
      },
      "execution_count": 49,
      "outputs": []
    },
    {
      "cell_type": "code",
      "source": [
        "ML_Data_check4.shape"
      ],
      "metadata": {
        "colab": {
          "base_uri": "https://localhost:8080/"
        },
        "id": "6s91WQIANGnH",
        "outputId": "0b126966-79fa-4313-8ffa-2ec103e25c4a"
      },
      "execution_count": 50,
      "outputs": [
        {
          "output_type": "execute_result",
          "data": {
            "text/plain": [
              "(204, 11)"
            ]
          },
          "metadata": {},
          "execution_count": 50
        }
      ]
    },
    {
      "cell_type": "code",
      "source": [
        "ML_Data_check4['organization_title_1']"
      ],
      "metadata": {
        "colab": {
          "base_uri": "https://localhost:8080/"
        },
        "id": "yH8A34fvNIY-",
        "outputId": "4e0cff60-5966-4cb1-bdd4-c0bd35bed12e"
      },
      "execution_count": 51,
      "outputs": [
        {
          "output_type": "execute_result",
          "data": {
            "text/plain": [
              "3                                        Data Scientist\n",
              "4                             Data Scientist Consultant\n",
              "6                                     Software Engineer\n",
              "7                               Machine Learning Intern\n",
              "9                                         Vice Chairman\n",
              "                             ...                       \n",
              "595                                            Engineer\n",
              "597              Senior Quantitative Research Scientist\n",
              "601    Senior Engineer - Data Engineering and Analytics\n",
              "625                                        NLP Engineer\n",
              "629                     Business Intelligence Developer\n",
              "Name: organization_title_1, Length: 204, dtype: object"
            ]
          },
          "metadata": {},
          "execution_count": 51
        }
      ]
    },
    {
      "cell_type": "code",
      "source": [
        "label5, other_labels5, label_name5, countpos5, countneg5 = check_Avalaiblity(ML_Data_check4,\"Machine\")"
      ],
      "metadata": {
        "id": "7IxeAUVCNNQX"
      },
      "execution_count": 63,
      "outputs": []
    },
    {
      "cell_type": "code",
      "source": [
        "countpos5"
      ],
      "metadata": {
        "colab": {
          "base_uri": "https://localhost:8080/"
        },
        "id": "gdsNOUZGNcFH",
        "outputId": "a4897b4b-036f-46ba-968a-0d723a8642c0"
      },
      "execution_count": 64,
      "outputs": [
        {
          "output_type": "execute_result",
          "data": {
            "text/plain": [
              "11"
            ]
          },
          "metadata": {},
          "execution_count": 64
        }
      ]
    },
    {
      "cell_type": "code",
      "source": [
        "label_name5"
      ],
      "metadata": {
        "colab": {
          "base_uri": "https://localhost:8080/"
        },
        "id": "ibnZTeQYNdqf",
        "outputId": "bf29bb67-fe2a-4b1c-d4cf-db576b34473d"
      },
      "execution_count": 65,
      "outputs": [
        {
          "output_type": "execute_result",
          "data": {
            "text/plain": [
              "['Machine Learning Intern',\n",
              " 'Machine learning  developer ',\n",
              " 'Engineer - Technology (Machine Learning)',\n",
              " 'Machine Learning Research Engineer',\n",
              " 'Google Developer Expert in Machine Learning',\n",
              " 'Machine Learning Intern',\n",
              " 'Machine Learning Solutions Engineer',\n",
              " 'Machine Learning Researcher',\n",
              " 'Machine Learning Scientist',\n",
              " 'Software Engineer, Machine Learning',\n",
              " 'Machine learning engineer']"
            ]
          },
          "metadata": {},
          "execution_count": 65
        }
      ]
    },
    {
      "cell_type": "code",
      "source": [
        "ML_Data_check4['label']=label5"
      ],
      "metadata": {
        "colab": {
          "base_uri": "https://localhost:8080/"
        },
        "id": "7QcCiT0INfL_",
        "outputId": "ed30110a-8754-42fd-ae74-1795a4db9ef5"
      },
      "execution_count": 66,
      "outputs": [
        {
          "output_type": "stream",
          "name": "stderr",
          "text": [
            "/usr/local/lib/python3.7/dist-packages/ipykernel_launcher.py:1: SettingWithCopyWarning: \n",
            "A value is trying to be set on a copy of a slice from a DataFrame.\n",
            "Try using .loc[row_indexer,col_indexer] = value instead\n",
            "\n",
            "See the caveats in the documentation: https://pandas.pydata.org/pandas-docs/stable/user_guide/indexing.html#returning-a-view-versus-a-copy\n",
            "  \"\"\"Entry point for launching an IPython kernel.\n"
          ]
        }
      ]
    },
    {
      "cell_type": "code",
      "source": [
        "ML_Data_5 = ML_Data_check4[ML_Data_check4['label']==1]"
      ],
      "metadata": {
        "id": "U5nmnY63Oq7C"
      },
      "execution_count": 67,
      "outputs": []
    },
    {
      "cell_type": "code",
      "source": [
        "ML_Data_5.shape"
      ],
      "metadata": {
        "colab": {
          "base_uri": "https://localhost:8080/"
        },
        "id": "RipGNJ8lPXf-",
        "outputId": "591e2af2-636a-4407-bc46-9c2d258252f2"
      },
      "execution_count": 68,
      "outputs": [
        {
          "output_type": "execute_result",
          "data": {
            "text/plain": [
              "(11, 11)"
            ]
          },
          "metadata": {},
          "execution_count": 68
        }
      ]
    },
    {
      "cell_type": "code",
      "source": [
        "ML_Data_check5 = ML_Data_check4[ML_Data_check4['label']==0]"
      ],
      "metadata": {
        "id": "bImdPvtyPZIP"
      },
      "execution_count": 69,
      "outputs": []
    },
    {
      "cell_type": "code",
      "source": [
        "ML_Data_check5.shape"
      ],
      "metadata": {
        "colab": {
          "base_uri": "https://localhost:8080/"
        },
        "id": "6VkKIO9_Pjy2",
        "outputId": "9998acd0-6f9f-4c65-e015-390dcf3cdb73"
      },
      "execution_count": 70,
      "outputs": [
        {
          "output_type": "execute_result",
          "data": {
            "text/plain": [
              "(193, 11)"
            ]
          },
          "metadata": {},
          "execution_count": 70
        }
      ]
    },
    {
      "cell_type": "code",
      "source": [
        "label6, other_labels6, label_name6, countpos6, countneg6 = check_Avalaiblity(ML_Data_check5,\"NLP\")"
      ],
      "metadata": {
        "id": "M8JsopsZPljO"
      },
      "execution_count": 79,
      "outputs": []
    },
    {
      "cell_type": "code",
      "source": [
        "countpos6"
      ],
      "metadata": {
        "colab": {
          "base_uri": "https://localhost:8080/"
        },
        "id": "ZJY5kqsuQ3qH",
        "outputId": "72b6eb6f-6af2-4197-bce2-e331daba1b2b"
      },
      "execution_count": 80,
      "outputs": [
        {
          "output_type": "execute_result",
          "data": {
            "text/plain": [
              "1"
            ]
          },
          "metadata": {},
          "execution_count": 80
        }
      ]
    },
    {
      "cell_type": "code",
      "source": [
        "other_labels6"
      ],
      "metadata": {
        "colab": {
          "base_uri": "https://localhost:8080/"
        },
        "id": "1PbSlC8RQ5R3",
        "outputId": "32636cd0-a3ac-47c9-fd05-4c670184b600"
      },
      "execution_count": 81,
      "outputs": [
        {
          "output_type": "execute_result",
          "data": {
            "text/plain": [
              "['Data Scientist',\n",
              " 'Data Scientist Consultant',\n",
              " 'Software Engineer',\n",
              " 'Vice Chairman',\n",
              " 'Software Engineer',\n",
              " 'Software Engineer',\n",
              " 'Software Engineer',\n",
              " 'Junior Software Engineer',\n",
              " 'Senior Data Scientist',\n",
              " 'Associate Data Scientist',\n",
              " 'Senior Data Engineer',\n",
              " 'Intern',\n",
              " 'Full Stack Engineer',\n",
              " 'Research Assistant',\n",
              " 'Data Scientist',\n",
              " 'Associate Data Engineer',\n",
              " 'Data Scientist',\n",
              " 'Senior Software Engineer',\n",
              " 'Software Engineer  - BigData and Data science ',\n",
              " 'Data Scientist',\n",
              " 'Data Science Engineer',\n",
              " 'Intern Software Engineer',\n",
              " 'Scientist 3 Data Science',\n",
              " 'R&D Data Scientist',\n",
              " 'BI Data Engineer',\n",
              " 'Senior Data Scientist',\n",
              " 'System Engineer',\n",
              " 'Artificial Intelligence Developer',\n",
              " 'University Lecturer',\n",
              " 'Data Engineering Intern',\n",
              " 'Insurance Agent',\n",
              " 'Data Scientist',\n",
              " 'Software Engineer',\n",
              " 'Data Scientist',\n",
              " 'Software Engineer',\n",
              " 'Chief Data Scientist',\n",
              " 'Senior Software Engineer',\n",
              " 'Application Engineer',\n",
              " 'Treasurer',\n",
              " 'Data Scientist',\n",
              " 'Senior Data Analyst',\n",
              " 'Engineer - Technology',\n",
              " 'Software Developer',\n",
              " 'SDE -3',\n",
              " 'Intern',\n",
              " 'Web Developer',\n",
              " 'Associate Manager - TA',\n",
              " 'Data Science Intern',\n",
              " 'Technical Lead',\n",
              " 'Engineer-Big Data and Data Science',\n",
              " 'Lead Engineer',\n",
              " 'Associate Engineer - Technology',\n",
              " 'Software Engineer',\n",
              " 'Senior Software Engineer',\n",
              " 'Software Engineer Intern',\n",
              " 'Tech Speaker',\n",
              " 'Technical Lead',\n",
              " 'Data Engineer',\n",
              " 'Data Analyst',\n",
              " 'Python Developer',\n",
              " 'Artificial Intelligence Applications Development Manager ',\n",
              " 'Data Scientist',\n",
              " 'System Engineer',\n",
              " 'Co-Founder',\n",
              " 'Data Science Specialist',\n",
              " 'Analyst',\n",
              " 'Media Assistant',\n",
              " 'Podcast Host',\n",
              " 'Bioinformatics Developer',\n",
              " 'Senior Data Scientist',\n",
              " 'Ml engineer',\n",
              " 'Data and Applied Scientist',\n",
              " 'Advisor Data Science',\n",
              " 'Sr. Software Engineer',\n",
              " 'Software Engineer Intern',\n",
              " 'Researcher',\n",
              " 'Software Intern',\n",
              " 'Co-Founder and CTO',\n",
              " 'Technical Specialist',\n",
              " 'Senior Research And Development Engineer',\n",
              " 'Data Engineer',\n",
              " 'Project Engineer',\n",
              " 'Applied Data Scientist',\n",
              " 'Senior Technical Lead',\n",
              " 'Technical Management Trainee',\n",
              " 'Python and Data Analysis Instructor',\n",
              " 'Software Engineer',\n",
              " 'Full-stack Developer',\n",
              " 'Network Infrestructure Manager',\n",
              " 'Software Developer',\n",
              " 'Microsoft Learn Student Ambassadors- Beta',\n",
              " 'Engineer',\n",
              " 'Software Development Intern',\n",
              " 'Architect - Big Data/ Data Science ',\n",
              " 'MlOps Trainee',\n",
              " 'Senior Systems Engineer',\n",
              " 'Research Scientist',\n",
              " 'Student',\n",
              " '대리',\n",
              " 'Data Scientist 2',\n",
              " 'Graduate Teaching Assistant',\n",
              " 'Data Scientist',\n",
              " 'Co-founder and Co-host',\n",
              " 'Business Analysts',\n",
              " 'Automation Architect (Senior Test Manager)',\n",
              " 'Research Internship',\n",
              " 'Embedded Software Trainee - Siemens EDA Academy of Excellence',\n",
              " 'Engineer',\n",
              " 'nan',\n",
              " 'Software Engineer Intern',\n",
              " 'Engineer ',\n",
              " 'Member',\n",
              " 'Writer',\n",
              " 'nan',\n",
              " 'Data Analyst Engineer',\n",
              " 'Data Scientist',\n",
              " 'Senior Software Engineer',\n",
              " 'Map Core Tech Specialist',\n",
              " 'Software Engineer Intern',\n",
              " 'Associate Software Engineer',\n",
              " 'Technical Lead',\n",
              " 'Principal Data Scientist',\n",
              " 'Software Developer 2',\n",
              " 'Software Engineer',\n",
              " 'Data Science mentor',\n",
              " 'Data Science Engineer',\n",
              " 'Senior Software Engineer',\n",
              " 'Engineer',\n",
              " 'Lead R&D Engineer',\n",
              " 'Senior Engineer',\n",
              " 'Associate Data Engineer',\n",
              " 'GCP Data Engineer',\n",
              " 'Senior Software Engineer',\n",
              " 'Senior Software Engineer',\n",
              " 'Senior Software Engineer',\n",
              " 'Former Instructor',\n",
              " 'Executive Engineering - Converged Charging Operations',\n",
              " 'Deputy Director Of Development',\n",
              " 'Backend Software engineer',\n",
              " 'Data Scientist',\n",
              " 'Data Scientist',\n",
              " 'Staff Data Scientist',\n",
              " 'Data Analyst',\n",
              " 'Computer Vision Software Engineer',\n",
              " 'Software Engineer',\n",
              " 'Kaggle Grandmaster',\n",
              " 'Head of Curriculum, Data',\n",
              " 'Lead Data Scientist',\n",
              " 'Software Engineer',\n",
              " 'Software Engineering Consultant',\n",
              " 'STEM Educator',\n",
              " 'Teaching Assistant(Resident Tutor)',\n",
              " 'Tutor data science',\n",
              " 'Data Scientist',\n",
              " 'Senior Data Scientist',\n",
              " 'Data Engineer',\n",
              " 'PhD Fellow',\n",
              " \"New technologies' specialist\",\n",
              " 'Chief Technical Head',\n",
              " 'Data analytics Mentor',\n",
              " 'nan',\n",
              " 'Senior Engineering Manager',\n",
              " 'nan',\n",
              " 'Research Intern',\n",
              " 'Google Developer Student Club Lead',\n",
              " 'Leadership Development Internship',\n",
              " 'SSr. Data Science',\n",
              " 'Data Analytics Trainee',\n",
              " 'Data Engineer',\n",
              " 'Data Scientist',\n",
              " 'nan',\n",
              " 'Platform Engineer',\n",
              " 'Software Engineer',\n",
              " 'Software Engineer',\n",
              " 'Principal Engineer',\n",
              " 'Software Engineer',\n",
              " 'Consultant',\n",
              " 'Associate Software Engineer - Data Engineering',\n",
              " 'Software Engineer',\n",
              " 'Senior Software Engineer',\n",
              " 'Artificial intelligence Trainer ',\n",
              " 'Committee Expert Member',\n",
              " 'Directeur de création communication multimédia ',\n",
              " 'Data Scientist/Research Fellow/Lecturer',\n",
              " 'Software Engineer, Behavior Prediction',\n",
              " 'Data Scientist',\n",
              " 'Senior Technical Engineer',\n",
              " 'Senior Data Scientist',\n",
              " 'Engineer',\n",
              " 'Senior Quantitative Research Scientist',\n",
              " 'Senior Engineer - Data Engineering and Analytics',\n",
              " 'Business Intelligence Developer']"
            ]
          },
          "metadata": {},
          "execution_count": 81
        }
      ]
    },
    {
      "cell_type": "code",
      "source": [
        "Data_ML_Pro = pd.concat([ML_Data_1,ML_Data_2,ML_Data_3,ML_Data_4,ML_Data_5],ignore_index=True)"
      ],
      "metadata": {
        "id": "Xuzzum6ZRFen"
      },
      "execution_count": 82,
      "outputs": []
    },
    {
      "cell_type": "code",
      "source": [
        "# All data belog to Machine Learning Engineer Category\n",
        "Data_ML_Pro.shape"
      ],
      "metadata": {
        "colab": {
          "base_uri": "https://localhost:8080/"
        },
        "id": "rXXW74mcRz9P",
        "outputId": "bdfbad38-4e89-4048-9022-760d9a834d55"
      },
      "execution_count": 85,
      "outputs": [
        {
          "output_type": "execute_result",
          "data": {
            "text/plain": [
              "(438, 11)"
            ]
          },
          "metadata": {},
          "execution_count": 85
        }
      ]
    },
    {
      "cell_type": "code",
      "source": [
        "# Need to check these values\n",
        "ML_Data_check5.shape"
      ],
      "metadata": {
        "colab": {
          "base_uri": "https://localhost:8080/"
        },
        "id": "AiF2-NGJR2SG",
        "outputId": "b4ed8f8d-a69b-47ae-ef31-01c2fb39fc99"
      },
      "execution_count": 86,
      "outputs": [
        {
          "output_type": "execute_result",
          "data": {
            "text/plain": [
              "(193, 11)"
            ]
          },
          "metadata": {},
          "execution_count": 86
        }
      ]
    },
    {
      "cell_type": "code",
      "source": [
        "Data_Eng_Data['organization_title_1']"
      ],
      "metadata": {
        "colab": {
          "base_uri": "https://localhost:8080/"
        },
        "id": "R9jmT_-5Sk8_",
        "outputId": "b2f7ad31-4635-4265-a4ed-588da728f98b"
      },
      "execution_count": 87,
      "outputs": [
        {
          "output_type": "execute_result",
          "data": {
            "text/plain": [
              "0                                  Data Engineer\n",
              "1                        Associate Data Engineer\n",
              "2                                  Data Engineer\n",
              "3                                  Data Engineer\n",
              "4                                  Data Engineer\n",
              "                         ...                    \n",
              "473    Recruitment and Employer Branding Officer\n",
              "474                          Senior Data Analyst\n",
              "475                               Data Scientist\n",
              "476               Staff Engineer - Big Data & AI\n",
              "477                                Data Engineer\n",
              "Name: organization_title_1, Length: 478, dtype: object"
            ]
          },
          "metadata": {},
          "execution_count": 87
        }
      ]
    },
    {
      "cell_type": "code",
      "source": [
        "Data_Eng_Data.shape"
      ],
      "metadata": {
        "colab": {
          "base_uri": "https://localhost:8080/"
        },
        "id": "ZQHLew_pSvi2",
        "outputId": "03f89137-8fa7-4d12-db6d-4a7e7ee3101b"
      },
      "execution_count": 90,
      "outputs": [
        {
          "output_type": "execute_result",
          "data": {
            "text/plain": [
              "(478, 10)"
            ]
          },
          "metadata": {},
          "execution_count": 90
        }
      ]
    },
    {
      "cell_type": "code",
      "source": [
        "label7, other_labels7, label_name7, countpos7, countneg7 = check_Avalaiblity(Data_Eng_Data,\"Data Engineer\")"
      ],
      "metadata": {
        "id": "xhQowmhuR-BG"
      },
      "execution_count": 88,
      "outputs": []
    },
    {
      "cell_type": "code",
      "source": [
        "countpos7"
      ],
      "metadata": {
        "colab": {
          "base_uri": "https://localhost:8080/"
        },
        "id": "agl-HV-oStNF",
        "outputId": "cec004b2-c2f2-4582-c007-f7fb2f361f6f"
      },
      "execution_count": 89,
      "outputs": [
        {
          "output_type": "execute_result",
          "data": {
            "text/plain": [
              "218"
            ]
          },
          "metadata": {},
          "execution_count": 89
        }
      ]
    },
    {
      "cell_type": "code",
      "source": [
        "Data_Eng_Data['label']=label7"
      ],
      "metadata": {
        "id": "37AHWFn-Sut2"
      },
      "execution_count": 91,
      "outputs": []
    },
    {
      "cell_type": "code",
      "source": [
        "DataEng_Data1 = Data_Eng_Data[Data_Eng_Data['label']==1]"
      ],
      "metadata": {
        "id": "grKU7ba5S5cG"
      },
      "execution_count": 92,
      "outputs": []
    },
    {
      "cell_type": "code",
      "source": [
        "# Data Engineer 1st grop Dataset\n",
        "DataEng_Data1.shape"
      ],
      "metadata": {
        "colab": {
          "base_uri": "https://localhost:8080/"
        },
        "id": "mULG8yalTDxG",
        "outputId": "57777080-e05a-4060-b0c6-bfeb3ee57353"
      },
      "execution_count": 159,
      "outputs": [
        {
          "output_type": "execute_result",
          "data": {
            "text/plain": [
              "(218, 11)"
            ]
          },
          "metadata": {},
          "execution_count": 159
        }
      ]
    },
    {
      "cell_type": "code",
      "source": [
        "DataEng_check1 = Data_Eng_Data[Data_Eng_Data['label']==0]"
      ],
      "metadata": {
        "id": "z5mkyUAUTFf-"
      },
      "execution_count": 94,
      "outputs": []
    },
    {
      "cell_type": "code",
      "source": [
        "DataEng_check1.shape"
      ],
      "metadata": {
        "colab": {
          "base_uri": "https://localhost:8080/"
        },
        "id": "MwfIcbMATK8m",
        "outputId": "716380df-d760-4176-b036-ac70edeacf6b"
      },
      "execution_count": 158,
      "outputs": [
        {
          "output_type": "execute_result",
          "data": {
            "text/plain": [
              "(260, 11)"
            ]
          },
          "metadata": {},
          "execution_count": 158
        }
      ]
    },
    {
      "cell_type": "code",
      "source": [
        "other_labels7"
      ],
      "metadata": {
        "colab": {
          "base_uri": "https://localhost:8080/"
        },
        "id": "31J3u6fxTM6-",
        "outputId": "3e1c5dd1-ca72-4e7c-bb37-e809ba7e13a1"
      },
      "execution_count": 97,
      "outputs": [
        {
          "output_type": "execute_result",
          "data": {
            "text/plain": [
              "['Software Engineer - Data',\n",
              " 'nan',\n",
              " 'nan',\n",
              " 'Senior Software Engineer (Data)',\n",
              " 'Software Engineer-  Analytics Engineer(Data Analytics)',\n",
              " 'Business Intelligence Developer',\n",
              " 'Software Engineer',\n",
              " 'Engineer-Big Data and Data Science',\n",
              " 'Software Engineer',\n",
              " 'Data Analytics Engineer',\n",
              " 'Data Analyst',\n",
              " 'PI & AI Event Ambassador',\n",
              " 'Intern - Business Analytics',\n",
              " 'nan',\n",
              " 'Engineer Analytics and Data Sciences',\n",
              " 'Senior Data Science Engineer',\n",
              " 'Academic Tutor',\n",
              " 'Data Scientist',\n",
              " 'Software Engineer - Data Analytics and Insights',\n",
              " 'Platform Engineer - Data Analytics & Insights',\n",
              " 'Senior Engineer - Data Science ',\n",
              " 'Data Warehouse Engineer',\n",
              " 'Data Science Engineer',\n",
              " 'Data Science Engineer',\n",
              " 'Senior Data Service Engineer',\n",
              " 'Senior Engineer - Big Data & Data Science',\n",
              " 'Associate Technical Lead',\n",
              " 'Machine Learning Engineer',\n",
              " 'Senior Engineer-Data Center',\n",
              " 'Lead Analytics and AI',\n",
              " 'Senior Software Engineer',\n",
              " 'Senior Data Network Engineer',\n",
              " 'Senior Engineer : Big Data & Data Science',\n",
              " 'Data Warehouse Engineer',\n",
              " 'Associate Data Scientist',\n",
              " 'Software Engineer  - BigData and Data science ',\n",
              " 'Engineer - BI/Data Analytics',\n",
              " 'IT Coordinator, Textile Engineering Student Society',\n",
              " 'Software Engineer',\n",
              " 'Analysis Executive',\n",
              " 'Associate Data QA Engineer',\n",
              " 'Data Science Engineer',\n",
              " 'Data Science Engineer',\n",
              " 'Analytic Engineer',\n",
              " 'Software Engineer',\n",
              " 'Associate Data Warehouse Engineer',\n",
              " 'Architecture Consultant',\n",
              " 'Software Quality Assurance Engineer',\n",
              " 'Software Engineer',\n",
              " 'Engineer - Enterprise Data & Middleware',\n",
              " 'Software Engineer Intern',\n",
              " 'Engineer - Analytics & Data Science',\n",
              " 'Data Analyst',\n",
              " 'Senior Engineer - Data Science',\n",
              " 'Data Warehouse Engineer',\n",
              " 'nan',\n",
              " 'Associate Consultant',\n",
              " 'Engineer',\n",
              " 'Data Science Engineer',\n",
              " 'Senior Data Science Engineer',\n",
              " 'Data Scientist',\n",
              " 'Principal Engineer',\n",
              " 'Research Intern',\n",
              " 'Senior Systems Engineer - Data Center',\n",
              " 'Software Engineer',\n",
              " 'Associate Engineer - BI/Data Science ',\n",
              " 'Senior Data Analyst',\n",
              " 'Software Engineer',\n",
              " 'Data Scientist',\n",
              " 'Software Engineer',\n",
              " 'Data Science Engineer',\n",
              " 'Assistant Director',\n",
              " 'Senior Engineer (Big data & AI)',\n",
              " 'Trainee Data Science Engineer',\n",
              " 'BI Engineer/data analysis',\n",
              " 'Data Analyst',\n",
              " 'Business Intelligence Engineer',\n",
              " 'Data Scientist',\n",
              " 'Software Engineer',\n",
              " 'Data Center Support Engineer',\n",
              " 'Senior Software Engineer',\n",
              " 'Senior Engineer, Analytics & Data Science',\n",
              " 'Unit Manager - Business Intelligence & RA System',\n",
              " 'Software Engineer',\n",
              " 'Assistant Manager - Management Information (LCH Ltd-SwapClear & Listed Rates)',\n",
              " 'Engineer',\n",
              " 'Undergraduate Research Fellow',\n",
              " 'Lead Engineer - Big Data',\n",
              " 'Associate Software Engineer',\n",
              " 'Senior Software Engineer',\n",
              " 'Senior Data Science Engineer',\n",
              " 'Engineer - Data Network Operations',\n",
              " 'Senior Software Engineer - BI and Analytics',\n",
              " 'Senior Lead R&D Engineer - Data Science',\n",
              " 'Senior Software Engineer',\n",
              " 'Associate Software Engineer',\n",
              " 'Software Engineer',\n",
              " 'Senior Software Engineer',\n",
              " 'Senior Software Engineer',\n",
              " 'Co-Founder / COO',\n",
              " 'Graduate Research Student',\n",
              " 'Associate Engineer Data Science and Analytics',\n",
              " 'System Engineer',\n",
              " 'AWS Community Builder',\n",
              " 'Research Intern',\n",
              " 'Data Scientist',\n",
              " 'Data Scientist',\n",
              " 'Senior Business Intelligence Consultant',\n",
              " 'Data Center Support Executive ',\n",
              " 'Visiting Lecturer',\n",
              " 'Software Engineer',\n",
              " 'Technical Lead - Web Department',\n",
              " 'Data Scientist',\n",
              " 'Initiate Group Vice President oGV and EwA',\n",
              " 'Software Engineer',\n",
              " 'Staff Engineer',\n",
              " 'Vice Chairman',\n",
              " 'Trainee - Full stack Developer',\n",
              " 'Software Engineer - Data Science Team',\n",
              " 'Cloud Consultant',\n",
              " 'Salesforce Developer',\n",
              " 'Senior Engineer',\n",
              " 'Engineer - Data Centers',\n",
              " 'Senior Software Engineer',\n",
              " 'Senior Tech Lead',\n",
              " 'Associate Tech Lead',\n",
              " 'Software Engineer',\n",
              " 'Microsoft [Vendor] Support Engineer - Microsoft SQL Server Parallel Data Warehouse ',\n",
              " 'Associate Software Engineer ',\n",
              " 'Senior Customer Engineer',\n",
              " 'Senior Quality Assurance Analyst',\n",
              " 'Systems Engineer - Enterprise Data & Middleware',\n",
              " 'Engineer, Analytics and Data Science',\n",
              " 'Engineer Cloud System/ Data Center Operations',\n",
              " 'Senior Research And Development Engineer',\n",
              " 'Software Engineering Trainee',\n",
              " 'Professional Freelancer',\n",
              " 'Senior Engineer - Enterprise Data and Middleware',\n",
              " 'Application Support Engineer',\n",
              " 'Engineer - Data Science',\n",
              " 'Engineer-AI and Data Science ',\n",
              " 'Network & Data Center Engineer',\n",
              " 'Support Engineer',\n",
              " 'Associate Software Engineer',\n",
              " 'Robotic Process Automation & Data Analytics Engineer',\n",
              " 'AI Engineer',\n",
              " 'Technical Consultant',\n",
              " 'Systems Engineer - Data Center Solutions Team ',\n",
              " 'Mechanical Engineering Intern',\n",
              " 'Trainee Software Engineer ',\n",
              " 'Quality Assurance Engineer',\n",
              " 'Application Support Engineer',\n",
              " 'Software Engineer',\n",
              " 'Trainee Software Engineer ',\n",
              " 'Graduate Research Assistant',\n",
              " 'Associate Datacenter Operations Engineer',\n",
              " 'Senior Software Quality Assurance Engineer',\n",
              " 'Data Science and Analytics Engineer',\n",
              " 'Business Analyst',\n",
              " 'Founder',\n",
              " 'Engineer - Enterprise Data & Middleware',\n",
              " 'Engineer',\n",
              " 'Trainee UI/UX Developer , Trainee Lecturer',\n",
              " 'Engineering Trainee',\n",
              " 'VPN Consultant',\n",
              " 'Associate Engineer  Analytics and Data Science ',\n",
              " 'Software Engineer',\n",
              " 'Assistant Professor',\n",
              " 'Associate System Engineer',\n",
              " 'Associate Engineer - BI/ Data Analytics',\n",
              " 'Software Engineer',\n",
              " 'Software Engineer',\n",
              " 'Data Analyst',\n",
              " 'Associate Software Engineer',\n",
              " 'Software Engineer',\n",
              " 'Senior Engineer - Data Science ',\n",
              " 'Software QA Engineer',\n",
              " 'Associate Software Engineer - Data Analyst',\n",
              " 'Sales Engineer',\n",
              " 'Associate Software Engineer',\n",
              " 'Software Engineering Trainee',\n",
              " 'Associate Software Engineer',\n",
              " 'Quality Assurance Engineering Specialist',\n",
              " 'Principal Data Scientist',\n",
              " 'RPA Consultant',\n",
              " 'Personalization Platform Architect',\n",
              " 'Engineer - Data Science',\n",
              " 'Associate Engineer - Technology',\n",
              " 'Software Engineer',\n",
              " 'UI/UX Engineer ',\n",
              " 'Python Developer',\n",
              " 'Software Engineer',\n",
              " 'Software Engineer 1 - Data',\n",
              " 'Software Engineer',\n",
              " 'Data & Analytics Engineer',\n",
              " 'Trainee Data Science',\n",
              " 'Software Engineer',\n",
              " 'Microsoft learn student ambassador',\n",
              " 'Architect - Big Data/ Data Science ',\n",
              " 'Software Engineer',\n",
              " 'Software Engineer',\n",
              " 'Supporting Lecturer',\n",
              " 'Software Engineer',\n",
              " 'Software Engineer',\n",
              " 'Software Engineer',\n",
              " 'Software Engineer',\n",
              " 'Software Engineer',\n",
              " 'Senior Software Quality Assurance Engineer',\n",
              " 'Data Scientist',\n",
              " 'Senior Software Engineer',\n",
              " 'Product Lead - Sales Operations Centre',\n",
              " 'Software Engineer',\n",
              " 'Machine Learning Research Engineer',\n",
              " 'Software Engineer - Big Data and Data Science',\n",
              " 'Machine Learning Engineer',\n",
              " 'Software Engineer',\n",
              " 'Data Scientist',\n",
              " 'Senior Software Engineer',\n",
              " 'Technical Lead',\n",
              " 'Machine Learning Engineer',\n",
              " 'Software Engineer',\n",
              " 'Senior System Engineer',\n",
              " 'Associate Software Engineer',\n",
              " 'Software Engineer',\n",
              " 'Trainee Software Engineer',\n",
              " 'Data Scientist',\n",
              " 'Community Manager',\n",
              " 'Software Engineer',\n",
              " 'Intern Data Scientist',\n",
              " 'Software Engineer',\n",
              " 'Software Engineer',\n",
              " 'Data Scientist',\n",
              " 'Engineer, Business Intelligence',\n",
              " 'Software Engineer Intern',\n",
              " 'Machine Learning Engineer',\n",
              " 'Data Scientist',\n",
              " 'Application Engineer',\n",
              " 'Engineer - IBM i (AS400)',\n",
              " 'Associate Site Reliability Engineer',\n",
              " 'Data Architect at LSEG Technology',\n",
              " 'Data Science Engineer',\n",
              " 'Machine Learning Engineer',\n",
              " 'Associate Business Intelligence Engineer',\n",
              " 'Specialist',\n",
              " 'Intern Software Engineer',\n",
              " 'Junior Machine Learning Engineer',\n",
              " 'Data Analyst',\n",
              " 'Data Analyst',\n",
              " 'Software Engineer',\n",
              " 'Co-Founder',\n",
              " 'Data Consultant',\n",
              " 'Data engineering Consultant',\n",
              " 'Big data Engineer',\n",
              " 'Teacher Assistant',\n",
              " 'MS-SQL DBA',\n",
              " 'Senior Consultant',\n",
              " 'Recruitment and Employer Branding Officer',\n",
              " 'Senior Data Analyst',\n",
              " 'Data Scientist',\n",
              " 'Staff Engineer - Big Data & AI']"
            ]
          },
          "metadata": {},
          "execution_count": 97
        }
      ]
    },
    {
      "cell_type": "code",
      "source": [
        "label8, other_labels8, label_name8, countpos8, countneg8 = check_Avalaiblity(DataEng_check1,\"Data Analyst\")"
      ],
      "metadata": {
        "id": "t2LyBmZuTRfR"
      },
      "execution_count": 98,
      "outputs": []
    },
    {
      "cell_type": "code",
      "source": [
        "countpos8"
      ],
      "metadata": {
        "colab": {
          "base_uri": "https://localhost:8080/"
        },
        "id": "hJGW60FGULaA",
        "outputId": "23ba7f8e-f380-4274-8062-4154737a79a4"
      },
      "execution_count": 99,
      "outputs": [
        {
          "output_type": "execute_result",
          "data": {
            "text/plain": [
              "9"
            ]
          },
          "metadata": {},
          "execution_count": 99
        }
      ]
    },
    {
      "cell_type": "code",
      "source": [
        "label_name8"
      ],
      "metadata": {
        "colab": {
          "base_uri": "https://localhost:8080/"
        },
        "id": "jyPBMtBjUM7-",
        "outputId": "8f000646-0d33-4ab8-84cb-5584bd300c86"
      },
      "execution_count": 100,
      "outputs": [
        {
          "output_type": "execute_result",
          "data": {
            "text/plain": [
              "['Data Analyst',\n",
              " 'Data Analyst',\n",
              " 'Senior Data Analyst',\n",
              " 'Data Analyst',\n",
              " 'Data Analyst',\n",
              " 'Associate Software Engineer - Data Analyst',\n",
              " 'Data Analyst',\n",
              " 'Data Analyst',\n",
              " 'Senior Data Analyst']"
            ]
          },
          "metadata": {},
          "execution_count": 100
        }
      ]
    },
    {
      "cell_type": "code",
      "source": [
        "DataEng_check1['label']=label8"
      ],
      "metadata": {
        "colab": {
          "base_uri": "https://localhost:8080/"
        },
        "id": "BIS4o5liUjMO",
        "outputId": "2ee8ac34-6736-48c4-e818-d32c18bd6bce"
      },
      "execution_count": 101,
      "outputs": [
        {
          "output_type": "stream",
          "name": "stderr",
          "text": [
            "/usr/local/lib/python3.7/dist-packages/ipykernel_launcher.py:1: SettingWithCopyWarning: \n",
            "A value is trying to be set on a copy of a slice from a DataFrame.\n",
            "Try using .loc[row_indexer,col_indexer] = value instead\n",
            "\n",
            "See the caveats in the documentation: https://pandas.pydata.org/pandas-docs/stable/user_guide/indexing.html#returning-a-view-versus-a-copy\n",
            "  \"\"\"Entry point for launching an IPython kernel.\n"
          ]
        }
      ]
    },
    {
      "cell_type": "code",
      "source": [
        "Data_Analyst1 = DataEng_check1[DataEng_check1['label']==1]"
      ],
      "metadata": {
        "id": "4qDvCDBUUO5-"
      },
      "execution_count": 104,
      "outputs": []
    },
    {
      "cell_type": "code",
      "source": [
        "# Data Analyst in DatEng Dataset\n",
        "Data_Analyst1.shape"
      ],
      "metadata": {
        "colab": {
          "base_uri": "https://localhost:8080/"
        },
        "id": "EayLJeUvUr-u",
        "outputId": "2d9e592d-4751-42ad-b4ca-3c7e6b518673"
      },
      "execution_count": 121,
      "outputs": [
        {
          "output_type": "execute_result",
          "data": {
            "text/plain": [
              "(9, 11)"
            ]
          },
          "metadata": {},
          "execution_count": 121
        }
      ]
    },
    {
      "cell_type": "code",
      "source": [
        "DataEng_check2 = DataEng_check1[DataEng_check1['label']==0]"
      ],
      "metadata": {
        "id": "u7QIN8vFUtvu"
      },
      "execution_count": 106,
      "outputs": []
    },
    {
      "cell_type": "code",
      "source": [
        "DataEng_check2.shape"
      ],
      "metadata": {
        "colab": {
          "base_uri": "https://localhost:8080/"
        },
        "id": "5vRfRugGU2OG",
        "outputId": "343fbd08-abf1-43a8-f9aa-49f119dcc46a"
      },
      "execution_count": 107,
      "outputs": [
        {
          "output_type": "execute_result",
          "data": {
            "text/plain": [
              "(251, 11)"
            ]
          },
          "metadata": {},
          "execution_count": 107
        }
      ]
    },
    {
      "cell_type": "code",
      "source": [
        "label9, other_labels9, label_name9, countpos9, countneg9 = check_Avalaiblity(DataEng_check2,\"Data Scientist\")"
      ],
      "metadata": {
        "id": "1eT2f5ZOU4IW"
      },
      "execution_count": 108,
      "outputs": []
    },
    {
      "cell_type": "code",
      "source": [
        "countpos9"
      ],
      "metadata": {
        "colab": {
          "base_uri": "https://localhost:8080/"
        },
        "id": "b9Q45XgOVMoF",
        "outputId": "c9fcc992-cb91-4c71-8688-8828541cb78f"
      },
      "execution_count": 109,
      "outputs": [
        {
          "output_type": "execute_result",
          "data": {
            "text/plain": [
              "16"
            ]
          },
          "metadata": {},
          "execution_count": 109
        }
      ]
    },
    {
      "cell_type": "code",
      "source": [
        "DataEng_check2['label']=label9"
      ],
      "metadata": {
        "colab": {
          "base_uri": "https://localhost:8080/"
        },
        "id": "RmHgDNNMVf4g",
        "outputId": "3011d4b6-1f56-4262-9ba9-f09f00ecae68"
      },
      "execution_count": 112,
      "outputs": [
        {
          "output_type": "stream",
          "name": "stderr",
          "text": [
            "/usr/local/lib/python3.7/dist-packages/ipykernel_launcher.py:1: SettingWithCopyWarning: \n",
            "A value is trying to be set on a copy of a slice from a DataFrame.\n",
            "Try using .loc[row_indexer,col_indexer] = value instead\n",
            "\n",
            "See the caveats in the documentation: https://pandas.pydata.org/pandas-docs/stable/user_guide/indexing.html#returning-a-view-versus-a-copy\n",
            "  \"\"\"Entry point for launching an IPython kernel.\n"
          ]
        }
      ]
    },
    {
      "cell_type": "code",
      "source": [
        "Data_Science1 = DataEng_check2[DataEng_check2['label']==1]"
      ],
      "metadata": {
        "id": "y45esM3mVOGz"
      },
      "execution_count": 113,
      "outputs": []
    },
    {
      "cell_type": "code",
      "source": [
        "# Data Scine 1st group in DataEng Dataset\n",
        "Data_Science1.shape"
      ],
      "metadata": {
        "colab": {
          "base_uri": "https://localhost:8080/"
        },
        "id": "iMoQ4UN6VcKu",
        "outputId": "2f294d35-a0b6-4c85-f498-89e627e35a65"
      },
      "execution_count": 123,
      "outputs": [
        {
          "output_type": "execute_result",
          "data": {
            "text/plain": [
              "(16, 11)"
            ]
          },
          "metadata": {},
          "execution_count": 123
        }
      ]
    },
    {
      "cell_type": "code",
      "source": [
        "DataEng_check3 = DataEng_check2[DataEng_check2['label']==0]"
      ],
      "metadata": {
        "id": "WRMlgkV9Vd-2"
      },
      "execution_count": 115,
      "outputs": []
    },
    {
      "cell_type": "code",
      "source": [
        "DataEng_check3.shape"
      ],
      "metadata": {
        "colab": {
          "base_uri": "https://localhost:8080/"
        },
        "id": "PsfCw4jJVzjf",
        "outputId": "8a72636e-a346-40de-b214-f016493bf78d"
      },
      "execution_count": 116,
      "outputs": [
        {
          "output_type": "execute_result",
          "data": {
            "text/plain": [
              "(235, 11)"
            ]
          },
          "metadata": {},
          "execution_count": 116
        }
      ]
    },
    {
      "cell_type": "code",
      "source": [
        "label10, other_labels10, label_name10, countpos10, countneg10 = check_Avalaiblity(DataEng_check3,\"Data Science\")"
      ],
      "metadata": {
        "id": "Abm0v6D_V2pW"
      },
      "execution_count": 117,
      "outputs": []
    },
    {
      "cell_type": "code",
      "source": [
        "countpos10"
      ],
      "metadata": {
        "colab": {
          "base_uri": "https://localhost:8080/"
        },
        "id": "b7v-HlNyWUh_",
        "outputId": "ccd12c66-dc61-4748-e346-b4e093ed5968"
      },
      "execution_count": 118,
      "outputs": [
        {
          "output_type": "execute_result",
          "data": {
            "text/plain": [
              "33"
            ]
          },
          "metadata": {},
          "execution_count": 118
        }
      ]
    },
    {
      "cell_type": "code",
      "source": [
        "label_name10"
      ],
      "metadata": {
        "colab": {
          "base_uri": "https://localhost:8080/"
        },
        "id": "Cf4dxasuWV2J",
        "outputId": "30c4970d-2c83-4f6d-8cd8-ef4ad1457173"
      },
      "execution_count": 119,
      "outputs": [
        {
          "output_type": "execute_result",
          "data": {
            "text/plain": [
              "['Engineer-Big Data and Data Science',\n",
              " 'Engineer Analytics and Data Sciences',\n",
              " 'Senior Data Science Engineer',\n",
              " 'Senior Engineer - Data Science ',\n",
              " 'Data Science Engineer',\n",
              " 'Data Science Engineer',\n",
              " 'Senior Engineer - Big Data & Data Science',\n",
              " 'Senior Engineer : Big Data & Data Science',\n",
              " 'Data Science Engineer',\n",
              " 'Data Science Engineer',\n",
              " 'Engineer - Analytics & Data Science',\n",
              " 'Senior Engineer - Data Science',\n",
              " 'Data Science Engineer',\n",
              " 'Senior Data Science Engineer',\n",
              " 'Associate Engineer - BI/Data Science ',\n",
              " 'Data Science Engineer',\n",
              " 'Trainee Data Science Engineer',\n",
              " 'Senior Engineer, Analytics & Data Science',\n",
              " 'Senior Data Science Engineer',\n",
              " 'Senior Lead R&D Engineer - Data Science',\n",
              " 'Associate Engineer Data Science and Analytics',\n",
              " 'Software Engineer - Data Science Team',\n",
              " 'Engineer, Analytics and Data Science',\n",
              " 'Engineer - Data Science',\n",
              " 'Engineer-AI and Data Science ',\n",
              " 'Data Science and Analytics Engineer',\n",
              " 'Associate Engineer  Analytics and Data Science ',\n",
              " 'Senior Engineer - Data Science ',\n",
              " 'Engineer - Data Science',\n",
              " 'Trainee Data Science',\n",
              " 'Architect - Big Data/ Data Science ',\n",
              " 'Software Engineer - Big Data and Data Science',\n",
              " 'Data Science Engineer']"
            ]
          },
          "metadata": {},
          "execution_count": 119
        }
      ]
    },
    {
      "cell_type": "code",
      "source": [
        "DataEng_check3['label']=label10"
      ],
      "metadata": {
        "colab": {
          "base_uri": "https://localhost:8080/"
        },
        "id": "4_eLagVPWXkW",
        "outputId": "4899ea5c-309f-480b-8e5b-d1a2fe74ab34"
      },
      "execution_count": 124,
      "outputs": [
        {
          "output_type": "stream",
          "name": "stderr",
          "text": [
            "/usr/local/lib/python3.7/dist-packages/ipykernel_launcher.py:1: SettingWithCopyWarning: \n",
            "A value is trying to be set on a copy of a slice from a DataFrame.\n",
            "Try using .loc[row_indexer,col_indexer] = value instead\n",
            "\n",
            "See the caveats in the documentation: https://pandas.pydata.org/pandas-docs/stable/user_guide/indexing.html#returning-a-view-versus-a-copy\n",
            "  \"\"\"Entry point for launching an IPython kernel.\n"
          ]
        }
      ]
    },
    {
      "cell_type": "code",
      "source": [
        "Data_Science2 = DataEng_check3[DataEng_check3['label']==1]"
      ],
      "metadata": {
        "id": "BiEzcKaTXGmO"
      },
      "execution_count": 125,
      "outputs": []
    },
    {
      "cell_type": "code",
      "source": [
        "# Data Scine 2nd group in DataEng Dataset\n",
        "Data_Science2.shape"
      ],
      "metadata": {
        "colab": {
          "base_uri": "https://localhost:8080/"
        },
        "id": "g5tj4L7_XPbG",
        "outputId": "4a3d8897-3a35-4b0e-bebe-5333947770a9"
      },
      "execution_count": 127,
      "outputs": [
        {
          "output_type": "execute_result",
          "data": {
            "text/plain": [
              "(33, 11)"
            ]
          },
          "metadata": {},
          "execution_count": 127
        }
      ]
    },
    {
      "cell_type": "code",
      "source": [
        "DataEng_check4 = DataEng_check3[DataEng_check3['label']==0]"
      ],
      "metadata": {
        "id": "-9B3fxwtXQ-u"
      },
      "execution_count": 128,
      "outputs": []
    },
    {
      "cell_type": "code",
      "source": [
        "DataEng_check4.shape"
      ],
      "metadata": {
        "colab": {
          "base_uri": "https://localhost:8080/"
        },
        "id": "mrKCILPtXdAm",
        "outputId": "3f071341-2948-4cc1-ce11-e6be79f816cd"
      },
      "execution_count": 129,
      "outputs": [
        {
          "output_type": "execute_result",
          "data": {
            "text/plain": [
              "(202, 11)"
            ]
          },
          "metadata": {},
          "execution_count": 129
        }
      ]
    },
    {
      "cell_type": "code",
      "source": [
        "other_labels10"
      ],
      "metadata": {
        "colab": {
          "base_uri": "https://localhost:8080/"
        },
        "id": "zoMg4TyVXed9",
        "outputId": "8470a6ea-d699-4598-a288-1b5683c16592"
      },
      "execution_count": 130,
      "outputs": [
        {
          "output_type": "execute_result",
          "data": {
            "text/plain": [
              "['Software Engineer - Data',\n",
              " 'nan',\n",
              " 'nan',\n",
              " 'Senior Software Engineer (Data)',\n",
              " 'Software Engineer-  Analytics Engineer(Data Analytics)',\n",
              " 'Business Intelligence Developer',\n",
              " 'Software Engineer',\n",
              " 'Software Engineer',\n",
              " 'Data Analytics Engineer',\n",
              " 'PI & AI Event Ambassador',\n",
              " 'Intern - Business Analytics',\n",
              " 'nan',\n",
              " 'Academic Tutor',\n",
              " 'Software Engineer - Data Analytics and Insights',\n",
              " 'Platform Engineer - Data Analytics & Insights',\n",
              " 'Data Warehouse Engineer',\n",
              " 'Senior Data Service Engineer',\n",
              " 'Associate Technical Lead',\n",
              " 'Machine Learning Engineer',\n",
              " 'Senior Engineer-Data Center',\n",
              " 'Lead Analytics and AI',\n",
              " 'Senior Software Engineer',\n",
              " 'Senior Data Network Engineer',\n",
              " 'Data Warehouse Engineer',\n",
              " 'Software Engineer  - BigData and Data science ',\n",
              " 'Engineer - BI/Data Analytics',\n",
              " 'IT Coordinator, Textile Engineering Student Society',\n",
              " 'Software Engineer',\n",
              " 'Analysis Executive',\n",
              " 'Associate Data QA Engineer',\n",
              " 'Analytic Engineer',\n",
              " 'Software Engineer',\n",
              " 'Associate Data Warehouse Engineer',\n",
              " 'Architecture Consultant',\n",
              " 'Software Quality Assurance Engineer',\n",
              " 'Software Engineer',\n",
              " 'Engineer - Enterprise Data & Middleware',\n",
              " 'Software Engineer Intern',\n",
              " 'Data Warehouse Engineer',\n",
              " 'nan',\n",
              " 'Associate Consultant',\n",
              " 'Engineer',\n",
              " 'Principal Engineer',\n",
              " 'Research Intern',\n",
              " 'Senior Systems Engineer - Data Center',\n",
              " 'Software Engineer',\n",
              " 'Software Engineer',\n",
              " 'Software Engineer',\n",
              " 'Assistant Director',\n",
              " 'Senior Engineer (Big data & AI)',\n",
              " 'BI Engineer/data analysis',\n",
              " 'Business Intelligence Engineer',\n",
              " 'Software Engineer',\n",
              " 'Data Center Support Engineer',\n",
              " 'Senior Software Engineer',\n",
              " 'Unit Manager - Business Intelligence & RA System',\n",
              " 'Software Engineer',\n",
              " 'Assistant Manager - Management Information (LCH Ltd-SwapClear & Listed Rates)',\n",
              " 'Engineer',\n",
              " 'Undergraduate Research Fellow',\n",
              " 'Lead Engineer - Big Data',\n",
              " 'Associate Software Engineer',\n",
              " 'Senior Software Engineer',\n",
              " 'Engineer - Data Network Operations',\n",
              " 'Senior Software Engineer - BI and Analytics',\n",
              " 'Senior Software Engineer',\n",
              " 'Associate Software Engineer',\n",
              " 'Software Engineer',\n",
              " 'Senior Software Engineer',\n",
              " 'Senior Software Engineer',\n",
              " 'Co-Founder / COO',\n",
              " 'Graduate Research Student',\n",
              " 'System Engineer',\n",
              " 'AWS Community Builder',\n",
              " 'Research Intern',\n",
              " 'Senior Business Intelligence Consultant',\n",
              " 'Data Center Support Executive ',\n",
              " 'Visiting Lecturer',\n",
              " 'Software Engineer',\n",
              " 'Technical Lead - Web Department',\n",
              " 'Initiate Group Vice President oGV and EwA',\n",
              " 'Software Engineer',\n",
              " 'Staff Engineer',\n",
              " 'Vice Chairman',\n",
              " 'Trainee - Full stack Developer',\n",
              " 'Cloud Consultant',\n",
              " 'Salesforce Developer',\n",
              " 'Senior Engineer',\n",
              " 'Engineer - Data Centers',\n",
              " 'Senior Software Engineer',\n",
              " 'Senior Tech Lead',\n",
              " 'Associate Tech Lead',\n",
              " 'Software Engineer',\n",
              " 'Microsoft [Vendor] Support Engineer - Microsoft SQL Server Parallel Data Warehouse ',\n",
              " 'Associate Software Engineer ',\n",
              " 'Senior Customer Engineer',\n",
              " 'Senior Quality Assurance Analyst',\n",
              " 'Systems Engineer - Enterprise Data & Middleware',\n",
              " 'Engineer Cloud System/ Data Center Operations',\n",
              " 'Senior Research And Development Engineer',\n",
              " 'Software Engineering Trainee',\n",
              " 'Professional Freelancer',\n",
              " 'Senior Engineer - Enterprise Data and Middleware',\n",
              " 'Application Support Engineer',\n",
              " 'Network & Data Center Engineer',\n",
              " 'Support Engineer',\n",
              " 'Associate Software Engineer',\n",
              " 'Robotic Process Automation & Data Analytics Engineer',\n",
              " 'AI Engineer',\n",
              " 'Technical Consultant',\n",
              " 'Systems Engineer - Data Center Solutions Team ',\n",
              " 'Mechanical Engineering Intern',\n",
              " 'Trainee Software Engineer ',\n",
              " 'Quality Assurance Engineer',\n",
              " 'Application Support Engineer',\n",
              " 'Software Engineer',\n",
              " 'Trainee Software Engineer ',\n",
              " 'Graduate Research Assistant',\n",
              " 'Associate Datacenter Operations Engineer',\n",
              " 'Senior Software Quality Assurance Engineer',\n",
              " 'Business Analyst',\n",
              " 'Founder',\n",
              " 'Engineer - Enterprise Data & Middleware',\n",
              " 'Engineer',\n",
              " 'Trainee UI/UX Developer , Trainee Lecturer',\n",
              " 'Engineering Trainee',\n",
              " 'VPN Consultant',\n",
              " 'Software Engineer',\n",
              " 'Assistant Professor',\n",
              " 'Associate System Engineer',\n",
              " 'Associate Engineer - BI/ Data Analytics',\n",
              " 'Software Engineer',\n",
              " 'Software Engineer',\n",
              " 'Associate Software Engineer',\n",
              " 'Software Engineer',\n",
              " 'Software QA Engineer',\n",
              " 'Sales Engineer',\n",
              " 'Associate Software Engineer',\n",
              " 'Software Engineering Trainee',\n",
              " 'Associate Software Engineer',\n",
              " 'Quality Assurance Engineering Specialist',\n",
              " 'RPA Consultant',\n",
              " 'Personalization Platform Architect',\n",
              " 'Associate Engineer - Technology',\n",
              " 'Software Engineer',\n",
              " 'UI/UX Engineer ',\n",
              " 'Python Developer',\n",
              " 'Software Engineer',\n",
              " 'Software Engineer 1 - Data',\n",
              " 'Software Engineer',\n",
              " 'Data & Analytics Engineer',\n",
              " 'Software Engineer',\n",
              " 'Microsoft learn student ambassador',\n",
              " 'Software Engineer',\n",
              " 'Software Engineer',\n",
              " 'Supporting Lecturer',\n",
              " 'Software Engineer',\n",
              " 'Software Engineer',\n",
              " 'Software Engineer',\n",
              " 'Software Engineer',\n",
              " 'Software Engineer',\n",
              " 'Senior Software Quality Assurance Engineer',\n",
              " 'Senior Software Engineer',\n",
              " 'Product Lead - Sales Operations Centre',\n",
              " 'Software Engineer',\n",
              " 'Machine Learning Research Engineer',\n",
              " 'Machine Learning Engineer',\n",
              " 'Software Engineer',\n",
              " 'Senior Software Engineer',\n",
              " 'Technical Lead',\n",
              " 'Machine Learning Engineer',\n",
              " 'Software Engineer',\n",
              " 'Senior System Engineer',\n",
              " 'Associate Software Engineer',\n",
              " 'Software Engineer',\n",
              " 'Trainee Software Engineer',\n",
              " 'Community Manager',\n",
              " 'Software Engineer',\n",
              " 'Software Engineer',\n",
              " 'Software Engineer',\n",
              " 'Engineer, Business Intelligence',\n",
              " 'Software Engineer Intern',\n",
              " 'Machine Learning Engineer',\n",
              " 'Application Engineer',\n",
              " 'Engineer - IBM i (AS400)',\n",
              " 'Associate Site Reliability Engineer',\n",
              " 'Data Architect at LSEG Technology',\n",
              " 'Machine Learning Engineer',\n",
              " 'Associate Business Intelligence Engineer',\n",
              " 'Specialist',\n",
              " 'Intern Software Engineer',\n",
              " 'Junior Machine Learning Engineer',\n",
              " 'Software Engineer',\n",
              " 'Co-Founder',\n",
              " 'Data Consultant',\n",
              " 'Data engineering Consultant',\n",
              " 'Big data Engineer',\n",
              " 'Teacher Assistant',\n",
              " 'MS-SQL DBA',\n",
              " 'Senior Consultant',\n",
              " 'Recruitment and Employer Branding Officer',\n",
              " 'Staff Engineer - Big Data & AI']"
            ]
          },
          "metadata": {},
          "execution_count": 130
        }
      ]
    },
    {
      "cell_type": "code",
      "source": [
        "label11, other_labels11, label_name11, countpos11, countneg11 = check_Avalaiblity(DataEng_check4,\"Software Engineer\")"
      ],
      "metadata": {
        "id": "8g1azPXWXhoV"
      },
      "execution_count": 131,
      "outputs": []
    },
    {
      "cell_type": "code",
      "source": [
        "countpos11"
      ],
      "metadata": {
        "colab": {
          "base_uri": "https://localhost:8080/"
        },
        "id": "6EmGROozYOZ1",
        "outputId": "12b64c94-102f-4cfa-d893-457478ee1c9f"
      },
      "execution_count": 132,
      "outputs": [
        {
          "output_type": "execute_result",
          "data": {
            "text/plain": [
              "70"
            ]
          },
          "metadata": {},
          "execution_count": 132
        }
      ]
    },
    {
      "cell_type": "code",
      "source": [
        "DataEng_check4['label']=label11"
      ],
      "metadata": {
        "colab": {
          "base_uri": "https://localhost:8080/"
        },
        "id": "PdGGSjO6YP4Q",
        "outputId": "4b780fe3-5691-4144-b1d1-fad58ac81e58"
      },
      "execution_count": 133,
      "outputs": [
        {
          "output_type": "stream",
          "name": "stderr",
          "text": [
            "/usr/local/lib/python3.7/dist-packages/ipykernel_launcher.py:1: SettingWithCopyWarning: \n",
            "A value is trying to be set on a copy of a slice from a DataFrame.\n",
            "Try using .loc[row_indexer,col_indexer] = value instead\n",
            "\n",
            "See the caveats in the documentation: https://pandas.pydata.org/pandas-docs/stable/user_guide/indexing.html#returning-a-view-versus-a-copy\n",
            "  \"\"\"Entry point for launching an IPython kernel.\n"
          ]
        }
      ]
    },
    {
      "cell_type": "code",
      "source": [
        "SoftwareEng1 = DataEng_check4[DataEng_check4['label']==1]"
      ],
      "metadata": {
        "id": "3TddP8X0YX19"
      },
      "execution_count": 134,
      "outputs": []
    },
    {
      "cell_type": "code",
      "source": [
        "SoftwareEng1.shape"
      ],
      "metadata": {
        "colab": {
          "base_uri": "https://localhost:8080/"
        },
        "id": "mcmE_LBcYhU2",
        "outputId": "9557401f-9779-43ab-d30b-3d4aac04a4c8"
      },
      "execution_count": 135,
      "outputs": [
        {
          "output_type": "execute_result",
          "data": {
            "text/plain": [
              "(70, 11)"
            ]
          },
          "metadata": {},
          "execution_count": 135
        }
      ]
    },
    {
      "cell_type": "code",
      "source": [
        "DataEng_check5 = DataEng_check4[DataEng_check4['label']==0]"
      ],
      "metadata": {
        "id": "_C3vdgmsaYoO"
      },
      "execution_count": 148,
      "outputs": []
    },
    {
      "cell_type": "code",
      "source": [
        "DataEng_check5.shape"
      ],
      "metadata": {
        "colab": {
          "base_uri": "https://localhost:8080/"
        },
        "id": "elq6la5yadyu",
        "outputId": "fc1657a6-8f12-4ed9-d63d-9b9d7958ec30"
      },
      "execution_count": 149,
      "outputs": [
        {
          "output_type": "execute_result",
          "data": {
            "text/plain": [
              "(132, 11)"
            ]
          },
          "metadata": {},
          "execution_count": 149
        }
      ]
    },
    {
      "cell_type": "code",
      "source": [
        "pd.set_option('max_rows', 99999)\n",
        "pd.set_option('max_colwidth', 400)\n",
        "pd.describe_option('max_colwidth')"
      ],
      "metadata": {
        "colab": {
          "base_uri": "https://localhost:8080/"
        },
        "id": "tAAOxoTKY0OR",
        "outputId": "9412d31e-2060-46b9-a0df-9681a2d1d833"
      },
      "execution_count": 137,
      "outputs": [
        {
          "output_type": "stream",
          "name": "stdout",
          "text": [
            "display.max_colwidth : int or None\n",
            "    The maximum width in characters of a column in the repr of\n",
            "    a pandas data structure. When the column overflows, a \"...\"\n",
            "    placeholder is embedded in the output. A 'None' value means unlimited.\n",
            "    [default: 50] [currently: 400]\n"
          ]
        }
      ]
    },
    {
      "cell_type": "code",
      "source": [
        "SoftwareEng1"
      ],
      "metadata": {
        "colab": {
          "base_uri": "https://localhost:8080/",
          "height": 1000
        },
        "id": "JBcTFEJ2YjLm",
        "outputId": "29542442-f279-471c-90f6-e6be12dd331b"
      },
      "execution_count": 138,
      "outputs": [
        {
          "output_type": "execute_result",
          "data": {
            "text/html": [
              "\n",
              "  <div id=\"df-725704b6-c28b-45c9-8dc3-8cc581c24da8\">\n",
              "    <div class=\"colab-df-container\">\n",
              "      <div>\n",
              "<style scoped>\n",
              "    .dataframe tbody tr th:only-of-type {\n",
              "        vertical-align: middle;\n",
              "    }\n",
              "\n",
              "    .dataframe tbody tr th {\n",
              "        vertical-align: top;\n",
              "    }\n",
              "\n",
              "    .dataframe thead th {\n",
              "        text-align: right;\n",
              "    }\n",
              "</style>\n",
              "<table border=\"1\" class=\"dataframe\">\n",
              "  <thead>\n",
              "    <tr style=\"text-align: right;\">\n",
              "      <th></th>\n",
              "      <th>id</th>\n",
              "      <th>skills</th>\n",
              "      <th>edu_1</th>\n",
              "      <th>edu_2</th>\n",
              "      <th>edu_3</th>\n",
              "      <th>org_1</th>\n",
              "      <th>org_2</th>\n",
              "      <th>org_3</th>\n",
              "      <th>org_4</th>\n",
              "      <th>organization_title_1</th>\n",
              "      <th>label</th>\n",
              "    </tr>\n",
              "  </thead>\n",
              "  <tbody>\n",
              "    <tr>\n",
              "      <th>30</th>\n",
              "      <td>deema-wattegedara</td>\n",
              "      <td>Python Programming Language SQL Data Engineering Machine Learning Data Analysis Programming Microsoft Office Teamwork Leadership Arduino Matlab SolidWorks DevOps Digital Electronics Product Development Robotics Internet of Things IoT Research and Development RD OpenAPI Specification OAS Data Reporting</td>\n",
              "      <td>Master of Engineering - MEng, Electronics and Communications Engineering University of Wolverhampton</td>\n",
              "      <td>Mathematics Mahamaya Girls' College</td>\n",
              "      <td></td>\n",
              "      <td>Software Engineer - Data Wavenet</td>\n",
              "      <td>Research Fellowship MAS Holdings</td>\n",
              "      <td>R&amp;D Engineering Trainee OREL Corporation</td>\n",
              "      <td></td>\n",
              "      <td>Software Engineer - Data</td>\n",
              "      <td>1</td>\n",
              "    </tr>\n",
              "    <tr>\n",
              "      <th>39</th>\n",
              "      <td>vinushan-selvaraj-49b329126</td>\n",
              "      <td>Python Programming Language MySQL SQL Linux Data Engineering Machine Learning Data Analysis Software Development Programming Microsoft Office C ObjectOriented Programming OOP Deep Learning Data Structures Algorithms Natural Language Processing NLP Data Visualization Data Science Predictive Modeling Artificial Intelligence AI Microsoft Power BI DevOps Docker Products Big Data Data Modeling Data...</td>\n",
              "      <td>Bachelor of Technology (B.Tech.), Electronics and Communications Engineering National Institute of Technology Warangal</td>\n",
              "      <td>High school, Science Green Park Matric. Hr. Sec. School - India</td>\n",
              "      <td>Middle School Green Park Matric. Hr. Sec. School - India</td>\n",
              "      <td>Senior Software Engineer (Data) hSenid Mobile Solutions (Pvt) Ltd</td>\n",
              "      <td>Software Engineer (Data) hSenid Mobile Solutions (Pvt) Ltd</td>\n",
              "      <td>Manager (Executive 2) Reliance Industries Limited</td>\n",
              "      <td>Graduate Engineering Trainee Reliance Industries Limited</td>\n",
              "      <td>Senior Software Engineer (Data)</td>\n",
              "      <td>1</td>\n",
              "    </tr>\n",
              "    <tr>\n",
              "      <th>40</th>\n",
              "      <td>thilina-ranaweera-68627473</td>\n",
              "      <td>Java C JavaScript MySQL HTML Cascading Style Sheets CSS SQL Web Development HTML Microsoft Word Machine Learning Software Development Programming Microsoft Office java Teamwork Leadership Public Speaking C Project Management Microsoft Excel Microsoft PowerPoint Customer Service Python Data Analytics ElasticSearch PowerPoint R Artificial Neural Networks Research Management Microsoft Power BI Mi...</td>\n",
              "      <td>Bachelor of Science (BSc), Computer Software Engineering SLIIT</td>\n",
              "      <td></td>\n",
              "      <td></td>\n",
              "      <td>Software Engineer-  Analytics Engineer(Data Analytics) Wiley</td>\n",
              "      <td>Software Engineer London Stock Exchange Group (LSEG)</td>\n",
              "      <td>Software Engineering Trainee 99X Technology</td>\n",
              "      <td></td>\n",
              "      <td>Software Engineer-  Analytics Engineer(Data Analytics)</td>\n",
              "      <td>1</td>\n",
              "    </tr>\n",
              "    <tr>\n",
              "      <th>43</th>\n",
              "      <td>niranga-kandearachchi</td>\n",
              "      <td>JavaScript MySQL Nodejs SQL Big Data Analytics Data Analysis Scala Project Management Angular Vuejs Python Statistics Data Science Data Analytics Hadoop R Tableau Time Series Analysis Statistical Data Analysis PowerBI Research Operations Research Apache Spark Business Intelligence BI Econometrics Amazon Web Services AWS Apache Spark Streaming Apache Kafka C Matplotlib Operations Management Spa...</td>\n",
              "      <td>Bachelor of Applied Science - BASc, Industrial Management with Mathematics and Statistics Wayamba University of Sri Lanka</td>\n",
              "      <td></td>\n",
              "      <td></td>\n",
              "      <td>Software Engineer Apigate</td>\n",
              "      <td>Data Engineer Wavenet</td>\n",
              "      <td>Trainee Software Engineer 99X Technology</td>\n",
              "      <td></td>\n",
              "      <td>Software Engineer</td>\n",
              "      <td>1</td>\n",
              "    </tr>\n",
              "    <tr>\n",
              "      <th>58</th>\n",
              "      <td>supunprabhathperera</td>\n",
              "      <td>Java Python Programming Language HTML SQL Big Data Analytics Machine Learning Software Development Problem Solving English Microsoft Office Teamwork ObjectOriented Programming OOP Microsoft Excel Data Mining Statistics Data Visualization Data Science Data Analytics Hadoop R Tableau Statistical Data Analysis Minitab Artificial Intelligence AI Management Microsoft Power BI Analytics Business Int...</td>\n",
              "      <td>Bachelor of Applied Science - BASc, Computer Science, Statistics and Mathematics University of Sri Jayewardenepura</td>\n",
              "      <td></td>\n",
              "      <td></td>\n",
              "      <td>Software Engineer Sri Lanka Air Force</td>\n",
              "      <td>Data Analyst Leaf Digital (Pvt) Ltd</td>\n",
              "      <td>Intern Data Analyst MAS Active Linea Intimo</td>\n",
              "      <td></td>\n",
              "      <td>Software Engineer</td>\n",
              "      <td>1</td>\n",
              "    </tr>\n",
              "    <tr>\n",
              "      <th>94</th>\n",
              "      <td>akila-shashith</td>\n",
              "      <td>SQL Machine Learning English Python Statistics R Statistical Data Analysis Microsoft SQL Server Power BI C ASPNET MVC Apache Airflow SharePoint</td>\n",
              "      <td>Bachelor’s Degree, Information Technology SLIIT</td>\n",
              "      <td>Richmond College</td>\n",
              "      <td></td>\n",
              "      <td>Software Engineer - Data Analytics and Insights Wiley Global Technology (Private) Limited</td>\n",
              "      <td>Data Analyst Veracity AI</td>\n",
              "      <td>Software Engineer IVA Technology</td>\n",
              "      <td>Software Engineer Virtusa</td>\n",
              "      <td>Software Engineer - Data Analytics and Insights</td>\n",
              "      <td>1</td>\n",
              "    </tr>\n",
              "    <tr>\n",
              "      <th>117</th>\n",
              "      <td>budhitha-perera</td>\n",
              "      <td>Java Python Programming Language PHP Video Editing HTML Microsoft Word Data Analysis Microsoft Office Adobe Premiere Pro Teamwork Public Speaking Project Management Microsoft Excel Python Data Structures Hadoop Image Processing Matlab Research Management Google Cloud Platform GCP Apache Spark Ubuntu Strategic Planning Amazon Web Services AWS Apache Kafka Neural Networks Photoshop Prolog NetLog...</td>\n",
              "      <td>Bachelor of Science (B.Sc.) Computational Physics Special Degree, Physical Sciences University of Colombo</td>\n",
              "      <td>Advance Level, Maths scheme Thurstan College, Colombo 07</td>\n",
              "      <td>S.De.S Jayasinghe Central College, Dehiwala</td>\n",
              "      <td>Senior Software Engineer Creative Software</td>\n",
              "      <td>Software Engineer (Python) Oneflow</td>\n",
              "      <td>Software Engineer | Data Engineer Creative Software</td>\n",
              "      <td>Data Engineer Axiata Digital Labs</td>\n",
              "      <td>Senior Software Engineer</td>\n",
              "      <td>1</td>\n",
              "    </tr>\n",
              "    <tr>\n",
              "      <th>123</th>\n",
              "      <td>nethmi-chethika-de-silva</td>\n",
              "      <td>Java MySQL python Data Analysis Microsoft Office Teamwork Statistics R Statistical Data Analysis Statistical Modeling Matlab Minitab SPSS Mathematics Mathematical Modeling Survey Design TORA Mathematical Programming Computational Mathematics Statistical Programming Multivariate Statistics Interpersonal Skills Academic Writing</td>\n",
              "      <td>B.Sc. in Industrial Statistics and Mathematical Finance, Mathematics and Statistics University of Colombo</td>\n",
              "      <td>C.W.W.Kannangara Central College, Matugama, Srilanka</td>\n",
              "      <td>The Chartered Institute of Management Accountants</td>\n",
              "      <td>Software Engineer  - BigData and Data science  Zone24x7</td>\n",
              "      <td>Associate Software Engineer - BigData and Data Science  Zone24x7</td>\n",
              "      <td>Data Analyst ReapDigital</td>\n",
              "      <td></td>\n",
              "      <td>Software Engineer  - BigData and Data science</td>\n",
              "      <td>1</td>\n",
              "    </tr>\n",
              "    <tr>\n",
              "      <th>126</th>\n",
              "      <td>malitha-gunawardhana</td>\n",
              "      <td>Python Programming Language MySQL SQL Machine Learning Teamwork Public Speaking C Microsoft Excel Deep Learning Team Leadership Data Science Tableau Matlab MATLAB NumPy Teaching Algorithm Development pandas Chess Biomedical Engineering Compering</td>\n",
              "      <td>BSc engineering (Hon's), Biomedical/Medical Engineering University of Moratuwa</td>\n",
              "      <td>Combined Mathematics R/Eheliyagoda central college</td>\n",
              "      <td></td>\n",
              "      <td>Software Engineer Xeptagon</td>\n",
              "      <td>Research Engineer Synergen Technology Labs (Pvt) Ltd</td>\n",
              "      <td></td>\n",
              "      <td></td>\n",
              "      <td>Software Engineer</td>\n",
              "      <td>1</td>\n",
              "    </tr>\n",
              "    <tr>\n",
              "      <th>134</th>\n",
              "      <td>vindaya-fernando-063189184</td>\n",
              "      <td>Java JavaScript PHP HTML CSS C Computer Science Angular C Oracle Database c ASPNET Core</td>\n",
              "      <td>Bachelor's Degree, B.Sc Special Degree in Computer Science &amp; Technology, Second Class Upper Division Uva Wellassa University of Sri Lanka</td>\n",
              "      <td>Rathnavali Balika Vidyalaya, Gampaha</td>\n",
              "      <td>Mary Immaculate Convent Jaela</td>\n",
              "      <td>Software Engineer Data Capture Experts</td>\n",
              "      <td>Associate Software Engineer Data Capture Experts</td>\n",
              "      <td>Trainee Software Engineer Creative Software</td>\n",
              "      <td>Trainee Banking Assistant Bank of Ceylon</td>\n",
              "      <td>Software Engineer</td>\n",
              "      <td>1</td>\n",
              "    </tr>\n",
              "    <tr>\n",
              "      <th>141</th>\n",
              "      <td>s-s-r</td>\n",
              "      <td>Java JavaScript PHP MySQL HTML Cascading Style Sheets CSS XML SQL Web Development Git HTML Software Development Databases Graphic Design Microsoft Office Teamwork ObjectOriented Programming OOP Microsoft Excel NetBeans Computer Hardware Troubleshooting Android Development Windows Android JavaSE Web Applications AJAX IntelliJ IDEA JavaServer Pages JSP Database Design DBMS Java Database Connecti...</td>\n",
              "      <td>Professional Graduate Diploma in Software Engineering, PCJT Software Engineering Java Institute for Advanced Technology</td>\n",
              "      <td>Business/Commerce, General Nalanda College Colombo</td>\n",
              "      <td></td>\n",
              "      <td>Software Engineer HCL Sri Lanka</td>\n",
              "      <td></td>\n",
              "      <td></td>\n",
              "      <td></td>\n",
              "      <td>Software Engineer</td>\n",
              "      <td>1</td>\n",
              "    </tr>\n",
              "    <tr>\n",
              "      <th>149</th>\n",
              "      <td>suneth-priyadarshana-329077183</td>\n",
              "      <td>Python Programming Language Data Engineering Big Data Analytics Machine Learning Data Analysis Software Development Computer Science Data Mining Natural Language Processing NLP Data Science Data Analytics Artificial Neural Networks Artificial Intelligence AI Machine Learning Algorithms R Programming Language Big Data Database Administration Database Development Applied Machine Learning Neural ...</td>\n",
              "      <td>Bachelor's degree, Data Science SLIIT</td>\n",
              "      <td>Advanced Level, Mathematics St. Peter's College Colombo</td>\n",
              "      <td></td>\n",
              "      <td>Software Engineer Intern IFS</td>\n",
              "      <td></td>\n",
              "      <td></td>\n",
              "      <td></td>\n",
              "      <td>Software Engineer Intern</td>\n",
              "      <td>1</td>\n",
              "    </tr>\n",
              "    <tr>\n",
              "      <th>184</th>\n",
              "      <td>sajith1995s</td>\n",
              "      <td>Java C JavaScript Python Programming Language AngularJS Nodejs SQL Web Development Linux Programming ObjectOriented Programming OOP Computer Science MongoDB Microsoft SQL Server NET Framework ASPNET MVC ASPNET Spring Boot TypeScript c c git ADONET</td>\n",
              "      <td>Bachelor of Science - BS, Computer Software Engineering SLIIT</td>\n",
              "      <td>GCE Advanced Level Eheliyagoda Central College</td>\n",
              "      <td>GCE Ordinary Level Eheliyagoda Dharmapala College</td>\n",
              "      <td>Software Engineer Data Capture Experts</td>\n",
              "      <td>Freelance Software Developer Self-employed</td>\n",
              "      <td>Associate Software Engineer CodeGen International</td>\n",
              "      <td>Development Infrastructure Intern LSEG Technology</td>\n",
              "      <td>Software Engineer</td>\n",
              "      <td>1</td>\n",
              "    </tr>\n",
              "    <tr>\n",
              "      <th>187</th>\n",
              "      <td>sandun-madushanka-b77956b8</td>\n",
              "      <td>JavaScript AngularJS Leadership Angular Agile Methodologies C jQuery ASPNET Frontend Development Angular Material</td>\n",
              "      <td>Bachelor of Information Technology, Computer Software Engineering SLIIT</td>\n",
              "      <td></td>\n",
              "      <td></td>\n",
              "      <td>Software Engineer Data Capture Experts</td>\n",
              "      <td>Software Engineer Agile Innovations Group</td>\n",
              "      <td>Associate Software Engineer TeKnowledge Inc</td>\n",
              "      <td></td>\n",
              "      <td>Software Engineer</td>\n",
              "      <td>1</td>\n",
              "    </tr>\n",
              "    <tr>\n",
              "      <th>191</th>\n",
              "      <td>sachini-epa-aaa347159</td>\n",
              "      <td>Java C JavaScript PHP SQL C C Android c</td>\n",
              "      <td>Bachelor's degree, Software Engineering Srilanka Institute of Information Technology</td>\n",
              "      <td>Master's degree, Big Data Analytics Robert Gordon University</td>\n",
              "      <td></td>\n",
              "      <td>Software Engineer IFS Sri Lanka</td>\n",
              "      <td>Undergraduate Trainee IFS Sri Lanka</td>\n",
              "      <td>Development Intern eBuilder</td>\n",
              "      <td></td>\n",
              "      <td>Software Engineer</td>\n",
              "      <td>1</td>\n",
              "    </tr>\n",
              "    <tr>\n",
              "      <th>206</th>\n",
              "      <td>ratnajothy-sangeethanan</td>\n",
              "      <td>Java Python Programming Language SQL Data Analysis ObjectOriented Programming OOP API Development Python R Programming Language NoSQL RESTful architecture Design Patterns Oracle Database Identity Access Management IAM Integration Security Clientserver Application Development Web Engineering</td>\n",
              "      <td>MSc, Big Data Analytics Robert Gordon University</td>\n",
              "      <td>Bachelor of Engineering - BE, Software Engineering University of Westminster</td>\n",
              "      <td>St. Benedict's College, Colombo-13</td>\n",
              "      <td>Software Engineer WSO2</td>\n",
              "      <td>Software Engineer IFS</td>\n",
              "      <td>Software Engineering Intern Navotar Inc</td>\n",
              "      <td></td>\n",
              "      <td>Software Engineer</td>\n",
              "      <td>1</td>\n",
              "    </tr>\n",
              "    <tr>\n",
              "      <th>208</th>\n",
              "      <td>sachin-pathirana-465808137</td>\n",
              "      <td>Java JavaScript MySQL Cascading Style Sheets CSS SQL Git HTML English Leadership Angular C NET Framework Angular Material ASPNET Core</td>\n",
              "      <td>Bachelor of Science Honours in Information technology Specialized in Software Engineering, Computer Software Engineering SLIIT</td>\n",
              "      <td>Physical Sciences St. Thomas' College, matale</td>\n",
              "      <td>Galewela Primary College</td>\n",
              "      <td>Senior Software Engineer Data Capture Experts</td>\n",
              "      <td>Software Engineer Data Capture Experts</td>\n",
              "      <td>Associate Software Engineer Data Capture Experts</td>\n",
              "      <td>Associate Software Engineer QualitApps Europe S.L</td>\n",
              "      <td>Senior Software Engineer</td>\n",
              "      <td>1</td>\n",
              "    </tr>\n",
              "    <tr>\n",
              "      <th>212</th>\n",
              "      <td>lakshan-gunarathna</td>\n",
              "      <td>Java JavaScript PHP Cascading Style Sheets CSS Web Development Linux Machine Learning Data Analysis Software Development Adobe Photoshop Teamwork Leadership ObjectOriented Programming OOP MongoDB Adobe Illustrator Firebase Python Data Mining Data Analytics Hadoop Hive R Microsoft Power BI Microsoft SQL Server Apache Spark Cloud Computing MapReduce Apache Kafka C Spring Boot Hibernate Text Anal...</td>\n",
              "      <td>Bachelor of Engineering - BE, Software Engineering University of Westminster</td>\n",
              "      <td>Bachelor of Engineering - BE, Software Engineering Informatics Institute of Technology (IIT)</td>\n",
              "      <td>Royal International School - Kurunegala</td>\n",
              "      <td>Software Engineer IFS</td>\n",
              "      <td>Software Engineer Virtusa</td>\n",
              "      <td>Software Engineer BT</td>\n",
              "      <td>Trainee Software Engineer Virtusa</td>\n",
              "      <td>Software Engineer</td>\n",
              "      <td>1</td>\n",
              "    </tr>\n",
              "    <tr>\n",
              "      <th>221</th>\n",
              "      <td>bimali-jayathri-44626a17b</td>\n",
              "      <td>Java JavaScript Python Programming Language MySQL C Programming Language C Angular OpenCV JavaServer Pages JSP Sailsjs</td>\n",
              "      <td>BSC (Hons), Computer Science and Software Engineering University of Bedfordshire</td>\n",
              "      <td>HigDiploma, Information Technology SLIIT</td>\n",
              "      <td>St'annes Balika vidyalaya</td>\n",
              "      <td>Associate Software Engineer Data Capture Experts</td>\n",
              "      <td>Associate Software Engineer Codevus</td>\n",
              "      <td></td>\n",
              "      <td></td>\n",
              "      <td>Associate Software Engineer</td>\n",
              "      <td>1</td>\n",
              "    </tr>\n",
              "    <tr>\n",
              "      <th>222</th>\n",
              "      <td>sohaniwewelwala</td>\n",
              "      <td>Java JavaScript PHP MySQL HTML Cascading Style Sheets CSS SQL Microsoft Word Problem Solving Microsoft Office CSS Leadership Public Speaking ObjectOriented Programming OOP Project Management Microsoft Excel PowerPoint R Research Management C Android Object Oriented Design UML angular Software Implementation</td>\n",
              "      <td>Master of Science - MS, Data Modeling/Warehousing and Database Administration Robert Gordon University</td>\n",
              "      <td>Bachelor of Engineering (BEng), Computer Software Engineering University of Westminster</td>\n",
              "      <td>Sanghamitta College, Galle.</td>\n",
              "      <td>Senior Software Engineer HCL Technologies</td>\n",
              "      <td>Software Engineer Acentura Inc</td>\n",
              "      <td>Associate Software Engineer Jetwing Travels</td>\n",
              "      <td>Software Engineer Intern JOHN KEELLS IT</td>\n",
              "      <td>Senior Software Engineer</td>\n",
              "      <td>1</td>\n",
              "    </tr>\n",
              "    <tr>\n",
              "      <th>227</th>\n",
              "      <td>kavindathennakoon</td>\n",
              "      <td>Java Python Programming Language PHP MySQL HTML Bootstrap SQL Web Development Linux HTML Big Data Analytics Data Analysis Software Development Programming Data Visualization Data Science Data Analytics Hadoop Hive Tableau Microsoft Power BI Microsoft SQL Server NetBeans R Programming Language Business Intelligence BI Big Data Data Modeling Shell Scripting HiveQL Software Engineering HTML Netwo...</td>\n",
              "      <td>Master Business Analytics , Data Processing and Data Processing Technology/Technician Robert Gordon University</td>\n",
              "      <td>Bachelor of Science in Engineering, Computer Engineering University of Peradeniya</td>\n",
              "      <td>Higher Education, Physical Science Badulla Central Collage</td>\n",
              "      <td>Senior Software Engineer - BI and Analytics Mobitel (Pvt) Ltd</td>\n",
              "      <td>Senior Engineer PS Core Network Planning Mobitel (Pvt) Ltd</td>\n",
              "      <td>Supervisory Engineer - PS Core Planning Mobitel (Pvt) Ltd</td>\n",
              "      <td>Big Data &amp; Advanced Analytics for Enterprise Telecom TYE</td>\n",
              "      <td>Senior Software Engineer - BI and Analytics</td>\n",
              "      <td>1</td>\n",
              "    </tr>\n",
              "    <tr>\n",
              "      <th>229</th>\n",
              "      <td>amilakanchana0</td>\n",
              "      <td>Java PHP AngularJS Nodejs python Linux C Programming Language C Project Management Reactjs Flutter Expressjs OpenCV Microsoft SQL Server Android Development C NET Framework c JavaServer Pages JSP React Native Angular Material mysql c c net NET Core angular Sequelizejs</td>\n",
              "      <td>Bachelor's degree, Computer Software Engineering SLIIT</td>\n",
              "      <td></td>\n",
              "      <td></td>\n",
              "      <td>Senior Software Engineer Data Capture Experts</td>\n",
              "      <td>Software Engineer Data Capture Experts</td>\n",
              "      <td>Associate Software Engineer Data Capture Experts</td>\n",
              "      <td>Associate Software Engineer cipherlabz</td>\n",
              "      <td>Senior Software Engineer</td>\n",
              "      <td>1</td>\n",
              "    </tr>\n",
              "    <tr>\n",
              "      <th>230</th>\n",
              "      <td>sanduni-abenayaka-068baa189</td>\n",
              "      <td>Java JavaScript Python Programming Language PHP MySQL HTML AngularJS Nodejs SQL Git HTML Machine Learning C Programming Language Graphic Design Adobe Photoshop C ObjectOriented Programming OOP Angular Firebase API Development Data Visualization R Microsoft SQL Server RStudio C jQuery NET Framework User Interface Design ASPNET Web Design Frontend Development css React Native CodeIgniter REST AP...</td>\n",
              "      <td>Bachelor's degree, Computer Science University of Colombo School of Computing</td>\n",
              "      <td>Dharmasoka college, Ambalangoda</td>\n",
              "      <td></td>\n",
              "      <td>Associate Software Engineer Data Capture Experts Pty Ltd</td>\n",
              "      <td>Software Engineer Intern Scienter Technologies (Pte) Ltd</td>\n",
              "      <td>Digital Media Manager UCSC ISACA Student Group</td>\n",
              "      <td>Graphic Designer UCSC ISACA Student Group</td>\n",
              "      <td>Associate Software Engineer</td>\n",
              "      <td>1</td>\n",
              "    </tr>\n",
              "    <tr>\n",
              "      <th>231</th>\n",
              "      <td>mulitha-jayawardana-257b07164</td>\n",
              "      <td>Java JavaScript MySQL Nodejs Git C Reactjs MongoDB Flutter Arduino Team Leadership Microsoft SQL Server Agile Methodologies C Android ASPNET MVC Oracle Database PLSQL Bitbucket SAP HANA Embedded JavaScript EJS angular iOS Development SAP Business One Windows Services</td>\n",
              "      <td>Higher National Diploma in Software Engineering, Computer Software Engineering National Institute of Business Management (NIBM)</td>\n",
              "      <td>Diploma In Computer System Design, Computer Science National Institute of Business Management (NIBM)</td>\n",
              "      <td>thurstan college</td>\n",
              "      <td>Software Engineer Pristine Solutions (Pvt) Ltd</td>\n",
              "      <td>Software Engineering Trainee Pristine Solutions (Pvt) Ltd</td>\n",
              "      <td></td>\n",
              "      <td></td>\n",
              "      <td>Software Engineer</td>\n",
              "      <td>1</td>\n",
              "    </tr>\n",
              "    <tr>\n",
              "      <th>232</th>\n",
              "      <td>nimodi-madubhashini-ba072a118</td>\n",
              "      <td>Java C Microsoft Word Microsoft Office Teamwork Leadership Microsoft Excel Algorithms PowerPoint Matlab Microsoft SQL Server OOP css c Basic HTML sql php angular arduino verilog ARM Assembly</td>\n",
              "      <td>Bsc Engineering(Hons) second class upper division, Computer Engineering University of Peradeniya</td>\n",
              "      <td>BCS, Computer Science Esoft Metro Campus</td>\n",
              "      <td>GCE Advanced Level, Mathematics and Physical Science H/Debarawewa National School</td>\n",
              "      <td>Senior Software Engineer Sysco LABS Sri Lanka</td>\n",
              "      <td>Software Engineer Sysco LABS Sri Lanka</td>\n",
              "      <td>Software Engineering Intern IFS</td>\n",
              "      <td></td>\n",
              "      <td>Senior Software Engineer</td>\n",
              "      <td>1</td>\n",
              "    </tr>\n",
              "    <tr>\n",
              "      <th>234</th>\n",
              "      <td>gagith-abeysekara-0297a05a</td>\n",
              "      <td>Java C JavaScript SQL HTML Microsoft Word Microsoft Office Teamwork Microsoft Excel Customer Service PowerPoint Research C jQuery Windows Visual C ASPNET MVC Photoshop Access Silverlight DevExpress Controls</td>\n",
              "      <td>Bachelor's degree in Information Technology, Computer Software Engineering University of Moratuwa</td>\n",
              "      <td></td>\n",
              "      <td></td>\n",
              "      <td>Senior Software Engineer Data Capture Experts</td>\n",
              "      <td>Software Engineer Direct Flights International</td>\n",
              "      <td>Software Engineer Bileeta - Cloud Enterprising</td>\n",
              "      <td>Software Engineer Perfect Business Solution Services (Pvt) Ltd</td>\n",
              "      <td>Senior Software Engineer</td>\n",
              "      <td>1</td>\n",
              "    </tr>\n",
              "    <tr>\n",
              "      <th>246</th>\n",
              "      <td>sadeeshanishara</td>\n",
              "      <td>Java C JavaScript Cascading Style Sheets CSS Bootstrap SQL HTML Problem Solving Teamwork ObjectOriented Programming OOP Angular C jQuery ASPNET MVC ASPNET Angular Material Software ASPNET Core ASPNET Web API Angular Command Line Interface CLI SCSS</td>\n",
              "      <td>Bachelor of Science - BSc in Applied Science, Mathematics and Computer Science and Statistics University of Peradeniya</td>\n",
              "      <td></td>\n",
              "      <td></td>\n",
              "      <td>Software Engineer Data Capture Experts</td>\n",
              "      <td>Associate Software Engineer Data Capture Experts</td>\n",
              "      <td>Software Engineer Intern DSP Controls (PVT) Ltd</td>\n",
              "      <td></td>\n",
              "      <td>Software Engineer</td>\n",
              "      <td>1</td>\n",
              "    </tr>\n",
              "    <tr>\n",
              "      <th>250</th>\n",
              "      <td>pdweerasooriya</td>\n",
              "      <td>Python Programming Language Nodejs Machine Learning Graphic Design MongoDB FullStack Development NoSQL Frontend Development Go Programming Language</td>\n",
              "      <td>Specialised in Industrial statistics , Mathematics and Statistics University of Colombo</td>\n",
              "      <td>CIMA Completed finalist , Accounting and Business/Management The Chartered Institute of Management Accountants</td>\n",
              "      <td></td>\n",
              "      <td>Software Engineer :Different</td>\n",
              "      <td>Engineer, Data science and Analytics London Stock Exchange Group (LSEG)</td>\n",
              "      <td>Machine Learning Engineer Entracer</td>\n",
              "      <td>Analyst Wisewel™</td>\n",
              "      <td>Software Engineer</td>\n",
              "      <td>1</td>\n",
              "    </tr>\n",
              "    <tr>\n",
              "      <th>261</th>\n",
              "      <td>oshada-munasinghe-4998a5151</td>\n",
              "      <td>Java JavaScript PHP MySQL HTML Cascading Style Sheets CSS AngularJS Bootstrap Nodejs SQL Linux HTML Microsoft Azure C Programming Language Leadership C Reactjs Expressjs Microsoft Power BI Microsoft SQL Server C jQuery JavaSE TypeScript React Native Angular Material c Azure DevOps SASS scss Antd Redux Formik MS Azure Frontdoor</td>\n",
              "      <td>Bachelor of Engineering - BE, Software Engineering Sheffield Hallam University</td>\n",
              "      <td>Christ King College, Thudella, Ja-Ela</td>\n",
              "      <td></td>\n",
              "      <td>Senior Software Engineer Data Capture Experts</td>\n",
              "      <td>Programmer Self-employed</td>\n",
              "      <td>Software Engineer Data Capture Experts</td>\n",
              "      <td>Associate Engineer-Technology Virtusa</td>\n",
              "      <td>Senior Software Engineer</td>\n",
              "      <td>1</td>\n",
              "    </tr>\n",
              "    <tr>\n",
              "      <th>267</th>\n",
              "      <td>sathyajit-loganathan</td>\n",
              "      <td>Java JavaScript Python Programming Language MySQL Cascading Style Sheets CSS Nodejs SQL HTML Machine Learning Data Analysis Leadership C Project Management Reactjs MongoDB Microsoft Excel Deep Learning BackEnd Web Development Python R Team Management Amazon Web Services AWS Microsoft Azure Machine Learning Microservices PostgreSQL GraphQL Nextjs Typescript MariaDB Serverless Prisma            ...</td>\n",
              "      <td>SLIIT</td>\n",
              "      <td>Physical Science Royal College Colombo</td>\n",
              "      <td></td>\n",
              "      <td>Software Engineer Paladin Analytics</td>\n",
              "      <td>Data Engineer Yukon Software Sri Lanka</td>\n",
              "      <td>Undergraduate Trainee IFS</td>\n",
              "      <td></td>\n",
              "      <td>Software Engineer</td>\n",
              "      <td>1</td>\n",
              "    </tr>\n",
              "    <tr>\n",
              "      <th>270</th>\n",
              "      <td>malithi-nawarathne-2a443b18b</td>\n",
              "      <td>Java Python Programming Language Cascading Style Sheets CSS SQL HTML Machine Learning Data Science Microsoft Power BI Cloud Computing Docker Oracle Database Google Analytics Apache Airflow Google BigQuery Predictive Maintenance</td>\n",
              "      <td>Bachelor in Science (Hons) Information Technology specializing in, Data Science SLIIT</td>\n",
              "      <td>Girls' High School Kandy</td>\n",
              "      <td>Pilimathalawa Central College</td>\n",
              "      <td>Associate Software Engineer  Mitra Innovation</td>\n",
              "      <td>Data Science Intern zMessenger (Pvt) Ltd</td>\n",
              "      <td></td>\n",
              "      <td></td>\n",
              "      <td>Associate Software Engineer</td>\n",
              "      <td>1</td>\n",
              "    </tr>\n",
              "    <tr>\n",
              "      <th>279</th>\n",
              "      <td>venoligamage</td>\n",
              "      <td>Java JavaScript Python Programming Language PHP MySQL Cascading Style Sheets CSS AngularJS Bootstrap python HTML WordPress Microsoft Office MongoDB Flutter Data Science C Android NoSQL JavaFX PhpMyAdmin flask Unity</td>\n",
              "      <td>Diploma in English ICBT Campus</td>\n",
              "      <td>A/L, Physical Science Stream Anula Vidyalaya</td>\n",
              "      <td>O/L Janadhipathi Balika Vidyalaya</td>\n",
              "      <td>Software Engineering Trainee OREL Corporation</td>\n",
              "      <td></td>\n",
              "      <td></td>\n",
              "      <td></td>\n",
              "      <td>Software Engineering Trainee</td>\n",
              "      <td>1</td>\n",
              "    </tr>\n",
              "    <tr>\n",
              "      <th>289</th>\n",
              "      <td>udara-madumalka-20a7a1168</td>\n",
              "      <td>Python Programming Language PHP Data Analysis Databases C Programming Language Reactjs Customer Service R Management Web Applications React Native Google Analytics Google Data Studio Search Engine Optimization SEO Computing Chess Net Information Systems Jupyter notebook</td>\n",
              "      <td>Information systems , Computer Programming university of colombo school of computing</td>\n",
              "      <td></td>\n",
              "      <td></td>\n",
              "      <td>Associate Software Engineer Azend Technologies</td>\n",
              "      <td>Data Analyst Diesel &amp; Motor Engineering PLC</td>\n",
              "      <td>Customer Service Assistant Bank of Ceylon</td>\n",
              "      <td></td>\n",
              "      <td>Associate Software Engineer</td>\n",
              "      <td>1</td>\n",
              "    </tr>\n",
              "    <tr>\n",
              "      <th>296</th>\n",
              "      <td>bimsara-hirushan-13b53a172</td>\n",
              "      <td>JavaScript PHP Nodejs Web Development HTML Machine Learning Responsive Web Design Reactjs MongoDB Angular BackEnd Web Development Statistics Web Applications Web Design Frontend Development Web Application Development Web Application Design Amazon S Angular Material Mean Stack GraphQL ASPNET Web API Web Interface Design Webbased Software Development Java Enterprise Architecture                ...</td>\n",
              "      <td>Comprehensive Master Java Developer, Java Programing Institute of Software Engineering</td>\n",
              "      <td>Information Technology, Information Technology General Sir John Kotelawala Defence University</td>\n",
              "      <td></td>\n",
              "      <td>Trainee Software Engineer  Data Capture Experts</td>\n",
              "      <td></td>\n",
              "      <td></td>\n",
              "      <td></td>\n",
              "      <td>Trainee Software Engineer</td>\n",
              "      <td>1</td>\n",
              "    </tr>\n",
              "    <tr>\n",
              "      <th>299</th>\n",
              "      <td>lakshanss</td>\n",
              "      <td>Java JavaScript PHP MySQL SQL Linux HTML Reactjs Firebase Python Data Visualization Data Analytics OpenCV Team Management Microsoft SQL Server Ubuntu User Interface Design Spring Boot JavaFX Kubernetes Docker Microservices IntelliJ IDEA Oracle Database PostgreSQL Music GitHub Postman API Css Play Framework User Experience UX Data Integration Stream Processing Integration Change Data Capture   ...</td>\n",
              "      <td>B.Eng, Software Engineering University of Westminster</td>\n",
              "      <td>GCE A/L Biology 2016 Hindu College, Colombo-04</td>\n",
              "      <td></td>\n",
              "      <td>Software Engineer WSO2</td>\n",
              "      <td>Software Engineering Intern WSO2</td>\n",
              "      <td></td>\n",
              "      <td></td>\n",
              "      <td>Software Engineer</td>\n",
              "      <td>1</td>\n",
              "    </tr>\n",
              "    <tr>\n",
              "      <th>300</th>\n",
              "      <td>tharaka-hasantha-ranasingha-arachchi-343591200</td>\n",
              "      <td>Java JavaScript PHP MySQL Cascading Style Sheets CSS AngularJS Nodejs SQL Web Development Laravel HTML English Leadership C Angular Data Structures Software Project Management Strategy Database Administration Engineering C Web Applications Frontend Development Database Management System DBMS Human Resources HR Quality Control Education Net</td>\n",
              "      <td>Bachelor's degree, Computer Science &amp; Statistics University of Peradeniya</td>\n",
              "      <td>Pinnawala Central College</td>\n",
              "      <td></td>\n",
              "      <td>Trainee Software Engineer  Data Capture Experts</td>\n",
              "      <td></td>\n",
              "      <td></td>\n",
              "      <td></td>\n",
              "      <td>Trainee Software Engineer</td>\n",
              "      <td>1</td>\n",
              "    </tr>\n",
              "    <tr>\n",
              "      <th>317</th>\n",
              "      <td>madhushanie</td>\n",
              "      <td>Java Python Programming Language MySQL SQL HTML Machine Learning Software Development Microsoft Office ObjectOriented Programming OOP MongoDB NetBeans Android Database Management System DBMS</td>\n",
              "      <td>Bachelor's degree, Computer Software Engineering SLIIT</td>\n",
              "      <td></td>\n",
              "      <td></td>\n",
              "      <td>Software Engineer Deep Data Insight</td>\n",
              "      <td>Associate Software Engineer Deep Data Insight</td>\n",
              "      <td>Associate System Developer Rukula (Pvt) Ltd</td>\n",
              "      <td>Software Development Intern Sri Lanka Telecom</td>\n",
              "      <td>Software Engineer</td>\n",
              "      <td>1</td>\n",
              "    </tr>\n",
              "    <tr>\n",
              "      <th>324</th>\n",
              "      <td>amila-jayasuriya-3677a0119</td>\n",
              "      <td>JavaScript PHP MySQL HTML Cascading Style Sheets CSS Bootstrap Nodejs SQL HTML Adobe Photoshop MongoDB Adobe Illustrator Vuejs Microsoft SQL Server jQuery Ionic Framework TypeScript css Angular Material sql Angular bootstrap ionic</td>\n",
              "      <td>SLIIT</td>\n",
              "      <td>Bachelor of Science - BS, Information Technology SLIIT</td>\n",
              "      <td></td>\n",
              "      <td>Software Engineer Data Capture Experts</td>\n",
              "      <td>Co-Founder, Software Engineer  iDeacurl</td>\n",
              "      <td>Associate Software Engineer QualitApps Europe S.L</td>\n",
              "      <td></td>\n",
              "      <td>Software Engineer</td>\n",
              "      <td>1</td>\n",
              "    </tr>\n",
              "    <tr>\n",
              "      <th>326</th>\n",
              "      <td>leslie-rathnamalala</td>\n",
              "      <td>Microsoft Azure Teamwork Data Structures Big Data Agile Methodologies C FullStack Development NET Framework ASPNET MVC ASPNET Microservices SQL Azure Agile Project Management Azure DevOps net docker Kali Linux Football Coaching Continuous Delivery kali mobile application development azure docker</td>\n",
              "      <td>Bsc (Hons) Software Engineering, Information Technology NSBM Green University</td>\n",
              "      <td>CCNA ESOFT Metro Campus</td>\n",
              "      <td>Central College Anuradhapura</td>\n",
              "      <td>Software Engineer Data Capture Experts</td>\n",
              "      <td>Software Engineer COMPULIN</td>\n",
              "      <td>Trainee Software Engineer COMPULIN</td>\n",
              "      <td>Software Engineer Intern 99X Technology</td>\n",
              "      <td>Software Engineer</td>\n",
              "      <td>1</td>\n",
              "    </tr>\n",
              "    <tr>\n",
              "      <th>328</th>\n",
              "      <td>kumudesh-kaneshan-125098142</td>\n",
              "      <td>Java MySQL Nodejs SQL HTML Software Development Microsoft Azure Teamwork Quality Assurance NetBeans C Visual Studio Requirements Gathering NET Framework UiPath Process Automation Test Automation Testing Microsoft Power Automate Team Motivation Visual Basic for Applications VBA Azure DevOps XAMPP Technical Support Software Implementation Application Support Microsoft power platform Microsoft Bo...</td>\n",
              "      <td>Bachelor's degree, Computer Software Engineering London Metropolitan University</td>\n",
              "      <td>Government Advanced Level St. Anthony's College, Kandy | Sri Lanka</td>\n",
              "      <td></td>\n",
              "      <td>Associate Software Engineer MillenniumIT ESP</td>\n",
              "      <td>Software Engineer Internship MillenniumIT ESP</td>\n",
              "      <td></td>\n",
              "      <td></td>\n",
              "      <td>Associate Software Engineer</td>\n",
              "      <td>1</td>\n",
              "    </tr>\n",
              "    <tr>\n",
              "      <th>329</th>\n",
              "      <td>shehan-rangana-2ab69b137</td>\n",
              "      <td>Java JavaScript MySQL Nodejs Laravel Git Linux Computer Science Reactjs MongoDB Angular Vuejs Firebase Android Development Spring Boot Hibernate React Native Reduxjs LoopBackio Vuex Nuxtjs</td>\n",
              "      <td>Bachelor of Science in Computer Science, Computer Science University of Colombo School of Computing</td>\n",
              "      <td>Puhulwella Central College, Matara</td>\n",
              "      <td></td>\n",
              "      <td>Software Engineer Deep Data Insight</td>\n",
              "      <td>Associate Software Engineer Deep Data Insight</td>\n",
              "      <td>Software Engineer Intern thinkCube Systems (Pvt) Ltd</td>\n",
              "      <td></td>\n",
              "      <td>Software Engineer</td>\n",
              "      <td>1</td>\n",
              "    </tr>\n",
              "    <tr>\n",
              "      <th>334</th>\n",
              "      <td>pasindu-rathnasiri-a6aa61163</td>\n",
              "      <td>Java JavaScript AngularJS Microsoft Office Microsoft Excel Management C Angular Material Progamming Languages like Java and C</td>\n",
              "      <td>Management &amp; Information Technology University of Kelaniya Sri Lanka</td>\n",
              "      <td></td>\n",
              "      <td></td>\n",
              "      <td>Associate Software Engineer Data Capture Experts</td>\n",
              "      <td>Software Developer - Intern Route Colombo (pvt) Limited</td>\n",
              "      <td>Field Supervisor Sam Dam Engineering</td>\n",
              "      <td></td>\n",
              "      <td>Associate Software Engineer</td>\n",
              "      <td>1</td>\n",
              "    </tr>\n",
              "    <tr>\n",
              "      <th>335</th>\n",
              "      <td>yasiru96</td>\n",
              "      <td>Java C JavaScript PHP MySQL HTML SQL HTML Microsoft Word Databases Microsoft Office Teamwork Project Management Microsoft Excel Microsoft PowerPoint Data Structures OOP Spring Boot css</td>\n",
              "      <td>B.Sc (Hons) in Software  Engineering, Computer Software Engineering University of Kelaniya Sri Lanka</td>\n",
              "      <td>Physical Sciences Bandaranayake College - Gampaha</td>\n",
              "      <td></td>\n",
              "      <td>Software Engineering Trainee Mvv Information Technology</td>\n",
              "      <td></td>\n",
              "      <td></td>\n",
              "      <td></td>\n",
              "      <td>Software Engineering Trainee</td>\n",
              "      <td>1</td>\n",
              "    </tr>\n",
              "    <tr>\n",
              "      <th>336</th>\n",
              "      <td>kavidi-kalpanie-4a9796191</td>\n",
              "      <td>Java Python Programming Language PHP MySQL Laravel HTML C Programming Language C MongoDB Firebase R HTML React Native octave Cloud Firestore Codelgniter Angular</td>\n",
              "      <td>Computer Science University of Colombo School of Computing</td>\n",
              "      <td>sujatha vidyalaya matara</td>\n",
              "      <td></td>\n",
              "      <td>Associate Software Engineer Data Capture Experts</td>\n",
              "      <td>Software Engineer Intern Ceylon Electricity Board (CEB)</td>\n",
              "      <td></td>\n",
              "      <td></td>\n",
              "      <td>Associate Software Engineer</td>\n",
              "      <td>1</td>\n",
              "    </tr>\n",
              "    <tr>\n",
              "      <th>377</th>\n",
              "      <td>swapnil-gaikwad-50a225127</td>\n",
              "      <td>Python Programming Language python Linux C Programming Language C Data Structures PySpark Amazon Web Services AWS Pandas Software Amazon S c REST APIs AWS Lambda c Selenium selenium python</td>\n",
              "      <td>electronics and telecommunications pvpit sangli</td>\n",
              "      <td></td>\n",
              "      <td></td>\n",
              "      <td>Software Engineer Tekion Corp</td>\n",
              "      <td></td>\n",
              "      <td></td>\n",
              "      <td></td>\n",
              "      <td>Software Engineer</td>\n",
              "      <td>1</td>\n",
              "    </tr>\n",
              "    <tr>\n",
              "      <th>380</th>\n",
              "      <td>anantharajah-donoorkans-69019a88</td>\n",
              "      <td>Java Machine Learning Data Analysis C Deep Learning Python Arduino Data Science Image Processing Matlab Management SolidWorks LaTeX FieldProgrammable Gate Arrays FPGA Proteus Analog Circuit Design MikroC</td>\n",
              "      <td>Honours Degree of Bachelor of the Science of Engineering, Electronic and Telecommunication Engineering University of Moratuwa</td>\n",
              "      <td>Mathematics jaffna college</td>\n",
              "      <td></td>\n",
              "      <td>Software Engineer ACCELR</td>\n",
              "      <td>Research And Development Intern SenzMate IoT Intelligence</td>\n",
              "      <td></td>\n",
              "      <td></td>\n",
              "      <td>Software Engineer</td>\n",
              "      <td>1</td>\n",
              "    </tr>\n",
              "    <tr>\n",
              "      <th>381</th>\n",
              "      <td>neelotpalsinghgour</td>\n",
              "      <td>Python Programming Language SQL Microsoft Word C Programming Language C Microsoft Excel Microsoft PowerPoint Python R Tableau Extract Transform Load ETL Amazon Web Services AWS Amazon EC Amazon S Database Management System DBMS Raspberry Pi Internet of Things AWS Lambda AWS Glue Amazon Elastic MapReduce EMR Amazon SQS Amazon VPC AWS CloudFormation AWS Step Functions Amazon Relational Database ...</td>\n",
              "      <td>Bachelor of Technology (B.Tech), Computer Science &amp; Engneering Lovely Professional University</td>\n",
              "      <td>Higher Secondary, Mathematics, Physics, Chemistry, English, Hindi Scholar's Public Higher Secondary School</td>\n",
              "      <td>High School, Mathematics, Science, Social-Science, English, Hindi, Sanskrit Jesus Krist Model High School</td>\n",
              "      <td>Software Engineer 1 - Data Credit Saison India</td>\n",
              "      <td>Data Engineer DataGrokr</td>\n",
              "      <td>Data Engineer Intern DataGrokr</td>\n",
              "      <td>Technical Lead Student Research and Project Cell- DSW</td>\n",
              "      <td>Software Engineer 1 - Data</td>\n",
              "      <td>1</td>\n",
              "    </tr>\n",
              "    <tr>\n",
              "      <th>382</th>\n",
              "      <td>dilesha-kodithuwakku-a3b31115a</td>\n",
              "      <td>python Data Analysis Microsoft Office Teamwork Leadership Project Management Microsoft Excel R SPSS Strategic Planning</td>\n",
              "      <td>University of Colombo</td>\n",
              "      <td>Southlands college, Galle</td>\n",
              "      <td></td>\n",
              "      <td>Software Engineer Creative Software</td>\n",
              "      <td>Data Engineer - Internship Creative Software</td>\n",
              "      <td>Staff Assistant(trainee) People's Bank</td>\n",
              "      <td></td>\n",
              "      <td>Software Engineer</td>\n",
              "      <td>1</td>\n",
              "    </tr>\n",
              "    <tr>\n",
              "      <th>386</th>\n",
              "      <td>kasun-lakshitha-07103b13b</td>\n",
              "      <td>Java Git Data Engineering Big Data Analytics Data Analysis Teamwork Python Data Mining Statistics Data Visualization Data Science Data Analytics Logistic Regression Statistical Modeling Artificial Intelligence AI SAS Programming Statistical Computing Postman API Colab</td>\n",
              "      <td>B.Sc. , Applied Statistics University of Colombo</td>\n",
              "      <td></td>\n",
              "      <td></td>\n",
              "      <td>Software Engineer Creative Software</td>\n",
              "      <td>Data Science Intern Creative Software</td>\n",
              "      <td>Team Member AIESEC in Sri Lanka</td>\n",
              "      <td>Team Member AIESEC in Sri Lanka</td>\n",
              "      <td>Software Engineer</td>\n",
              "      <td>1</td>\n",
              "    </tr>\n",
              "    <tr>\n",
              "      <th>389</th>\n",
              "      <td>arshad-fauzil</td>\n",
              "      <td>Java JavaScript Python Programming Language SQL Machine Learning Public Speaking Data Mining Natural Language Processing NLP Artificial Neural Networks Pycharm jQuery Spring Boot RESTful WebServices MVC Compering Debating SPARQL Statistical Machine Translation</td>\n",
              "      <td>Bachelor of Science(Hons.), Information Technology University of Moratuwa</td>\n",
              "      <td>G.C.E A/L, Mathematics St. Peter's College Colombo</td>\n",
              "      <td>Currently at Skills Level ACCA</td>\n",
              "      <td>Software Engineer 99x</td>\n",
              "      <td>Software Development Intern IFS</td>\n",
              "      <td></td>\n",
              "      <td></td>\n",
              "      <td>Software Engineer</td>\n",
              "      <td>1</td>\n",
              "    </tr>\n",
              "    <tr>\n",
              "      <th>390</th>\n",
              "      <td>nelum-attanayake</td>\n",
              "      <td>Java JavaScript PHP MySQL Cascading Style Sheets CSS Bootstrap HTML Data Mining Artificial Neural Networks Image Processing Matlab C Android NET Framework ASPNET Spring MVC Jasper Reports NET Core</td>\n",
              "      <td>Bachelor's degree, Information Technology University of Moratuwa</td>\n",
              "      <td>Master's degree, Computer Science University of Peradeniya</td>\n",
              "      <td></td>\n",
              "      <td>Software Engineer DSP Controls</td>\n",
              "      <td>Software Engineering Intern Epitom Trinergy Pvt Ltd</td>\n",
              "      <td></td>\n",
              "      <td></td>\n",
              "      <td>Software Engineer</td>\n",
              "      <td>1</td>\n",
              "    </tr>\n",
              "    <tr>\n",
              "      <th>393</th>\n",
              "      <td>madurangajayasooriya</td>\n",
              "      <td>Java JavaScript Python Programming Language XML HTML Machine Learning Data Analysis Scala Microsoft Azure Microsoft Office C Data Science Research C Spring Boot Database Design PHP</td>\n",
              "      <td>Higher Education Qualification , Information Technology BCS, The Chartered Institute for IT</td>\n",
              "      <td>Bachelor's degree, Applied Statistics University of Colombo</td>\n",
              "      <td>Diploma, Computer Software Engineering Pearson College London</td>\n",
              "      <td>Software Engineer Creative Software</td>\n",
              "      <td>Data Scientist Creative Software</td>\n",
              "      <td></td>\n",
              "      <td></td>\n",
              "      <td>Software Engineer</td>\n",
              "      <td>1</td>\n",
              "    </tr>\n",
              "    <tr>\n",
              "      <th>394</th>\n",
              "      <td>shamilapathirana</td>\n",
              "      <td>JavaScript MySQL SQL Software Development Leadership Python Data Science Management Photoshop Marketing Computational Mathematics Ruby on Rails Economics Accounting Training Logic Programming</td>\n",
              "      <td>Bachelor of Science (Hons.), Information Technology University of Moratuwa</td>\n",
              "      <td>Mathematics Maliyadeva College</td>\n",
              "      <td></td>\n",
              "      <td>Software Engineer Vesess</td>\n",
              "      <td>Treasurer IT Faculty Student Union, University of Moratuwa</td>\n",
              "      <td>Software Engineering Intern Creative Software</td>\n",
              "      <td></td>\n",
              "      <td>Software Engineer</td>\n",
              "      <td>1</td>\n",
              "    </tr>\n",
              "    <tr>\n",
              "      <th>396</th>\n",
              "      <td>chaminda-bandara-645a7aa2</td>\n",
              "      <td>Java MySQL Linux HTML Data Engineering Microsoft Office Adobe Photoshop Arduino Apache Spark Apache Kafka Teaching JavaFX Apache Superset Apache Cassandra Apache Airflow Apache Flume Ansible Grafana MariaDB Jasper Reports Apache ZooKeeper Erlang</td>\n",
              "      <td>Bachelor of Science Honours in Computer Science [BSc Hons (Computer Science)], Computer Science University of Jaffna</td>\n",
              "      <td>Java standalone application developer Java Institute for Advanced Technology</td>\n",
              "      <td></td>\n",
              "      <td>Software Engineer Wavenet</td>\n",
              "      <td>Final Year Student University of Jaffna</td>\n",
              "      <td>Trainee Software Engineer Wavenet</td>\n",
              "      <td></td>\n",
              "      <td>Software Engineer</td>\n",
              "      <td>1</td>\n",
              "    </tr>\n",
              "    <tr>\n",
              "      <th>397</th>\n",
              "      <td>dinely-welleheawage-a70124169</td>\n",
              "      <td>Python Programming Language python Machine Learning Microsoft Office Teamwork Leadership Microsoft PowerPoint Deep Learning Data Science Mathematics Neural Networks Deep Neural Networks DNN Volunteering Robot Operating System ROS</td>\n",
              "      <td>Bachelor's degree, Electronic and Telecommunication Engineering University of Moratuwa</td>\n",
              "      <td>Advanced level examination, Physical stream Mahamaya girls' college</td>\n",
              "      <td></td>\n",
              "      <td>Software Engineer Xeptagon</td>\n",
              "      <td>Research Engineering Intern  Singapore University of Technology and Design (SUTD)</td>\n",
              "      <td></td>\n",
              "      <td></td>\n",
              "      <td>Software Engineer</td>\n",
              "      <td>1</td>\n",
              "    </tr>\n",
              "    <tr>\n",
              "      <th>399</th>\n",
              "      <td>thariya</td>\n",
              "      <td>Java JavaScript Python Programming Language MySQL Nodejs SQL Web Development Data Engineering Machine Learning Software Development Problem Solving Programming ObjectOriented Programming OOP Reactjs MongoDB Firebase Expressjs Data Mining Arduino Data Visualization Data Science Artificial Intelligence AI Analytical Skills Microsoft SQL Server Big Data Distributed Systems Amazon Web Services AWS...</td>\n",
              "      <td>Master's degree, Computer Science Specialising in Data Science Engineering and Analytics University of Moratuwa</td>\n",
              "      <td>B.Sc Special (Hons) – Information Technology Expected Graduation Date – Sep 2018 , Computer Software Engineering SLIIT</td>\n",
              "      <td>Advance Level , Mathematics Kalutara Vidyalaya National School</td>\n",
              "      <td>Software Engineer Calcey Technologies</td>\n",
              "      <td>Intern iTelaSoft</td>\n",
              "      <td></td>\n",
              "      <td></td>\n",
              "      <td>Software Engineer</td>\n",
              "      <td>1</td>\n",
              "    </tr>\n",
              "    <tr>\n",
              "      <th>403</th>\n",
              "      <td>kanishka-wijendra</td>\n",
              "      <td>Java JavaScript Python Programming Language MySQL HTML SQL Web Development Data Engineering Big Data Analytics Machine Learning Data Analysis Software Development Scala Databases Graphic Design Microsoft Office Adobe Photoshop Adobe Premiere Pro Leadership C Project Management MongoDB Deep Learning Natural Language Processing NLP Data Science Data Analytics Hadoop HBase R Minitab SPSS Manageme...</td>\n",
              "      <td>Master of Science - MS, Big Data Analytics Robert Gordon University</td>\n",
              "      <td>Bachelor of Science (B.Sc.) Statistics with computer science special degree, Physical Sciences University of Colombo</td>\n",
              "      <td>St. Peter's College Colombo</td>\n",
              "      <td>Senior Software Engineer LSEG Technology</td>\n",
              "      <td>Club Treasurer Lions Club of Colombo New Century Titans</td>\n",
              "      <td>Software Engineer LSEG Technology</td>\n",
              "      <td>Club Marketing Communications Chairperson Lions Club of Colombo New Century Titans</td>\n",
              "      <td>Senior Software Engineer</td>\n",
              "      <td>1</td>\n",
              "    </tr>\n",
              "    <tr>\n",
              "      <th>405</th>\n",
              "      <td>bhanuka-dissanayake</td>\n",
              "      <td>Java Python Programming Language PHP HTML Machine Learning Photography Graphic Design Programming ObjectOriented Programming OOP Reactjs MongoDB Python Arduino Natural Language Processing NLP ElasticSearch Agile Application Development Android Development Ionic Framework Spring Boot Microservices SQLite Jenkins Social Media Marketing JEE Application Development Cucumber Lightroom Travel Photog...</td>\n",
              "      <td>Computer Science and Engineering, Engineering University of Moratuwa</td>\n",
              "      <td>Physical Sciences Maliyadeva College</td>\n",
              "      <td></td>\n",
              "      <td>Software Engineer Enactor</td>\n",
              "      <td>Intern - Technology Virtusa</td>\n",
              "      <td>Web and Technology Moraspirit Initiative</td>\n",
              "      <td>Photographer Media club of University of Moratuwa</td>\n",
              "      <td>Software Engineer</td>\n",
              "      <td>1</td>\n",
              "    </tr>\n",
              "    <tr>\n",
              "      <th>409</th>\n",
              "      <td>tharushijayasekara</td>\n",
              "      <td>Java C Web Development Python Data Structures Algorithms Natural Language Processing NLP C German Competitive Programming</td>\n",
              "      <td>BSc Honours, Computer Science University of Colombo School of Computing</td>\n",
              "      <td>Combined Mathematics, Physics, Information &amp; Communication Technology Musaeus College, Colombo 07</td>\n",
              "      <td></td>\n",
              "      <td>Software Engineer WSO2</td>\n",
              "      <td>Outreachy Intern The Open Information Security Foundation</td>\n",
              "      <td>Software Engineering Intern WSO2</td>\n",
              "      <td></td>\n",
              "      <td>Software Engineer</td>\n",
              "      <td>1</td>\n",
              "    </tr>\n",
              "    <tr>\n",
              "      <th>412</th>\n",
              "      <td>susampathmadhusanka</td>\n",
              "      <td>Java JavaScript Python Programming Language PHP MySQL Cascading Style Sheets CSS AngularJS Nodejs SQL HTML C Programming Language C Reactjs Apache Spark Amazon Web Services AWS Android NET Framework AJAX Hibernate Azure Data Factory Azure Data Lake c PLSQL Neoj AWS Lambda c c Amazon Athena AWS Glue Azure Functions Enterprise Resource Planning ERP angular struts AWS Step Functions JavaEE Alfres...</td>\n",
              "      <td>Management Infromation Systems, Computer/Information Technology Administration and Management University College Dublin</td>\n",
              "      <td>Diploma &amp; Higher Diploma,  Computer System Design National Institute of Business Management</td>\n",
              "      <td></td>\n",
              "      <td>Senior Software Engineer Ceylon Solutions</td>\n",
              "      <td>Associate Data Engineer Ceylon Solutions</td>\n",
              "      <td>Software Engineer Ceylon Solutions</td>\n",
              "      <td>Software Engineer CICRA Solutions (Pvt) Ltd</td>\n",
              "      <td>Senior Software Engineer</td>\n",
              "      <td>1</td>\n",
              "    </tr>\n",
              "    <tr>\n",
              "      <th>415</th>\n",
              "      <td>mathangi-karunakaran-740b64111</td>\n",
              "      <td>Java JavaScript Python Programming Language PHP MySQL Cascading Style Sheets CSS SQL HTML Machine Learning Data Analysis Microsoft Office Adobe Photoshop Teamwork Leadership C Customer Service Data Mining Natural Language Processing NLP Analytical Skills Management Big Data Data Warehousing SQL Server Reporting Services SSRS Spring Boot Microservices SQL Server Integration Services SSIS SQL Se...</td>\n",
              "      <td>BSc Special (Hons) Degree - IT, Information Technology SLIIT</td>\n",
              "      <td>Combined Mathematics J/Vembadi Girls'​ High School</td>\n",
              "      <td></td>\n",
              "      <td>Software Engineer Virtusa</td>\n",
              "      <td>Developer Intern Fortunaglobal Private Limited</td>\n",
              "      <td></td>\n",
              "      <td></td>\n",
              "      <td>Software Engineer</td>\n",
              "      <td>1</td>\n",
              "    </tr>\n",
              "    <tr>\n",
              "      <th>417</th>\n",
              "      <td>akila-sugeeshwara-18057217b</td>\n",
              "      <td>JavaScript PHP MySQL Microsoft SQL Server Business Analysis C jQuery ASPNET</td>\n",
              "      <td>Bachelor of Information Technology (BIT), Information Technology University of Colombo School of Computing</td>\n",
              "      <td>St.Joseph's College, Colombo</td>\n",
              "      <td></td>\n",
              "      <td>Associate Software Engineer CloudPermits</td>\n",
              "      <td>Associate Software Engineer Peercore</td>\n",
              "      <td>Software Engineer Intern Peercore</td>\n",
              "      <td>MIS and Data Analytics  airtel</td>\n",
              "      <td>Associate Software Engineer</td>\n",
              "      <td>1</td>\n",
              "    </tr>\n",
              "    <tr>\n",
              "      <th>418</th>\n",
              "      <td>gagana-gamage</td>\n",
              "      <td>Java C JavaScript PHP MySQL Cascading Style Sheets CSS AngularJS Bootstrap Nodejs SQL Web Development HTML Data Analysis Microsoft Office Adobe Photoshop Teamwork Leadership ObjectOriented Programming OOP Angular Team Leadership Microsoft Power BI Microsoft SQL Server Shell Scripting C jQuery Joomla Ionic Framework GitHub Dreamweaver CodeIgniter Macromedia Flash UIKit</td>\n",
              "      <td>Physical Science Nalanda College Colombo</td>\n",
              "      <td>British Council Sri Lanka</td>\n",
              "      <td>AAT - Association of Accounting Technician JMC - Jayasekara Management Center, Sri  Lanka</td>\n",
              "      <td>Software Engineer RedBlocks Technologies</td>\n",
              "      <td>Trainee Software Developer OREL IT</td>\n",
              "      <td>Software Developer Intern OREL IT</td>\n",
              "      <td>Data Analyst MAS Holdings</td>\n",
              "      <td>Software Engineer</td>\n",
              "      <td>1</td>\n",
              "    </tr>\n",
              "    <tr>\n",
              "      <th>419</th>\n",
              "      <td>amanda-mahawatta-51816b201</td>\n",
              "      <td>Java C JavaScript MySQL Bootstrap HTML WordPress Problem Solving English C Reactjs Microsoft Excel Analytical Skills Microsoft SQL Server Communication Android Development Eclipse Visual Studio ASPNET Design css GitHub</td>\n",
              "      <td>BSc (Hons) in Information Technology , Software Engineering SLIIT</td>\n",
              "      <td>Diploma, English ESOFT Metro Campus</td>\n",
              "      <td></td>\n",
              "      <td>Trainee Software Engineer Data Capture Experts</td>\n",
              "      <td></td>\n",
              "      <td></td>\n",
              "      <td></td>\n",
              "      <td>Trainee Software Engineer</td>\n",
              "      <td>1</td>\n",
              "    </tr>\n",
              "    <tr>\n",
              "      <th>423</th>\n",
              "      <td>madhushika-jayasinghe</td>\n",
              "      <td>Java C JavaScript MySQL Machine Learning Programming Teamwork Leadership Python Data Structures Algorithms Data Mining Research ObjectiveC Communication Android Development OOP Spring Boot Blockchain Swift iOS Development Image Editing blockchain development iot</td>\n",
              "      <td>Master of Science - MS, Computer Science University of Moratuwa</td>\n",
              "      <td>Bachelor of Science (B.Sc.), Computer Science and Engineering University of moratuwa</td>\n",
              "      <td>Physical Sciences Stream Anuradhapura Central College, Anuradhapura, Sri Lanka.</td>\n",
              "      <td>Software Engineer Synergen Technology Labs (Pvt) Ltd</td>\n",
              "      <td>Student Member IEEE</td>\n",
              "      <td>Software Engineering Intern IronOne Technologies LLC</td>\n",
              "      <td>Trainer National Savings Bank</td>\n",
              "      <td>Software Engineer</td>\n",
              "      <td>1</td>\n",
              "    </tr>\n",
              "    <tr>\n",
              "      <th>425</th>\n",
              "      <td>rukshanrw</td>\n",
              "      <td>Java JavaScript Python Programming Language PHP MySQL Bootstrap SQL Machine Learning Data Analysis Programming Microsoft Office Teamwork Reactjs Deep Learning Python Arduino Data Science Image Processing Matlab Computer Vision Machine Learning Algorithms TensorFlow SolidWorks Ubuntu Keras LaTeX Pandas Software NumPy Embedded Systems Verilog VHDL ComputerAided Design CAD Music FieldProgrammable...</td>\n",
              "      <td>Bachelor of Science - BS, Electronic and Telecommunication Engineering University of Moratuwa</td>\n",
              "      <td>G.C.E. Advanced Level, Physical Sciences Maliyadeva College</td>\n",
              "      <td></td>\n",
              "      <td>Software Engineer Cut+Dry</td>\n",
              "      <td>Engineer - Data Science  MillenniumIT ESP</td>\n",
              "      <td>Research Assistant Nanyang Technological University</td>\n",
              "      <td></td>\n",
              "      <td>Software Engineer</td>\n",
              "      <td>1</td>\n",
              "    </tr>\n",
              "    <tr>\n",
              "      <th>426</th>\n",
              "      <td>asintha-prasanjana-448536143</td>\n",
              "      <td>SQL Visual Studio ASPNET MVC JSON Angular TypeScript SQL Server Management Studio Angular Material Jira Swagger API ASPNET Web API CNET NET Core Angular Command Line Interface CLI Entity Framework EF Core Repository Pattern DevExpress Stored Procedures Code first Database First approaches Dependency Injection Data Representation Sprints</td>\n",
              "      <td>Bachelor Of Science (Computing), Information Technology Curtin University</td>\n",
              "      <td>Diploma, Information Technology SLIIT</td>\n",
              "      <td>Associate member of British computer society ( AMBCS ), Information Technology BCS, The Chartered Institute for IT</td>\n",
              "      <td>Software Engineer Data Capture Experts</td>\n",
              "      <td>Software Developer (Fullstack) Onimta Information Technology (Pvt) Ltd</td>\n",
              "      <td></td>\n",
              "      <td></td>\n",
              "      <td>Software Engineer</td>\n",
              "      <td>1</td>\n",
              "    </tr>\n",
              "    <tr>\n",
              "      <th>430</th>\n",
              "      <td>anojan-yoganathan-5b7abb185</td>\n",
              "      <td>Java JavaScript Python Programming Language MySQL HTML Cascading Style Sheets CSS Nodejs Git WordPress Flutter Firebase Agile Methodologies Spring Boot GitHub Dart Bitbucket Blender php bootstrap</td>\n",
              "      <td>Diploma of Education, Information Technology University of Moratuwa</td>\n",
              "      <td></td>\n",
              "      <td></td>\n",
              "      <td>Software Engineer Intern Data Management Systems(Pvt)Ltd - Software Division</td>\n",
              "      <td></td>\n",
              "      <td></td>\n",
              "      <td></td>\n",
              "      <td>Software Engineer Intern</td>\n",
              "      <td>1</td>\n",
              "    </tr>\n",
              "    <tr>\n",
              "      <th>443</th>\n",
              "      <td>nimesh-buddhika-weerasinghe-8494a1109</td>\n",
              "      <td>JavaScript HTML Cascading Style Sheets CSS Bootstrap Nodejs Linux Machine Learning Data Analysis English Microsoft Office Leadership C Microsoft Excel Expressjs Algorithms Team Leadership Data Science Matlab RESTful WebServices GNU Octave Proteus Reduxjs Computer Networking Wireshark Kali Linux Redux Thunk Research Projects Nmap</td>\n",
              "      <td>Computer Engineering University of Sri Jayewardenepura</td>\n",
              "      <td>Dhammissara National College,  Naththandiya</td>\n",
              "      <td></td>\n",
              "      <td>Intern Software Engineer iLabs</td>\n",
              "      <td>Campus Ambassador STEMUp Educational Foundation</td>\n",
              "      <td>Cloud Skills Challenge - USJ Organizing Committee Leader Microsoft</td>\n",
              "      <td>project Member AIESEC Sri Lanka</td>\n",
              "      <td>Intern Software Engineer</td>\n",
              "      <td>1</td>\n",
              "    </tr>\n",
              "    <tr>\n",
              "      <th>447</th>\n",
              "      <td>abdul-muksith-19b35426</td>\n",
              "      <td>Java C JavaScript MySQL XML SQL Linux HTML Microsoft Word Databases Microsoft Office CSS C Microsoft Excel Customer Service PowerPoint Microsoft SQL Server ObjectiveC C OOP jQuery Visual Studio Photoshop ASPNET Object Oriented Design SQLite MVC Objective C IOS VFP Core Data</td>\n",
              "      <td>BSc in Information Technology, Computer Software Engineering Sri Lanka Institute of Information Technology</td>\n",
              "      <td>St. Thomas' College, Matara</td>\n",
              "      <td></td>\n",
              "      <td>Software Engineer BoardPAC Board Portal - Simple, Secure &amp; Sustainable Board Communications</td>\n",
              "      <td>Mobile Application Developer EDM Systems</td>\n",
              "      <td>Associate Content Expert Vcapture (Pvt) Ltd.</td>\n",
              "      <td></td>\n",
              "      <td>Software Engineer</td>\n",
              "      <td>1</td>\n",
              "    </tr>\n",
              "  </tbody>\n",
              "</table>\n",
              "</div>\n",
              "      <button class=\"colab-df-convert\" onclick=\"convertToInteractive('df-725704b6-c28b-45c9-8dc3-8cc581c24da8')\"\n",
              "              title=\"Convert this dataframe to an interactive table.\"\n",
              "              style=\"display:none;\">\n",
              "        \n",
              "  <svg xmlns=\"http://www.w3.org/2000/svg\" height=\"24px\"viewBox=\"0 0 24 24\"\n",
              "       width=\"24px\">\n",
              "    <path d=\"M0 0h24v24H0V0z\" fill=\"none\"/>\n",
              "    <path d=\"M18.56 5.44l.94 2.06.94-2.06 2.06-.94-2.06-.94-.94-2.06-.94 2.06-2.06.94zm-11 1L8.5 8.5l.94-2.06 2.06-.94-2.06-.94L8.5 2.5l-.94 2.06-2.06.94zm10 10l.94 2.06.94-2.06 2.06-.94-2.06-.94-.94-2.06-.94 2.06-2.06.94z\"/><path d=\"M17.41 7.96l-1.37-1.37c-.4-.4-.92-.59-1.43-.59-.52 0-1.04.2-1.43.59L10.3 9.45l-7.72 7.72c-.78.78-.78 2.05 0 2.83L4 21.41c.39.39.9.59 1.41.59.51 0 1.02-.2 1.41-.59l7.78-7.78 2.81-2.81c.8-.78.8-2.07 0-2.86zM5.41 20L4 18.59l7.72-7.72 1.47 1.35L5.41 20z\"/>\n",
              "  </svg>\n",
              "      </button>\n",
              "      \n",
              "  <style>\n",
              "    .colab-df-container {\n",
              "      display:flex;\n",
              "      flex-wrap:wrap;\n",
              "      gap: 12px;\n",
              "    }\n",
              "\n",
              "    .colab-df-convert {\n",
              "      background-color: #E8F0FE;\n",
              "      border: none;\n",
              "      border-radius: 50%;\n",
              "      cursor: pointer;\n",
              "      display: none;\n",
              "      fill: #1967D2;\n",
              "      height: 32px;\n",
              "      padding: 0 0 0 0;\n",
              "      width: 32px;\n",
              "    }\n",
              "\n",
              "    .colab-df-convert:hover {\n",
              "      background-color: #E2EBFA;\n",
              "      box-shadow: 0px 1px 2px rgba(60, 64, 67, 0.3), 0px 1px 3px 1px rgba(60, 64, 67, 0.15);\n",
              "      fill: #174EA6;\n",
              "    }\n",
              "\n",
              "    [theme=dark] .colab-df-convert {\n",
              "      background-color: #3B4455;\n",
              "      fill: #D2E3FC;\n",
              "    }\n",
              "\n",
              "    [theme=dark] .colab-df-convert:hover {\n",
              "      background-color: #434B5C;\n",
              "      box-shadow: 0px 1px 3px 1px rgba(0, 0, 0, 0.15);\n",
              "      filter: drop-shadow(0px 1px 2px rgba(0, 0, 0, 0.3));\n",
              "      fill: #FFFFFF;\n",
              "    }\n",
              "  </style>\n",
              "\n",
              "      <script>\n",
              "        const buttonEl =\n",
              "          document.querySelector('#df-725704b6-c28b-45c9-8dc3-8cc581c24da8 button.colab-df-convert');\n",
              "        buttonEl.style.display =\n",
              "          google.colab.kernel.accessAllowed ? 'block' : 'none';\n",
              "\n",
              "        async function convertToInteractive(key) {\n",
              "          const element = document.querySelector('#df-725704b6-c28b-45c9-8dc3-8cc581c24da8');\n",
              "          const dataTable =\n",
              "            await google.colab.kernel.invokeFunction('convertToInteractive',\n",
              "                                                     [key], {});\n",
              "          if (!dataTable) return;\n",
              "\n",
              "          const docLinkHtml = 'Like what you see? Visit the ' +\n",
              "            '<a target=\"_blank\" href=https://colab.research.google.com/notebooks/data_table.ipynb>data table notebook</a>'\n",
              "            + ' to learn more about interactive tables.';\n",
              "          element.innerHTML = '';\n",
              "          dataTable['output_type'] = 'display_data';\n",
              "          await google.colab.output.renderOutput(dataTable, element);\n",
              "          const docLink = document.createElement('div');\n",
              "          docLink.innerHTML = docLinkHtml;\n",
              "          element.appendChild(docLink);\n",
              "        }\n",
              "      </script>\n",
              "    </div>\n",
              "  </div>\n",
              "  "
            ],
            "text/plain": [
              "                                                 id  ... label\n",
              "30                                deema-wattegedara  ...     1\n",
              "39                      vinushan-selvaraj-49b329126  ...     1\n",
              "40                       thilina-ranaweera-68627473  ...     1\n",
              "43                            niranga-kandearachchi  ...     1\n",
              "58                              supunprabhathperera  ...     1\n",
              "94                                   akila-shashith  ...     1\n",
              "117                                 budhitha-perera  ...     1\n",
              "123                        nethmi-chethika-de-silva  ...     1\n",
              "126                            malitha-gunawardhana  ...     1\n",
              "134                      vindaya-fernando-063189184  ...     1\n",
              "141                                           s-s-r  ...     1\n",
              "149                  suneth-priyadarshana-329077183  ...     1\n",
              "184                                     sajith1995s  ...     1\n",
              "187                      sandun-madushanka-b77956b8  ...     1\n",
              "191                           sachini-epa-aaa347159  ...     1\n",
              "206                         ratnajothy-sangeethanan  ...     1\n",
              "208                      sachin-pathirana-465808137  ...     1\n",
              "212                              lakshan-gunarathna  ...     1\n",
              "221                       bimali-jayathri-44626a17b  ...     1\n",
              "222                                 sohaniwewelwala  ...     1\n",
              "227                               kavindathennakoon  ...     1\n",
              "229                                  amilakanchana0  ...     1\n",
              "230                     sanduni-abenayaka-068baa189  ...     1\n",
              "231                   mulitha-jayawardana-257b07164  ...     1\n",
              "232                   nimodi-madubhashini-ba072a118  ...     1\n",
              "234                      gagith-abeysekara-0297a05a  ...     1\n",
              "246                                 sadeeshanishara  ...     1\n",
              "250                                  pdweerasooriya  ...     1\n",
              "261                     oshada-munasinghe-4998a5151  ...     1\n",
              "267                            sathyajit-loganathan  ...     1\n",
              "270                    malithi-nawarathne-2a443b18b  ...     1\n",
              "279                                    venoligamage  ...     1\n",
              "289                       udara-madumalka-20a7a1168  ...     1\n",
              "296                      bimsara-hirushan-13b53a172  ...     1\n",
              "299                                       lakshanss  ...     1\n",
              "300  tharaka-hasantha-ranasingha-arachchi-343591200  ...     1\n",
              "317                                     madhushanie  ...     1\n",
              "324                      amila-jayasuriya-3677a0119  ...     1\n",
              "326                             leslie-rathnamalala  ...     1\n",
              "328                     kumudesh-kaneshan-125098142  ...     1\n",
              "329                        shehan-rangana-2ab69b137  ...     1\n",
              "334                    pasindu-rathnasiri-a6aa61163  ...     1\n",
              "335                                        yasiru96  ...     1\n",
              "336                       kavidi-kalpanie-4a9796191  ...     1\n",
              "377                       swapnil-gaikwad-50a225127  ...     1\n",
              "380                anantharajah-donoorkans-69019a88  ...     1\n",
              "381                              neelotpalsinghgour  ...     1\n",
              "382                  dilesha-kodithuwakku-a3b31115a  ...     1\n",
              "386                       kasun-lakshitha-07103b13b  ...     1\n",
              "389                                   arshad-fauzil  ...     1\n",
              "390                                nelum-attanayake  ...     1\n",
              "393                            madurangajayasooriya  ...     1\n",
              "394                                shamilapathirana  ...     1\n",
              "396                       chaminda-bandara-645a7aa2  ...     1\n",
              "397                   dinely-welleheawage-a70124169  ...     1\n",
              "399                                         thariya  ...     1\n",
              "403                               kanishka-wijendra  ...     1\n",
              "405                             bhanuka-dissanayake  ...     1\n",
              "409                              tharushijayasekara  ...     1\n",
              "412                             susampathmadhusanka  ...     1\n",
              "415                  mathangi-karunakaran-740b64111  ...     1\n",
              "417                     akila-sugeeshwara-18057217b  ...     1\n",
              "418                                   gagana-gamage  ...     1\n",
              "419                      amanda-mahawatta-51816b201  ...     1\n",
              "423                           madhushika-jayasinghe  ...     1\n",
              "425                                       rukshanrw  ...     1\n",
              "426                    asintha-prasanjana-448536143  ...     1\n",
              "430                     anojan-yoganathan-5b7abb185  ...     1\n",
              "443           nimesh-buddhika-weerasinghe-8494a1109  ...     1\n",
              "447                          abdul-muksith-19b35426  ...     1\n",
              "\n",
              "[70 rows x 11 columns]"
            ]
          },
          "metadata": {},
          "execution_count": 138
        }
      ]
    },
    {
      "cell_type": "code",
      "source": [
        ""
      ],
      "metadata": {
        "id": "ujNfGidyaTBY"
      },
      "execution_count": null,
      "outputs": []
    },
    {
      "cell_type": "code",
      "source": [
        "label12, other_labels12, label_name12, countpos12, countneg12 = check_Avalaiblity(SoftwareEng1,\"Data\")"
      ],
      "metadata": {
        "id": "SWYDMu8FYkg-"
      },
      "execution_count": 145,
      "outputs": []
    },
    {
      "cell_type": "code",
      "source": [
        "countpos12"
      ],
      "metadata": {
        "colab": {
          "base_uri": "https://localhost:8080/"
        },
        "id": "VsrEr7-lZsJ-",
        "outputId": "64d6823c-b484-4dd0-f504-a8ac38c52aa0"
      },
      "execution_count": 146,
      "outputs": [
        {
          "output_type": "execute_result",
          "data": {
            "text/plain": [
              "6"
            ]
          },
          "metadata": {},
          "execution_count": 146
        }
      ]
    },
    {
      "cell_type": "code",
      "source": [
        "label_name12"
      ],
      "metadata": {
        "colab": {
          "base_uri": "https://localhost:8080/"
        },
        "id": "lABQt2waZuad",
        "outputId": "e6be8578-c2a4-46cd-9c59-067e3d1d3087"
      },
      "execution_count": 147,
      "outputs": [
        {
          "output_type": "execute_result",
          "data": {
            "text/plain": [
              "['Software Engineer - Data',\n",
              " 'Senior Software Engineer (Data)',\n",
              " 'Software Engineer-  Analytics Engineer(Data Analytics)',\n",
              " 'Software Engineer - Data Analytics and Insights',\n",
              " 'Software Engineer  - BigData and Data science ',\n",
              " 'Software Engineer 1 - Data']"
            ]
          },
          "metadata": {},
          "execution_count": 147
        }
      ]
    },
    {
      "cell_type": "code",
      "source": [
        "SoftwareEng1['label']=label12"
      ],
      "metadata": {
        "colab": {
          "base_uri": "https://localhost:8080/"
        },
        "id": "H0awktwqZweu",
        "outputId": "167dda10-3e70-4ea4-f172-bde67bee1741"
      },
      "execution_count": 150,
      "outputs": [
        {
          "output_type": "stream",
          "name": "stderr",
          "text": [
            "/usr/local/lib/python3.7/dist-packages/ipykernel_launcher.py:1: SettingWithCopyWarning: \n",
            "A value is trying to be set on a copy of a slice from a DataFrame.\n",
            "Try using .loc[row_indexer,col_indexer] = value instead\n",
            "\n",
            "See the caveats in the documentation: https://pandas.pydata.org/pandas-docs/stable/user_guide/indexing.html#returning-a-view-versus-a-copy\n",
            "  \"\"\"Entry point for launching an IPython kernel.\n"
          ]
        }
      ]
    },
    {
      "cell_type": "code",
      "source": [
        "DataEng_Data2 = SoftwareEng1[SoftwareEng1['label']==1]"
      ],
      "metadata": {
        "id": "gXdojb4Fak32"
      },
      "execution_count": 151,
      "outputs": []
    },
    {
      "cell_type": "code",
      "source": [
        "# Data Engineer 2nd grop Dataset\n",
        "DataEng_Data2.shape"
      ],
      "metadata": {
        "colab": {
          "base_uri": "https://localhost:8080/"
        },
        "id": "CQnk0h1_a31F",
        "outputId": "3e774006-dd36-4e05-e658-817a24871b0d"
      },
      "execution_count": 161,
      "outputs": [
        {
          "output_type": "execute_result",
          "data": {
            "text/plain": [
              "(6, 11)"
            ]
          },
          "metadata": {},
          "execution_count": 161
        }
      ]
    },
    {
      "cell_type": "code",
      "source": [
        "SoftwareEngFull = SoftwareEng1[SoftwareEng1['label']==0]"
      ],
      "metadata": {
        "id": "JqiZUkMwa5a-"
      },
      "execution_count": 153,
      "outputs": []
    },
    {
      "cell_type": "code",
      "source": [
        "# Software Engineer\n",
        "SoftwareEngFull.shape"
      ],
      "metadata": {
        "colab": {
          "base_uri": "https://localhost:8080/"
        },
        "id": "x4KEoTNjbCW2",
        "outputId": "1dbc0cf7-56a9-4936-88d6-dbf65117093d"
      },
      "execution_count": 209,
      "outputs": [
        {
          "output_type": "execute_result",
          "data": {
            "text/plain": [
              "(64, 11)"
            ]
          },
          "metadata": {},
          "execution_count": 209
        }
      ]
    },
    {
      "cell_type": "code",
      "source": [
        "label13, other_labels13, label_name13, countpos13, countneg13 = check_Avalaiblity(DataEng_check5,\"Data\")"
      ],
      "metadata": {
        "id": "VcA7MYIabuZf"
      },
      "execution_count": 155,
      "outputs": []
    },
    {
      "cell_type": "code",
      "source": [
        "countpos13"
      ],
      "metadata": {
        "colab": {
          "base_uri": "https://localhost:8080/"
        },
        "id": "ZRVY524QbD3G",
        "outputId": "4bfbe3f5-8b90-46cc-a28a-d44c2cb6297e"
      },
      "execution_count": 156,
      "outputs": [
        {
          "output_type": "execute_result",
          "data": {
            "text/plain": [
              "33"
            ]
          },
          "metadata": {},
          "execution_count": 156
        }
      ]
    },
    {
      "cell_type": "code",
      "source": [
        "label_name13"
      ],
      "metadata": {
        "colab": {
          "base_uri": "https://localhost:8080/"
        },
        "id": "5UGNmwjzb2Vu",
        "outputId": "82d79d9c-e38d-4ce4-bda1-6d0ce45c7263"
      },
      "execution_count": 157,
      "outputs": [
        {
          "output_type": "execute_result",
          "data": {
            "text/plain": [
              "['Data Analytics Engineer',\n",
              " 'Platform Engineer - Data Analytics & Insights',\n",
              " 'Data Warehouse Engineer',\n",
              " 'Senior Data Service Engineer',\n",
              " 'Senior Engineer-Data Center',\n",
              " 'Senior Data Network Engineer',\n",
              " 'Data Warehouse Engineer',\n",
              " 'Engineer - BI/Data Analytics',\n",
              " 'Associate Data QA Engineer',\n",
              " 'Associate Data Warehouse Engineer',\n",
              " 'Engineer - Enterprise Data & Middleware',\n",
              " 'Data Warehouse Engineer',\n",
              " 'Senior Systems Engineer - Data Center',\n",
              " 'Data Center Support Engineer',\n",
              " 'Lead Engineer - Big Data',\n",
              " 'Engineer - Data Network Operations',\n",
              " 'Data Center Support Executive ',\n",
              " 'Engineer - Data Centers',\n",
              " 'Microsoft [Vendor] Support Engineer - Microsoft SQL Server Parallel Data Warehouse ',\n",
              " 'Systems Engineer - Enterprise Data & Middleware',\n",
              " 'Engineer Cloud System/ Data Center Operations',\n",
              " 'Senior Engineer - Enterprise Data and Middleware',\n",
              " 'Network & Data Center Engineer',\n",
              " 'Robotic Process Automation & Data Analytics Engineer',\n",
              " 'Systems Engineer - Data Center Solutions Team ',\n",
              " 'Associate Datacenter Operations Engineer',\n",
              " 'Engineer - Enterprise Data & Middleware',\n",
              " 'Associate Engineer - BI/ Data Analytics',\n",
              " 'Data & Analytics Engineer',\n",
              " 'Data Architect at LSEG Technology',\n",
              " 'Data Consultant',\n",
              " 'Data engineering Consultant',\n",
              " 'Staff Engineer - Big Data & AI']"
            ]
          },
          "metadata": {},
          "execution_count": 157
        }
      ]
    },
    {
      "cell_type": "code",
      "source": [
        "DataEng_check5['label']=label13"
      ],
      "metadata": {
        "colab": {
          "base_uri": "https://localhost:8080/"
        },
        "id": "P1WK7-h6cY6m",
        "outputId": "90aff986-3ad0-4e4f-d793-7da3e2f62c39"
      },
      "execution_count": 162,
      "outputs": [
        {
          "output_type": "stream",
          "name": "stderr",
          "text": [
            "/usr/local/lib/python3.7/dist-packages/ipykernel_launcher.py:1: SettingWithCopyWarning: \n",
            "A value is trying to be set on a copy of a slice from a DataFrame.\n",
            "Try using .loc[row_indexer,col_indexer] = value instead\n",
            "\n",
            "See the caveats in the documentation: https://pandas.pydata.org/pandas-docs/stable/user_guide/indexing.html#returning-a-view-versus-a-copy\n",
            "  \"\"\"Entry point for launching an IPython kernel.\n"
          ]
        }
      ]
    },
    {
      "cell_type": "code",
      "source": [
        "DataEng_Data3 = DataEng_check5[DataEng_check5['label']==1]"
      ],
      "metadata": {
        "id": "3y8l3lGfcooF"
      },
      "execution_count": 163,
      "outputs": []
    },
    {
      "cell_type": "code",
      "source": [
        "DataEng_Data3.shape"
      ],
      "metadata": {
        "colab": {
          "base_uri": "https://localhost:8080/"
        },
        "id": "VdoFP-MYcogO",
        "outputId": "38d6ef54-bc74-49f3-fa5b-4450677b6521"
      },
      "execution_count": 164,
      "outputs": [
        {
          "output_type": "execute_result",
          "data": {
            "text/plain": [
              "(33, 11)"
            ]
          },
          "metadata": {},
          "execution_count": 164
        }
      ]
    },
    {
      "cell_type": "code",
      "source": [
        "Data_DEng_Mid = pd.concat([DataEng_Data2,DataEng_Data3],ignore_index=True)"
      ],
      "metadata": {
        "id": "disd9pQwcoVX"
      },
      "execution_count": 165,
      "outputs": []
    },
    {
      "cell_type": "code",
      "source": [
        "Data_DEng_Mid.shape"
      ],
      "metadata": {
        "colab": {
          "base_uri": "https://localhost:8080/"
        },
        "id": "1V5OCXlRdHWF",
        "outputId": "d79a85c9-2a28-41c9-c1bd-f1401225b9d3"
      },
      "execution_count": 166,
      "outputs": [
        {
          "output_type": "execute_result",
          "data": {
            "text/plain": [
              "(39, 11)"
            ]
          },
          "metadata": {},
          "execution_count": 166
        }
      ]
    },
    {
      "cell_type": "code",
      "source": [
        "Data_DEng_Mid"
      ],
      "metadata": {
        "colab": {
          "base_uri": "https://localhost:8080/",
          "height": 1000
        },
        "id": "S95cGfVndJv9",
        "outputId": "ac12d3f4-a5cb-4742-d335-e41cc1b9a438"
      },
      "execution_count": 167,
      "outputs": [
        {
          "output_type": "execute_result",
          "data": {
            "text/html": [
              "\n",
              "  <div id=\"df-62e1e73e-883e-469c-a0b0-7b76be543a6c\">\n",
              "    <div class=\"colab-df-container\">\n",
              "      <div>\n",
              "<style scoped>\n",
              "    .dataframe tbody tr th:only-of-type {\n",
              "        vertical-align: middle;\n",
              "    }\n",
              "\n",
              "    .dataframe tbody tr th {\n",
              "        vertical-align: top;\n",
              "    }\n",
              "\n",
              "    .dataframe thead th {\n",
              "        text-align: right;\n",
              "    }\n",
              "</style>\n",
              "<table border=\"1\" class=\"dataframe\">\n",
              "  <thead>\n",
              "    <tr style=\"text-align: right;\">\n",
              "      <th></th>\n",
              "      <th>id</th>\n",
              "      <th>skills</th>\n",
              "      <th>edu_1</th>\n",
              "      <th>edu_2</th>\n",
              "      <th>edu_3</th>\n",
              "      <th>org_1</th>\n",
              "      <th>org_2</th>\n",
              "      <th>org_3</th>\n",
              "      <th>org_4</th>\n",
              "      <th>organization_title_1</th>\n",
              "      <th>label</th>\n",
              "    </tr>\n",
              "  </thead>\n",
              "  <tbody>\n",
              "    <tr>\n",
              "      <th>0</th>\n",
              "      <td>deema-wattegedara</td>\n",
              "      <td>Python Programming Language SQL Data Engineering Machine Learning Data Analysis Programming Microsoft Office Teamwork Leadership Arduino Matlab SolidWorks DevOps Digital Electronics Product Development Robotics Internet of Things IoT Research and Development RD OpenAPI Specification OAS Data Reporting</td>\n",
              "      <td>Master of Engineering - MEng, Electronics and Communications Engineering University of Wolverhampton</td>\n",
              "      <td>Mathematics Mahamaya Girls' College</td>\n",
              "      <td></td>\n",
              "      <td>Software Engineer - Data Wavenet</td>\n",
              "      <td>Research Fellowship MAS Holdings</td>\n",
              "      <td>R&amp;D Engineering Trainee OREL Corporation</td>\n",
              "      <td></td>\n",
              "      <td>Software Engineer - Data</td>\n",
              "      <td>1</td>\n",
              "    </tr>\n",
              "    <tr>\n",
              "      <th>1</th>\n",
              "      <td>vinushan-selvaraj-49b329126</td>\n",
              "      <td>Python Programming Language MySQL SQL Linux Data Engineering Machine Learning Data Analysis Software Development Programming Microsoft Office C ObjectOriented Programming OOP Deep Learning Data Structures Algorithms Natural Language Processing NLP Data Visualization Data Science Predictive Modeling Artificial Intelligence AI Microsoft Power BI DevOps Docker Products Big Data Data Modeling Data...</td>\n",
              "      <td>Bachelor of Technology (B.Tech.), Electronics and Communications Engineering National Institute of Technology Warangal</td>\n",
              "      <td>High school, Science Green Park Matric. Hr. Sec. School - India</td>\n",
              "      <td>Middle School Green Park Matric. Hr. Sec. School - India</td>\n",
              "      <td>Senior Software Engineer (Data) hSenid Mobile Solutions (Pvt) Ltd</td>\n",
              "      <td>Software Engineer (Data) hSenid Mobile Solutions (Pvt) Ltd</td>\n",
              "      <td>Manager (Executive 2) Reliance Industries Limited</td>\n",
              "      <td>Graduate Engineering Trainee Reliance Industries Limited</td>\n",
              "      <td>Senior Software Engineer (Data)</td>\n",
              "      <td>1</td>\n",
              "    </tr>\n",
              "    <tr>\n",
              "      <th>2</th>\n",
              "      <td>thilina-ranaweera-68627473</td>\n",
              "      <td>Java C JavaScript MySQL HTML Cascading Style Sheets CSS SQL Web Development HTML Microsoft Word Machine Learning Software Development Programming Microsoft Office java Teamwork Leadership Public Speaking C Project Management Microsoft Excel Microsoft PowerPoint Customer Service Python Data Analytics ElasticSearch PowerPoint R Artificial Neural Networks Research Management Microsoft Power BI Mi...</td>\n",
              "      <td>Bachelor of Science (BSc), Computer Software Engineering SLIIT</td>\n",
              "      <td></td>\n",
              "      <td></td>\n",
              "      <td>Software Engineer-  Analytics Engineer(Data Analytics) Wiley</td>\n",
              "      <td>Software Engineer London Stock Exchange Group (LSEG)</td>\n",
              "      <td>Software Engineering Trainee 99X Technology</td>\n",
              "      <td></td>\n",
              "      <td>Software Engineer-  Analytics Engineer(Data Analytics)</td>\n",
              "      <td>1</td>\n",
              "    </tr>\n",
              "    <tr>\n",
              "      <th>3</th>\n",
              "      <td>akila-shashith</td>\n",
              "      <td>SQL Machine Learning English Python Statistics R Statistical Data Analysis Microsoft SQL Server Power BI C ASPNET MVC Apache Airflow SharePoint</td>\n",
              "      <td>Bachelor’s Degree, Information Technology SLIIT</td>\n",
              "      <td>Richmond College</td>\n",
              "      <td></td>\n",
              "      <td>Software Engineer - Data Analytics and Insights Wiley Global Technology (Private) Limited</td>\n",
              "      <td>Data Analyst Veracity AI</td>\n",
              "      <td>Software Engineer IVA Technology</td>\n",
              "      <td>Software Engineer Virtusa</td>\n",
              "      <td>Software Engineer - Data Analytics and Insights</td>\n",
              "      <td>1</td>\n",
              "    </tr>\n",
              "    <tr>\n",
              "      <th>4</th>\n",
              "      <td>nethmi-chethika-de-silva</td>\n",
              "      <td>Java MySQL python Data Analysis Microsoft Office Teamwork Statistics R Statistical Data Analysis Statistical Modeling Matlab Minitab SPSS Mathematics Mathematical Modeling Survey Design TORA Mathematical Programming Computational Mathematics Statistical Programming Multivariate Statistics Interpersonal Skills Academic Writing</td>\n",
              "      <td>B.Sc. in Industrial Statistics and Mathematical Finance, Mathematics and Statistics University of Colombo</td>\n",
              "      <td>C.W.W.Kannangara Central College, Matugama, Srilanka</td>\n",
              "      <td>The Chartered Institute of Management Accountants</td>\n",
              "      <td>Software Engineer  - BigData and Data science  Zone24x7</td>\n",
              "      <td>Associate Software Engineer - BigData and Data Science  Zone24x7</td>\n",
              "      <td>Data Analyst ReapDigital</td>\n",
              "      <td></td>\n",
              "      <td>Software Engineer  - BigData and Data science</td>\n",
              "      <td>1</td>\n",
              "    </tr>\n",
              "    <tr>\n",
              "      <th>5</th>\n",
              "      <td>neelotpalsinghgour</td>\n",
              "      <td>Python Programming Language SQL Microsoft Word C Programming Language C Microsoft Excel Microsoft PowerPoint Python R Tableau Extract Transform Load ETL Amazon Web Services AWS Amazon EC Amazon S Database Management System DBMS Raspberry Pi Internet of Things AWS Lambda AWS Glue Amazon Elastic MapReduce EMR Amazon SQS Amazon VPC AWS CloudFormation AWS Step Functions Amazon Relational Database ...</td>\n",
              "      <td>Bachelor of Technology (B.Tech), Computer Science &amp; Engneering Lovely Professional University</td>\n",
              "      <td>Higher Secondary, Mathematics, Physics, Chemistry, English, Hindi Scholar's Public Higher Secondary School</td>\n",
              "      <td>High School, Mathematics, Science, Social-Science, English, Hindi, Sanskrit Jesus Krist Model High School</td>\n",
              "      <td>Software Engineer 1 - Data Credit Saison India</td>\n",
              "      <td>Data Engineer DataGrokr</td>\n",
              "      <td>Data Engineer Intern DataGrokr</td>\n",
              "      <td>Technical Lead Student Research and Project Cell- DSW</td>\n",
              "      <td>Software Engineer 1 - Data</td>\n",
              "      <td>1</td>\n",
              "    </tr>\n",
              "    <tr>\n",
              "      <th>6</th>\n",
              "      <td>charith-de-mel-35216336</td>\n",
              "      <td>XML SQL Machine Learning Data Analysis Problem Solving Microsoft Office Microsoft Excel Microsoft PowerPoint Python Data Mining Statistics Data Visualization PowerPoint Statistical Data Analysis Statistical Modeling Minitab Microsoft SQL Server Mathematics Mathematical Modeling Operations Research Business Intelligence BI Power BI Visual Studio Simulations Azure Data Factory SQL Azure Weka SQL...</td>\n",
              "      <td>Bachelor of Science (BSc), Statistics and Operations Research University of Peradeniya</td>\n",
              "      <td>MSc in Computer Science, Data Science University of Moratuwa</td>\n",
              "      <td></td>\n",
              "      <td>Data Analytics Engineer Wiley</td>\n",
              "      <td>Business Application Consultant - Data Analytics  MAS Fabrics Pvt Ltd</td>\n",
              "      <td>Executive – Lean Enterprise Noyon Lanka Pvt Ltd ( MAS Fabrics )</td>\n",
              "      <td></td>\n",
              "      <td>Data Analytics Engineer</td>\n",
              "      <td>1</td>\n",
              "    </tr>\n",
              "    <tr>\n",
              "      <th>7</th>\n",
              "      <td>eric-xavier-0653241a</td>\n",
              "      <td>Python Programming Language SQL Data Engineering Big Data Analytics Machine Learning Data Analysis Microsoft Azure Leadership Team Leadership Data Visualization Data Analytics PowerPoint R Tableau Analytical Skills Microsoft Power BI Business Analysis Apache Spark Business Intelligence BI Big Data Cloud Computing Cloud Development Data Warehousing Communication Business Intelligence Tools Micr...</td>\n",
              "      <td>MSc, Business Analytics Robert Gordon University</td>\n",
              "      <td>Bachelor of computer application, Information Technology Periyar University</td>\n",
              "      <td>A/L St Henry’s College Jaffna</td>\n",
              "      <td>Platform Engineer - Data Analytics &amp; Insights Wiley</td>\n",
              "      <td>Business Intelligence Developer D Tech</td>\n",
              "      <td>IT Executive  Atlas Axillia</td>\n",
              "      <td>GIS Mappper Total Management Solutions</td>\n",
              "      <td>Platform Engineer - Data Analytics &amp; Insights</td>\n",
              "      <td>1</td>\n",
              "    </tr>\n",
              "    <tr>\n",
              "      <th>8</th>\n",
              "      <td>eesara-bojitha-87273773</td>\n",
              "      <td>Java C JavaScript PHP MySQL XML SQL Linux HTML Microsoft Word Data Analysis English Programming Microsoft Office CSS Teamwork C Microsoft Excel Team Leadership PowerPoint Microsoft SQL Server Business Analysis Business Intelligence BI Oracle SQL Developer Extract Transform Load ETL Data Warehousing Software Engineering C OOP Windows Visual Studio OBIEE ASPNET Oracle Database Database Design PL...</td>\n",
              "      <td>Bachelor of Science (BSc), Management Information System University College Dublin</td>\n",
              "      <td>Higher Diploma In Computer Based System Design, Diploma In Computer System Design National Institute Of Business Management</td>\n",
              "      <td>G.C.E Advance Level Examination, Business/Commerce, General Prince Of Wales College Moratuwa</td>\n",
              "      <td>Data Warehouse Engineer Sampath Information Technology Solution Ltd. (A Member of Sampath Bank Group)</td>\n",
              "      <td>Associate Datawarehouse Engineer Sampath Information Technology Solution Ltd. (A Member of Sampath Bank Group)</td>\n",
              "      <td>IT Intern Sampath Bank</td>\n",
              "      <td></td>\n",
              "      <td>Data Warehouse Engineer</td>\n",
              "      <td>1</td>\n",
              "    </tr>\n",
              "    <tr>\n",
              "      <th>9</th>\n",
              "      <td>charitha-gamage-36449987</td>\n",
              "      <td>Java C JavaScript MySQL Cascading Style Sheets CSS SQL Linux HTML Data Analysis Microsoft Azure Programming Microsoft Office CSS C Microsoft SQL Server Oracle SQL Developer Power BI Extract Transform Load ETL Data Modeling Shell Scripting ETL Tools Data Warehousing C Windows Visual Studio Ionic Framework Business Intelligence SQL Server Reporting Services SSRS ASPNET Azure Data Factory Oracle ...</td>\n",
              "      <td>Bachelor’s Degree, Information Technology SLIIT</td>\n",
              "      <td>Mathematics Rahula College</td>\n",
              "      <td></td>\n",
              "      <td>Senior Data Service Engineer IFS</td>\n",
              "      <td>Associate Consultant - Technology Virtusa</td>\n",
              "      <td>Engineer - Technology Virtusa</td>\n",
              "      <td></td>\n",
              "      <td>Senior Data Service Engineer</td>\n",
              "      <td>1</td>\n",
              "    </tr>\n",
              "    <tr>\n",
              "      <th>10</th>\n",
              "      <td>tharindu-liyanagunawardana</td>\n",
              "      <td>Project Management Team Leadership Team Management Network Security Networking Network Administration Firewalls Network Design Windows Server Cisco Systems Products</td>\n",
              "      <td>National Vocational Qualification, Network and System Administration/Administrator Vocational Training Authority</td>\n",
              "      <td>Diploma in Computer Hardware and Network Technology, Network and System Administration/Administrator IDM Nation Campus</td>\n",
              "      <td>Higher National Diploma, Computer Networking Eduvos</td>\n",
              "      <td>Senior Engineer-Data Center LOLC Technologies Limited</td>\n",
              "      <td>Systems Engineer LOLC Technologies Limited</td>\n",
              "      <td>System Engineer DSI Samson Group - Sri Lanka</td>\n",
              "      <td>Associate System Engineer DSI Samson Group - Sri Lanka</td>\n",
              "      <td>Senior Engineer-Data Center</td>\n",
              "      <td>1</td>\n",
              "    </tr>\n",
              "    <tr>\n",
              "      <th>11</th>\n",
              "      <td>gokulan-gajendran-3b1154b1</td>\n",
              "      <td>Editing Microsoft Office Networking Information Technology Social Media Music Computer Networking Social Media Marketing Social Networking Singing Music Production</td>\n",
              "      <td>Bachelor's degree, Computer Science Wrexham Glyndŵr University</td>\n",
              "      <td>High School Diploma, Ethical Hacking APTECH Computer Education</td>\n",
              "      <td></td>\n",
              "      <td>Senior Data Network Engineer HCL Technologies</td>\n",
              "      <td>Assistant IT Manager Oasis International School</td>\n",
              "      <td>IT Executive Fairway Colombo</td>\n",
              "      <td>IT Technician Ceylon Newspapers (Pvt) Ltd</td>\n",
              "      <td>Senior Data Network Engineer</td>\n",
              "      <td>1</td>\n",
              "    </tr>\n",
              "    <tr>\n",
              "      <th>12</th>\n",
              "      <td>piratheepan-nadarajah</td>\n",
              "      <td>MySQL SQL WordPress C Programming Language Microsoft Office MongoDB Hadoop Hive HBase C NET Framework ASPNET MVC ASPNET ASPNET Core</td>\n",
              "      <td>Master of Science , Business Analytics and Data Analytics INFORMATICS INSTITUTE OF INFORMATION TECHNOLOGY PRIVATE LIMITED</td>\n",
              "      <td>Higher Education Qualification, Information Technology BCS, The Chartered Institute for IT</td>\n",
              "      <td>Bachelor of Science - BSc Uva Wellassa University of Sri Lanka</td>\n",
              "      <td>Data Warehouse Engineer Mitra Innovation</td>\n",
              "      <td>Associate Software Engineer Techcube Ltd</td>\n",
              "      <td>Trainee Software Engineer SenzMate IoT Intelligence</td>\n",
              "      <td></td>\n",
              "      <td>Data Warehouse Engineer</td>\n",
              "      <td>1</td>\n",
              "    </tr>\n",
              "    <tr>\n",
              "      <th>13</th>\n",
              "      <td>madura-wanasingha-a1987559</td>\n",
              "      <td>Data Analysis Databases Microsoft Power BI Data Warehousing SQL Server Reporting Services SSRS ASPNET SQL Server Integration Services SSIS TransactSQL TSQL TSQL Stored Procedures</td>\n",
              "      <td>Bachelor of Science (BSc), Computer Science University College Dublin</td>\n",
              "      <td></td>\n",
              "      <td></td>\n",
              "      <td>Engineer - BI/Data Analytics Octopus BI - Sri Lanka</td>\n",
              "      <td>Software Engineer - Data Warehouse  Cargills Ceylon PLC</td>\n",
              "      <td>IT Executive Associate Swadeshi Industrial Work PLC</td>\n",
              "      <td>Associate Software Engineer Sanje</td>\n",
              "      <td>Engineer - BI/Data Analytics</td>\n",
              "      <td>1</td>\n",
              "    </tr>\n",
              "    <tr>\n",
              "      <th>14</th>\n",
              "      <td>imesha-i</td>\n",
              "      <td>Java Microsoft Word C Programming Language Programming Microsoft Office Teamwork Project Management Microsoft PowerPoint Python Arduino Image Processing Matlab Analytical Skills Research Mathematics Programmable Logic Controller PLC PLC Programming MATLAB Writing Microcontrollers Simulink FieldProgrammable Gate Arrays FPGA Microsoft Project Technical Writing Volunteering                       ...</td>\n",
              "      <td>Bachelor's degree, Electrical and Electronics Engineering SLIIT</td>\n",
              "      <td>Visakha Vidyalaya, Colombo 05</td>\n",
              "      <td></td>\n",
              "      <td>Associate Data QA Engineer Ceylon Solutions</td>\n",
              "      <td>Associate Pre-Sales Engineer Wavenet</td>\n",
              "      <td>Engineering Intern Mobitel (Pvt) Ltd</td>\n",
              "      <td>Intern JAT Technologies (Pvt) Ltd</td>\n",
              "      <td>Associate Data QA Engineer</td>\n",
              "      <td>1</td>\n",
              "    </tr>\n",
              "    <tr>\n",
              "      <th>15</th>\n",
              "      <td>damith-bandara-30421a146</td>\n",
              "      <td>MySQL Web Development HTML WordPress Photography Programming Microsoft Office CSS Project Management Microsoft Excel Team Management Microsoft SQL Server C Oracle Database PLSQL QuickBooks Dropshipper</td>\n",
              "      <td>Bachelor of Science - BSc, Business Information Systems University of Sri Jayewardenepura</td>\n",
              "      <td>Professional , Web Developing Open University of Sri Lanka</td>\n",
              "      <td>Vidyadarsha Central College Nochchiyagama</td>\n",
              "      <td>Associate Data Warehouse Engineer Sampath Information Technology Solution Ltd. (A fully owned subsidiary of Sampath Bank PLC)</td>\n",
              "      <td>Internship Trainee Sampath Bank</td>\n",
              "      <td>Data Entry Operator Ashok Furnishing(PVT) LTD.</td>\n",
              "      <td></td>\n",
              "      <td>Associate Data Warehouse Engineer</td>\n",
              "      <td>1</td>\n",
              "    </tr>\n",
              "    <tr>\n",
              "      <th>16</th>\n",
              "      <td>hasitha-amarasiri-b0203415b</td>\n",
              "      <td>Cassandra Continuous Integration and Continuous Delivery CICD Oracle Database Administration Oracle RAC Oracle ASM mongoDB administration</td>\n",
              "      <td>Master of Science - MS, Computer Science, [Specialized in Data Science, Engineering and Analytics] University of Moratuwa</td>\n",
              "      <td>Bachelor of Engineering, Electrical and information Engineering University of Ruhuna</td>\n",
              "      <td></td>\n",
              "      <td>Engineer - Enterprise Data &amp; Middleware MillenniumIT ESP</td>\n",
              "      <td>Oracle Database Administrator Pearson Lanka</td>\n",
              "      <td></td>\n",
              "      <td></td>\n",
              "      <td>Engineer - Enterprise Data &amp; Middleware</td>\n",
              "      <td>1</td>\n",
              "    </tr>\n",
              "    <tr>\n",
              "      <th>17</th>\n",
              "      <td>tharindu-buddhika-64513a141</td>\n",
              "      <td>Java Python Programming Language MySQL SQL HTML Microsoft Word Machine Learning Microsoft Azure Microsoft Office java Microsoft PowerPoint BackEnd Web Development Team Management Microsoft Power BI Microsoft SQL Server Google Cloud Platform GCP Business Intelligence BI Amazon Web Services AWS Data Warehousing Android Development SQL Server Reporting Services SSRS Azure Data Factory SQL Azure S...</td>\n",
              "      <td>Bachelor of Engineering (B.Eng.), Computer Software Engineering University of Westminster</td>\n",
              "      <td></td>\n",
              "      <td></td>\n",
              "      <td>Data Warehouse Engineer Mitra Innovation</td>\n",
              "      <td>Data Warehouse Engineer Virtusa</td>\n",
              "      <td>Software and Web Developer RevPortX</td>\n",
              "      <td>Co-Founder CoffeeVibes</td>\n",
              "      <td>Data Warehouse Engineer</td>\n",
              "      <td>1</td>\n",
              "    </tr>\n",
              "    <tr>\n",
              "      <th>18</th>\n",
              "      <td>hashanrubenthra</td>\n",
              "      <td>Linux Microsoft Azure Microsoft Office Database Administration Information Technology Network Administration Firewalls Troubleshooting AWS Office Windows Server Computer Hardware Reporting ITIL IT Security Domain Name System DNS VoIP Vulnerability Assessment VMware Infrastructure ISOIEC Helpdesk Support Monitoring Data Center Management Email Administration Server Management Web Hosting Backup...</td>\n",
              "      <td>Bachelor of Science (B.Sc.), Information Technology SLIIT</td>\n",
              "      <td>St. Benedict's College, Colombo-13</td>\n",
              "      <td></td>\n",
              "      <td>Senior Systems Engineer - Data Center Eureka Technology Partners</td>\n",
              "      <td>System Administrator - Data Center Eureka Technology Partners</td>\n",
              "      <td>System Support Specialist - Data Center Eureka Technology Partners</td>\n",
              "      <td></td>\n",
              "      <td>Senior Systems Engineer - Data Center</td>\n",
              "      <td>1</td>\n",
              "    </tr>\n",
              "    <tr>\n",
              "      <th>19</th>\n",
              "      <td>krishan-nandakumara</td>\n",
              "      <td>Customer Service Team Leadership Team Management Networking JavaSE Troubleshooting Windows Server Reporting Analysis Computer Hardware Windows DHCP Technical Support Windows XP VMware vSphere Support Engineers ServiceLevel Agreements SLA Data Center</td>\n",
              "      <td>JavaSE, Computer Programming University of Colombo School of Computing</td>\n",
              "      <td>Prince of Wales' College</td>\n",
              "      <td>S.De.S Jayasinghe College,Dehiwala</td>\n",
              "      <td>Data Center Support Engineer N-Able Private Limited</td>\n",
              "      <td>Helpdesk Executive N-Able Private Limited</td>\n",
              "      <td>IT Support Executive HelloCorp (Pvt.) Ltd.</td>\n",
              "      <td></td>\n",
              "      <td>Data Center Support Engineer</td>\n",
              "      <td>1</td>\n",
              "    </tr>\n",
              "    <tr>\n",
              "      <th>20</th>\n",
              "      <td>ashen-jayasinghe</td>\n",
              "      <td>Java JavaScript MySQL AngularJS Git Data Engineering Scala Problem Solving Reactjs MongoDB BackEnd Web Development Python Apache Spark Big Data Amazon Web Services AWS Apache Spark Streaming Apache Kafka Spring Framework Kubernetes Docker Microservices JBoss Application Server Apache Airflow Presto Ethereum ReactJS Apache NiFi NodeJs RESTful web services Camunda BPM Elastic Search Apache Hadoo...</td>\n",
              "      <td>Bachelor of Science (Bsc), Computer Software Engineering SLIIT</td>\n",
              "      <td>Kingswood College Kandy</td>\n",
              "      <td></td>\n",
              "      <td>Lead Engineer - Big Data Digital Micro Services</td>\n",
              "      <td>Software Engineer - Java Digital Micro Services</td>\n",
              "      <td>Software Engineer Intern Digital Micro Services</td>\n",
              "      <td></td>\n",
              "      <td>Lead Engineer - Big Data</td>\n",
              "      <td>1</td>\n",
              "    </tr>\n",
              "    <tr>\n",
              "      <th>21</th>\n",
              "      <td>sahan-ranatunga-9b31816b</td>\n",
              "      <td>C Python Programming Language Machine Learning Programming C Deep Learning Data Science Matlab TensorFlow Telecommunications Microcontrollers Digital Signal Processing RF Antennas Spectrum Analyzer Network Analyzer PCB design Power Electronics Radio Frequency RF Cisco Routers Routing Protocols RF Theory Measurements and Equipments Power Electronic Devices FPGA Data communication               ...</td>\n",
              "      <td>BSc. Eng, Telecommunication, Electronics and Computer Engineering The Institution of Engineers, Sri Lanka</td>\n",
              "      <td>St. Peters College, Colombo 04</td>\n",
              "      <td></td>\n",
              "      <td>Engineer - Data Network Operations Sri Lanka Telecom</td>\n",
              "      <td>Engineer Arthur C Clarke Institute for Modern Technologies (ACCIMT)</td>\n",
              "      <td>Lecturer &amp; Practical Demonstrator Arthur C Clarke Institute for Modern Technologies (ACCIMT)</td>\n",
              "      <td>Trainee Sri Lanka Telecom Ltd.</td>\n",
              "      <td>Engineer - Data Network Operations</td>\n",
              "      <td>1</td>\n",
              "    </tr>\n",
              "    <tr>\n",
              "      <th>22</th>\n",
              "      <td>dilan-ranasinghe-676661125</td>\n",
              "      <td>Graphic Design Microsoft Office Networking Windows Network Administration Computer Hardware Windows System Administration</td>\n",
              "      <td>Degree , Computing Wrexham Glyndŵr University</td>\n",
              "      <td>Information Communication Technology Technician  , Information Technology National Apprentice and Industrial Training Authority</td>\n",
              "      <td>Computer Hardware Technology/Technician Vocational Training Center Dehiwala</td>\n",
              "      <td>Data Center Support Executive  N-Able Private Limited</td>\n",
              "      <td>IT Assistant Ceyoka pvt Ltd.</td>\n",
              "      <td>Computer trainee Ministry of sport</td>\n",
              "      <td></td>\n",
              "      <td>Data Center Support Executive</td>\n",
              "      <td>1</td>\n",
              "    </tr>\n",
              "    <tr>\n",
              "      <th>23</th>\n",
              "      <td>kasun-de-silva-19023619</td>\n",
              "      <td>Java C Linux HTML Microsoft Word Microsoft Office Teamwork C Microsoft Excel Customer Service PowerPoint Matlab Networking Windows Network Administration Network Design Computer Hardware Presales TCPIP</td>\n",
              "      <td>Master of Science - MS, Network &amp; Information Security Kingston University</td>\n",
              "      <td>Sri Lanka Institute Of Information Technology</td>\n",
              "      <td></td>\n",
              "      <td>Engineer - Data Centers Fentons Limited</td>\n",
              "      <td>Senior System Engineer MicroSolutions Information Systems (Pvt.) Ltd.</td>\n",
              "      <td>Systems Engineer MicroSolutions Information Systems (Pvt.) Ltd.</td>\n",
              "      <td>Trainee Systems Engineer Lanka Bell</td>\n",
              "      <td>Engineer - Data Centers</td>\n",
              "      <td>1</td>\n",
              "    </tr>\n",
              "    <tr>\n",
              "      <th>24</th>\n",
              "      <td>nishitha-karunaratne-6368b878</td>\n",
              "      <td>Teamwork Team Leadership Team Management Crossfunctional Team Leadership Focused on Understanding the User needs Giving Solution to Solve problems Implement the Product Quality Increase the Productivity in the work place</td>\n",
              "      <td>Master's degree, Project Management Birmingham City University</td>\n",
              "      <td>Advanced Diploma , Information Technology SLIIT</td>\n",
              "      <td>Business/Commerce, General D. S. Senanayake College</td>\n",
              "      <td>Microsoft [Vendor] Support Engineer - Microsoft SQL Server Parallel Data Warehouse  Microsoft</td>\n",
              "      <td>Managed Services Engineer Creative Software</td>\n",
              "      <td>Application Support Engineer Duo World Inc.</td>\n",
              "      <td>Onsite Support Engineer  DEN Networks Limited</td>\n",
              "      <td>Microsoft [Vendor] Support Engineer - Microsoft SQL Server Parallel Data Warehouse</td>\n",
              "      <td>1</td>\n",
              "    </tr>\n",
              "    <tr>\n",
              "      <th>25</th>\n",
              "      <td>sadeepadiluk</td>\n",
              "      <td>Java C JavaScript PHP MySQL HTML Cascading Style Sheets CSS XML Nodejs SQL Web Development Linux HTML Machine Learning Software Development Photography Programming CSS Adobe Photoshop Leadership C Python Hadoop R Microsoft SQL Server Oracle SQL Developer Database Administration Software Engineering C Eclipse Visual Studio NET Framework Photoshop ASPNET Web Design Oracle Database JBoss Applicat...</td>\n",
              "      <td>Bachelor’s Degree, BSc (Hons) Software Engineering National school of business management (NSBM)</td>\n",
              "      <td>Advanced Certificate in Human Resource Management, Human Resources Management and Services National Institute of Business management (NIBM)</td>\n",
              "      <td>High School, Combined Mathamatics Taxila Central College</td>\n",
              "      <td>Systems Engineer - Enterprise Data &amp; Middleware MillenniumIT ESP</td>\n",
              "      <td>Web and Graphic Designer  Freelance</td>\n",
              "      <td>Chief District Coordinator - Information Technology Leo District 306 A2, Sri Lanka</td>\n",
              "      <td>Director Of Information Technology Leo District 306 A2, Sri Lanka</td>\n",
              "      <td>Systems Engineer - Enterprise Data &amp; Middleware</td>\n",
              "      <td>1</td>\n",
              "    </tr>\n",
              "    <tr>\n",
              "      <th>26</th>\n",
              "      <td>chethiyaj</td>\n",
              "      <td>SQL Microsoft Azure Microsoft Office Microsoft SQL Server Network Security Android Development Networking Windows Web Services Troubleshooting Windows Server System Administration Active Directory Computer Hardware Internet Information Services IIS SharePoint Administration Wireless Networking DNS network cabling Cisco Hardware Troubleshooting Network Problems Repairing Laptops iPhone Support ...</td>\n",
              "      <td>Cisco A+ Cisco Networking Academy</td>\n",
              "      <td>Sri Lanka Air Force Vocational Training Authority of Sri Lanka</td>\n",
              "      <td>GCE O.L / A.L Nalanda College Colombo</td>\n",
              "      <td>Engineer Cloud System/ Data Center Operations D P Infotech Private Limited</td>\n",
              "      <td>Senior System Administrator David Pieris Group</td>\n",
              "      <td>System Administrator Assetline</td>\n",
              "      <td>System Administrator Lisvin Investments</td>\n",
              "      <td>Engineer Cloud System/ Data Center Operations</td>\n",
              "      <td>1</td>\n",
              "    </tr>\n",
              "    <tr>\n",
              "      <th>27</th>\n",
              "      <td>kavindu-jayasundara</td>\n",
              "      <td>Java C JavaScript PHP MySQL HTML SQL Linux WordPress Microsoft Azure Databases Microsoft Office Teamwork Leadership C Python Arduino Research Microsoft SQL Server Network Troubleshooting Apache Strategic Planning Shell Scripting Amazon Web Services AWS C ASPNET Amazon EC Amazon S Raspberry Pi AT commands Atmel Unix Troubleshooting Red Hat Linux Cisco Networking Windows Server Servers Active Di...</td>\n",
              "      <td>Bachelor's Degree, Computer Systems and Network Engineering; SLIIT</td>\n",
              "      <td></td>\n",
              "      <td></td>\n",
              "      <td>Senior Engineer - Enterprise Data and Middleware MillenniumIT ESP</td>\n",
              "      <td>Engineer - Enterprise Data and Middleware  MillenniumIT ESP</td>\n",
              "      <td>Systems Support Engineer - Managed Services MillenniumIT ESP</td>\n",
              "      <td>Systems Engineer-Intern JOHN KEELLS IT</td>\n",
              "      <td>Senior Engineer - Enterprise Data and Middleware</td>\n",
              "      <td>1</td>\n",
              "    </tr>\n",
              "    <tr>\n",
              "      <th>28</th>\n",
              "      <td>nuwan-chamara-8504b8138</td>\n",
              "      <td>Java Python Programming Language Microsoft SQL Server Networking Telecommunications CCNA Cisco Networking Servers Computer Networking DHCP Telecommunications Engineering DNS Service Provider Networks Internet Protocol Suite TCPIP Routing Switches OSPF CCNP eBGP Cisco IOS MPLS Networking Cisco Application Centric Infrastructure ACI Cisco Nexus HP Cisco Identity Services Engine ISE Cisco Firepow...</td>\n",
              "      <td>National Diploma In Technology, Electronics and Telecommunication Engineering University of Moratuwa</td>\n",
              "      <td>Rahula College</td>\n",
              "      <td></td>\n",
              "      <td>Network &amp; Data Center Engineer NCINGA</td>\n",
              "      <td>Network Engineer NCINGA</td>\n",
              "      <td>Technical Specialist - Service Provider Networks N-Able Private Limited</td>\n",
              "      <td>Enterprise Technical Assistance Centre Dialog Axiata PLC</td>\n",
              "      <td>Network &amp; Data Center Engineer</td>\n",
              "      <td>1</td>\n",
              "    </tr>\n",
              "    <tr>\n",
              "      <th>29</th>\n",
              "      <td>nusran-saleem-1a446814a</td>\n",
              "      <td>Java JavaScript Python Programming Language MySQL HTML Cascading Style Sheets CSS XML Microsoft Azure ObjectOriented Programming OOP Microsoft SQL Server DevOps Cloud Computing Amazon Web Services AWS Cloud Development C Android IT Management Object Oriented Design Java Swing HTML Scripting php IT Service Management ITIL Swift Design Principles Problem Management ITIL Certified XSLT M Enterpri...</td>\n",
              "      <td>Bachelor of Engineering - BEng (Hons), Software Engineering University of Westminster</td>\n",
              "      <td></td>\n",
              "      <td></td>\n",
              "      <td>Robotic Process Automation &amp; Data Analytics Engineer myDigitalOffice</td>\n",
              "      <td>DevOps Engineer Radus28 Software Solutions</td>\n",
              "      <td>Associate Technical Consultant | Software Development Infor M3 Fortude</td>\n",
              "      <td>Junior Technical Consultant | Software Development Infor M3 Fortude</td>\n",
              "      <td>Robotic Process Automation &amp; Data Analytics Engineer</td>\n",
              "      <td>1</td>\n",
              "    </tr>\n",
              "    <tr>\n",
              "      <th>30</th>\n",
              "      <td>sahan-samarasinghe-a38bb856</td>\n",
              "      <td>Java C HTML Microsoft Word Microsoft Office Leadership Public Speaking C Project Management Microsoft Excel Customer Service Python Team Leadership PowerPoint Software Project Management Analysis Management Team Management Strategic Planning Business Strategy Software Engineering Project Planning Artificial Intelligence C Information Technology IT Management Marketing Social Media Oracle Datab...</td>\n",
              "      <td>Master of Business Administration - MBA, Business Administration and Management, General University of Bedfordshire</td>\n",
              "      <td>Bachelor’s Degree, Bsc. (Hons) In Information Technology General Sir John Kotelawala Defence University</td>\n",
              "      <td>High School, Business/Commerce, General Ananda College</td>\n",
              "      <td>Systems Engineer - Data Center Solutions Team  MillenniumIT ESP</td>\n",
              "      <td>Infrastructure Engineer Pearson</td>\n",
              "      <td>Intern System Support Engineer - Managed Services Team MillenniumIT</td>\n",
              "      <td></td>\n",
              "      <td>Systems Engineer - Data Center Solutions Team</td>\n",
              "      <td>1</td>\n",
              "    </tr>\n",
              "    <tr>\n",
              "      <th>31</th>\n",
              "      <td>dilinamdhu</td>\n",
              "      <td>Linux Cloud Computing Networking Windows IT Management Network Administration Operating Systems Troubleshooting Windows Server Servers VMware System Administration Active Directory Computer Hardware Windows Computer Maintenance DHCP Windows XP Data Center Virtualization Wireless Networking Hardware Software Installation Dynamic Host Configuration Protocol DHCP Laptops Printers Storage Disaster...</td>\n",
              "      <td>Computer Hardware Engineering, Computer Science London Business School</td>\n",
              "      <td>Certificate in Computer Application National Youth Service Council (Lalith Athulathmudali Vocational Training Center)</td>\n",
              "      <td>K/Sri Taksala Maha Vidyalaya</td>\n",
              "      <td>Associate Datacenter Operations Engineer Ceylinco General Insurance Ltd</td>\n",
              "      <td>Associate System Engineer Ceylinco General Insurance Ltd</td>\n",
              "      <td>Owner DM IT Solutions</td>\n",
              "      <td>IT Executive Cellcity Lanka (PVT) Ltd.</td>\n",
              "      <td>Associate Datacenter Operations Engineer</td>\n",
              "      <td>1</td>\n",
              "    </tr>\n",
              "    <tr>\n",
              "      <th>32</th>\n",
              "      <td>pasanjayathilaka</td>\n",
              "      <td>Java C JavaScript PHP MySQL Cascading Style Sheets CSS XML SQL Web Development Linux HTML Microsoft Word WordPress Databases Programming Microsoft Office CSS Teamwork C Microsoft Excel Customer Service PowerPoint Microsoft SQL Server NetBeans Android Development C Windows Eclipse Android Visual Basic Visual Studio NET Framework Photoshop AJAX ASPNET UML JSP Operating Systems Oracle NET Trouble...</td>\n",
              "      <td>BSc Special (Hons), Information Technology SLIIT</td>\n",
              "      <td>Ordinary Level Alethea Int. School</td>\n",
              "      <td>Advanced Level, Maths Stream St. Peters College</td>\n",
              "      <td>Engineer - Enterprise Data &amp; Middleware MillenniumIT ESP</td>\n",
              "      <td>OPERA Implementation Consultant  Hospitality Technology (Pvt) Ltd</td>\n",
              "      <td>E Commerce Executive Mount Lavinia Hotel</td>\n",
              "      <td>Business Development Executive NEGETE (Pvt) Ltd</td>\n",
              "      <td>Engineer - Enterprise Data &amp; Middleware</td>\n",
              "      <td>1</td>\n",
              "    </tr>\n",
              "    <tr>\n",
              "      <th>33</th>\n",
              "      <td>chanuka-balagalla-139592192</td>\n",
              "      <td>Java Python Programming Language SQL Machine Learning Adobe Photoshop Data Visualization R Analytical Skills Data Warehousing Google Data Studio Azure Databricks Hotjar Figma Software siddhi editor</td>\n",
              "      <td>BSc. (Hons) in Information Technology , Data Science SLIIT</td>\n",
              "      <td>Mathematics St.Anthony's College Kandy</td>\n",
              "      <td></td>\n",
              "      <td>Associate Engineer - BI/ Data Analytics Octopus BI - Sri Lanka</td>\n",
              "      <td>Data Engineer Pyxle</td>\n",
              "      <td></td>\n",
              "      <td></td>\n",
              "      <td>Associate Engineer - BI/ Data Analytics</td>\n",
              "      <td>1</td>\n",
              "    </tr>\n",
              "    <tr>\n",
              "      <th>34</th>\n",
              "      <td>lohit-mohapatra</td>\n",
              "      <td>Java MySQL XML SQL Linux Big Data Analytics Scala C Hadoop Hive HBase Sqoop Tableau Team Management Apache Spark Shell Scripting Apache Kafka Core Java Bash Oracle Oozie Unix Apache NiFi SQL DB HP Quality Center Hortonworks Apache Kylo</td>\n",
              "      <td>PG Diploma in Machine Learning and Artificial Intelligence International Institute of Information Technology Bangalore</td>\n",
              "      <td>Bachelor in Technology College of Engineering &amp; Technology, Bhubaneswar</td>\n",
              "      <td></td>\n",
              "      <td>Data &amp; Analytics Engineer Wells Fargo</td>\n",
              "      <td>Technical Lead Standard Chartered Bank</td>\n",
              "      <td>Technical Lead Infosys</td>\n",
              "      <td>Senior Data Engineer Tata Consultancy Services</td>\n",
              "      <td>Data &amp; Analytics Engineer</td>\n",
              "      <td>1</td>\n",
              "    </tr>\n",
              "    <tr>\n",
              "      <th>35</th>\n",
              "      <td>anushka-hewawitharana-95948960</td>\n",
              "      <td>Java JavaScript Python Programming Language MySQL SQL Linux Big Data Analytics Data Analysis Databases Adobe Illustrator Statistics Data Visualization Hadoop Flume Sqoop Tableau Exploratory Data Analysis Apache Spark Big Data Data Modeling Cloudera Apache Kafka Database Development Telecommunications Dashboard Process Automation Agile Project Management Solr Cloudera Impala Cassandra Apache Fl...</td>\n",
              "      <td>Big Data Analysis with Scala and Spark, Big Data Analysis with Scala and Spark EPFL (École polytechnique fédérale de Lausanne)</td>\n",
              "      <td>Bachelor of IT, Information Technology University of Colombo(UCSC)</td>\n",
              "      <td>Physical Sciences Maliyadeva College</td>\n",
              "      <td>Data Architect at LSEG Technology LSEG (London Stock Exchange Group)</td>\n",
              "      <td>Big Data solutions Architect Dialog Axiata PLC</td>\n",
              "      <td>Engineer Health Metrics (Bay Road, Cheltenham VIC Australia )</td>\n",
              "      <td>VAS Engineer(Airtel Project) Mahindra Comviva Technologies Limited</td>\n",
              "      <td>Data Architect at LSEG Technology</td>\n",
              "      <td>1</td>\n",
              "    </tr>\n",
              "    <tr>\n",
              "      <th>36</th>\n",
              "      <td>xiaocheng-jin</td>\n",
              "      <td>Python Programming Language SQL python Linux Data Engineering Machine Learning Data Analysis Microsoft Office Adobe Photoshop Project Management Microsoft Excel Customer Service Deep Learning Statistics Data Science R Tableau Microsoft Power BI Analytics Mathematics Extract Transform Load ETL Data Modeling Amazon Web Services AWS Marketing Docker Investments Banking Data Manipulation Apache Ai...</td>\n",
              "      <td>Master of Data Science Monash University</td>\n",
              "      <td>Automotive Application Engineering Shanghai University of Engineering Science</td>\n",
              "      <td></td>\n",
              "      <td>Data Consultant Servian</td>\n",
              "      <td>Data Engineer Praemium</td>\n",
              "      <td>Data Scientist / Data Science Gig Incubator ANZ</td>\n",
              "      <td>Research Assistant RMIT University</td>\n",
              "      <td>Data Consultant</td>\n",
              "      <td>1</td>\n",
              "    </tr>\n",
              "    <tr>\n",
              "      <th>37</th>\n",
              "      <td>himanshu-guptadataengineer</td>\n",
              "      <td>SQL Machine Learning Scala Microsoft Excel PowerBI PySpark Big Data Extract Transform Load ETL Apache Spark Streaming Business Intelligence Azure Data Factory Azure Data Lake Azure Databricks Unix Informatica Powercenter Oracle</td>\n",
              "      <td>B.TECH, CSE Galgotias College of Engineering and Technology</td>\n",
              "      <td>12TH St. Joseph's Sr. Sec. School - India</td>\n",
              "      <td></td>\n",
              "      <td>Data engineering Consultant Accenture AI</td>\n",
              "      <td>Data Engineering analyst Accenture AI</td>\n",
              "      <td>Big Data Consultant Xebia</td>\n",
              "      <td>Big Data Developer Datametica Solutions Private Limited</td>\n",
              "      <td>Data engineering Consultant</td>\n",
              "      <td>1</td>\n",
              "    </tr>\n",
              "    <tr>\n",
              "      <th>38</th>\n",
              "      <td>piuminanayakkara</td>\n",
              "      <td>Java Python Programming Language XML SQL Data Engineering Scala ObjectOriented Programming OOP Algorithms Data Mining Unified Modeling Language UML Data Science Hive R Statistical Data Analysis Analytical Skills NetBeans Google Cloud Platform GCP Apache Spark HiveQL Software Engineering Communication C Visual Studio Web Services Maven UML Oracle Database PLSQL Ant Azkaban Management Accounting...</td>\n",
              "      <td>CIMA-UK The Chartered Institute of Management Accountants</td>\n",
              "      <td>Bachelor of Science (BSc) (Hons), Computer Science and Engineering University of Moratuwa</td>\n",
              "      <td>G.C. E. Advanced Level, Mathematics Sirimavo Bandaranaike Vidyalaya, Colombo 07</td>\n",
              "      <td>Staff Engineer - Big Data &amp; AI Nagarro</td>\n",
              "      <td>Industry Specialist Informatics Institute of Technology (IIT Campus)</td>\n",
              "      <td>Associate Tech Lead - Data Science Zone24x7</td>\n",
              "      <td>Senior Software Engineer - Data Science Zone24x7</td>\n",
              "      <td>Staff Engineer - Big Data &amp; AI</td>\n",
              "      <td>1</td>\n",
              "    </tr>\n",
              "  </tbody>\n",
              "</table>\n",
              "</div>\n",
              "      <button class=\"colab-df-convert\" onclick=\"convertToInteractive('df-62e1e73e-883e-469c-a0b0-7b76be543a6c')\"\n",
              "              title=\"Convert this dataframe to an interactive table.\"\n",
              "              style=\"display:none;\">\n",
              "        \n",
              "  <svg xmlns=\"http://www.w3.org/2000/svg\" height=\"24px\"viewBox=\"0 0 24 24\"\n",
              "       width=\"24px\">\n",
              "    <path d=\"M0 0h24v24H0V0z\" fill=\"none\"/>\n",
              "    <path d=\"M18.56 5.44l.94 2.06.94-2.06 2.06-.94-2.06-.94-.94-2.06-.94 2.06-2.06.94zm-11 1L8.5 8.5l.94-2.06 2.06-.94-2.06-.94L8.5 2.5l-.94 2.06-2.06.94zm10 10l.94 2.06.94-2.06 2.06-.94-2.06-.94-.94-2.06-.94 2.06-2.06.94z\"/><path d=\"M17.41 7.96l-1.37-1.37c-.4-.4-.92-.59-1.43-.59-.52 0-1.04.2-1.43.59L10.3 9.45l-7.72 7.72c-.78.78-.78 2.05 0 2.83L4 21.41c.39.39.9.59 1.41.59.51 0 1.02-.2 1.41-.59l7.78-7.78 2.81-2.81c.8-.78.8-2.07 0-2.86zM5.41 20L4 18.59l7.72-7.72 1.47 1.35L5.41 20z\"/>\n",
              "  </svg>\n",
              "      </button>\n",
              "      \n",
              "  <style>\n",
              "    .colab-df-container {\n",
              "      display:flex;\n",
              "      flex-wrap:wrap;\n",
              "      gap: 12px;\n",
              "    }\n",
              "\n",
              "    .colab-df-convert {\n",
              "      background-color: #E8F0FE;\n",
              "      border: none;\n",
              "      border-radius: 50%;\n",
              "      cursor: pointer;\n",
              "      display: none;\n",
              "      fill: #1967D2;\n",
              "      height: 32px;\n",
              "      padding: 0 0 0 0;\n",
              "      width: 32px;\n",
              "    }\n",
              "\n",
              "    .colab-df-convert:hover {\n",
              "      background-color: #E2EBFA;\n",
              "      box-shadow: 0px 1px 2px rgba(60, 64, 67, 0.3), 0px 1px 3px 1px rgba(60, 64, 67, 0.15);\n",
              "      fill: #174EA6;\n",
              "    }\n",
              "\n",
              "    [theme=dark] .colab-df-convert {\n",
              "      background-color: #3B4455;\n",
              "      fill: #D2E3FC;\n",
              "    }\n",
              "\n",
              "    [theme=dark] .colab-df-convert:hover {\n",
              "      background-color: #434B5C;\n",
              "      box-shadow: 0px 1px 3px 1px rgba(0, 0, 0, 0.15);\n",
              "      filter: drop-shadow(0px 1px 2px rgba(0, 0, 0, 0.3));\n",
              "      fill: #FFFFFF;\n",
              "    }\n",
              "  </style>\n",
              "\n",
              "      <script>\n",
              "        const buttonEl =\n",
              "          document.querySelector('#df-62e1e73e-883e-469c-a0b0-7b76be543a6c button.colab-df-convert');\n",
              "        buttonEl.style.display =\n",
              "          google.colab.kernel.accessAllowed ? 'block' : 'none';\n",
              "\n",
              "        async function convertToInteractive(key) {\n",
              "          const element = document.querySelector('#df-62e1e73e-883e-469c-a0b0-7b76be543a6c');\n",
              "          const dataTable =\n",
              "            await google.colab.kernel.invokeFunction('convertToInteractive',\n",
              "                                                     [key], {});\n",
              "          if (!dataTable) return;\n",
              "\n",
              "          const docLinkHtml = 'Like what you see? Visit the ' +\n",
              "            '<a target=\"_blank\" href=https://colab.research.google.com/notebooks/data_table.ipynb>data table notebook</a>'\n",
              "            + ' to learn more about interactive tables.';\n",
              "          element.innerHTML = '';\n",
              "          dataTable['output_type'] = 'display_data';\n",
              "          await google.colab.output.renderOutput(dataTable, element);\n",
              "          const docLink = document.createElement('div');\n",
              "          docLink.innerHTML = docLinkHtml;\n",
              "          element.appendChild(docLink);\n",
              "        }\n",
              "      </script>\n",
              "    </div>\n",
              "  </div>\n",
              "  "
            ],
            "text/plain": [
              "                                id  ... label\n",
              "0                deema-wattegedara  ...     1\n",
              "1      vinushan-selvaraj-49b329126  ...     1\n",
              "2       thilina-ranaweera-68627473  ...     1\n",
              "3                   akila-shashith  ...     1\n",
              "4         nethmi-chethika-de-silva  ...     1\n",
              "5               neelotpalsinghgour  ...     1\n",
              "6          charith-de-mel-35216336  ...     1\n",
              "7             eric-xavier-0653241a  ...     1\n",
              "8          eesara-bojitha-87273773  ...     1\n",
              "9         charitha-gamage-36449987  ...     1\n",
              "10      tharindu-liyanagunawardana  ...     1\n",
              "11      gokulan-gajendran-3b1154b1  ...     1\n",
              "12           piratheepan-nadarajah  ...     1\n",
              "13      madura-wanasingha-a1987559  ...     1\n",
              "14                        imesha-i  ...     1\n",
              "15        damith-bandara-30421a146  ...     1\n",
              "16     hasitha-amarasiri-b0203415b  ...     1\n",
              "17     tharindu-buddhika-64513a141  ...     1\n",
              "18                 hashanrubenthra  ...     1\n",
              "19             krishan-nandakumara  ...     1\n",
              "20                ashen-jayasinghe  ...     1\n",
              "21        sahan-ranatunga-9b31816b  ...     1\n",
              "22      dilan-ranasinghe-676661125  ...     1\n",
              "23         kasun-de-silva-19023619  ...     1\n",
              "24   nishitha-karunaratne-6368b878  ...     1\n",
              "25                    sadeepadiluk  ...     1\n",
              "26                       chethiyaj  ...     1\n",
              "27             kavindu-jayasundara  ...     1\n",
              "28         nuwan-chamara-8504b8138  ...     1\n",
              "29         nusran-saleem-1a446814a  ...     1\n",
              "30     sahan-samarasinghe-a38bb856  ...     1\n",
              "31                      dilinamdhu  ...     1\n",
              "32                pasanjayathilaka  ...     1\n",
              "33     chanuka-balagalla-139592192  ...     1\n",
              "34                 lohit-mohapatra  ...     1\n",
              "35  anushka-hewawitharana-95948960  ...     1\n",
              "36                   xiaocheng-jin  ...     1\n",
              "37      himanshu-guptadataengineer  ...     1\n",
              "38                piuminanayakkara  ...     1\n",
              "\n",
              "[39 rows x 11 columns]"
            ]
          },
          "metadata": {},
          "execution_count": 167
        }
      ]
    },
    {
      "cell_type": "code",
      "source": [
        "DataEng_check6 = DataEng_check5[DataEng_check5['label']==0]"
      ],
      "metadata": {
        "id": "X9U137PQb5BO"
      },
      "execution_count": 168,
      "outputs": []
    },
    {
      "cell_type": "code",
      "source": [
        "DataEng_check6.shape"
      ],
      "metadata": {
        "colab": {
          "base_uri": "https://localhost:8080/"
        },
        "id": "X3n7ca5GdoTV",
        "outputId": "8ff4baca-67db-4867-a352-06c69a1a6a47"
      },
      "execution_count": 170,
      "outputs": [
        {
          "output_type": "execute_result",
          "data": {
            "text/plain": [
              "(99, 11)"
            ]
          },
          "metadata": {},
          "execution_count": 170
        }
      ]
    },
    {
      "cell_type": "code",
      "source": [
        "label14, other_labels14, label_name14, countpos14, countneg14 = check_Avalaiblity(Data_DEng_Mid,\"Data Center\")"
      ],
      "metadata": {
        "id": "GOVHWT6Tdp81"
      },
      "execution_count": 171,
      "outputs": []
    },
    {
      "cell_type": "code",
      "source": [
        "label_name14"
      ],
      "metadata": {
        "colab": {
          "base_uri": "https://localhost:8080/"
        },
        "id": "kaA_SwEvfXmn",
        "outputId": "3568239d-9b75-4670-a286-716313179edc"
      },
      "execution_count": 184,
      "outputs": [
        {
          "output_type": "execute_result",
          "data": {
            "text/plain": [
              "['Senior Engineer-Data Center',\n",
              " 'Senior Systems Engineer - Data Center',\n",
              " 'Data Center Support Engineer',\n",
              " 'Data Center Support Executive ',\n",
              " 'Engineer - Data Centers',\n",
              " 'Engineer Cloud System/ Data Center Operations',\n",
              " 'Network & Data Center Engineer',\n",
              " 'Systems Engineer - Data Center Solutions Team ']"
            ]
          },
          "metadata": {},
          "execution_count": 184
        }
      ]
    },
    {
      "cell_type": "code",
      "source": [
        "countpos14"
      ],
      "metadata": {
        "colab": {
          "base_uri": "https://localhost:8080/"
        },
        "id": "K4BYsiwCeQZG",
        "outputId": "68a89492-b2da-430d-b5dc-46577d678928"
      },
      "execution_count": 172,
      "outputs": [
        {
          "output_type": "execute_result",
          "data": {
            "text/plain": [
              "8"
            ]
          },
          "metadata": {},
          "execution_count": 172
        }
      ]
    },
    {
      "cell_type": "code",
      "source": [
        "Data_DEng_Mid['label'] = label14"
      ],
      "metadata": {
        "id": "Xq6il66neaZF"
      },
      "execution_count": 173,
      "outputs": []
    },
    {
      "cell_type": "code",
      "source": [
        "Network_Eng1 = Data_DEng_Mid[Data_DEng_Mid['label']==1]"
      ],
      "metadata": {
        "id": "jxTPWPkZeR2O"
      },
      "execution_count": 174,
      "outputs": []
    },
    {
      "cell_type": "code",
      "source": [
        "# Network Engineer 1st group\n",
        "Network_Eng1.shape"
      ],
      "metadata": {
        "colab": {
          "base_uri": "https://localhost:8080/"
        },
        "id": "SWLWuxOzesK1",
        "outputId": "930f4b58-5815-45c4-f063-536f5ffcd5c6"
      },
      "execution_count": 176,
      "outputs": [
        {
          "output_type": "execute_result",
          "data": {
            "text/plain": [
              "(8, 11)"
            ]
          },
          "metadata": {},
          "execution_count": 176
        }
      ]
    },
    {
      "cell_type": "code",
      "source": [
        "Data_DEng_Mid_check = Data_DEng_Mid[Data_DEng_Mid['label']==0]"
      ],
      "metadata": {
        "id": "OMjmRVwSetxl"
      },
      "execution_count": 177,
      "outputs": []
    },
    {
      "cell_type": "code",
      "source": [
        "Data_DEng_Mid_check.shape"
      ],
      "metadata": {
        "colab": {
          "base_uri": "https://localhost:8080/"
        },
        "id": "l7ICR8fQe67F",
        "outputId": "5ac9d1d0-d876-4407-b955-0f4b9d4c9603"
      },
      "execution_count": 178,
      "outputs": [
        {
          "output_type": "execute_result",
          "data": {
            "text/plain": [
              "(31, 11)"
            ]
          },
          "metadata": {},
          "execution_count": 178
        }
      ]
    },
    {
      "cell_type": "code",
      "source": [
        "label15, other_labels15, label_name15, countpos15, countneg15 = check_Avalaiblity(Data_DEng_Mid_check,\"Data Network\")"
      ],
      "metadata": {
        "id": "KFNKfLx4e9LN"
      },
      "execution_count": 181,
      "outputs": []
    },
    {
      "cell_type": "code",
      "source": [
        "countpos15"
      ],
      "metadata": {
        "colab": {
          "base_uri": "https://localhost:8080/"
        },
        "id": "QGUHEJG0fGJN",
        "outputId": "d4d92953-3f94-44f7-cd64-432f3003130c"
      },
      "execution_count": 182,
      "outputs": [
        {
          "output_type": "execute_result",
          "data": {
            "text/plain": [
              "2"
            ]
          },
          "metadata": {},
          "execution_count": 182
        }
      ]
    },
    {
      "cell_type": "code",
      "source": [
        "label_name15"
      ],
      "metadata": {
        "colab": {
          "base_uri": "https://localhost:8080/"
        },
        "id": "3WhUaDgifIW1",
        "outputId": "ed362037-28ae-4dc2-bc70-6074d2c2b931"
      },
      "execution_count": 183,
      "outputs": [
        {
          "output_type": "execute_result",
          "data": {
            "text/plain": [
              "['Senior Data Network Engineer', 'Engineer - Data Network Operations']"
            ]
          },
          "metadata": {},
          "execution_count": 183
        }
      ]
    },
    {
      "cell_type": "code",
      "source": [
        "Data_DEng_Mid_check['label'] = label15"
      ],
      "metadata": {
        "colab": {
          "base_uri": "https://localhost:8080/"
        },
        "id": "ITBJCcrWfST0",
        "outputId": "602ee984-d2dd-40d0-bcfe-bd902c1b1fce"
      },
      "execution_count": 185,
      "outputs": [
        {
          "output_type": "stream",
          "name": "stderr",
          "text": [
            "/usr/local/lib/python3.7/dist-packages/ipykernel_launcher.py:1: SettingWithCopyWarning: \n",
            "A value is trying to be set on a copy of a slice from a DataFrame.\n",
            "Try using .loc[row_indexer,col_indexer] = value instead\n",
            "\n",
            "See the caveats in the documentation: https://pandas.pydata.org/pandas-docs/stable/user_guide/indexing.html#returning-a-view-versus-a-copy\n",
            "  \"\"\"Entry point for launching an IPython kernel.\n"
          ]
        }
      ]
    },
    {
      "cell_type": "code",
      "source": [
        "Network_Eng2 = Data_DEng_Mid_check[Data_DEng_Mid_check['label']==1]"
      ],
      "metadata": {
        "id": "GS9fdoZrf7_e"
      },
      "execution_count": 186,
      "outputs": []
    },
    {
      "cell_type": "code",
      "source": [
        "Network_Eng2.shape"
      ],
      "metadata": {
        "colab": {
          "base_uri": "https://localhost:8080/"
        },
        "id": "AdxQXhh5gBoO",
        "outputId": "1c45f3d5-215b-4ab8-d52b-ad69b061eb98"
      },
      "execution_count": 187,
      "outputs": [
        {
          "output_type": "execute_result",
          "data": {
            "text/plain": [
              "(2, 11)"
            ]
          },
          "metadata": {},
          "execution_count": 187
        }
      ]
    },
    {
      "cell_type": "code",
      "source": [
        "Data_DEng_Mid_check2 = Data_DEng_Mid_check[Data_DEng_Mid_check['label']==0]"
      ],
      "metadata": {
        "id": "4G1FAmHGgDBV"
      },
      "execution_count": 188,
      "outputs": []
    },
    {
      "cell_type": "code",
      "source": [
        "Data_DEng_Mid_check2.shape"
      ],
      "metadata": {
        "colab": {
          "base_uri": "https://localhost:8080/"
        },
        "id": "x3JLTvCrgK0V",
        "outputId": "9ae24391-f221-48d1-9e2f-25be0eaba26c"
      },
      "execution_count": 189,
      "outputs": [
        {
          "output_type": "execute_result",
          "data": {
            "text/plain": [
              "(29, 11)"
            ]
          },
          "metadata": {},
          "execution_count": 189
        }
      ]
    },
    {
      "cell_type": "code",
      "source": [
        "label16, other_labels16, label_name16, countpos16, countneg16 = check_Avalaiblity(Data_DEng_Mid_check2,\"Middleware\")"
      ],
      "metadata": {
        "id": "GL03kZcagMaF"
      },
      "execution_count": 190,
      "outputs": []
    },
    {
      "cell_type": "code",
      "source": [
        "countpos16"
      ],
      "metadata": {
        "colab": {
          "base_uri": "https://localhost:8080/"
        },
        "id": "uFE1EgdLghTe",
        "outputId": "caed4eb7-bf41-4e20-e6de-dc5c094f5903"
      },
      "execution_count": 191,
      "outputs": [
        {
          "output_type": "execute_result",
          "data": {
            "text/plain": [
              "4"
            ]
          },
          "metadata": {},
          "execution_count": 191
        }
      ]
    },
    {
      "cell_type": "code",
      "source": [
        "Data_DEng_Mid_check2['label']=label16"
      ],
      "metadata": {
        "colab": {
          "base_uri": "https://localhost:8080/"
        },
        "id": "QhrxLFSOgpyN",
        "outputId": "34d2bf1f-17c8-44ca-c478-ef4cb29c4826"
      },
      "execution_count": 192,
      "outputs": [
        {
          "output_type": "stream",
          "name": "stderr",
          "text": [
            "/usr/local/lib/python3.7/dist-packages/ipykernel_launcher.py:1: SettingWithCopyWarning: \n",
            "A value is trying to be set on a copy of a slice from a DataFrame.\n",
            "Try using .loc[row_indexer,col_indexer] = value instead\n",
            "\n",
            "See the caveats in the documentation: https://pandas.pydata.org/pandas-docs/stable/user_guide/indexing.html#returning-a-view-versus-a-copy\n",
            "  \"\"\"Entry point for launching an IPython kernel.\n"
          ]
        }
      ]
    },
    {
      "cell_type": "code",
      "source": [
        "Network_Eng3 = Data_DEng_Mid_check2[Data_DEng_Mid_check2['label']==1]"
      ],
      "metadata": {
        "id": "9qd6pnHLgiit"
      },
      "execution_count": 193,
      "outputs": []
    },
    {
      "cell_type": "code",
      "source": [
        "Network_Eng3.shape"
      ],
      "metadata": {
        "colab": {
          "base_uri": "https://localhost:8080/"
        },
        "id": "sbwiApP4guql",
        "outputId": "4ed7cc6a-9f00-47ef-ef74-dc5de9e1d679"
      },
      "execution_count": 194,
      "outputs": [
        {
          "output_type": "execute_result",
          "data": {
            "text/plain": [
              "(4, 11)"
            ]
          },
          "metadata": {},
          "execution_count": 194
        }
      ]
    },
    {
      "cell_type": "code",
      "source": [
        "Data_DEng_Mid_check3 = Data_DEng_Mid_check2[Data_DEng_Mid_check2['label']==0]"
      ],
      "metadata": {
        "id": "oAUSjd80gwaF"
      },
      "execution_count": 195,
      "outputs": []
    },
    {
      "cell_type": "code",
      "source": [
        "Data_DEng_Mid_check3.shape"
      ],
      "metadata": {
        "colab": {
          "base_uri": "https://localhost:8080/"
        },
        "id": "y7TtuZzKg17l",
        "outputId": "f205f426-33d8-4435-8080-5f55859f36ab"
      },
      "execution_count": 196,
      "outputs": [
        {
          "output_type": "execute_result",
          "data": {
            "text/plain": [
              "(25, 11)"
            ]
          },
          "metadata": {},
          "execution_count": 196
        }
      ]
    },
    {
      "cell_type": "code",
      "source": [
        "label17, other_labels17, label_name17, countpos17, countneg17 = check_Avalaiblity(Data_DEng_Mid_check3,\"Datacenter\")"
      ],
      "metadata": {
        "id": "MiI9xn4ig4BF"
      },
      "execution_count": 197,
      "outputs": []
    },
    {
      "cell_type": "code",
      "source": [
        "countpos17"
      ],
      "metadata": {
        "colab": {
          "base_uri": "https://localhost:8080/"
        },
        "id": "5rUM8AFShO7d",
        "outputId": "0c49a6ff-4ef7-46fc-fe87-28df228840c8"
      },
      "execution_count": 198,
      "outputs": [
        {
          "output_type": "execute_result",
          "data": {
            "text/plain": [
              "1"
            ]
          },
          "metadata": {},
          "execution_count": 198
        }
      ]
    },
    {
      "cell_type": "code",
      "source": [
        "label_name17"
      ],
      "metadata": {
        "colab": {
          "base_uri": "https://localhost:8080/"
        },
        "id": "cgKHEMKfhQFV",
        "outputId": "7c001d35-22f6-4dba-801c-e40c666472e9"
      },
      "execution_count": 199,
      "outputs": [
        {
          "output_type": "execute_result",
          "data": {
            "text/plain": [
              "['Associate Datacenter Operations Engineer']"
            ]
          },
          "metadata": {},
          "execution_count": 199
        }
      ]
    },
    {
      "cell_type": "code",
      "source": [
        "Data_DEng_Mid_check3['label']=label17"
      ],
      "metadata": {
        "colab": {
          "base_uri": "https://localhost:8080/"
        },
        "id": "fkKbC-YchRpF",
        "outputId": "3ac8dde5-b284-4425-982e-9f607dc7ecd1"
      },
      "execution_count": 200,
      "outputs": [
        {
          "output_type": "stream",
          "name": "stderr",
          "text": [
            "/usr/local/lib/python3.7/dist-packages/ipykernel_launcher.py:1: SettingWithCopyWarning: \n",
            "A value is trying to be set on a copy of a slice from a DataFrame.\n",
            "Try using .loc[row_indexer,col_indexer] = value instead\n",
            "\n",
            "See the caveats in the documentation: https://pandas.pydata.org/pandas-docs/stable/user_guide/indexing.html#returning-a-view-versus-a-copy\n",
            "  \"\"\"Entry point for launching an IPython kernel.\n"
          ]
        }
      ]
    },
    {
      "cell_type": "code",
      "source": [
        "Network_Eng4 = Data_DEng_Mid_check3[Data_DEng_Mid_check3['label']==1]"
      ],
      "metadata": {
        "id": "m07Vn1y4hYRt"
      },
      "execution_count": 201,
      "outputs": []
    },
    {
      "cell_type": "code",
      "source": [
        "Network_Eng4.shape"
      ],
      "metadata": {
        "colab": {
          "base_uri": "https://localhost:8080/"
        },
        "id": "c9udYhjEheM1",
        "outputId": "dc4332fa-dc39-4fd6-e1c9-497ce03fdc7e"
      },
      "execution_count": 202,
      "outputs": [
        {
          "output_type": "execute_result",
          "data": {
            "text/plain": [
              "(1, 11)"
            ]
          },
          "metadata": {},
          "execution_count": 202
        }
      ]
    },
    {
      "cell_type": "code",
      "source": [
        "Data_DEng_Mid_check4 = Data_DEng_Mid_check3[Data_DEng_Mid_check3['label']==0]"
      ],
      "metadata": {
        "id": "pVRVVNFBhfmN"
      },
      "execution_count": 203,
      "outputs": []
    },
    {
      "cell_type": "code",
      "source": [
        "Data_DEng_Mid_check4.shape"
      ],
      "metadata": {
        "colab": {
          "base_uri": "https://localhost:8080/"
        },
        "id": "NoFnt5PihkJN",
        "outputId": "3da0c4ab-1d81-4dd8-a110-4e6166b72e74"
      },
      "execution_count": 204,
      "outputs": [
        {
          "output_type": "execute_result",
          "data": {
            "text/plain": [
              "(24, 11)"
            ]
          },
          "metadata": {},
          "execution_count": 204
        }
      ]
    },
    {
      "cell_type": "code",
      "source": [
        "NetworkEng_Pro = pd.concat([Network_Eng1,Network_Eng2,Network_Eng3,Network_Eng4],ignore_index=True)"
      ],
      "metadata": {
        "id": "pGMMgFHhhmFg"
      },
      "execution_count": 205,
      "outputs": []
    },
    {
      "cell_type": "code",
      "source": [
        "# Network Engineer Dataset in DataEngineer\n",
        "NetworkEng_Pro.shape"
      ],
      "metadata": {
        "colab": {
          "base_uri": "https://localhost:8080/"
        },
        "id": "geXhrRMqh6JZ",
        "outputId": "79ee7ebb-5cac-42e4-9767-ee3d17ff8edf"
      },
      "execution_count": 207,
      "outputs": [
        {
          "output_type": "execute_result",
          "data": {
            "text/plain": [
              "(15, 11)"
            ]
          },
          "metadata": {},
          "execution_count": 207
        }
      ]
    },
    {
      "cell_type": "code",
      "source": [
        "Data_DEng_Mid_check4"
      ],
      "metadata": {
        "id": "bTTWa69Ch77e"
      },
      "execution_count": null,
      "outputs": []
    },
    {
      "cell_type": "code",
      "source": [
        "Data_Eng_Pro1 = pd.concat([DataEng_Data1,Data_DEng_Mid_check4],ignore_index=True)"
      ],
      "metadata": {
        "id": "evnoM05PjLL-"
      },
      "execution_count": 210,
      "outputs": []
    },
    {
      "cell_type": "code",
      "source": [
        "Data_Science_Pro1_DEng = pd.concat([Data_Science1,Data_Science2],ignore_index=True)"
      ],
      "metadata": {
        "id": "ozJApfxal36m"
      },
      "execution_count": 225,
      "outputs": []
    },
    {
      "cell_type": "code",
      "source": [
        "Data_Eng_Pro1.shape"
      ],
      "metadata": {
        "colab": {
          "base_uri": "https://localhost:8080/"
        },
        "id": "dj_EoHD0kIVF",
        "outputId": "940c9aad-3289-484a-819f-1fdb4294e511"
      },
      "execution_count": 211,
      "outputs": [
        {
          "output_type": "execute_result",
          "data": {
            "text/plain": [
              "(242, 11)"
            ]
          },
          "metadata": {},
          "execution_count": 211
        }
      ]
    },
    {
      "cell_type": "code",
      "source": [
        "Data_Analyst1.shape"
      ],
      "metadata": {
        "colab": {
          "base_uri": "https://localhost:8080/"
        },
        "id": "x1tpfZWYkRf1",
        "outputId": "fe68ada4-c0b7-49ee-a7f3-12283645e378"
      },
      "execution_count": 216,
      "outputs": [
        {
          "output_type": "execute_result",
          "data": {
            "text/plain": [
              "(9, 11)"
            ]
          },
          "metadata": {},
          "execution_count": 216
        }
      ]
    },
    {
      "cell_type": "code",
      "source": [
        "SoftwareEngFull.shape"
      ],
      "metadata": {
        "colab": {
          "base_uri": "https://localhost:8080/"
        },
        "id": "WOipWNT1lVd9",
        "outputId": "a005a99c-65cf-4e27-a858-b41e8b99ecfe"
      },
      "execution_count": 219,
      "outputs": [
        {
          "output_type": "execute_result",
          "data": {
            "text/plain": [
              "(64, 11)"
            ]
          },
          "metadata": {},
          "execution_count": 219
        }
      ]
    },
    {
      "cell_type": "code",
      "source": [
        "NetworkEng_Pro.shape"
      ],
      "metadata": {
        "colab": {
          "base_uri": "https://localhost:8080/"
        },
        "id": "ymB2NHlklbIe",
        "outputId": "0f6b67dd-44ab-4de2-9424-f27fc98c19b1"
      },
      "execution_count": 220,
      "outputs": [
        {
          "output_type": "execute_result",
          "data": {
            "text/plain": [
              "(15, 11)"
            ]
          },
          "metadata": {},
          "execution_count": 220
        }
      ]
    },
    {
      "cell_type": "code",
      "source": [
        "Data_Science_Pro1_DEng.shape"
      ],
      "metadata": {
        "colab": {
          "base_uri": "https://localhost:8080/"
        },
        "id": "Is9_Hb-fl3xl",
        "outputId": "51240b83-1db5-41fe-c94f-ec95af18c25c"
      },
      "execution_count": 226,
      "outputs": [
        {
          "output_type": "execute_result",
          "data": {
            "text/plain": [
              "(49, 11)"
            ]
          },
          "metadata": {},
          "execution_count": 226
        }
      ]
    },
    {
      "cell_type": "code",
      "source": [
        "DataEng_check6.shape"
      ],
      "metadata": {
        "colab": {
          "base_uri": "https://localhost:8080/"
        },
        "id": "VS4TkzXDldq9",
        "outputId": "9aec690b-58bb-4708-bce1-ed3a3757af38"
      },
      "execution_count": 221,
      "outputs": [
        {
          "output_type": "execute_result",
          "data": {
            "text/plain": [
              "(99, 11)"
            ]
          },
          "metadata": {},
          "execution_count": 221
        }
      ]
    },
    {
      "cell_type": "code",
      "source": [
        "DataEng_check6"
      ],
      "metadata": {
        "id": "YnGJZyzZl3o4"
      },
      "execution_count": null,
      "outputs": []
    },
    {
      "cell_type": "code",
      "source": [
        "label18, other_labels18, label_name18, countpos18, countneg18 = check_Avalaiblity(DataEng_check6,\"Machine Learning Engineer\")"
      ],
      "metadata": {
        "id": "jagi1yhfn5BF"
      },
      "execution_count": 228,
      "outputs": []
    },
    {
      "cell_type": "code",
      "source": [
        "other_labels18"
      ],
      "metadata": {
        "id": "qzZSMTDMB0Bd"
      },
      "execution_count": null,
      "outputs": []
    },
    {
      "cell_type": "code",
      "source": [
        "countpos18"
      ],
      "metadata": {
        "id": "jyPM6RsYoEPF"
      },
      "execution_count": null,
      "outputs": []
    },
    {
      "cell_type": "code",
      "source": [
        "label_name18"
      ],
      "metadata": {
        "id": "zl7FszaHoFbc"
      },
      "execution_count": null,
      "outputs": []
    },
    {
      "cell_type": "code",
      "source": [
        "other_labels18"
      ],
      "metadata": {
        "id": "iBZ3gNnuoI0M"
      },
      "execution_count": null,
      "outputs": []
    },
    {
      "cell_type": "code",
      "source": [
        "DataEng_check6['label']= label18"
      ],
      "metadata": {
        "colab": {
          "base_uri": "https://localhost:8080/"
        },
        "id": "7O0BiTz2oKhk",
        "outputId": "14a66d49-2cc6-4eee-fd8e-2b950b4b60f1"
      },
      "execution_count": 233,
      "outputs": [
        {
          "output_type": "stream",
          "name": "stderr",
          "text": [
            "/usr/local/lib/python3.7/dist-packages/ipykernel_launcher.py:1: SettingWithCopyWarning: \n",
            "A value is trying to be set on a copy of a slice from a DataFrame.\n",
            "Try using .loc[row_indexer,col_indexer] = value instead\n",
            "\n",
            "See the caveats in the documentation: https://pandas.pydata.org/pandas-docs/stable/user_guide/indexing.html#returning-a-view-versus-a-copy\n",
            "  \"\"\"Entry point for launching an IPython kernel.\n"
          ]
        }
      ]
    },
    {
      "cell_type": "code",
      "source": [
        "MLEng_DengDatset = DataEng_check6[DataEng_check6['label']==1]"
      ],
      "metadata": {
        "id": "5ff01AKaoVeN"
      },
      "execution_count": 234,
      "outputs": []
    },
    {
      "cell_type": "code",
      "source": [
        "MLEng_DengDatset.shape"
      ],
      "metadata": {
        "colab": {
          "base_uri": "https://localhost:8080/"
        },
        "id": "kUjZ4j7moeZd",
        "outputId": "5973a995-b21f-4b89-c7e5-3cb7ff092e08"
      },
      "execution_count": 235,
      "outputs": [
        {
          "output_type": "execute_result",
          "data": {
            "text/plain": [
              "(6, 11)"
            ]
          },
          "metadata": {},
          "execution_count": 235
        }
      ]
    },
    {
      "cell_type": "code",
      "source": [
        "DataEng_check7 = DataEng_check6[DataEng_check6['label']==0]"
      ],
      "metadata": {
        "id": "NpKhmEcQof_7"
      },
      "execution_count": 236,
      "outputs": []
    },
    {
      "cell_type": "code",
      "source": [
        "DataEng_check7.shape"
      ],
      "metadata": {
        "colab": {
          "base_uri": "https://localhost:8080/"
        },
        "id": "5KcI0B1eokzN",
        "outputId": "3f756221-13d4-457b-9f5f-dcb60a1b8152"
      },
      "execution_count": 238,
      "outputs": [
        {
          "output_type": "execute_result",
          "data": {
            "text/plain": [
              "(93, 11)"
            ]
          },
          "metadata": {},
          "execution_count": 238
        }
      ]
    },
    {
      "cell_type": "code",
      "source": [
        "DataEng_check7 = DataEng_check7.dropna(subset=['organization_title_1'])"
      ],
      "metadata": {
        "id": "EO7UXW61omWN"
      },
      "execution_count": 244,
      "outputs": []
    },
    {
      "cell_type": "code",
      "source": [
        "DataEng_check7.shape"
      ],
      "metadata": {
        "colab": {
          "base_uri": "https://localhost:8080/"
        },
        "id": "XTUOxP3Ro5Pl",
        "outputId": "44a94a9d-9a72-4f5f-e0ce-101379d43ad6"
      },
      "execution_count": 245,
      "outputs": [
        {
          "output_type": "execute_result",
          "data": {
            "text/plain": [
              "(89, 11)"
            ]
          },
          "metadata": {},
          "execution_count": 245
        }
      ]
    },
    {
      "cell_type": "code",
      "source": [
        "DataEng_check7"
      ],
      "metadata": {
        "id": "U6MFCPxSprod"
      },
      "execution_count": null,
      "outputs": []
    },
    {
      "cell_type": "code",
      "source": [
        "DataEngNEw = DataEng_check7.loc[[41,68,80,197,201,204,211,236,243,364,428,451,463,464,470,413,370,219,133,69],:]"
      ],
      "metadata": {
        "id": "hE1oYR8GpwW9"
      },
      "execution_count": 254,
      "outputs": []
    },
    {
      "cell_type": "code",
      "source": [
        "DataEngNEw.shape"
      ],
      "metadata": {
        "colab": {
          "base_uri": "https://localhost:8080/"
        },
        "id": "L-_6O3685IC0",
        "outputId": "6e1a374a-ca99-4935-9a87-69a310cc7a1b"
      },
      "execution_count": 255,
      "outputs": [
        {
          "output_type": "execute_result",
          "data": {
            "text/plain": [
              "(20, 11)"
            ]
          },
          "metadata": {},
          "execution_count": 255
        }
      ]
    },
    {
      "cell_type": "code",
      "source": [
        "MLEngNEw = DataEng_check7.loc[[406,295,291],:]"
      ],
      "metadata": {
        "id": "t5heFlRj8ef8"
      },
      "execution_count": 256,
      "outputs": []
    },
    {
      "cell_type": "code",
      "source": [
        "DSciNEw = DataEng_check7.loc[[213,111],:]"
      ],
      "metadata": {
        "id": "0S-iS9Yp-K71"
      },
      "execution_count": 257,
      "outputs": []
    },
    {
      "cell_type": "code",
      "source": [
        "MLEngNEw.shape"
      ],
      "metadata": {
        "colab": {
          "base_uri": "https://localhost:8080/"
        },
        "id": "gq9i4h8TATys",
        "outputId": "f9e7acbb-c48f-4316-b2cd-db8ad18c70d8"
      },
      "execution_count": 258,
      "outputs": [
        {
          "output_type": "execute_result",
          "data": {
            "text/plain": [
              "(3, 11)"
            ]
          },
          "metadata": {},
          "execution_count": 258
        }
      ]
    },
    {
      "cell_type": "code",
      "source": [
        "DSciNEw.shape"
      ],
      "metadata": {
        "colab": {
          "base_uri": "https://localhost:8080/"
        },
        "id": "6q7aKQl0AVxk",
        "outputId": "bbec4995-be7a-4dde-8a09-f920d767ed2a"
      },
      "execution_count": 259,
      "outputs": [
        {
          "output_type": "execute_result",
          "data": {
            "text/plain": [
              "(2, 11)"
            ]
          },
          "metadata": {},
          "execution_count": 259
        }
      ]
    },
    {
      "cell_type": "code",
      "source": [
        "Data_Science_Pro2_DEng = pd.concat([Data_Science_Pro1_DEng,DSciNEw],ignore_index=True)"
      ],
      "metadata": {
        "id": "ximpLdR7AX1k"
      },
      "execution_count": 260,
      "outputs": []
    },
    {
      "cell_type": "code",
      "source": [
        "Data_Science_Pro2_DEng.shape"
      ],
      "metadata": {
        "colab": {
          "base_uri": "https://localhost:8080/"
        },
        "id": "2jlbMO0nA44L",
        "outputId": "1ed3950f-45af-4373-d684-2564faa138b0"
      },
      "execution_count": 261,
      "outputs": [
        {
          "output_type": "execute_result",
          "data": {
            "text/plain": [
              "(51, 11)"
            ]
          },
          "metadata": {},
          "execution_count": 261
        }
      ]
    },
    {
      "cell_type": "code",
      "source": [
        "ML_Eng_Pro1_DEng = pd.concat([MLEng_DengDatset,MLEngNEw],ignore_index=True)"
      ],
      "metadata": {
        "id": "OxT2MUfWA6gb"
      },
      "execution_count": 262,
      "outputs": []
    },
    {
      "cell_type": "code",
      "source": [
        "ML_Eng_Pro1_DEng.shape"
      ],
      "metadata": {
        "colab": {
          "base_uri": "https://localhost:8080/"
        },
        "id": "YgzcKjhKBLXY",
        "outputId": "17177469-af7b-44e0-a5f1-fb266c614009"
      },
      "execution_count": 263,
      "outputs": [
        {
          "output_type": "execute_result",
          "data": {
            "text/plain": [
              "(9, 11)"
            ]
          },
          "metadata": {},
          "execution_count": 263
        }
      ]
    },
    {
      "cell_type": "code",
      "source": [
        "Data_Eng_Pro2 = pd.concat([Data_Eng_Pro1,DataEngNEw],ignore_index=True)"
      ],
      "metadata": {
        "id": "kuw3AQiVBNX8"
      },
      "execution_count": 264,
      "outputs": []
    },
    {
      "cell_type": "code",
      "source": [
        "Data_Eng_Pro2.shape"
      ],
      "metadata": {
        "colab": {
          "base_uri": "https://localhost:8080/"
        },
        "id": "ibq0EK3IBgc8",
        "outputId": "6481696d-58f5-4be7-8ddf-1770053619e4"
      },
      "execution_count": 265,
      "outputs": [
        {
          "output_type": "execute_result",
          "data": {
            "text/plain": [
              "(262, 11)"
            ]
          },
          "metadata": {},
          "execution_count": 265
        }
      ]
    },
    {
      "cell_type": "code",
      "source": [
        "label19, other_labels19, label_name19, countpos19, countneg19 = check_Avalaiblity(DataEng_check7,\"Quality Assurance\")"
      ],
      "metadata": {
        "id": "RtrYIKEMBiLE"
      },
      "execution_count": 267,
      "outputs": []
    },
    {
      "cell_type": "code",
      "source": [
        "countpos19"
      ],
      "metadata": {
        "colab": {
          "base_uri": "https://localhost:8080/"
        },
        "id": "gzymhgK_B5tc",
        "outputId": "a3da7408-9bc7-4285-8574-ee161688f7d6"
      },
      "execution_count": 268,
      "outputs": [
        {
          "output_type": "execute_result",
          "data": {
            "text/plain": [
              "6"
            ]
          },
          "metadata": {},
          "execution_count": 268
        }
      ]
    },
    {
      "cell_type": "code",
      "source": [
        "label_name19"
      ],
      "metadata": {
        "colab": {
          "base_uri": "https://localhost:8080/"
        },
        "id": "JTrrZfMOB7Ks",
        "outputId": "d04540ec-4210-43b6-b0a0-5290b0b785a4"
      },
      "execution_count": 269,
      "outputs": [
        {
          "output_type": "execute_result",
          "data": {
            "text/plain": [
              "['Software Quality Assurance Engineer',\n",
              " 'Senior Quality Assurance Analyst',\n",
              " 'Quality Assurance Engineer',\n",
              " 'Senior Software Quality Assurance Engineer',\n",
              " 'Quality Assurance Engineering Specialist',\n",
              " 'Senior Software Quality Assurance Engineer']"
            ]
          },
          "metadata": {},
          "execution_count": 269
        }
      ]
    },
    {
      "cell_type": "code",
      "source": [
        "DataEng_check7['label']=label19"
      ],
      "metadata": {
        "colab": {
          "base_uri": "https://localhost:8080/"
        },
        "id": "bwNPhVUAB93c",
        "outputId": "362a4597-fd1a-49e2-9c7b-78aa30fa4350"
      },
      "execution_count": 270,
      "outputs": [
        {
          "output_type": "stream",
          "name": "stderr",
          "text": [
            "/usr/local/lib/python3.7/dist-packages/ipykernel_launcher.py:1: SettingWithCopyWarning: \n",
            "A value is trying to be set on a copy of a slice from a DataFrame.\n",
            "Try using .loc[row_indexer,col_indexer] = value instead\n",
            "\n",
            "See the caveats in the documentation: https://pandas.pydata.org/pandas-docs/stable/user_guide/indexing.html#returning-a-view-versus-a-copy\n",
            "  \"\"\"Entry point for launching an IPython kernel.\n"
          ]
        }
      ]
    },
    {
      "cell_type": "code",
      "source": [
        "QA_DEng = DataEng_check7[DataEng_check7['label']==1]"
      ],
      "metadata": {
        "id": "DgegbTdHCETH"
      },
      "execution_count": 271,
      "outputs": []
    },
    {
      "cell_type": "code",
      "source": [
        "QA_DEng.shape"
      ],
      "metadata": {
        "colab": {
          "base_uri": "https://localhost:8080/"
        },
        "id": "hLuLznKRCMqz",
        "outputId": "c13dcb21-7b5d-4a3c-d286-9e745a095642"
      },
      "execution_count": 272,
      "outputs": [
        {
          "output_type": "execute_result",
          "data": {
            "text/plain": [
              "(6, 11)"
            ]
          },
          "metadata": {},
          "execution_count": 272
        }
      ]
    },
    {
      "cell_type": "code",
      "source": [
        "DataEng_check8 = DataEng_check7[DataEng_check7['label']==0]"
      ],
      "metadata": {
        "id": "tzqX2Qi8CPI8"
      },
      "execution_count": 275,
      "outputs": []
    },
    {
      "cell_type": "code",
      "source": [
        "DataEng_check8.shape"
      ],
      "metadata": {
        "colab": {
          "base_uri": "https://localhost:8080/"
        },
        "id": "WdCZ_170CTgs",
        "outputId": "a24a1145-7c28-4dff-80ff-60fb34c9537d"
      },
      "execution_count": 276,
      "outputs": [
        {
          "output_type": "execute_result",
          "data": {
            "text/plain": [
              "(83, 11)"
            ]
          },
          "metadata": {},
          "execution_count": 276
        }
      ]
    },
    {
      "cell_type": "code",
      "source": [
        ""
      ],
      "metadata": {
        "id": "zB1biLBJCuRM"
      },
      "execution_count": null,
      "outputs": []
    },
    {
      "cell_type": "code",
      "source": [
        ""
      ],
      "metadata": {
        "id": "YI-R01EXCuNE"
      },
      "execution_count": null,
      "outputs": []
    },
    {
      "cell_type": "code",
      "source": [
        ""
      ],
      "metadata": {
        "id": "-zxCLnX5CuFF"
      },
      "execution_count": null,
      "outputs": []
    },
    {
      "cell_type": "code",
      "source": [
        "# All data belog to Machine Learning Engineer Category from ML_Data Dataset\n",
        "Data_ML_Pro.shape"
      ],
      "metadata": {
        "colab": {
          "base_uri": "https://localhost:8080/"
        },
        "id": "SIM6bKFkCV57",
        "outputId": "5aedfe6b-01c7-4294-96a7-00ecb73efbad"
      },
      "execution_count": 286,
      "outputs": [
        {
          "output_type": "execute_result",
          "data": {
            "text/plain": [
              "(438, 11)"
            ]
          },
          "metadata": {},
          "execution_count": 286
        }
      ]
    },
    {
      "cell_type": "code",
      "source": [
        "# Need to check these values from ML_Data Dataset\n",
        "ML_Data_check5.shape"
      ],
      "metadata": {
        "colab": {
          "base_uri": "https://localhost:8080/"
        },
        "id": "WisNcyp4DVSe",
        "outputId": "d8ab9dd5-69dc-4fe4-d133-57787a27bff2"
      },
      "execution_count": 287,
      "outputs": [
        {
          "output_type": "execute_result",
          "data": {
            "text/plain": [
              "(193, 11)"
            ]
          },
          "metadata": {},
          "execution_count": 287
        }
      ]
    },
    {
      "cell_type": "code",
      "source": [
        "# All data belog to Data Engineer Category from DEng_Data Dataset\n",
        "Data_Eng_Pro2.shape"
      ],
      "metadata": {
        "colab": {
          "base_uri": "https://localhost:8080/"
        },
        "id": "xOLLXr7bCrgr",
        "outputId": "fba0b3b7-292d-434a-e99d-4ebbb0b24456"
      },
      "execution_count": 288,
      "outputs": [
        {
          "output_type": "execute_result",
          "data": {
            "text/plain": [
              "(262, 11)"
            ]
          },
          "metadata": {},
          "execution_count": 288
        }
      ]
    },
    {
      "cell_type": "code",
      "source": [
        "# All data belog to Machine Learning Engineer Category from DEng_Data Dataset\n",
        "ML_Eng_Pro1_DEng.shape"
      ],
      "metadata": {
        "colab": {
          "base_uri": "https://localhost:8080/"
        },
        "id": "OaH7NC8ECycL",
        "outputId": "af96fa8b-0be8-4aff-cebf-0eea69367052"
      },
      "execution_count": 289,
      "outputs": [
        {
          "output_type": "execute_result",
          "data": {
            "text/plain": [
              "(9, 11)"
            ]
          },
          "metadata": {},
          "execution_count": 289
        }
      ]
    },
    {
      "cell_type": "code",
      "source": [
        "# All data belog to Data Science Category from DEng_Data Dataset\n",
        "Data_Science_Pro2_DEng.shape"
      ],
      "metadata": {
        "colab": {
          "base_uri": "https://localhost:8080/"
        },
        "id": "6ZegeMPrC6fU",
        "outputId": "c8fd8b7e-6ebf-478f-9d1f-e15fca5a57d2"
      },
      "execution_count": 290,
      "outputs": [
        {
          "output_type": "execute_result",
          "data": {
            "text/plain": [
              "(51, 11)"
            ]
          },
          "metadata": {},
          "execution_count": 290
        }
      ]
    },
    {
      "cell_type": "code",
      "source": [
        "# All data belog to QA Category from DEng_Data Dataset\n",
        "QA_DEng.shape"
      ],
      "metadata": {
        "colab": {
          "base_uri": "https://localhost:8080/"
        },
        "id": "_3S2laDDC-t0",
        "outputId": "31e8240e-90a4-461c-946f-8639f8fb0a17"
      },
      "execution_count": 291,
      "outputs": [
        {
          "output_type": "execute_result",
          "data": {
            "text/plain": [
              "(6, 11)"
            ]
          },
          "metadata": {},
          "execution_count": 291
        }
      ]
    },
    {
      "cell_type": "code",
      "source": [
        "# All data belog to Networking Category from DEng_Data Dataset\n",
        "NetworkEng_Pro.shape"
      ],
      "metadata": {
        "colab": {
          "base_uri": "https://localhost:8080/"
        },
        "id": "RUAEqiDDDDCb",
        "outputId": "a764f7b4-644b-43af-bb0e-19096456ef17"
      },
      "execution_count": 292,
      "outputs": [
        {
          "output_type": "execute_result",
          "data": {
            "text/plain": [
              "(15, 11)"
            ]
          },
          "metadata": {},
          "execution_count": 292
        }
      ]
    },
    {
      "cell_type": "code",
      "source": [
        "# All data belog to Software Engineer Category from DEng_Data Dataset\n",
        "SoftwareEngFull.shape"
      ],
      "metadata": {
        "colab": {
          "base_uri": "https://localhost:8080/"
        },
        "id": "Yohq8beFDKW0",
        "outputId": "500076af-131d-440d-db68-0af0cc88877f"
      },
      "execution_count": 293,
      "outputs": [
        {
          "output_type": "execute_result",
          "data": {
            "text/plain": [
              "(64, 11)"
            ]
          },
          "metadata": {},
          "execution_count": 293
        }
      ]
    },
    {
      "cell_type": "code",
      "source": [
        "# All data belog to Data Analytics Category from DEng_Data Dataset\n",
        "Data_Analyst1.shape"
      ],
      "metadata": {
        "colab": {
          "base_uri": "https://localhost:8080/"
        },
        "id": "7Cy2cuu7DPfu",
        "outputId": "34b9eda8-c965-44b3-f925-4ddb838fcd30"
      },
      "execution_count": 294,
      "outputs": [
        {
          "output_type": "execute_result",
          "data": {
            "text/plain": [
              "(9, 11)"
            ]
          },
          "metadata": {},
          "execution_count": 294
        }
      ]
    },
    {
      "cell_type": "code",
      "source": [
        "# Need to check these values from DEng_Data Dataset\n",
        "DataEng_check8.shape"
      ],
      "metadata": {
        "colab": {
          "base_uri": "https://localhost:8080/"
        },
        "id": "6yl4E4snDUNE",
        "outputId": "b2e14d2b-e7bb-4a47-c8b2-430b7e2229b5"
      },
      "execution_count": 295,
      "outputs": [
        {
          "output_type": "execute_result",
          "data": {
            "text/plain": [
              "(83, 11)"
            ]
          },
          "metadata": {},
          "execution_count": 295
        }
      ]
    },
    {
      "cell_type": "code",
      "source": [
        "ML_Data_check5['organization_title_1']"
      ],
      "metadata": {
        "id": "bZRjT2eDExTM"
      },
      "execution_count": null,
      "outputs": []
    },
    {
      "cell_type": "code",
      "source": [
        "label20, other_labels20, label_name20, countpos20, countneg20 = check_Avalaiblity(ML_Data_check5,\"Data Scientist\")"
      ],
      "metadata": {
        "id": "k3tVMZFaE4l8"
      },
      "execution_count": 297,
      "outputs": []
    },
    {
      "cell_type": "code",
      "source": [
        "countpos20"
      ],
      "metadata": {
        "colab": {
          "base_uri": "https://localhost:8080/"
        },
        "id": "0xqERfvJFU08",
        "outputId": "a32213fb-aaf1-455c-8ea4-f44099614d76"
      },
      "execution_count": 298,
      "outputs": [
        {
          "output_type": "execute_result",
          "data": {
            "text/plain": [
              "30"
            ]
          },
          "metadata": {},
          "execution_count": 298
        }
      ]
    },
    {
      "cell_type": "code",
      "source": [
        "ML_Data_check5['label']=label20"
      ],
      "metadata": {
        "colab": {
          "base_uri": "https://localhost:8080/"
        },
        "id": "4lfnwvuKF_kl",
        "outputId": "5eb3484a-6ba9-466f-891c-a40523b21808"
      },
      "execution_count": 305,
      "outputs": [
        {
          "output_type": "stream",
          "name": "stderr",
          "text": [
            "/usr/local/lib/python3.7/dist-packages/ipykernel_launcher.py:1: SettingWithCopyWarning: \n",
            "A value is trying to be set on a copy of a slice from a DataFrame.\n",
            "Try using .loc[row_indexer,col_indexer] = value instead\n",
            "\n",
            "See the caveats in the documentation: https://pandas.pydata.org/pandas-docs/stable/user_guide/indexing.html#returning-a-view-versus-a-copy\n",
            "  \"\"\"Entry point for launching an IPython kernel.\n"
          ]
        }
      ]
    },
    {
      "cell_type": "code",
      "source": [
        "Data_Sci_1 = ML_Data_check5[ML_Data_check5['label']==1]"
      ],
      "metadata": {
        "id": "gsRsJNN_GGeE"
      },
      "execution_count": 306,
      "outputs": []
    },
    {
      "cell_type": "code",
      "source": [
        "Data_Sci_1.shape"
      ],
      "metadata": {
        "colab": {
          "base_uri": "https://localhost:8080/"
        },
        "id": "_UOvuNlAGRbV",
        "outputId": "113bb22a-3742-47ad-c958-8f07710a342f"
      },
      "execution_count": 307,
      "outputs": [
        {
          "output_type": "execute_result",
          "data": {
            "text/plain": [
              "(30, 11)"
            ]
          },
          "metadata": {},
          "execution_count": 307
        }
      ]
    },
    {
      "cell_type": "code",
      "source": [
        "ML_Data_check6 = ML_Data_check5[ML_Data_check5['label']==0]"
      ],
      "metadata": {
        "id": "nDTzSfbHGTqb"
      },
      "execution_count": 308,
      "outputs": []
    },
    {
      "cell_type": "code",
      "source": [
        "ML_Data_check6.shape"
      ],
      "metadata": {
        "colab": {
          "base_uri": "https://localhost:8080/"
        },
        "id": "_SuDXKiCGY67",
        "outputId": "4f239b1c-5578-434d-f368-99a512505e3b"
      },
      "execution_count": 309,
      "outputs": [
        {
          "output_type": "execute_result",
          "data": {
            "text/plain": [
              "(163, 11)"
            ]
          },
          "metadata": {},
          "execution_count": 309
        }
      ]
    },
    {
      "cell_type": "code",
      "source": [
        ""
      ],
      "metadata": {
        "id": "XimHCwPYGYvT"
      },
      "execution_count": null,
      "outputs": []
    },
    {
      "cell_type": "code",
      "source": [
        "label21, other_labels21, label_name21, countpos21, countneg21 = check_Avalaiblity(ML_Data_check6,\"Data Science\")"
      ],
      "metadata": {
        "id": "y5C9mEtxFmhe"
      },
      "execution_count": 310,
      "outputs": []
    },
    {
      "cell_type": "code",
      "source": [
        "countpos21"
      ],
      "metadata": {
        "colab": {
          "base_uri": "https://localhost:8080/"
        },
        "id": "8258jET6F130",
        "outputId": "2adba00f-6434-4c40-da04-58d0ade93f6b"
      },
      "execution_count": 311,
      "outputs": [
        {
          "output_type": "execute_result",
          "data": {
            "text/plain": [
              "10"
            ]
          },
          "metadata": {},
          "execution_count": 311
        }
      ]
    },
    {
      "cell_type": "code",
      "source": [
        "ML_Data_check6['label']=label21"
      ],
      "metadata": {
        "colab": {
          "base_uri": "https://localhost:8080/"
        },
        "id": "xN-2f0ZOGhcb",
        "outputId": "2204f5fd-8542-4d00-b1db-de50267803a3"
      },
      "execution_count": 312,
      "outputs": [
        {
          "output_type": "stream",
          "name": "stderr",
          "text": [
            "/usr/local/lib/python3.7/dist-packages/ipykernel_launcher.py:1: SettingWithCopyWarning: \n",
            "A value is trying to be set on a copy of a slice from a DataFrame.\n",
            "Try using .loc[row_indexer,col_indexer] = value instead\n",
            "\n",
            "See the caveats in the documentation: https://pandas.pydata.org/pandas-docs/stable/user_guide/indexing.html#returning-a-view-versus-a-copy\n",
            "  \"\"\"Entry point for launching an IPython kernel.\n"
          ]
        }
      ]
    },
    {
      "cell_type": "code",
      "source": [
        "Data_Sci_2 = ML_Data_check6[ML_Data_check6['label']==1]"
      ],
      "metadata": {
        "id": "_ENVLkD1Gn2z"
      },
      "execution_count": 313,
      "outputs": []
    },
    {
      "cell_type": "code",
      "source": [
        "Data_Sci_2.shape"
      ],
      "metadata": {
        "colab": {
          "base_uri": "https://localhost:8080/"
        },
        "id": "FvlTJWpkGhTz",
        "outputId": "7bcb540a-e78f-47c9-a0bb-f9788c5ab1c8"
      },
      "execution_count": 314,
      "outputs": [
        {
          "output_type": "execute_result",
          "data": {
            "text/plain": [
              "(10, 11)"
            ]
          },
          "metadata": {},
          "execution_count": 314
        }
      ]
    },
    {
      "cell_type": "code",
      "source": [
        "ML_Data_check7 = ML_Data_check6[ML_Data_check6['label']==0]"
      ],
      "metadata": {
        "id": "EucfPi2QG0tH"
      },
      "execution_count": 315,
      "outputs": []
    },
    {
      "cell_type": "code",
      "source": [
        "ML_Data_check7.shape"
      ],
      "metadata": {
        "colab": {
          "base_uri": "https://localhost:8080/"
        },
        "id": "lTJXwIN7G0nT",
        "outputId": "8bceba36-4b57-42eb-97ea-2a3776bc0ddb"
      },
      "execution_count": 316,
      "outputs": [
        {
          "output_type": "execute_result",
          "data": {
            "text/plain": [
              "(153, 11)"
            ]
          },
          "metadata": {},
          "execution_count": 316
        }
      ]
    },
    {
      "cell_type": "code",
      "source": [
        ""
      ],
      "metadata": {
        "id": "6GX3SvZQGgHT"
      },
      "execution_count": null,
      "outputs": []
    },
    {
      "cell_type": "code",
      "source": [
        "label22, other_labels22, label_name22, countpos22, countneg22 = check_Avalaiblity(ML_Data_check7,\"Data Engineer\")"
      ],
      "metadata": {
        "id": "MELobvRtFWXS"
      },
      "execution_count": 317,
      "outputs": []
    },
    {
      "cell_type": "code",
      "source": [
        "countpos22"
      ],
      "metadata": {
        "colab": {
          "base_uri": "https://localhost:8080/"
        },
        "id": "XtES4qOAFhK0",
        "outputId": "ac8b06b1-81c6-483a-c90f-0a1f520ac064"
      },
      "execution_count": 318,
      "outputs": [
        {
          "output_type": "execute_result",
          "data": {
            "text/plain": [
              "12"
            ]
          },
          "metadata": {},
          "execution_count": 318
        }
      ]
    },
    {
      "cell_type": "code",
      "source": [
        "ML_Data_check7['label']=label22"
      ],
      "metadata": {
        "colab": {
          "base_uri": "https://localhost:8080/"
        },
        "id": "R_3vHxQ7Fi0W",
        "outputId": "a53d0f22-d26c-4437-ba86-c87a1206d73a"
      },
      "execution_count": 319,
      "outputs": [
        {
          "output_type": "stream",
          "name": "stderr",
          "text": [
            "/usr/local/lib/python3.7/dist-packages/ipykernel_launcher.py:1: SettingWithCopyWarning: \n",
            "A value is trying to be set on a copy of a slice from a DataFrame.\n",
            "Try using .loc[row_indexer,col_indexer] = value instead\n",
            "\n",
            "See the caveats in the documentation: https://pandas.pydata.org/pandas-docs/stable/user_guide/indexing.html#returning-a-view-versus-a-copy\n",
            "  \"\"\"Entry point for launching an IPython kernel.\n"
          ]
        }
      ]
    },
    {
      "cell_type": "code",
      "source": [
        "Data_Eng_1 = ML_Data_check7[ML_Data_check7['label']==1]"
      ],
      "metadata": {
        "id": "QONX3SGmHFvW"
      },
      "execution_count": 320,
      "outputs": []
    },
    {
      "cell_type": "code",
      "source": [
        "Data_Eng_1.shape"
      ],
      "metadata": {
        "colab": {
          "base_uri": "https://localhost:8080/"
        },
        "id": "TyP9r_2DHFmz",
        "outputId": "c3aefbb9-5825-4cc6-977e-752f33cdaa1b"
      },
      "execution_count": 321,
      "outputs": [
        {
          "output_type": "execute_result",
          "data": {
            "text/plain": [
              "(12, 11)"
            ]
          },
          "metadata": {},
          "execution_count": 321
        }
      ]
    },
    {
      "cell_type": "code",
      "source": [
        "ML_Data_check8 = ML_Data_check7[ML_Data_check7['label']==0]"
      ],
      "metadata": {
        "id": "qIlWKD_BHQBH"
      },
      "execution_count": 322,
      "outputs": []
    },
    {
      "cell_type": "code",
      "source": [
        "ML_Data_check8.shape"
      ],
      "metadata": {
        "colab": {
          "base_uri": "https://localhost:8080/"
        },
        "id": "gH2yvwxuHFfE",
        "outputId": "6a7e914c-c26a-46c6-ab47-4124c61356bc"
      },
      "execution_count": 323,
      "outputs": [
        {
          "output_type": "execute_result",
          "data": {
            "text/plain": [
              "(141, 11)"
            ]
          },
          "metadata": {},
          "execution_count": 323
        }
      ]
    },
    {
      "cell_type": "code",
      "source": [
        "other_labels22"
      ],
      "metadata": {
        "colab": {
          "base_uri": "https://localhost:8080/"
        },
        "id": "OucsJRpMHEar",
        "outputId": "7ea5addf-eb08-4823-d94d-2ff997969d31"
      },
      "execution_count": 324,
      "outputs": [
        {
          "output_type": "execute_result",
          "data": {
            "text/plain": [
              "['Software Engineer',\n",
              " 'Vice Chairman',\n",
              " 'Software Engineer',\n",
              " 'Software Engineer',\n",
              " 'Software Engineer',\n",
              " 'Junior Software Engineer',\n",
              " 'Intern',\n",
              " 'Full Stack Engineer',\n",
              " 'Research Assistant',\n",
              " 'Senior Software Engineer',\n",
              " 'Software Engineer  - BigData and Data science ',\n",
              " 'Intern Software Engineer',\n",
              " 'System Engineer',\n",
              " 'Artificial Intelligence Developer',\n",
              " 'University Lecturer',\n",
              " 'Insurance Agent',\n",
              " 'Software Engineer',\n",
              " 'Software Engineer',\n",
              " 'Senior Software Engineer',\n",
              " 'Application Engineer',\n",
              " 'Treasurer',\n",
              " 'Senior Data Analyst',\n",
              " 'Engineer - Technology',\n",
              " 'Software Developer',\n",
              " 'SDE -3',\n",
              " 'Intern',\n",
              " 'Web Developer',\n",
              " 'Associate Manager - TA',\n",
              " 'Technical Lead',\n",
              " 'Lead Engineer',\n",
              " 'Associate Engineer - Technology',\n",
              " 'Software Engineer',\n",
              " 'Senior Software Engineer',\n",
              " 'Software Engineer Intern',\n",
              " 'Tech Speaker',\n",
              " 'Technical Lead',\n",
              " 'Data Analyst',\n",
              " 'Python Developer',\n",
              " 'Artificial Intelligence Applications Development Manager ',\n",
              " 'System Engineer',\n",
              " 'Co-Founder',\n",
              " 'Analyst',\n",
              " 'Media Assistant',\n",
              " 'Podcast Host',\n",
              " 'Bioinformatics Developer',\n",
              " 'Ml engineer',\n",
              " 'Data and Applied Scientist',\n",
              " 'Sr. Software Engineer',\n",
              " 'Software Engineer Intern',\n",
              " 'Researcher',\n",
              " 'Software Intern',\n",
              " 'Co-Founder and CTO',\n",
              " 'Technical Specialist',\n",
              " 'Senior Research And Development Engineer',\n",
              " 'Project Engineer',\n",
              " 'Senior Technical Lead',\n",
              " 'Technical Management Trainee',\n",
              " 'Python and Data Analysis Instructor',\n",
              " 'Software Engineer',\n",
              " 'Full-stack Developer',\n",
              " 'Network Infrestructure Manager',\n",
              " 'Software Developer',\n",
              " 'Microsoft Learn Student Ambassadors- Beta',\n",
              " 'Engineer',\n",
              " 'Software Development Intern',\n",
              " 'MlOps Trainee',\n",
              " 'Senior Systems Engineer',\n",
              " 'Research Scientist',\n",
              " 'Student',\n",
              " '대리',\n",
              " 'Graduate Teaching Assistant',\n",
              " 'Co-founder and Co-host',\n",
              " 'Business Analysts',\n",
              " 'Automation Architect (Senior Test Manager)',\n",
              " 'Research Internship',\n",
              " 'Embedded Software Trainee - Siemens EDA Academy of Excellence',\n",
              " 'Engineer',\n",
              " 'nan',\n",
              " 'Software Engineer Intern',\n",
              " 'Engineer ',\n",
              " 'Member',\n",
              " 'Writer',\n",
              " 'nan',\n",
              " 'Data Analyst Engineer',\n",
              " 'Senior Software Engineer',\n",
              " 'Map Core Tech Specialist',\n",
              " 'Software Engineer Intern',\n",
              " 'Associate Software Engineer',\n",
              " 'Technical Lead',\n",
              " 'Software Developer 2',\n",
              " 'Software Engineer',\n",
              " 'Senior Software Engineer',\n",
              " 'Engineer',\n",
              " 'Lead R&D Engineer',\n",
              " 'Senior Engineer',\n",
              " 'Senior Software Engineer',\n",
              " 'Senior Software Engineer',\n",
              " 'Senior Software Engineer',\n",
              " 'Former Instructor',\n",
              " 'Executive Engineering - Converged Charging Operations',\n",
              " 'Deputy Director Of Development',\n",
              " 'Backend Software engineer',\n",
              " 'Data Analyst',\n",
              " 'Computer Vision Software Engineer',\n",
              " 'Software Engineer',\n",
              " 'Kaggle Grandmaster',\n",
              " 'Head of Curriculum, Data',\n",
              " 'Software Engineer',\n",
              " 'Software Engineering Consultant',\n",
              " 'STEM Educator',\n",
              " 'Teaching Assistant(Resident Tutor)',\n",
              " 'Tutor data science',\n",
              " 'PhD Fellow',\n",
              " \"New technologies' specialist\",\n",
              " 'Chief Technical Head',\n",
              " 'Data analytics Mentor',\n",
              " 'nan',\n",
              " 'Senior Engineering Manager',\n",
              " 'nan',\n",
              " 'Research Intern',\n",
              " 'Google Developer Student Club Lead',\n",
              " 'Leadership Development Internship',\n",
              " 'Data Analytics Trainee',\n",
              " 'nan',\n",
              " 'Platform Engineer',\n",
              " 'Software Engineer',\n",
              " 'Software Engineer',\n",
              " 'Principal Engineer',\n",
              " 'Software Engineer',\n",
              " 'Consultant',\n",
              " 'Software Engineer',\n",
              " 'Senior Software Engineer',\n",
              " 'Artificial intelligence Trainer ',\n",
              " 'Committee Expert Member',\n",
              " 'Directeur de création communication multimédia ',\n",
              " 'Software Engineer, Behavior Prediction',\n",
              " 'Senior Technical Engineer',\n",
              " 'Engineer',\n",
              " 'Senior Quantitative Research Scientist',\n",
              " 'NLP Engineer',\n",
              " 'Business Intelligence Developer']"
            ]
          },
          "metadata": {},
          "execution_count": 324
        }
      ]
    },
    {
      "cell_type": "code",
      "source": [
        "label23, other_labels23, label_name23, countpos23, countneg23 = check_Avalaiblity(ML_Data_check8,\"Software Engineer\")"
      ],
      "metadata": {
        "id": "oT3QjNlTHYSE"
      },
      "execution_count": 325,
      "outputs": []
    },
    {
      "cell_type": "code",
      "source": [
        "countpos23"
      ],
      "metadata": {
        "colab": {
          "base_uri": "https://localhost:8080/"
        },
        "id": "T1fsQC_5HtJ1",
        "outputId": "3a4b8d48-d270-482c-c5f3-0b11f746bd56"
      },
      "execution_count": 326,
      "outputs": [
        {
          "output_type": "execute_result",
          "data": {
            "text/plain": [
              "36"
            ]
          },
          "metadata": {},
          "execution_count": 326
        }
      ]
    },
    {
      "cell_type": "code",
      "source": [
        "countneg23"
      ],
      "metadata": {
        "colab": {
          "base_uri": "https://localhost:8080/"
        },
        "id": "CuqUPMbRH40k",
        "outputId": "e91cfdd6-4d9e-475d-b2f7-71d9f479894f"
      },
      "execution_count": 329,
      "outputs": [
        {
          "output_type": "execute_result",
          "data": {
            "text/plain": [
              "105"
            ]
          },
          "metadata": {},
          "execution_count": 329
        }
      ]
    },
    {
      "cell_type": "code",
      "source": [
        "other_labels23"
      ],
      "metadata": {
        "id": "EWFX_5vyHtBk"
      },
      "execution_count": null,
      "outputs": []
    },
    {
      "cell_type": "code",
      "source": [
        "ML_Data_check8['label']=label23"
      ],
      "metadata": {
        "colab": {
          "base_uri": "https://localhost:8080/"
        },
        "id": "tofartNMHsSk",
        "outputId": "3128e8f7-7021-4fd5-f74b-2303029aebbd"
      },
      "execution_count": 330,
      "outputs": [
        {
          "output_type": "stream",
          "name": "stderr",
          "text": [
            "/usr/local/lib/python3.7/dist-packages/ipykernel_launcher.py:1: SettingWithCopyWarning: \n",
            "A value is trying to be set on a copy of a slice from a DataFrame.\n",
            "Try using .loc[row_indexer,col_indexer] = value instead\n",
            "\n",
            "See the caveats in the documentation: https://pandas.pydata.org/pandas-docs/stable/user_guide/indexing.html#returning-a-view-versus-a-copy\n",
            "  \"\"\"Entry point for launching an IPython kernel.\n"
          ]
        }
      ]
    },
    {
      "cell_type": "code",
      "source": [
        "Software_Eng_M = ML_Data_check8[ML_Data_check8['label']==1]"
      ],
      "metadata": {
        "id": "9LKQb1gQIIRk"
      },
      "execution_count": 331,
      "outputs": []
    },
    {
      "cell_type": "code",
      "source": [
        "Software_Eng_M.shape"
      ],
      "metadata": {
        "colab": {
          "base_uri": "https://localhost:8080/"
        },
        "id": "c-b6-0cSIVMj",
        "outputId": "ec247a2d-3b31-4f22-9f1b-6ef879f43d0d"
      },
      "execution_count": 332,
      "outputs": [
        {
          "output_type": "execute_result",
          "data": {
            "text/plain": [
              "(36, 11)"
            ]
          },
          "metadata": {},
          "execution_count": 332
        }
      ]
    },
    {
      "cell_type": "code",
      "source": [
        "ML_Data_check9 = ML_Data_check8[ML_Data_check8['label']==0]"
      ],
      "metadata": {
        "id": "gJqMghIxIXUS"
      },
      "execution_count": 333,
      "outputs": []
    },
    {
      "cell_type": "code",
      "source": [
        "Software_Eng_M"
      ],
      "metadata": {
        "id": "oZOAvqKmIcz7"
      },
      "execution_count": null,
      "outputs": []
    },
    {
      "cell_type": "code",
      "source": [
        "MLEngNEw_MLDt = Software_Eng_M.loc[[20,86,201,249,381,395,472],:]"
      ],
      "metadata": {
        "id": "_qW1ibP7Ics7"
      },
      "execution_count": 335,
      "outputs": []
    },
    {
      "cell_type": "code",
      "source": [
        "DataSciNEw_MLDt = Software_Eng_M.loc[[34,142,399],:]"
      ],
      "metadata": {
        "id": "R2-H01klIcG7"
      },
      "execution_count": 336,
      "outputs": []
    },
    {
      "cell_type": "code",
      "source": [
        "Software_Eng_M = Software_Eng_M.drop(20)\n",
        "Software_Eng_M = Software_Eng_M.drop(86)\n",
        "Software_Eng_M = Software_Eng_M.drop(201)\n",
        "Software_Eng_M = Software_Eng_M.drop(249)\n",
        "Software_Eng_M = Software_Eng_M.drop(381)\n",
        "Software_Eng_M = Software_Eng_M.drop(395)\n",
        "Software_Eng_M = Software_Eng_M.drop(472)\n",
        "Software_Eng_M = Software_Eng_M.drop(34)\n",
        "Software_Eng_M = Software_Eng_M.drop(142)\n",
        "Software_Eng_M = Software_Eng_M.drop(399)"
      ],
      "metadata": {
        "id": "6BRGwkg6KfrL"
      },
      "execution_count": 337,
      "outputs": []
    },
    {
      "cell_type": "code",
      "source": [
        "Software_Eng_M.shape"
      ],
      "metadata": {
        "colab": {
          "base_uri": "https://localhost:8080/"
        },
        "id": "0QKTVZVYK5HM",
        "outputId": "5abba11c-1c59-41aa-c588-ead488e9851d"
      },
      "execution_count": 338,
      "outputs": [
        {
          "output_type": "execute_result",
          "data": {
            "text/plain": [
              "(26, 11)"
            ]
          },
          "metadata": {},
          "execution_count": 338
        }
      ]
    },
    {
      "cell_type": "code",
      "source": [
        "MLEngNEw_MLDt.shape"
      ],
      "metadata": {
        "colab": {
          "base_uri": "https://localhost:8080/"
        },
        "id": "uTcgxBcKK7CR",
        "outputId": "8139db29-5862-44b6-dccd-95fcee170439"
      },
      "execution_count": 339,
      "outputs": [
        {
          "output_type": "execute_result",
          "data": {
            "text/plain": [
              "(7, 11)"
            ]
          },
          "metadata": {},
          "execution_count": 339
        }
      ]
    },
    {
      "cell_type": "code",
      "source": [
        "DataSciNEw_MLDt.shape"
      ],
      "metadata": {
        "colab": {
          "base_uri": "https://localhost:8080/"
        },
        "id": "V0wdzWFOK9M8",
        "outputId": "c40d10a3-ece7-46a4-b034-b72ffce78d5f"
      },
      "execution_count": 341,
      "outputs": [
        {
          "output_type": "execute_result",
          "data": {
            "text/plain": [
              "(3, 11)"
            ]
          },
          "metadata": {},
          "execution_count": 341
        }
      ]
    },
    {
      "cell_type": "code",
      "source": [
        "ML_Data_check9.shape"
      ],
      "metadata": {
        "colab": {
          "base_uri": "https://localhost:8080/"
        },
        "id": "Wt0eKcCFLDUz",
        "outputId": "f04fc2ab-2cfb-42f9-e111-39d52f4e1f5c"
      },
      "execution_count": 342,
      "outputs": [
        {
          "output_type": "execute_result",
          "data": {
            "text/plain": [
              "(105, 11)"
            ]
          },
          "metadata": {},
          "execution_count": 342
        }
      ]
    },
    {
      "cell_type": "code",
      "source": [
        ""
      ],
      "metadata": {
        "id": "zQFES8lRLd88"
      },
      "execution_count": null,
      "outputs": []
    },
    {
      "cell_type": "code",
      "source": [
        "ML_Data_check9 = ML_Data_check9.dropna(subset=['organization_title_1'])"
      ],
      "metadata": {
        "id": "Bio7ueqPLLeb"
      },
      "execution_count": 345,
      "outputs": []
    },
    {
      "cell_type": "code",
      "source": [
        "ML_Data_check9.shape"
      ],
      "metadata": {
        "colab": {
          "base_uri": "https://localhost:8080/"
        },
        "id": "vwZBP_U_LQWK",
        "outputId": "dbfbeb51-ed8f-4349-baf3-4468113870bc"
      },
      "execution_count": 346,
      "outputs": [
        {
          "output_type": "execute_result",
          "data": {
            "text/plain": [
              "(100, 11)"
            ]
          },
          "metadata": {},
          "execution_count": 346
        }
      ]
    },
    {
      "cell_type": "code",
      "source": [
        "ML_Data_check9['organization_title_1']"
      ],
      "metadata": {
        "id": "gja90H5iLnmD"
      },
      "execution_count": null,
      "outputs": []
    },
    {
      "cell_type": "code",
      "source": [
        "label24, other_labels24, label_name24, countpos24, countneg24 = check_Avalaiblity(ML_Data_check9,\"Data\")"
      ],
      "metadata": {
        "id": "nMB2HbXNLrSU"
      },
      "execution_count": 348,
      "outputs": []
    },
    {
      "cell_type": "code",
      "source": [
        "label_name24"
      ],
      "metadata": {
        "colab": {
          "base_uri": "https://localhost:8080/"
        },
        "id": "zS_TodrfMEiM",
        "outputId": "f73da4b9-b130-49bc-d57b-e3cd08f37b5e"
      },
      "execution_count": 349,
      "outputs": [
        {
          "output_type": "execute_result",
          "data": {
            "text/plain": [
              "['Senior Data Analyst',\n",
              " 'Data Analyst',\n",
              " 'Data and Applied Scientist',\n",
              " 'Python and Data Analysis Instructor',\n",
              " 'Data Analyst Engineer',\n",
              " 'Data Analyst',\n",
              " 'Head of Curriculum, Data',\n",
              " 'Data analytics Mentor',\n",
              " 'Data Analytics Trainee']"
            ]
          },
          "metadata": {},
          "execution_count": 349
        }
      ]
    },
    {
      "cell_type": "code",
      "source": [
        "ML_Data_check9['label']=label24"
      ],
      "metadata": {
        "colab": {
          "base_uri": "https://localhost:8080/"
        },
        "id": "mG5JoHk7Nwu7",
        "outputId": "6b503adf-2b04-4645-b47c-d9640db72b51"
      },
      "execution_count": 353,
      "outputs": [
        {
          "output_type": "stream",
          "name": "stderr",
          "text": [
            "/usr/local/lib/python3.7/dist-packages/ipykernel_launcher.py:1: SettingWithCopyWarning: \n",
            "A value is trying to be set on a copy of a slice from a DataFrame.\n",
            "Try using .loc[row_indexer,col_indexer] = value instead\n",
            "\n",
            "See the caveats in the documentation: https://pandas.pydata.org/pandas-docs/stable/user_guide/indexing.html#returning-a-view-versus-a-copy\n",
            "  \"\"\"Entry point for launching an IPython kernel.\n"
          ]
        }
      ]
    },
    {
      "cell_type": "code",
      "source": [
        "Data_Analytcs_ML1 = ML_Data_check9[ML_Data_check9['label']==1]"
      ],
      "metadata": {
        "id": "bnIkNJmBN2gq"
      },
      "execution_count": 354,
      "outputs": []
    },
    {
      "cell_type": "code",
      "source": [
        "Data_Analytcs_ML1.shape"
      ],
      "metadata": {
        "colab": {
          "base_uri": "https://localhost:8080/"
        },
        "id": "87i-PY-_N2W_",
        "outputId": "399e8ead-8652-41d0-b591-427662501b12"
      },
      "execution_count": 355,
      "outputs": [
        {
          "output_type": "execute_result",
          "data": {
            "text/plain": [
              "(9, 11)"
            ]
          },
          "metadata": {},
          "execution_count": 355
        }
      ]
    },
    {
      "cell_type": "code",
      "source": [
        "ML_Data_check10 = ML_Data_check9[ML_Data_check9['label']==0]"
      ],
      "metadata": {
        "id": "W3bZAY6MN2US"
      },
      "execution_count": 356,
      "outputs": []
    },
    {
      "cell_type": "code",
      "source": [
        "ML_Data_check10.shape"
      ],
      "metadata": {
        "colab": {
          "base_uri": "https://localhost:8080/"
        },
        "id": "z_w7hfPqN2Rg",
        "outputId": "b3ead54c-a6da-4c65-af0e-7458fb845853"
      },
      "execution_count": 357,
      "outputs": [
        {
          "output_type": "execute_result",
          "data": {
            "text/plain": [
              "(91, 11)"
            ]
          },
          "metadata": {},
          "execution_count": 357
        }
      ]
    },
    {
      "cell_type": "code",
      "source": [
        ""
      ],
      "metadata": {
        "id": "UfyH_FGTOXV8"
      },
      "execution_count": null,
      "outputs": []
    },
    {
      "cell_type": "code",
      "source": [
        "label25, other_labels25, label_name25, countpos25, countneg25 = check_Avalaiblity(ML_Data_check10,\"Software\")"
      ],
      "metadata": {
        "id": "6SSlnmmlMGiL"
      },
      "execution_count": 358,
      "outputs": []
    },
    {
      "cell_type": "code",
      "source": [
        "countpos25"
      ],
      "metadata": {
        "colab": {
          "base_uri": "https://localhost:8080/"
        },
        "id": "S9xReJARMY97",
        "outputId": "a35b3f36-1589-458b-8af9-cb60cf52ba28"
      },
      "execution_count": 359,
      "outputs": [
        {
          "output_type": "execute_result",
          "data": {
            "text/plain": [
              "7"
            ]
          },
          "metadata": {},
          "execution_count": 359
        }
      ]
    },
    {
      "cell_type": "code",
      "source": [
        "label_name25"
      ],
      "metadata": {
        "colab": {
          "base_uri": "https://localhost:8080/"
        },
        "id": "_mTExJ3IMaIz",
        "outputId": "9c7fc968-04de-4574-80ec-b5355b578c81"
      },
      "execution_count": 360,
      "outputs": [
        {
          "output_type": "execute_result",
          "data": {
            "text/plain": [
              "['Software Developer',\n",
              " 'Software Intern',\n",
              " 'Software Developer',\n",
              " 'Software Development Intern',\n",
              " 'Embedded Software Trainee - Siemens EDA Academy of Excellence',\n",
              " 'Software Developer 2',\n",
              " 'Backend Software engineer']"
            ]
          },
          "metadata": {},
          "execution_count": 360
        }
      ]
    },
    {
      "cell_type": "code",
      "source": [
        "ML_Data_check10['label']=label25"
      ],
      "metadata": {
        "colab": {
          "base_uri": "https://localhost:8080/"
        },
        "id": "0Q9Mkb2FOj0H",
        "outputId": "19b44e97-3647-4d1d-a13c-ba0cb3e0b965"
      },
      "execution_count": 361,
      "outputs": [
        {
          "output_type": "stream",
          "name": "stderr",
          "text": [
            "/usr/local/lib/python3.7/dist-packages/ipykernel_launcher.py:1: SettingWithCopyWarning: \n",
            "A value is trying to be set on a copy of a slice from a DataFrame.\n",
            "Try using .loc[row_indexer,col_indexer] = value instead\n",
            "\n",
            "See the caveats in the documentation: https://pandas.pydata.org/pandas-docs/stable/user_guide/indexing.html#returning-a-view-versus-a-copy\n",
            "  \"\"\"Entry point for launching an IPython kernel.\n"
          ]
        }
      ]
    },
    {
      "cell_type": "code",
      "source": [
        "Software_Eng_M2 = ML_Data_check10[ML_Data_check10['label']==1]"
      ],
      "metadata": {
        "id": "w_OVX15AOopT"
      },
      "execution_count": 362,
      "outputs": []
    },
    {
      "cell_type": "code",
      "source": [
        "Software_Eng_M2.shape"
      ],
      "metadata": {
        "colab": {
          "base_uri": "https://localhost:8080/"
        },
        "id": "MWnLxIi9Mc-z",
        "outputId": "0a673411-52a3-4058-c279-a6a2d8e146fc"
      },
      "execution_count": 363,
      "outputs": [
        {
          "output_type": "execute_result",
          "data": {
            "text/plain": [
              "(7, 11)"
            ]
          },
          "metadata": {},
          "execution_count": 363
        }
      ]
    },
    {
      "cell_type": "code",
      "source": [
        "ML_Data_check11 = ML_Data_check10[ML_Data_check10['label']==0]"
      ],
      "metadata": {
        "id": "MSkdEIJfO4vx"
      },
      "execution_count": 364,
      "outputs": []
    },
    {
      "cell_type": "code",
      "source": [
        "ML_Data_check11.shape"
      ],
      "metadata": {
        "colab": {
          "base_uri": "https://localhost:8080/"
        },
        "id": "yZ4oK3MtO_SF",
        "outputId": "bd5f525a-cc30-4fc7-9c3f-0ea2bfddb88b"
      },
      "execution_count": 365,
      "outputs": [
        {
          "output_type": "execute_result",
          "data": {
            "text/plain": [
              "(84, 11)"
            ]
          },
          "metadata": {},
          "execution_count": 365
        }
      ]
    },
    {
      "cell_type": "code",
      "source": [
        "ML_Data_check11"
      ],
      "metadata": {
        "id": "QnbB2WaPO_Ib"
      },
      "execution_count": null,
      "outputs": []
    },
    {
      "cell_type": "code",
      "source": [
        "MLEngNEw_MLDt2 = ML_Data_check11.loc[[9,24,26,50,56,93,94,116,138,144,145,150,157,175,189,289,295,305,308,474,494,558,565,625],:]"
      ],
      "metadata": {
        "id": "GOCi_jLbO4qb"
      },
      "execution_count": 367,
      "outputs": []
    },
    {
      "cell_type": "code",
      "source": [
        "DataSciNEw_MLDt2 = ML_Data_check11.loc[[65,136,206,210,219,280,458,479,597,629],:]"
      ],
      "metadata": {
        "id": "Z14jVWGmP5Bj"
      },
      "execution_count": 368,
      "outputs": []
    },
    {
      "cell_type": "code",
      "source": [
        "MLEngNEw_MLDt2.shape"
      ],
      "metadata": {
        "colab": {
          "base_uri": "https://localhost:8080/"
        },
        "id": "nTidcTDCTH1U",
        "outputId": "493d22e3-e57b-4073-87e5-5dbfd1620385"
      },
      "execution_count": 369,
      "outputs": [
        {
          "output_type": "execute_result",
          "data": {
            "text/plain": [
              "(24, 11)"
            ]
          },
          "metadata": {},
          "execution_count": 369
        }
      ]
    },
    {
      "cell_type": "code",
      "source": [
        "DataSciNEw_MLDt2.shape"
      ],
      "metadata": {
        "colab": {
          "base_uri": "https://localhost:8080/"
        },
        "id": "nwEOjGInTJsT",
        "outputId": "f1155b77-606d-4848-899b-97cc4e3384ab"
      },
      "execution_count": 370,
      "outputs": [
        {
          "output_type": "execute_result",
          "data": {
            "text/plain": [
              "(10, 11)"
            ]
          },
          "metadata": {},
          "execution_count": 370
        }
      ]
    },
    {
      "cell_type": "code",
      "source": [
        ""
      ],
      "metadata": {
        "id": "v5R2eYLET3jo"
      },
      "execution_count": null,
      "outputs": []
    },
    {
      "cell_type": "code",
      "source": [
        ""
      ],
      "metadata": {
        "id": "j1401lfwT3e6"
      },
      "execution_count": null,
      "outputs": []
    },
    {
      "cell_type": "code",
      "source": [
        ""
      ],
      "metadata": {
        "id": "yp0BJLJwT3XH"
      },
      "execution_count": null,
      "outputs": []
    },
    {
      "cell_type": "code",
      "source": [
        "Data_Sci_1.shape"
      ],
      "metadata": {
        "colab": {
          "base_uri": "https://localhost:8080/"
        },
        "id": "9CgkIAwnTLak",
        "outputId": "afeee2dd-7711-49f1-9529-21610062e8e4"
      },
      "execution_count": 371,
      "outputs": [
        {
          "output_type": "execute_result",
          "data": {
            "text/plain": [
              "(30, 11)"
            ]
          },
          "metadata": {},
          "execution_count": 371
        }
      ]
    },
    {
      "cell_type": "code",
      "source": [
        "Data_Sci_2.shape"
      ],
      "metadata": {
        "colab": {
          "base_uri": "https://localhost:8080/"
        },
        "id": "VY9BjeiKT4nr",
        "outputId": "bf646a18-42c1-45be-f04b-6ec4f78fb215"
      },
      "execution_count": 372,
      "outputs": [
        {
          "output_type": "execute_result",
          "data": {
            "text/plain": [
              "(10, 11)"
            ]
          },
          "metadata": {},
          "execution_count": 372
        }
      ]
    },
    {
      "cell_type": "code",
      "source": [
        "Data_Eng_1.shape"
      ],
      "metadata": {
        "colab": {
          "base_uri": "https://localhost:8080/"
        },
        "id": "IZRT3Nc-UBpj",
        "outputId": "d164d566-f3e6-4518-d133-75fefe20c05f"
      },
      "execution_count": 373,
      "outputs": [
        {
          "output_type": "execute_result",
          "data": {
            "text/plain": [
              "(12, 11)"
            ]
          },
          "metadata": {},
          "execution_count": 373
        }
      ]
    },
    {
      "cell_type": "code",
      "source": [
        "Software_Eng_M.shape"
      ],
      "metadata": {
        "colab": {
          "base_uri": "https://localhost:8080/"
        },
        "id": "k1ILz7kuUII0",
        "outputId": "fa26fd38-d6a1-47f0-b722-92269422e71e"
      },
      "execution_count": 374,
      "outputs": [
        {
          "output_type": "execute_result",
          "data": {
            "text/plain": [
              "(26, 11)"
            ]
          },
          "metadata": {},
          "execution_count": 374
        }
      ]
    },
    {
      "cell_type": "code",
      "source": [
        "MLEngNEw_MLDt.shape"
      ],
      "metadata": {
        "colab": {
          "base_uri": "https://localhost:8080/"
        },
        "id": "iWf8K4ULUT4q",
        "outputId": "b1b65011-1194-4ce7-fb10-9febd61ba959"
      },
      "execution_count": 375,
      "outputs": [
        {
          "output_type": "execute_result",
          "data": {
            "text/plain": [
              "(7, 11)"
            ]
          },
          "metadata": {},
          "execution_count": 375
        }
      ]
    },
    {
      "cell_type": "code",
      "source": [
        "DataSciNEw_MLDt.shape"
      ],
      "metadata": {
        "colab": {
          "base_uri": "https://localhost:8080/"
        },
        "id": "u952VLyBUdra",
        "outputId": "ae694c2a-cb94-47f8-9c92-5d6676596234"
      },
      "execution_count": 376,
      "outputs": [
        {
          "output_type": "execute_result",
          "data": {
            "text/plain": [
              "(3, 11)"
            ]
          },
          "metadata": {},
          "execution_count": 376
        }
      ]
    },
    {
      "cell_type": "code",
      "source": [
        "Data_Analytcs_ML1.shape"
      ],
      "metadata": {
        "colab": {
          "base_uri": "https://localhost:8080/"
        },
        "id": "pUEmnwRlUieq",
        "outputId": "9c25d5ed-2ad0-43b1-9c63-ccd13cefe087"
      },
      "execution_count": 377,
      "outputs": [
        {
          "output_type": "execute_result",
          "data": {
            "text/plain": [
              "(9, 11)"
            ]
          },
          "metadata": {},
          "execution_count": 377
        }
      ]
    },
    {
      "cell_type": "code",
      "source": [
        "Software_Eng_M2.shape"
      ],
      "metadata": {
        "colab": {
          "base_uri": "https://localhost:8080/"
        },
        "id": "ZERZDSLKUpy7",
        "outputId": "02842aa0-ebd7-4d1c-a17d-4fb9b4ae67af"
      },
      "execution_count": 378,
      "outputs": [
        {
          "output_type": "execute_result",
          "data": {
            "text/plain": [
              "(7, 11)"
            ]
          },
          "metadata": {},
          "execution_count": 378
        }
      ]
    },
    {
      "cell_type": "code",
      "source": [
        "MLEngNEw_MLDt2.shape"
      ],
      "metadata": {
        "colab": {
          "base_uri": "https://localhost:8080/"
        },
        "id": "ayRAf6CiUzNz",
        "outputId": "8c67d75a-9633-483f-a570-81e52c4df8e3"
      },
      "execution_count": 379,
      "outputs": [
        {
          "output_type": "execute_result",
          "data": {
            "text/plain": [
              "(24, 11)"
            ]
          },
          "metadata": {},
          "execution_count": 379
        }
      ]
    },
    {
      "cell_type": "code",
      "source": [
        "DataSciNEw_MLDt2.shape"
      ],
      "metadata": {
        "colab": {
          "base_uri": "https://localhost:8080/"
        },
        "id": "QpcKEhQ7U4iz",
        "outputId": "97030a53-3cf9-46e8-ea1b-23954ae24b6e"
      },
      "execution_count": 380,
      "outputs": [
        {
          "output_type": "execute_result",
          "data": {
            "text/plain": [
              "(10, 11)"
            ]
          },
          "metadata": {},
          "execution_count": 380
        }
      ]
    },
    {
      "cell_type": "code",
      "source": [
        ""
      ],
      "metadata": {
        "id": "RrN8J7OZWQAi"
      },
      "execution_count": null,
      "outputs": []
    },
    {
      "cell_type": "code",
      "source": [
        ""
      ],
      "metadata": {
        "id": "KO87miyEWP8b"
      },
      "execution_count": null,
      "outputs": []
    },
    {
      "cell_type": "code",
      "source": [
        ""
      ],
      "metadata": {
        "id": "foEq23BrWPyz"
      },
      "execution_count": null,
      "outputs": []
    },
    {
      "cell_type": "code",
      "source": [
        ""
      ],
      "metadata": {
        "id": "thULCnwjWqL2"
      },
      "execution_count": null,
      "outputs": []
    },
    {
      "cell_type": "code",
      "source": [
        ""
      ],
      "metadata": {
        "id": "-9PPC4JdWqID"
      },
      "execution_count": null,
      "outputs": []
    },
    {
      "cell_type": "code",
      "source": [
        "Data_Science_Pro1_ML = pd.concat([Data_Sci_1,Data_Sci_2,DataSciNEw_MLDt,DataSciNEw_MLDt2],ignore_index=True)"
      ],
      "metadata": {
        "id": "DB0TN2V8U7gy"
      },
      "execution_count": 381,
      "outputs": []
    },
    {
      "cell_type": "code",
      "source": [
        "Software_Eng_Pro1_ML = pd.concat([Software_Eng_M,Software_Eng_M2],ignore_index=True)"
      ],
      "metadata": {
        "id": "pbb65QH6Vbyq"
      },
      "execution_count": 383,
      "outputs": []
    },
    {
      "cell_type": "code",
      "source": [
        "ML_Eng_Pro1_ML = pd.concat([MLEngNEw_MLDt,MLEngNEw_MLDt2],ignore_index=True)"
      ],
      "metadata": {
        "id": "tCU3HvkyVy2y"
      },
      "execution_count": 386,
      "outputs": []
    },
    {
      "cell_type": "code",
      "source": [
        ""
      ],
      "metadata": {
        "id": "S5xni_YhW0Bx"
      },
      "execution_count": null,
      "outputs": []
    },
    {
      "cell_type": "code",
      "source": [
        ""
      ],
      "metadata": {
        "id": "dtPGSSBUWz-4"
      },
      "execution_count": null,
      "outputs": []
    },
    {
      "cell_type": "code",
      "source": [
        "# All data belog to Machine Learning Engineer Category from ML_Data Dataset\n",
        "Data_ML_Pro.shape"
      ],
      "metadata": {
        "colab": {
          "base_uri": "https://localhost:8080/"
        },
        "id": "0PqBohFgWp-t",
        "outputId": "e620de5a-ea97-4348-ce0f-6c390f28743a"
      },
      "execution_count": 391,
      "outputs": [
        {
          "output_type": "execute_result",
          "data": {
            "text/plain": [
              "(438, 11)"
            ]
          },
          "metadata": {},
          "execution_count": 391
        }
      ]
    },
    {
      "cell_type": "code",
      "source": [
        "# All data belog to Data Science Category from ML_Data Dataset\n",
        "Data_Science_Pro1_ML.shape"
      ],
      "metadata": {
        "colab": {
          "base_uri": "https://localhost:8080/"
        },
        "id": "n2PycMEmVZz7",
        "outputId": "15db5db4-d4fa-419d-a139-4a43c6d8c49b"
      },
      "execution_count": 392,
      "outputs": [
        {
          "output_type": "execute_result",
          "data": {
            "text/plain": [
              "(53, 11)"
            ]
          },
          "metadata": {},
          "execution_count": 392
        }
      ]
    },
    {
      "cell_type": "code",
      "source": [
        "# All data belog to Software Engineer Category from ML_Data Dataset\n",
        "Software_Eng_Pro1_ML.shape"
      ],
      "metadata": {
        "colab": {
          "base_uri": "https://localhost:8080/"
        },
        "id": "j3_nJ8njVw8C",
        "outputId": "be7dea6a-5a61-491a-b33d-fdbfa5681a4f"
      },
      "execution_count": 393,
      "outputs": [
        {
          "output_type": "execute_result",
          "data": {
            "text/plain": [
              "(33, 11)"
            ]
          },
          "metadata": {},
          "execution_count": 393
        }
      ]
    },
    {
      "cell_type": "code",
      "source": [
        "# All data belog to Machine Learning Engineer small Category from ML_Data Dataset\n",
        "ML_Eng_Pro1_ML.shape"
      ],
      "metadata": {
        "colab": {
          "base_uri": "https://localhost:8080/"
        },
        "id": "cOoYcwGnWDfT",
        "outputId": "322eccd2-937e-47ee-e09e-9c278358a163"
      },
      "execution_count": 394,
      "outputs": [
        {
          "output_type": "execute_result",
          "data": {
            "text/plain": [
              "(31, 11)"
            ]
          },
          "metadata": {},
          "execution_count": 394
        }
      ]
    },
    {
      "cell_type": "code",
      "source": [
        "# All data belog to Data Analytics Category from ML_Data Dataset\n",
        "Data_Analytcs_ML1.shape"
      ],
      "metadata": {
        "colab": {
          "base_uri": "https://localhost:8080/"
        },
        "id": "FownU9p0WFJD",
        "outputId": "063f0b30-9366-4e39-d6c0-d634e0b7abfc"
      },
      "execution_count": 395,
      "outputs": [
        {
          "output_type": "execute_result",
          "data": {
            "text/plain": [
              "(9, 11)"
            ]
          },
          "metadata": {},
          "execution_count": 395
        }
      ]
    },
    {
      "cell_type": "code",
      "source": [
        "# All data belog to Data Engineer Category from ML_Data Dataset\n",
        "Data_Eng_1.shape"
      ],
      "metadata": {
        "colab": {
          "base_uri": "https://localhost:8080/"
        },
        "id": "IDU__GqxWLia",
        "outputId": "8f85487a-b71d-4f5f-eaf8-0c5c6c918322"
      },
      "execution_count": 396,
      "outputs": [
        {
          "output_type": "execute_result",
          "data": {
            "text/plain": [
              "(12, 11)"
            ]
          },
          "metadata": {},
          "execution_count": 396
        }
      ]
    },
    {
      "cell_type": "code",
      "source": [
        "# All data belog to Data Engineer Category from DEng_Data Dataset\n",
        "Data_Eng_Pro2.shape"
      ],
      "metadata": {
        "colab": {
          "base_uri": "https://localhost:8080/"
        },
        "id": "5n-ekHX2WOaX",
        "outputId": "64141d15-cff3-41a6-83f9-112edfde47bd"
      },
      "execution_count": 397,
      "outputs": [
        {
          "output_type": "execute_result",
          "data": {
            "text/plain": [
              "(262, 11)"
            ]
          },
          "metadata": {},
          "execution_count": 397
        }
      ]
    },
    {
      "cell_type": "code",
      "source": [
        "# All data belog to Machine Learning Engineer Category from DEng_Data Dataset\n",
        "ML_Eng_Pro1_DEng.shape"
      ],
      "metadata": {
        "colab": {
          "base_uri": "https://localhost:8080/"
        },
        "id": "9BZxcjXsZPYy",
        "outputId": "3aacfc8c-10c8-4488-f563-c8da87cda97e"
      },
      "execution_count": 398,
      "outputs": [
        {
          "output_type": "execute_result",
          "data": {
            "text/plain": [
              "(9, 11)"
            ]
          },
          "metadata": {},
          "execution_count": 398
        }
      ]
    },
    {
      "cell_type": "code",
      "source": [
        "# All data belog to Data Science Category from DEng_Data Dataset\n",
        "Data_Science_Pro2_DEng.shape"
      ],
      "metadata": {
        "colab": {
          "base_uri": "https://localhost:8080/"
        },
        "id": "HjGH40nKZXDi",
        "outputId": "b0bb1db8-2737-4372-d6fc-eaeeda837377"
      },
      "execution_count": 399,
      "outputs": [
        {
          "output_type": "execute_result",
          "data": {
            "text/plain": [
              "(51, 11)"
            ]
          },
          "metadata": {},
          "execution_count": 399
        }
      ]
    },
    {
      "cell_type": "code",
      "source": [
        "# All data belog to QA Category from DEng_Data Dataset\n",
        "QA_DEng.shape"
      ],
      "metadata": {
        "colab": {
          "base_uri": "https://localhost:8080/"
        },
        "id": "EzmZqX_IZej6",
        "outputId": "41d464d8-82d9-49ee-fa3a-e55d74b4ef84"
      },
      "execution_count": 400,
      "outputs": [
        {
          "output_type": "execute_result",
          "data": {
            "text/plain": [
              "(6, 11)"
            ]
          },
          "metadata": {},
          "execution_count": 400
        }
      ]
    },
    {
      "cell_type": "code",
      "source": [
        "# All data belog to Networking Category from DEng_Data Dataset\n",
        "NetworkEng_Pro.shape"
      ],
      "metadata": {
        "colab": {
          "base_uri": "https://localhost:8080/"
        },
        "id": "gPDRsjZuZmRC",
        "outputId": "a85c8190-063e-40e4-df88-b8072dcd878c"
      },
      "execution_count": 401,
      "outputs": [
        {
          "output_type": "execute_result",
          "data": {
            "text/plain": [
              "(15, 11)"
            ]
          },
          "metadata": {},
          "execution_count": 401
        }
      ]
    },
    {
      "cell_type": "code",
      "source": [
        "# All data belog to Software Engineer Category from DEng_Data Dataset\n",
        "SoftwareEngFull.shape"
      ],
      "metadata": {
        "colab": {
          "base_uri": "https://localhost:8080/"
        },
        "id": "x5OLrj_1ZvSK",
        "outputId": "b8581a02-06f0-4700-8634-fb8de9050463"
      },
      "execution_count": 402,
      "outputs": [
        {
          "output_type": "execute_result",
          "data": {
            "text/plain": [
              "(64, 11)"
            ]
          },
          "metadata": {},
          "execution_count": 402
        }
      ]
    },
    {
      "cell_type": "code",
      "source": [
        "# All data belog to Data Analytics Category from DEng_Data Dataset\n",
        "Data_Analyst1.shape"
      ],
      "metadata": {
        "colab": {
          "base_uri": "https://localhost:8080/"
        },
        "id": "IrJvtc3HZ5si",
        "outputId": "359a5985-f230-4b74-c614-78b0b38b5fd8"
      },
      "execution_count": 403,
      "outputs": [
        {
          "output_type": "execute_result",
          "data": {
            "text/plain": [
              "(9, 11)"
            ]
          },
          "metadata": {},
          "execution_count": 403
        }
      ]
    },
    {
      "cell_type": "code",
      "source": [
        "# Need to check these values from DEng_Data Dataset\n",
        "DataEng_check8.shape"
      ],
      "metadata": {
        "colab": {
          "base_uri": "https://localhost:8080/"
        },
        "id": "eUBKO1QBaCfJ",
        "outputId": "751130a8-6d77-4b39-f6e6-0bb4a5155562"
      },
      "execution_count": 404,
      "outputs": [
        {
          "output_type": "execute_result",
          "data": {
            "text/plain": [
              "(83, 11)"
            ]
          },
          "metadata": {},
          "execution_count": 404
        }
      ]
    },
    {
      "cell_type": "code",
      "source": [
        "ML_Eng_Full_Data = pd.concat([Data_ML_Pro,ML_Eng_Pro1_ML,ML_Eng_Pro1_DEng],ignore_index=True)"
      ],
      "metadata": {
        "id": "JbBiLf3QaMqK"
      },
      "execution_count": 406,
      "outputs": []
    },
    {
      "cell_type": "code",
      "source": [
        "ML_Eng_Full_Data.shape"
      ],
      "metadata": {
        "colab": {
          "base_uri": "https://localhost:8080/"
        },
        "id": "lzrYULDDaNrZ",
        "outputId": "6a05f066-bf19-43a6-f13a-c19f607d4c80"
      },
      "execution_count": 407,
      "outputs": [
        {
          "output_type": "execute_result",
          "data": {
            "text/plain": [
              "(478, 11)"
            ]
          },
          "metadata": {},
          "execution_count": 407
        }
      ]
    },
    {
      "cell_type": "code",
      "source": [
        "Data_Eng_Full_Data = pd.concat([Data_Eng_1,Data_Eng_Pro2],ignore_index=True)"
      ],
      "metadata": {
        "id": "bWCIXOwuaNoR"
      },
      "execution_count": 408,
      "outputs": []
    },
    {
      "cell_type": "code",
      "source": [
        "Data_Eng_Full_Data.shape"
      ],
      "metadata": {
        "colab": {
          "base_uri": "https://localhost:8080/"
        },
        "id": "Rb8TrmyVaNlD",
        "outputId": "2fe9adad-3531-424a-f4f5-a3e22ac188d3"
      },
      "execution_count": 409,
      "outputs": [
        {
          "output_type": "execute_result",
          "data": {
            "text/plain": [
              "(274, 11)"
            ]
          },
          "metadata": {},
          "execution_count": 409
        }
      ]
    },
    {
      "cell_type": "code",
      "source": [
        "Data_Sci_Full_Data = pd.concat([Data_Science_Pro1_ML,Data_Science_Pro2_DEng],ignore_index=True)"
      ],
      "metadata": {
        "id": "POOJStcVaNh3"
      },
      "execution_count": 410,
      "outputs": []
    },
    {
      "cell_type": "code",
      "source": [
        "Data_Sci_Full_Data.shape"
      ],
      "metadata": {
        "colab": {
          "base_uri": "https://localhost:8080/"
        },
        "id": "eTsEhBQXaNer",
        "outputId": "8521c70a-5738-4f13-b867-1191eb42a014"
      },
      "execution_count": 411,
      "outputs": [
        {
          "output_type": "execute_result",
          "data": {
            "text/plain": [
              "(104, 11)"
            ]
          },
          "metadata": {},
          "execution_count": 411
        }
      ]
    },
    {
      "cell_type": "code",
      "source": [
        "Software_Full_Data = pd.concat([Software_Eng_Pro1_ML,SoftwareEngFull],ignore_index=True)"
      ],
      "metadata": {
        "id": "rOMl33_JaNU8"
      },
      "execution_count": 412,
      "outputs": []
    },
    {
      "cell_type": "code",
      "source": [
        "Software_Full_Data.shape"
      ],
      "metadata": {
        "colab": {
          "base_uri": "https://localhost:8080/"
        },
        "id": "uTO5z4yKbwpF",
        "outputId": "dade40ff-b76c-43ff-ad51-38e4533208fb"
      },
      "execution_count": 413,
      "outputs": [
        {
          "output_type": "execute_result",
          "data": {
            "text/plain": [
              "(97, 11)"
            ]
          },
          "metadata": {},
          "execution_count": 413
        }
      ]
    },
    {
      "cell_type": "code",
      "source": [
        "Data_Analtics_Full_Data = pd.concat([Data_Analytcs_ML1,Data_Analyst1],ignore_index=True)"
      ],
      "metadata": {
        "id": "5JLOPQchby7q"
      },
      "execution_count": 414,
      "outputs": []
    },
    {
      "cell_type": "code",
      "source": [
        "Data_Analtics_Full_Data.shape"
      ],
      "metadata": {
        "colab": {
          "base_uri": "https://localhost:8080/"
        },
        "id": "z1sg6tCocGuT",
        "outputId": "52f43a3a-98e8-4db1-af28-3a32b23efc05"
      },
      "execution_count": 415,
      "outputs": [
        {
          "output_type": "execute_result",
          "data": {
            "text/plain": [
              "(18, 11)"
            ]
          },
          "metadata": {},
          "execution_count": 415
        }
      ]
    },
    {
      "cell_type": "code",
      "source": [
        "QA_DEng.shape"
      ],
      "metadata": {
        "colab": {
          "base_uri": "https://localhost:8080/"
        },
        "id": "JfPykIuTcIiS",
        "outputId": "205874aa-2601-4b4f-d66f-1d31b5bab862"
      },
      "execution_count": 416,
      "outputs": [
        {
          "output_type": "execute_result",
          "data": {
            "text/plain": [
              "(6, 11)"
            ]
          },
          "metadata": {},
          "execution_count": 416
        }
      ]
    },
    {
      "cell_type": "code",
      "source": [
        "NetworkEng_Pro.shape"
      ],
      "metadata": {
        "colab": {
          "base_uri": "https://localhost:8080/"
        },
        "id": "ZKA1ZuY1cPGS",
        "outputId": "9ee1d568-d2b7-4cb6-f73f-0bd9e57f4f29"
      },
      "execution_count": 417,
      "outputs": [
        {
          "output_type": "execute_result",
          "data": {
            "text/plain": [
              "(15, 11)"
            ]
          },
          "metadata": {},
          "execution_count": 417
        }
      ]
    },
    {
      "cell_type": "code",
      "source": [
        "ML_Eng_Full_Data.to_csv(r'/content/drive/MyDrive/Research Dataset/processed_data/Added_Target/DataSci_ML_DataEng/ML_full.csv')"
      ],
      "metadata": {
        "id": "l6GTIqUFcSo6"
      },
      "execution_count": 420,
      "outputs": []
    },
    {
      "cell_type": "code",
      "source": [
        "Data_Eng_Full_Data.to_csv(r'/content/drive/MyDrive/Research Dataset/processed_data/Added_Target/DataSci_ML_DataEng/DEng_full.csv')"
      ],
      "metadata": {
        "id": "Wvwb2HVIcunK"
      },
      "execution_count": 421,
      "outputs": []
    },
    {
      "cell_type": "code",
      "source": [
        "Data_Sci_Full_Data.to_csv(r'/content/drive/MyDrive/Research Dataset/processed_data/Added_Target/DataSci_ML_DataEng/DSci_full.csv')"
      ],
      "metadata": {
        "id": "Tqy82Jwac2xq"
      },
      "execution_count": 422,
      "outputs": []
    },
    {
      "cell_type": "code",
      "source": [
        "Software_Full_Data.to_csv(r'/content/drive/MyDrive/Research Dataset/processed_data/Added_Target/DataSci_ML_DataEng/Software_full.csv')"
      ],
      "metadata": {
        "id": "32cswcoGdIj7"
      },
      "execution_count": 423,
      "outputs": []
    },
    {
      "cell_type": "code",
      "source": [
        "Data_Analtics_Full_Data.to_csv(r'/content/drive/MyDrive/Research Dataset/processed_data/Added_Target/DataSci_ML_DataEng/DAnaly_full.csv')"
      ],
      "metadata": {
        "id": "jpJbIFtfdQd6"
      },
      "execution_count": 424,
      "outputs": []
    },
    {
      "cell_type": "code",
      "source": [
        "QA_DEng.to_csv(r'/content/drive/MyDrive/Research Dataset/processed_data/Added_Target/DataSci_ML_DataEng/QA_full.csv')"
      ],
      "metadata": {
        "id": "y_Gc9tJWdYr6"
      },
      "execution_count": 425,
      "outputs": []
    },
    {
      "cell_type": "code",
      "source": [
        "NetworkEng_Pro.to_csv(r'/content/drive/MyDrive/Research Dataset/processed_data/Added_Target/DataSci_ML_DataEng/NET_full.csv')"
      ],
      "metadata": {
        "id": "Ioiw3DKKdd8a"
      },
      "execution_count": 426,
      "outputs": []
    },
    {
      "cell_type": "code",
      "source": [
        ""
      ],
      "metadata": {
        "id": "RiTnnCjzdiQK"
      },
      "execution_count": null,
      "outputs": []
    }
  ]
}