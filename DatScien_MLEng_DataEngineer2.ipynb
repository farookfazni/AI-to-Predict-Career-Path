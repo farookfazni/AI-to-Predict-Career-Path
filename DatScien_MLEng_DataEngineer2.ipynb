{
  "nbformat": 4,
  "nbformat_minor": 0,
  "metadata": {
    "colab": {
      "name": "DatScien_MLEng_DataEngineer2.ipynb",
      "provenance": [],
      "mount_file_id": "1BHd86BwlGyTuSwnlyckazLOj2pEJoJ34",
      "authorship_tag": "ABX9TyN1Ec+opewGtWzchwq4cr4e",
      "include_colab_link": true
    },
    "kernelspec": {
      "name": "python3",
      "display_name": "Python 3"
    },
    "language_info": {
      "name": "python"
    }
  },
  "cells": [
    {
      "cell_type": "markdown",
      "metadata": {
        "id": "view-in-github",
        "colab_type": "text"
      },
      "source": [
        "<a href=\"https://colab.research.google.com/github/farookfazni/AI-to-Predict-Career-Path/blob/master/DatScien_MLEng_DataEngineer2.ipynb\" target=\"_parent\"><img src=\"https://colab.research.google.com/assets/colab-badge.svg\" alt=\"Open In Colab\"/></a>"
      ]
    },
    {
      "cell_type": "code",
      "execution_count": 1,
      "metadata": {
        "id": "EJM_gmOT-bX5"
      },
      "outputs": [],
      "source": [
        "import pandas as pd"
      ]
    },
    {
      "cell_type": "code",
      "source": [
        "Data_Sci = pd.read_csv('/content/drive/MyDrive/Research Dataset/processed_data/Cleaned_Data_Step1/DSci_processed1.csv')\n",
        "Data_Sci_title = pd.read_csv('/content/drive/MyDrive/Research Dataset/processed_data/Fully_Extracted_Data/DSci_processed1.csv')\n"
      ],
      "metadata": {
        "id": "uJ4ql-m0_1uE"
      },
      "execution_count": 2,
      "outputs": []
    },
    {
      "cell_type": "code",
      "source": [
        "Data_Sci_Data = pd.concat([Data_Sci,Data_Sci_title['organization_title_1']], axis=1)\n",
        "Data_Sci_Data = Data_Sci_Data.drop(['Unnamed: 0','Unnamed: 0.1'], axis=1)"
      ],
      "metadata": {
        "id": "6YS6np_SAP-K"
      },
      "execution_count": 3,
      "outputs": []
    },
    {
      "cell_type": "code",
      "source": [
        "def check_Avalaiblity(datset,x=\"Software Engineer\"):\n",
        "  countpos = 0\n",
        "  countneg = 0\n",
        "  other_labels = []\n",
        "  label = []\n",
        "  label_name = []\n",
        "  # goimg through the datset\n",
        "  for i in datset['organization_title_1']:\n",
        "    # making sure all values are string\n",
        "    st = str(i)\n",
        "    # cheking the sub string exisits in string\n",
        "    if x in st:\n",
        "      # if sting is available adding 1 to label\n",
        "      label.append(1)\n",
        "      label_name.append(st)\n",
        "      # Keep count\n",
        "      countpos += 1\n",
        "    else:\n",
        "      # if sting is not available adding 0 to label\n",
        "      label.append(0)\n",
        "      # adding the values of other string values to the other_label\n",
        "      other_labels.append(st)\n",
        "      countneg += 1\n",
        "  return label, other_labels, label_name, countpos, countneg"
      ],
      "metadata": {
        "id": "tUa6gbrRAXAK"
      },
      "execution_count": 4,
      "outputs": []
    },
    {
      "cell_type": "code",
      "source": [
        "Data_Sci_Data.shape"
      ],
      "metadata": {
        "colab": {
          "base_uri": "https://localhost:8080/"
        },
        "id": "lb85vhS3AZN8",
        "outputId": "882e2583-1e25-4cb9-ee43-697788c85bb3"
      },
      "execution_count": 5,
      "outputs": [
        {
          "output_type": "execute_result",
          "data": {
            "text/plain": [
              "(428, 10)"
            ]
          },
          "metadata": {},
          "execution_count": 5
        }
      ]
    },
    {
      "cell_type": "code",
      "source": [
        "Data_Sci_Data['organization_title_1']"
      ],
      "metadata": {
        "colab": {
          "base_uri": "https://localhost:8080/"
        },
        "id": "m2jMPzThAeP5",
        "outputId": "342e0924-a515-486a-ac81-defeff2b0c85"
      },
      "execution_count": 6,
      "outputs": [
        {
          "output_type": "execute_result",
          "data": {
            "text/plain": [
              "0      Linux Kernel Bug Fixing Mentee\n",
              "1                       Web Developer\n",
              "2                   Software Engineer\n",
              "3                              Editor\n",
              "4                   Event Coordinator\n",
              "                    ...              \n",
              "423                    Data Scientist\n",
              "424                    Data Scientist\n",
              "425     Global Medical Data Scientist\n",
              "426                    Data Scientist\n",
              "427             Senior Data Scientist\n",
              "Name: organization_title_1, Length: 428, dtype: object"
            ]
          },
          "metadata": {},
          "execution_count": 6
        }
      ]
    },
    {
      "cell_type": "code",
      "source": [
        "label, other_labels, label_name, countpos, countneg = check_Avalaiblity(Data_Sci_Data,\"Data Scientist\")"
      ],
      "metadata": {
        "id": "3aewaGJ7AgiR"
      },
      "execution_count": 7,
      "outputs": []
    },
    {
      "cell_type": "code",
      "source": [
        "countpos"
      ],
      "metadata": {
        "colab": {
          "base_uri": "https://localhost:8080/"
        },
        "id": "teL0W01WAucb",
        "outputId": "a62c2c9c-4513-46b6-9a25-f2f88a394954"
      },
      "execution_count": 8,
      "outputs": [
        {
          "output_type": "execute_result",
          "data": {
            "text/plain": [
              "287"
            ]
          },
          "metadata": {},
          "execution_count": 8
        }
      ]
    },
    {
      "cell_type": "code",
      "source": [
        "countneg"
      ],
      "metadata": {
        "colab": {
          "base_uri": "https://localhost:8080/"
        },
        "id": "7VlMM6-iAv6R",
        "outputId": "7d4fb238-28e4-473b-ffea-f071476997ce"
      },
      "execution_count": 10,
      "outputs": [
        {
          "output_type": "execute_result",
          "data": {
            "text/plain": [
              "141"
            ]
          },
          "metadata": {},
          "execution_count": 10
        }
      ]
    },
    {
      "cell_type": "code",
      "source": [
        "other_labels"
      ],
      "metadata": {
        "colab": {
          "base_uri": "https://localhost:8080/"
        },
        "id": "903x-sXvAxsp",
        "outputId": "7b05ae45-a076-4b2e-e0a5-327f660f9700"
      },
      "execution_count": 11,
      "outputs": [
        {
          "output_type": "execute_result",
          "data": {
            "text/plain": [
              "['Linux Kernel Bug Fixing Mentee',\n",
              " 'Web Developer',\n",
              " 'Software Engineer',\n",
              " 'Editor',\n",
              " 'Event Coordinator',\n",
              " 'Blogger',\n",
              " 'Senior Consultant',\n",
              " 'nan',\n",
              " 'nan',\n",
              " 'nan',\n",
              " 'Visiting Instructor',\n",
              " 'Data Scienctist',\n",
              " 'Software Engineer',\n",
              " 'Senior Data Engineer',\n",
              " 'Data Engineer',\n",
              " 'Senior Engineer - Data Science ',\n",
              " 'Head of Operations - Data Engineering & Artificial Intelligence',\n",
              " 'Manager - Data Science',\n",
              " 'Associate Technical Lead',\n",
              " 'Visiting Lecturer',\n",
              " 'Intern software developer',\n",
              " 'Senior Business Analyst',\n",
              " 'Insights Analyst',\n",
              " 'Data Analyst',\n",
              " 'Associate',\n",
              " 'Associate Engineer - BI/Data Science ',\n",
              " 'Data Science Engineer',\n",
              " 'Data Engineer',\n",
              " 'Software Engineer',\n",
              " 'Data Engineer',\n",
              " 'Data Engineer',\n",
              " 'Data Analyst',\n",
              " 'Acedemic Instructor ',\n",
              " 'Associate Architect - Data Engineering',\n",
              " 'Associate Tech Lead, Data Science & Engineering',\n",
              " 'Senior Analyst Machine learning and AI',\n",
              " 'Assistant Manager - Data Analytics',\n",
              " 'Trainee Data Engineer',\n",
              " 'Business Analyst (Corporate Affairs, Data & MI/BI)',\n",
              " 'Visiting Lecturer',\n",
              " 'Test Analyst',\n",
              " 'Consultant - Data Science',\n",
              " 'Trainee data scientist',\n",
              " 'Lecturer',\n",
              " 'Director/ Faculty of Information Technology Research Unit (ITRU)',\n",
              " 'Staff Scientist',\n",
              " 'Software Engineer',\n",
              " 'Artificial Intelligence Applications Development Manager ',\n",
              " 'AI Engineer',\n",
              " 'Architect Data Science & Engineering ',\n",
              " 'Deputy General Manager',\n",
              " 'Software Engineer',\n",
              " 'Product Analyst',\n",
              " 'Head of Solutions Engineering (Production Software)',\n",
              " 'Talent Acquisition Specialist',\n",
              " 'Associate Professional Software Engineer',\n",
              " 'Trainee Decision Scientist',\n",
              " 'Data Analyst',\n",
              " 'Cloud Data and AI Lead (Customer Engineer for Google Cloud)',\n",
              " 'Business Data Analyst',\n",
              " 'nan',\n",
              " 'Instructor',\n",
              " 'Machine Learning Scientist',\n",
              " 'Business Development Executive',\n",
              " 'Director Of Engineering',\n",
              " 'Data Scienctist ',\n",
              " 'Data scienctist at NSTP NUST ISB at Orel Vision ',\n",
              " 'Associate Data Engineer',\n",
              " 'Senior Data Engineer',\n",
              " 'Senior Analyst',\n",
              " 'Data and Applied Scientist',\n",
              " 'Data Science Consultant',\n",
              " 'Machine Learning Engineer',\n",
              " 'Research Engineer',\n",
              " 'AI Developer',\n",
              " 'Quality Analytics Specialist',\n",
              " 'Process Executive - Business Intelligence',\n",
              " 'Consultant ',\n",
              " 'Machine Learning Engineer',\n",
              " 'Visiting Lecturer',\n",
              " 'Subject Matter Expert',\n",
              " 'Senior Business Analyst',\n",
              " 'Senior Software Engineer',\n",
              " 'Application Development Associate',\n",
              " 'Data Analyst',\n",
              " 'Contributor',\n",
              " 'Senior Business Analyst',\n",
              " 'Data Engineer',\n",
              " 'Associate Technical Specialist - Analytics Engineering (Data Analytics/Data Science)',\n",
              " 'AI/ML Engineer',\n",
              " 'Assistant Manager',\n",
              " 'Machine Learning Engineer',\n",
              " 'Decision Scientist',\n",
              " 'Team Lead (Data Science)',\n",
              " 'Decision Scientist',\n",
              " 'Senior Software Engineer',\n",
              " 'AI/ML Engineer',\n",
              " 'Analyst - Risk Management ll',\n",
              " 'Data & Applied Scientist',\n",
              " 'Co-Founder',\n",
              " 'Machine Learning Engineer',\n",
              " 'Technical Writer',\n",
              " 'Co-Founder',\n",
              " 'Product Analyst I',\n",
              " 'Data Scienctist and Business Analytics',\n",
              " 'Software Engineer',\n",
              " 'Machine Learning Engineer',\n",
              " 'Trainee Decision Scientist',\n",
              " 'Machine Learning Engineer',\n",
              " 'Founder',\n",
              " 'Data Analyst',\n",
              " 'Research Assistant',\n",
              " 'Data and Applied Scientist 2',\n",
              " 'Senior Consultant(AI)',\n",
              " 'Business Analyst',\n",
              " 'Senior Pricing Analyst',\n",
              " 'System Analyst',\n",
              " 'Deep Learning Engineer',\n",
              " 'Senior Business Analyst',\n",
              " 'Decision Scientist',\n",
              " 'Associate Technical Lead - AI',\n",
              " 'Data Engineer',\n",
              " 'Consultant, Advanced Analytics',\n",
              " 'Digital Marketing Manager',\n",
              " 'Decision Scientist',\n",
              " 'Trainee decision scientist',\n",
              " 'Trainee Decision Scientist ',\n",
              " 'Software Trainee',\n",
              " 'Teaching Assistant',\n",
              " 'Manager',\n",
              " 'Data Analyst',\n",
              " 'Data Analyst',\n",
              " 'Associate Data scientist',\n",
              " 'Angel investor',\n",
              " 'Data Science Analyst',\n",
              " 'Consultant - Data Science/Advanced Analytics',\n",
              " 'Data Science Analyst',\n",
              " 'GCP ML Engineer',\n",
              " 'Local Chapter Lead',\n",
              " 'Data Engineer',\n",
              " 'nan']"
            ]
          },
          "metadata": {},
          "execution_count": 11
        }
      ]
    },
    {
      "cell_type": "code",
      "source": [
        "Data_Sci_Data['label'] = label"
      ],
      "metadata": {
        "id": "P3fb0TC8A4oy"
      },
      "execution_count": 12,
      "outputs": []
    },
    {
      "cell_type": "code",
      "source": [
        "DataScience1 = Data_Sci_Data[Data_Sci_Data['label']==1]"
      ],
      "metadata": {
        "id": "g65kLYKRBF-w"
      },
      "execution_count": 13,
      "outputs": []
    },
    {
      "cell_type": "code",
      "source": [
        "DataScience1.shape"
      ],
      "metadata": {
        "colab": {
          "base_uri": "https://localhost:8080/"
        },
        "id": "O5QeKW8UBOtY",
        "outputId": "f2921d3f-f466-4647-e1d4-7b5ac8f154b7"
      },
      "execution_count": 14,
      "outputs": [
        {
          "output_type": "execute_result",
          "data": {
            "text/plain": [
              "(287, 11)"
            ]
          },
          "metadata": {},
          "execution_count": 14
        }
      ]
    },
    {
      "cell_type": "code",
      "source": [
        "DataSci_Check = Data_Sci_Data[Data_Sci_Data['label']==0]"
      ],
      "metadata": {
        "id": "fGWFfYZ4BQHJ"
      },
      "execution_count": 15,
      "outputs": []
    },
    {
      "cell_type": "code",
      "source": [
        "DataSci_Check.shape"
      ],
      "metadata": {
        "colab": {
          "base_uri": "https://localhost:8080/"
        },
        "id": "U4XilCFUBYYa",
        "outputId": "f39b4890-7e5b-4310-c27d-2b85e50336ea"
      },
      "execution_count": 16,
      "outputs": [
        {
          "output_type": "execute_result",
          "data": {
            "text/plain": [
              "(141, 11)"
            ]
          },
          "metadata": {},
          "execution_count": 16
        }
      ]
    },
    {
      "cell_type": "code",
      "source": [
        "label2, other_labels2, label_name2, countpos2, countneg2 = check_Avalaiblity(DataSci_Check,\"Machine Learning Engineer\")"
      ],
      "metadata": {
        "id": "hBCbigZtBaHp"
      },
      "execution_count": 17,
      "outputs": []
    },
    {
      "cell_type": "code",
      "source": [
        "countpos2"
      ],
      "metadata": {
        "colab": {
          "base_uri": "https://localhost:8080/"
        },
        "id": "anMSUfHCBpKL",
        "outputId": "ae57f2fe-1227-4f96-807b-ae984c13ba52"
      },
      "execution_count": 18,
      "outputs": [
        {
          "output_type": "execute_result",
          "data": {
            "text/plain": [
              "6"
            ]
          },
          "metadata": {},
          "execution_count": 18
        }
      ]
    },
    {
      "cell_type": "code",
      "source": [
        "DataSci_Check['label'] = label2"
      ],
      "metadata": {
        "colab": {
          "base_uri": "https://localhost:8080/"
        },
        "id": "kZgrqWjRCHzR",
        "outputId": "e71ac322-0068-46d5-98b5-4717f223776e"
      },
      "execution_count": 22,
      "outputs": [
        {
          "output_type": "stream",
          "name": "stderr",
          "text": [
            "/usr/local/lib/python3.7/dist-packages/ipykernel_launcher.py:1: SettingWithCopyWarning: \n",
            "A value is trying to be set on a copy of a slice from a DataFrame.\n",
            "Try using .loc[row_indexer,col_indexer] = value instead\n",
            "\n",
            "See the caveats in the documentation: https://pandas.pydata.org/pandas-docs/stable/user_guide/indexing.html#returning-a-view-versus-a-copy\n",
            "  \"\"\"Entry point for launching an IPython kernel.\n"
          ]
        }
      ]
    },
    {
      "cell_type": "code",
      "source": [
        "MAchineLearning1 = DataSci_Check[DataSci_Check['label']==1]"
      ],
      "metadata": {
        "id": "Plev1GmHCRT5"
      },
      "execution_count": 23,
      "outputs": []
    },
    {
      "cell_type": "code",
      "source": [
        "MAchineLearning1.shape"
      ],
      "metadata": {
        "colab": {
          "base_uri": "https://localhost:8080/"
        },
        "id": "7ktr_kUcCc6C",
        "outputId": "51adb3c2-c310-456e-c639-56ef39acfbf7"
      },
      "execution_count": 24,
      "outputs": [
        {
          "output_type": "execute_result",
          "data": {
            "text/plain": [
              "(6, 11)"
            ]
          },
          "metadata": {},
          "execution_count": 24
        }
      ]
    },
    {
      "cell_type": "code",
      "source": [
        "DataSci_Check2 = DataSci_Check[DataSci_Check['label']==0]"
      ],
      "metadata": {
        "id": "k1NDBHvbCRJF"
      },
      "execution_count": 25,
      "outputs": []
    },
    {
      "cell_type": "code",
      "source": [
        "DataSci_Check2.shape"
      ],
      "metadata": {
        "colab": {
          "base_uri": "https://localhost:8080/"
        },
        "id": "YK9meMsVCRAo",
        "outputId": "825060c0-602e-4c75-bf6f-e8e490774ab3"
      },
      "execution_count": 26,
      "outputs": [
        {
          "output_type": "execute_result",
          "data": {
            "text/plain": [
              "(135, 11)"
            ]
          },
          "metadata": {},
          "execution_count": 26
        }
      ]
    },
    {
      "cell_type": "code",
      "source": [
        "label3, other_labels3, label_name3, countpos3, countneg3 = check_Avalaiblity(DataSci_Check2,\"ML Engineer\")"
      ],
      "metadata": {
        "id": "kacrw4wWBqZR"
      },
      "execution_count": 27,
      "outputs": []
    },
    {
      "cell_type": "code",
      "source": [
        "countpos3"
      ],
      "metadata": {
        "colab": {
          "base_uri": "https://localhost:8080/"
        },
        "id": "E7BuIOOIB7qp",
        "outputId": "aed8428d-91d0-4090-f2a1-876829130607"
      },
      "execution_count": 28,
      "outputs": [
        {
          "output_type": "execute_result",
          "data": {
            "text/plain": [
              "3"
            ]
          },
          "metadata": {},
          "execution_count": 28
        }
      ]
    },
    {
      "cell_type": "code",
      "source": [
        "label_name3"
      ],
      "metadata": {
        "colab": {
          "base_uri": "https://localhost:8080/"
        },
        "id": "epgcpVT4B9BB",
        "outputId": "0f06f07f-2904-42fd-8c9c-c9bf32682733"
      },
      "execution_count": 29,
      "outputs": [
        {
          "output_type": "execute_result",
          "data": {
            "text/plain": [
              "['AI/ML Engineer', 'AI/ML Engineer', 'GCP ML Engineer']"
            ]
          },
          "metadata": {},
          "execution_count": 29
        }
      ]
    },
    {
      "cell_type": "code",
      "source": [
        "DataSci_Check2['label'] = label3"
      ],
      "metadata": {
        "colab": {
          "base_uri": "https://localhost:8080/"
        },
        "id": "9NKppXklCAFx",
        "outputId": "9f9d0937-3996-44da-eb8c-18e0f876191c"
      },
      "execution_count": 30,
      "outputs": [
        {
          "output_type": "stream",
          "name": "stderr",
          "text": [
            "/usr/local/lib/python3.7/dist-packages/ipykernel_launcher.py:1: SettingWithCopyWarning: \n",
            "A value is trying to be set on a copy of a slice from a DataFrame.\n",
            "Try using .loc[row_indexer,col_indexer] = value instead\n",
            "\n",
            "See the caveats in the documentation: https://pandas.pydata.org/pandas-docs/stable/user_guide/indexing.html#returning-a-view-versus-a-copy\n",
            "  \"\"\"Entry point for launching an IPython kernel.\n"
          ]
        }
      ]
    },
    {
      "cell_type": "code",
      "source": [
        "MAchineLearning2 = DataSci_Check2[DataSci_Check2['label']==1]"
      ],
      "metadata": {
        "id": "b96fwxaCCyBS"
      },
      "execution_count": 31,
      "outputs": []
    },
    {
      "cell_type": "code",
      "source": [
        "MAchineLearning2.shape"
      ],
      "metadata": {
        "colab": {
          "base_uri": "https://localhost:8080/"
        },
        "id": "6AX_u8NDC4Xg",
        "outputId": "dd988a2e-906a-4da3-ac3f-6ea2d86ad0f5"
      },
      "execution_count": 32,
      "outputs": [
        {
          "output_type": "execute_result",
          "data": {
            "text/plain": [
              "(3, 11)"
            ]
          },
          "metadata": {},
          "execution_count": 32
        }
      ]
    },
    {
      "cell_type": "code",
      "source": [
        "DataSci_Check3 = DataSci_Check2[DataSci_Check2['label']==0]"
      ],
      "metadata": {
        "id": "1CMAsKKLC54p"
      },
      "execution_count": 33,
      "outputs": []
    },
    {
      "cell_type": "code",
      "source": [
        "DataSci_Check3.shape"
      ],
      "metadata": {
        "colab": {
          "base_uri": "https://localhost:8080/"
        },
        "id": "Dwbb_nGBC-I5",
        "outputId": "8a0d9546-ecf8-4aff-f782-f568b21d48fc"
      },
      "execution_count": 35,
      "outputs": [
        {
          "output_type": "execute_result",
          "data": {
            "text/plain": [
              "(132, 11)"
            ]
          },
          "metadata": {},
          "execution_count": 35
        }
      ]
    },
    {
      "cell_type": "code",
      "source": [
        "label4, other_labels4, label_name4, countpos4, countneg4 = check_Avalaiblity(DataSci_Check3,\"AI\")"
      ],
      "metadata": {
        "id": "VGW74HVrC_cD"
      },
      "execution_count": 36,
      "outputs": []
    },
    {
      "cell_type": "code",
      "source": [
        "countpos4"
      ],
      "metadata": {
        "colab": {
          "base_uri": "https://localhost:8080/"
        },
        "id": "1L2fBm6pDFAT",
        "outputId": "e069bdc2-58db-41f8-c1c4-e217b4822352"
      },
      "execution_count": 37,
      "outputs": [
        {
          "output_type": "execute_result",
          "data": {
            "text/plain": [
              "6"
            ]
          },
          "metadata": {},
          "execution_count": 37
        }
      ]
    },
    {
      "cell_type": "code",
      "source": [
        "label_name4"
      ],
      "metadata": {
        "colab": {
          "base_uri": "https://localhost:8080/"
        },
        "id": "QBErM-PhDE4p",
        "outputId": "21433ff3-643d-4c04-bc23-3df7559985e4"
      },
      "execution_count": 38,
      "outputs": [
        {
          "output_type": "execute_result",
          "data": {
            "text/plain": [
              "['Senior Analyst Machine learning and AI',\n",
              " 'AI Engineer',\n",
              " 'Cloud Data and AI Lead (Customer Engineer for Google Cloud)',\n",
              " 'AI Developer',\n",
              " 'Senior Consultant(AI)',\n",
              " 'Associate Technical Lead - AI']"
            ]
          },
          "metadata": {},
          "execution_count": 38
        }
      ]
    },
    {
      "cell_type": "code",
      "source": [
        "DataSci_Check3['label'] = label4"
      ],
      "metadata": {
        "colab": {
          "base_uri": "https://localhost:8080/"
        },
        "id": "1ycnom9kDQZZ",
        "outputId": "f472e656-78b5-4be6-9f13-ab44db06a0c7"
      },
      "execution_count": 39,
      "outputs": [
        {
          "output_type": "stream",
          "name": "stderr",
          "text": [
            "/usr/local/lib/python3.7/dist-packages/ipykernel_launcher.py:1: SettingWithCopyWarning: \n",
            "A value is trying to be set on a copy of a slice from a DataFrame.\n",
            "Try using .loc[row_indexer,col_indexer] = value instead\n",
            "\n",
            "See the caveats in the documentation: https://pandas.pydata.org/pandas-docs/stable/user_guide/indexing.html#returning-a-view-versus-a-copy\n",
            "  \"\"\"Entry point for launching an IPython kernel.\n"
          ]
        }
      ]
    },
    {
      "cell_type": "code",
      "source": [
        "MAchineLearning3 = DataSci_Check3[DataSci_Check3['label']==1]"
      ],
      "metadata": {
        "id": "WXyixAU0DYLp"
      },
      "execution_count": 40,
      "outputs": []
    },
    {
      "cell_type": "code",
      "source": [
        "MAchineLearning3.shape"
      ],
      "metadata": {
        "colab": {
          "base_uri": "https://localhost:8080/"
        },
        "id": "Gwk_zpRQDf_S",
        "outputId": "60e10cf0-9178-4167-ed09-e3922547a425"
      },
      "execution_count": 41,
      "outputs": [
        {
          "output_type": "execute_result",
          "data": {
            "text/plain": [
              "(6, 11)"
            ]
          },
          "metadata": {},
          "execution_count": 41
        }
      ]
    },
    {
      "cell_type": "code",
      "source": [
        "DataSci_Check4 = DataSci_Check3[DataSci_Check3['label']==0]"
      ],
      "metadata": {
        "id": "0hnk2Dr8DiFR"
      },
      "execution_count": 42,
      "outputs": []
    },
    {
      "cell_type": "code",
      "source": [
        "DataSci_Check4.shape"
      ],
      "metadata": {
        "colab": {
          "base_uri": "https://localhost:8080/"
        },
        "id": "ky1NzErbDnOx",
        "outputId": "fecf547b-22d6-4ad9-f328-c0fca11522b5"
      },
      "execution_count": 43,
      "outputs": [
        {
          "output_type": "execute_result",
          "data": {
            "text/plain": [
              "(126, 11)"
            ]
          },
          "metadata": {},
          "execution_count": 43
        }
      ]
    },
    {
      "cell_type": "code",
      "source": [
        "other_labels4"
      ],
      "metadata": {
        "colab": {
          "base_uri": "https://localhost:8080/"
        },
        "id": "TXVycZ7NDtdx",
        "outputId": "a6bbddbf-6e3c-4b15-9937-d0955cdc9f24"
      },
      "execution_count": 44,
      "outputs": [
        {
          "output_type": "execute_result",
          "data": {
            "text/plain": [
              "['Linux Kernel Bug Fixing Mentee',\n",
              " 'Web Developer',\n",
              " 'Software Engineer',\n",
              " 'Editor',\n",
              " 'Event Coordinator',\n",
              " 'Blogger',\n",
              " 'Senior Consultant',\n",
              " 'nan',\n",
              " 'nan',\n",
              " 'nan',\n",
              " 'Visiting Instructor',\n",
              " 'Data Scienctist',\n",
              " 'Software Engineer',\n",
              " 'Senior Data Engineer',\n",
              " 'Data Engineer',\n",
              " 'Senior Engineer - Data Science ',\n",
              " 'Head of Operations - Data Engineering & Artificial Intelligence',\n",
              " 'Manager - Data Science',\n",
              " 'Associate Technical Lead',\n",
              " 'Visiting Lecturer',\n",
              " 'Intern software developer',\n",
              " 'Senior Business Analyst',\n",
              " 'Insights Analyst',\n",
              " 'Data Analyst',\n",
              " 'Associate',\n",
              " 'Associate Engineer - BI/Data Science ',\n",
              " 'Data Science Engineer',\n",
              " 'Data Engineer',\n",
              " 'Software Engineer',\n",
              " 'Data Engineer',\n",
              " 'Data Engineer',\n",
              " 'Data Analyst',\n",
              " 'Acedemic Instructor ',\n",
              " 'Associate Architect - Data Engineering',\n",
              " 'Associate Tech Lead, Data Science & Engineering',\n",
              " 'Assistant Manager - Data Analytics',\n",
              " 'Trainee Data Engineer',\n",
              " 'Business Analyst (Corporate Affairs, Data & MI/BI)',\n",
              " 'Visiting Lecturer',\n",
              " 'Test Analyst',\n",
              " 'Consultant - Data Science',\n",
              " 'Trainee data scientist',\n",
              " 'Lecturer',\n",
              " 'Director/ Faculty of Information Technology Research Unit (ITRU)',\n",
              " 'Staff Scientist',\n",
              " 'Software Engineer',\n",
              " 'Artificial Intelligence Applications Development Manager ',\n",
              " 'Architect Data Science & Engineering ',\n",
              " 'Deputy General Manager',\n",
              " 'Software Engineer',\n",
              " 'Product Analyst',\n",
              " 'Head of Solutions Engineering (Production Software)',\n",
              " 'Talent Acquisition Specialist',\n",
              " 'Associate Professional Software Engineer',\n",
              " 'Trainee Decision Scientist',\n",
              " 'Data Analyst',\n",
              " 'Business Data Analyst',\n",
              " 'nan',\n",
              " 'Instructor',\n",
              " 'Machine Learning Scientist',\n",
              " 'Business Development Executive',\n",
              " 'Director Of Engineering',\n",
              " 'Data Scienctist ',\n",
              " 'Data scienctist at NSTP NUST ISB at Orel Vision ',\n",
              " 'Associate Data Engineer',\n",
              " 'Senior Data Engineer',\n",
              " 'Senior Analyst',\n",
              " 'Data and Applied Scientist',\n",
              " 'Data Science Consultant',\n",
              " 'Research Engineer',\n",
              " 'Quality Analytics Specialist',\n",
              " 'Process Executive - Business Intelligence',\n",
              " 'Consultant ',\n",
              " 'Visiting Lecturer',\n",
              " 'Subject Matter Expert',\n",
              " 'Senior Business Analyst',\n",
              " 'Senior Software Engineer',\n",
              " 'Application Development Associate',\n",
              " 'Data Analyst',\n",
              " 'Contributor',\n",
              " 'Senior Business Analyst',\n",
              " 'Data Engineer',\n",
              " 'Associate Technical Specialist - Analytics Engineering (Data Analytics/Data Science)',\n",
              " 'Assistant Manager',\n",
              " 'Decision Scientist',\n",
              " 'Team Lead (Data Science)',\n",
              " 'Decision Scientist',\n",
              " 'Senior Software Engineer',\n",
              " 'Analyst - Risk Management ll',\n",
              " 'Data & Applied Scientist',\n",
              " 'Co-Founder',\n",
              " 'Technical Writer',\n",
              " 'Co-Founder',\n",
              " 'Product Analyst I',\n",
              " 'Data Scienctist and Business Analytics',\n",
              " 'Software Engineer',\n",
              " 'Trainee Decision Scientist',\n",
              " 'Founder',\n",
              " 'Data Analyst',\n",
              " 'Research Assistant',\n",
              " 'Data and Applied Scientist 2',\n",
              " 'Business Analyst',\n",
              " 'Senior Pricing Analyst',\n",
              " 'System Analyst',\n",
              " 'Deep Learning Engineer',\n",
              " 'Senior Business Analyst',\n",
              " 'Decision Scientist',\n",
              " 'Data Engineer',\n",
              " 'Consultant, Advanced Analytics',\n",
              " 'Digital Marketing Manager',\n",
              " 'Decision Scientist',\n",
              " 'Trainee decision scientist',\n",
              " 'Trainee Decision Scientist ',\n",
              " 'Software Trainee',\n",
              " 'Teaching Assistant',\n",
              " 'Manager',\n",
              " 'Data Analyst',\n",
              " 'Data Analyst',\n",
              " 'Associate Data scientist',\n",
              " 'Angel investor',\n",
              " 'Data Science Analyst',\n",
              " 'Consultant - Data Science/Advanced Analytics',\n",
              " 'Data Science Analyst',\n",
              " 'Local Chapter Lead',\n",
              " 'Data Engineer',\n",
              " 'nan']"
            ]
          },
          "metadata": {},
          "execution_count": 44
        }
      ]
    },
    {
      "cell_type": "code",
      "source": [
        "label5, other_labels5, label_name5, countpos5, countneg5 = check_Avalaiblity(DataSci_Check4,\"Data Science\")"
      ],
      "metadata": {
        "id": "7c4_MRM_Do-R"
      },
      "execution_count": 45,
      "outputs": []
    },
    {
      "cell_type": "code",
      "source": [
        "countpos5"
      ],
      "metadata": {
        "colab": {
          "base_uri": "https://localhost:8080/"
        },
        "id": "pMRfljP6ENEq",
        "outputId": "86646344-2500-4220-da90-d6e6475f2fbf"
      },
      "execution_count": 46,
      "outputs": [
        {
          "output_type": "execute_result",
          "data": {
            "text/plain": [
              "13"
            ]
          },
          "metadata": {},
          "execution_count": 46
        }
      ]
    },
    {
      "cell_type": "code",
      "source": [
        "other_labels5"
      ],
      "metadata": {
        "colab": {
          "base_uri": "https://localhost:8080/"
        },
        "id": "zmIN26C6EObB",
        "outputId": "292c9761-dc57-4f54-8716-d5576ad91c23"
      },
      "execution_count": 53,
      "outputs": [
        {
          "output_type": "execute_result",
          "data": {
            "text/plain": [
              "['Linux Kernel Bug Fixing Mentee',\n",
              " 'Web Developer',\n",
              " 'Software Engineer',\n",
              " 'Editor',\n",
              " 'Event Coordinator',\n",
              " 'Blogger',\n",
              " 'Senior Consultant',\n",
              " 'nan',\n",
              " 'nan',\n",
              " 'nan',\n",
              " 'Visiting Instructor',\n",
              " 'Data Scienctist',\n",
              " 'Software Engineer',\n",
              " 'Senior Data Engineer',\n",
              " 'Data Engineer',\n",
              " 'Head of Operations - Data Engineering & Artificial Intelligence',\n",
              " 'Associate Technical Lead',\n",
              " 'Visiting Lecturer',\n",
              " 'Intern software developer',\n",
              " 'Senior Business Analyst',\n",
              " 'Insights Analyst',\n",
              " 'Data Analyst',\n",
              " 'Associate',\n",
              " 'Data Engineer',\n",
              " 'Software Engineer',\n",
              " 'Data Engineer',\n",
              " 'Data Engineer',\n",
              " 'Data Analyst',\n",
              " 'Acedemic Instructor ',\n",
              " 'Associate Architect - Data Engineering',\n",
              " 'Assistant Manager - Data Analytics',\n",
              " 'Trainee Data Engineer',\n",
              " 'Business Analyst (Corporate Affairs, Data & MI/BI)',\n",
              " 'Visiting Lecturer',\n",
              " 'Test Analyst',\n",
              " 'Trainee data scientist',\n",
              " 'Lecturer',\n",
              " 'Director/ Faculty of Information Technology Research Unit (ITRU)',\n",
              " 'Staff Scientist',\n",
              " 'Software Engineer',\n",
              " 'Artificial Intelligence Applications Development Manager ',\n",
              " 'Deputy General Manager',\n",
              " 'Software Engineer',\n",
              " 'Product Analyst',\n",
              " 'Head of Solutions Engineering (Production Software)',\n",
              " 'Talent Acquisition Specialist',\n",
              " 'Associate Professional Software Engineer',\n",
              " 'Trainee Decision Scientist',\n",
              " 'Data Analyst',\n",
              " 'Business Data Analyst',\n",
              " 'nan',\n",
              " 'Instructor',\n",
              " 'Machine Learning Scientist',\n",
              " 'Business Development Executive',\n",
              " 'Director Of Engineering',\n",
              " 'Data Scienctist ',\n",
              " 'Data scienctist at NSTP NUST ISB at Orel Vision ',\n",
              " 'Associate Data Engineer',\n",
              " 'Senior Data Engineer',\n",
              " 'Senior Analyst',\n",
              " 'Data and Applied Scientist',\n",
              " 'Research Engineer',\n",
              " 'Quality Analytics Specialist',\n",
              " 'Process Executive - Business Intelligence',\n",
              " 'Consultant ',\n",
              " 'Visiting Lecturer',\n",
              " 'Subject Matter Expert',\n",
              " 'Senior Business Analyst',\n",
              " 'Senior Software Engineer',\n",
              " 'Application Development Associate',\n",
              " 'Data Analyst',\n",
              " 'Contributor',\n",
              " 'Senior Business Analyst',\n",
              " 'Data Engineer',\n",
              " 'Assistant Manager',\n",
              " 'Decision Scientist',\n",
              " 'Decision Scientist',\n",
              " 'Senior Software Engineer',\n",
              " 'Analyst - Risk Management ll',\n",
              " 'Data & Applied Scientist',\n",
              " 'Co-Founder',\n",
              " 'Technical Writer',\n",
              " 'Co-Founder',\n",
              " 'Product Analyst I',\n",
              " 'Data Scienctist and Business Analytics',\n",
              " 'Software Engineer',\n",
              " 'Trainee Decision Scientist',\n",
              " 'Founder',\n",
              " 'Data Analyst',\n",
              " 'Research Assistant',\n",
              " 'Data and Applied Scientist 2',\n",
              " 'Business Analyst',\n",
              " 'Senior Pricing Analyst',\n",
              " 'System Analyst',\n",
              " 'Deep Learning Engineer',\n",
              " 'Senior Business Analyst',\n",
              " 'Decision Scientist',\n",
              " 'Data Engineer',\n",
              " 'Consultant, Advanced Analytics',\n",
              " 'Digital Marketing Manager',\n",
              " 'Decision Scientist',\n",
              " 'Trainee decision scientist',\n",
              " 'Trainee Decision Scientist ',\n",
              " 'Software Trainee',\n",
              " 'Teaching Assistant',\n",
              " 'Manager',\n",
              " 'Data Analyst',\n",
              " 'Data Analyst',\n",
              " 'Associate Data scientist',\n",
              " 'Angel investor',\n",
              " 'Local Chapter Lead',\n",
              " 'Data Engineer',\n",
              " 'nan']"
            ]
          },
          "metadata": {},
          "execution_count": 53
        }
      ]
    },
    {
      "cell_type": "code",
      "source": [
        "DataSci_Check4['label']=label5"
      ],
      "metadata": {
        "colab": {
          "base_uri": "https://localhost:8080/"
        },
        "id": "mBpkaPbHEQHR",
        "outputId": "5ecf8dfd-d5b5-472d-c5f4-6995a7fab1a3"
      },
      "execution_count": 48,
      "outputs": [
        {
          "output_type": "stream",
          "name": "stderr",
          "text": [
            "/usr/local/lib/python3.7/dist-packages/ipykernel_launcher.py:1: SettingWithCopyWarning: \n",
            "A value is trying to be set on a copy of a slice from a DataFrame.\n",
            "Try using .loc[row_indexer,col_indexer] = value instead\n",
            "\n",
            "See the caveats in the documentation: https://pandas.pydata.org/pandas-docs/stable/user_guide/indexing.html#returning-a-view-versus-a-copy\n",
            "  \"\"\"Entry point for launching an IPython kernel.\n"
          ]
        }
      ]
    },
    {
      "cell_type": "code",
      "source": [
        " DataScience2 = DataSci_Check4[DataSci_Check4['label']==1]"
      ],
      "metadata": {
        "id": "3NDgmRxaEpjz"
      },
      "execution_count": 49,
      "outputs": []
    },
    {
      "cell_type": "code",
      "source": [
        "DataScience2.shape"
      ],
      "metadata": {
        "colab": {
          "base_uri": "https://localhost:8080/"
        },
        "id": "2y2iTmIFE3KJ",
        "outputId": "0a332134-e71c-4be1-a539-f6da5ecbc702"
      },
      "execution_count": 50,
      "outputs": [
        {
          "output_type": "execute_result",
          "data": {
            "text/plain": [
              "(13, 11)"
            ]
          },
          "metadata": {},
          "execution_count": 50
        }
      ]
    },
    {
      "cell_type": "code",
      "source": [
        " DataSci_Check5 = DataSci_Check4[DataSci_Check4['label']==0]"
      ],
      "metadata": {
        "id": "1shhvqezE4sR"
      },
      "execution_count": 51,
      "outputs": []
    },
    {
      "cell_type": "code",
      "source": [
        "DataSci_Check5.shape"
      ],
      "metadata": {
        "colab": {
          "base_uri": "https://localhost:8080/"
        },
        "id": "ZUrRd5EzE9Ti",
        "outputId": "45543312-05dd-484d-c63a-613cd15974f3"
      },
      "execution_count": 52,
      "outputs": [
        {
          "output_type": "execute_result",
          "data": {
            "text/plain": [
              "(113, 11)"
            ]
          },
          "metadata": {},
          "execution_count": 52
        }
      ]
    },
    {
      "cell_type": "code",
      "source": [
        "label6, other_labels6, label_name6, countpos6, countneg6 = check_Avalaiblity(DataSci_Check5,\"Data Engineer\")"
      ],
      "metadata": {
        "id": "mKafRyJDE_Qx"
      },
      "execution_count": 54,
      "outputs": []
    },
    {
      "cell_type": "code",
      "source": [
        "countpos6"
      ],
      "metadata": {
        "colab": {
          "base_uri": "https://localhost:8080/"
        },
        "id": "lavcQ-85Fakx",
        "outputId": "9fbb328f-4e36-4835-bfd1-fd12048aa8eb"
      },
      "execution_count": 55,
      "outputs": [
        {
          "output_type": "execute_result",
          "data": {
            "text/plain": [
              "13"
            ]
          },
          "metadata": {},
          "execution_count": 55
        }
      ]
    },
    {
      "cell_type": "code",
      "source": [
        "label_name6"
      ],
      "metadata": {
        "colab": {
          "base_uri": "https://localhost:8080/"
        },
        "id": "kcKIE_ucFb1p",
        "outputId": "6dd138d7-4945-4882-f768-1a5b32fbd362"
      },
      "execution_count": 56,
      "outputs": [
        {
          "output_type": "execute_result",
          "data": {
            "text/plain": [
              "['Senior Data Engineer',\n",
              " 'Data Engineer',\n",
              " 'Head of Operations - Data Engineering & Artificial Intelligence',\n",
              " 'Data Engineer',\n",
              " 'Data Engineer',\n",
              " 'Data Engineer',\n",
              " 'Associate Architect - Data Engineering',\n",
              " 'Trainee Data Engineer',\n",
              " 'Associate Data Engineer',\n",
              " 'Senior Data Engineer',\n",
              " 'Data Engineer',\n",
              " 'Data Engineer',\n",
              " 'Data Engineer']"
            ]
          },
          "metadata": {},
          "execution_count": 56
        }
      ]
    },
    {
      "cell_type": "code",
      "source": [
        "DataSci_Check5['label']=label6"
      ],
      "metadata": {
        "colab": {
          "base_uri": "https://localhost:8080/"
        },
        "id": "q-LMRehkFdod",
        "outputId": "7fa4b27a-232e-4068-9124-8363a0753d35"
      },
      "execution_count": 57,
      "outputs": [
        {
          "output_type": "stream",
          "name": "stderr",
          "text": [
            "/usr/local/lib/python3.7/dist-packages/ipykernel_launcher.py:1: SettingWithCopyWarning: \n",
            "A value is trying to be set on a copy of a slice from a DataFrame.\n",
            "Try using .loc[row_indexer,col_indexer] = value instead\n",
            "\n",
            "See the caveats in the documentation: https://pandas.pydata.org/pandas-docs/stable/user_guide/indexing.html#returning-a-view-versus-a-copy\n",
            "  \"\"\"Entry point for launching an IPython kernel.\n"
          ]
        }
      ]
    },
    {
      "cell_type": "code",
      "source": [
        "DataEngineer1 = DataSci_Check5[DataSci_Check5['label']==1]"
      ],
      "metadata": {
        "id": "ZVXCoqDNFrdg"
      },
      "execution_count": 58,
      "outputs": []
    },
    {
      "cell_type": "code",
      "source": [
        "DataEngineer1.shape"
      ],
      "metadata": {
        "colab": {
          "base_uri": "https://localhost:8080/"
        },
        "id": "wMjG_y-5F1oY",
        "outputId": "dafb31e5-635c-4875-ddf5-d336b6f95109"
      },
      "execution_count": 59,
      "outputs": [
        {
          "output_type": "execute_result",
          "data": {
            "text/plain": [
              "(13, 11)"
            ]
          },
          "metadata": {},
          "execution_count": 59
        }
      ]
    },
    {
      "cell_type": "code",
      "source": [
        "DataSci_Check6 = DataSci_Check5[DataSci_Check5['label']==0]"
      ],
      "metadata": {
        "id": "G3WDLekKF6a4"
      },
      "execution_count": 60,
      "outputs": []
    },
    {
      "cell_type": "code",
      "source": [
        "DataSci_Check6.shape"
      ],
      "metadata": {
        "colab": {
          "base_uri": "https://localhost:8080/"
        },
        "id": "jjHKvYyFF-sW",
        "outputId": "8878c461-7e4c-41fd-9165-4899465b5780"
      },
      "execution_count": 61,
      "outputs": [
        {
          "output_type": "execute_result",
          "data": {
            "text/plain": [
              "(100, 11)"
            ]
          },
          "metadata": {},
          "execution_count": 61
        }
      ]
    },
    {
      "cell_type": "code",
      "source": [
        "label7, other_labels7, label_name7, countpos7, countneg7 = check_Avalaiblity(DataSci_Check6,\"Data Analyst\")"
      ],
      "metadata": {
        "id": "gL4GXJGEGA3g"
      },
      "execution_count": 62,
      "outputs": []
    },
    {
      "cell_type": "code",
      "source": [
        "countpos7"
      ],
      "metadata": {
        "colab": {
          "base_uri": "https://localhost:8080/"
        },
        "id": "v94Hrk7rGOjY",
        "outputId": "978c2104-7baf-4975-f7f6-52a74eb145ee"
      },
      "execution_count": 63,
      "outputs": [
        {
          "output_type": "execute_result",
          "data": {
            "text/plain": [
              "8"
            ]
          },
          "metadata": {},
          "execution_count": 63
        }
      ]
    },
    {
      "cell_type": "code",
      "source": [
        "label_name7"
      ],
      "metadata": {
        "colab": {
          "base_uri": "https://localhost:8080/"
        },
        "id": "csI32mpFGQCY",
        "outputId": "71451506-95f3-45c9-ba40-053d1c9918a6"
      },
      "execution_count": 64,
      "outputs": [
        {
          "output_type": "execute_result",
          "data": {
            "text/plain": [
              "['Data Analyst',\n",
              " 'Data Analyst',\n",
              " 'Data Analyst',\n",
              " 'Business Data Analyst',\n",
              " 'Data Analyst',\n",
              " 'Data Analyst',\n",
              " 'Data Analyst',\n",
              " 'Data Analyst']"
            ]
          },
          "metadata": {},
          "execution_count": 64
        }
      ]
    },
    {
      "cell_type": "code",
      "source": [
        "DataSci_Check6['label']=label7"
      ],
      "metadata": {
        "colab": {
          "base_uri": "https://localhost:8080/"
        },
        "id": "vm5kp9z3GViZ",
        "outputId": "6e269edb-3eab-4312-c5f4-d0caf9e4e1a2"
      },
      "execution_count": 65,
      "outputs": [
        {
          "output_type": "stream",
          "name": "stderr",
          "text": [
            "/usr/local/lib/python3.7/dist-packages/ipykernel_launcher.py:1: SettingWithCopyWarning: \n",
            "A value is trying to be set on a copy of a slice from a DataFrame.\n",
            "Try using .loc[row_indexer,col_indexer] = value instead\n",
            "\n",
            "See the caveats in the documentation: https://pandas.pydata.org/pandas-docs/stable/user_guide/indexing.html#returning-a-view-versus-a-copy\n",
            "  \"\"\"Entry point for launching an IPython kernel.\n"
          ]
        }
      ]
    },
    {
      "cell_type": "code",
      "source": [
        "DataAnalytics1 = DataSci_Check6[DataSci_Check6['label']==1]"
      ],
      "metadata": {
        "id": "5FE5HVFaGeUx"
      },
      "execution_count": 66,
      "outputs": []
    },
    {
      "cell_type": "code",
      "source": [
        "DataAnalytics1.shape"
      ],
      "metadata": {
        "colab": {
          "base_uri": "https://localhost:8080/"
        },
        "id": "4onHvLqhGlvR",
        "outputId": "4664abd8-d7f2-4a7a-f7d1-03ba9aac9c72"
      },
      "execution_count": 67,
      "outputs": [
        {
          "output_type": "execute_result",
          "data": {
            "text/plain": [
              "(8, 11)"
            ]
          },
          "metadata": {},
          "execution_count": 67
        }
      ]
    },
    {
      "cell_type": "code",
      "source": [
        "DataSci_Check7 = DataSci_Check6[DataSci_Check6['label']==0]"
      ],
      "metadata": {
        "id": "JaNAyMCCGnuw"
      },
      "execution_count": 68,
      "outputs": []
    },
    {
      "cell_type": "code",
      "source": [
        "DataSci_Check7.shape"
      ],
      "metadata": {
        "colab": {
          "base_uri": "https://localhost:8080/"
        },
        "id": "Mso7rb7uGs24",
        "outputId": "11e4c89e-510e-488e-860e-e7871ccb1cb2"
      },
      "execution_count": 69,
      "outputs": [
        {
          "output_type": "execute_result",
          "data": {
            "text/plain": [
              "(92, 11)"
            ]
          },
          "metadata": {},
          "execution_count": 69
        }
      ]
    },
    {
      "cell_type": "code",
      "source": [
        "DataSci_Check7 = DataSci_Check7.dropna(subset=['organization_title_1'])"
      ],
      "metadata": {
        "id": "T5QjQdkXGuU4"
      },
      "execution_count": 70,
      "outputs": []
    },
    {
      "cell_type": "code",
      "source": [
        "DataSci_Check7.shape"
      ],
      "metadata": {
        "colab": {
          "base_uri": "https://localhost:8080/"
        },
        "id": "HF-oeS8LHQhQ",
        "outputId": "5b36de16-e01a-4f44-c55a-b24d413f9944"
      },
      "execution_count": 71,
      "outputs": [
        {
          "output_type": "execute_result",
          "data": {
            "text/plain": [
              "(87, 11)"
            ]
          },
          "metadata": {},
          "execution_count": 71
        }
      ]
    },
    {
      "cell_type": "code",
      "source": [
        "label8, other_labels8, label_name8, countpos8, countneg8 = check_Avalaiblity(DataSci_Check7,\"Data scientist\")"
      ],
      "metadata": {
        "id": "8WQ0YCimHSN2"
      },
      "execution_count": 73,
      "outputs": []
    },
    {
      "cell_type": "code",
      "source": [
        "countpos8"
      ],
      "metadata": {
        "colab": {
          "base_uri": "https://localhost:8080/"
        },
        "id": "Tr8pEkPFIooY",
        "outputId": "62d8f10c-b881-4212-9e24-68a3dda92dce"
      },
      "execution_count": 74,
      "outputs": [
        {
          "output_type": "execute_result",
          "data": {
            "text/plain": [
              "1"
            ]
          },
          "metadata": {},
          "execution_count": 74
        }
      ]
    },
    {
      "cell_type": "code",
      "source": [
        "pd.set_option('max_rows', 99999)\n",
        "pd.set_option('max_colwidth', 400)\n",
        "pd.describe_option('max_colwidth')"
      ],
      "metadata": {
        "colab": {
          "base_uri": "https://localhost:8080/"
        },
        "id": "d_uQz32PJoUh",
        "outputId": "cd2ce799-8319-4c04-f2c1-226e68928b8a"
      },
      "execution_count": 77,
      "outputs": [
        {
          "output_type": "stream",
          "name": "stdout",
          "text": [
            "display.max_colwidth : int or None\n",
            "    The maximum width in characters of a column in the repr of\n",
            "    a pandas data structure. When the column overflows, a \"...\"\n",
            "    placeholder is embedded in the output. A 'None' value means unlimited.\n",
            "    [default: 50] [currently: 400]\n"
          ]
        }
      ]
    },
    {
      "cell_type": "code",
      "source": [
        "DataSci_Check7"
      ],
      "metadata": {
        "colab": {
          "base_uri": "https://localhost:8080/",
          "height": 1000
        },
        "id": "xUg2UztwI6aa",
        "outputId": "e07297a2-cc52-4a04-9b84-e5035fe5f49b"
      },
      "execution_count": 78,
      "outputs": [
        {
          "output_type": "execute_result",
          "data": {
            "text/html": [
              "\n",
              "  <div id=\"df-f4d0ce76-ce6b-4de3-935f-3c949cc93129\">\n",
              "    <div class=\"colab-df-container\">\n",
              "      <div>\n",
              "<style scoped>\n",
              "    .dataframe tbody tr th:only-of-type {\n",
              "        vertical-align: middle;\n",
              "    }\n",
              "\n",
              "    .dataframe tbody tr th {\n",
              "        vertical-align: top;\n",
              "    }\n",
              "\n",
              "    .dataframe thead th {\n",
              "        text-align: right;\n",
              "    }\n",
              "</style>\n",
              "<table border=\"1\" class=\"dataframe\">\n",
              "  <thead>\n",
              "    <tr style=\"text-align: right;\">\n",
              "      <th></th>\n",
              "      <th>id</th>\n",
              "      <th>skills</th>\n",
              "      <th>edu_1</th>\n",
              "      <th>edu_2</th>\n",
              "      <th>edu_3</th>\n",
              "      <th>org_1</th>\n",
              "      <th>org_2</th>\n",
              "      <th>org_3</th>\n",
              "      <th>org_4</th>\n",
              "      <th>organization_title_1</th>\n",
              "      <th>label</th>\n",
              "    </tr>\n",
              "  </thead>\n",
              "  <tbody>\n",
              "    <tr>\n",
              "      <th>0</th>\n",
              "      <td>asha-sulaiman</td>\n",
              "      <td>Java C JavaScript Python Programming Language PHP MySQL HTML Cascading Style Sheets CSS XML AngularJS Bootstrap Nodejs SQL Web Development Laravel Video Editing python Git Linux Linux Kernel</td>\n",
              "      <td></td>\n",
              "      <td></td>\n",
              "      <td></td>\n",
              "      <td>Linux Kernel Bug Fixing Mentee The Linux Foundation</td>\n",
              "      <td>Student Developer @CiviCRM Google Summer of Code</td>\n",
              "      <td>Student Developer @CiviCRM Google Summer of Code</td>\n",
              "      <td>Mentor GirlScript Summer of Code</td>\n",
              "      <td>Linux Kernel Bug Fixing Mentee</td>\n",
              "      <td>0</td>\n",
              "    </tr>\n",
              "    <tr>\n",
              "      <th>1</th>\n",
              "      <td>hasanka-senadheera-7b9183162</td>\n",
              "      <td>Java PHP MySQL HTML Cascading Style Sheets CSS SQL Laravel python Git HTML Microsoft Word WordPress Shopify</td>\n",
              "      <td></td>\n",
              "      <td></td>\n",
              "      <td></td>\n",
              "      <td>Web Developer CN Global</td>\n",
              "      <td>Web Developer SPARK LABS</td>\n",
              "      <td>Trainee  Software Developer Parallax Technologies (Pvt) Ltd</td>\n",
              "      <td></td>\n",
              "      <td>Web Developer</td>\n",
              "      <td>0</td>\n",
              "    </tr>\n",
              "    <tr>\n",
              "      <th>2</th>\n",
              "      <td>sahan-poornaka</td>\n",
              "      <td>Java Python Programming Language Linux Data Engineering Big Data Analytics Machine Learning Data Analysis Software Development Scala Microsoft Azure Databases Problem Solving English</td>\n",
              "      <td></td>\n",
              "      <td></td>\n",
              "      <td></td>\n",
              "      <td>Software Engineer Creative Software</td>\n",
              "      <td>Member BCS, The Chartered Institute for IT</td>\n",
              "      <td>Software Engineering Intern Creative Software</td>\n",
              "      <td></td>\n",
              "      <td>Software Engineer</td>\n",
              "      <td>0</td>\n",
              "    </tr>\n",
              "    <tr>\n",
              "      <th>3</th>\n",
              "      <td>thilaksi-gunathilaka-22589b199</td>\n",
              "      <td>JavaScript PHP HTML Video Editing Photography Creative Writing C Programming Language Science Molecular Biology Responsive Web Design Graphic Design Programming Editing HR Management Microsoft Office java CSS Adobe Photoshop Adobe Premiere Pro Teamwork Leadership Public Speaking</td>\n",
              "      <td></td>\n",
              "      <td></td>\n",
              "      <td></td>\n",
              "      <td>Editor Women In Engineering Affinity Group of IEEE UWU SB</td>\n",
              "      <td>Design Team FOSS Community UWU</td>\n",
              "      <td>Design Lead UWU Women In FOSS Community</td>\n",
              "      <td>Student Uva Wellassa University of Sri Lanka</td>\n",
              "      <td>Editor</td>\n",
              "      <td>0</td>\n",
              "    </tr>\n",
              "    <tr>\n",
              "      <th>4</th>\n",
              "      <td>ashani-fonseka</td>\n",
              "      <td>Python Programming Language Problem Solving Article Writing</td>\n",
              "      <td></td>\n",
              "      <td></td>\n",
              "      <td></td>\n",
              "      <td>Event Coordinator IEEE Uva Wellassa University Student Branch</td>\n",
              "      <td>Technical Lead UWU Women In FOSS Community</td>\n",
              "      <td>G17 University Ambassador  The Road to Rights</td>\n",
              "      <td>Marketing Coordinator KSPA Packaging</td>\n",
              "      <td>Event Coordinator</td>\n",
              "      <td>0</td>\n",
              "    </tr>\n",
              "    <tr>\n",
              "      <th>5</th>\n",
              "      <td>sithija-siriwardana</td>\n",
              "      <td>Java JavaScript Python Programming Language PHP MySQL SQL Web Development Git HTML Microsoft Word Software Development Scala C Programming Language Teamwork Leadership C ObjectOriented Programming OOP Software Development Life Cycle SDLC Project Management Computer Science Reactjs MongoDB Flutter Microsoft Excel Microsoft PowerPoint Customer Service Angular Deep Learning</td>\n",
              "      <td></td>\n",
              "      <td></td>\n",
              "      <td></td>\n",
              "      <td>Blogger UCSC ISACA Student Group</td>\n",
              "      <td>Volunteer STEMUp Educational Foundation</td>\n",
              "      <td>Software Engineer Intern WSO2</td>\n",
              "      <td>Team member - Teach lanka AIESEC</td>\n",
              "      <td>Blogger</td>\n",
              "      <td>0</td>\n",
              "    </tr>\n",
              "    <tr>\n",
              "      <th>6</th>\n",
              "      <td>rnithees</td>\n",
              "      <td>Java JavaScript PHP MySQL Nodejs SQL Laravel Git Graphic Design Programming Adobe Photoshop ObjectOriented Programming OOP MongoDB Adobe Illustrator Vuejs Firebase Java ASPNET BackEnd Web Development API Development Expressjs</td>\n",
              "      <td></td>\n",
              "      <td></td>\n",
              "      <td></td>\n",
              "      <td>Senior Consultant Zapmii</td>\n",
              "      <td>Software Engineer M.SaaS</td>\n",
              "      <td>Software Engineer Moneta (FinTech Hive (PVT) Ltd)</td>\n",
              "      <td>Associate Software Engineer Antyra Solutions</td>\n",
              "      <td>Senior Consultant</td>\n",
              "      <td>0</td>\n",
              "    </tr>\n",
              "    <tr>\n",
              "      <th>10</th>\n",
              "      <td>dilantha-haputhanthri</td>\n",
              "      <td>Java JavaScript Python Programming Language MySQL Git Machine Learning Software Development Microsoft Office Teamwork Leadership C ObjectOriented Programming OOP Project Management MongoDB Deep Learning Python Data Structures Algorithms Scrum Data Mining Numerical Analysis Arduino Github Unified Modeling Language UML Team Leadership Programming Languages Compilers Computer Architecture Concurr...</td>\n",
              "      <td></td>\n",
              "      <td></td>\n",
              "      <td></td>\n",
              "      <td>Visiting Instructor University of Moratuwa</td>\n",
              "      <td>Data Scientist Centre For Data Analytics and Cognition</td>\n",
              "      <td></td>\n",
              "      <td></td>\n",
              "      <td>Visiting Instructor</td>\n",
              "      <td>0</td>\n",
              "    </tr>\n",
              "    <tr>\n",
              "      <th>11</th>\n",
              "      <td>ruban-sran-3a274a4b</td>\n",
              "      <td>HTML Cascading Style Sheets CSS Bootstrap SQL Machine Learning Data Analysis Microsoft Office MongoDB Microsoft Excel Deep Learning Python Natural Language Processing NLP Statistics Data Visualization R Data Science Data Analytics Predictive Modeling ElasticSearch</td>\n",
              "      <td></td>\n",
              "      <td></td>\n",
              "      <td></td>\n",
              "      <td>Data Scienctist NoBroker.com</td>\n",
              "      <td>Data Analyst NoBroker.com</td>\n",
              "      <td>Data Analyst Intern NoBroker.com</td>\n",
              "      <td>Student Completed Masters</td>\n",
              "      <td>Data Scienctist</td>\n",
              "      <td>0</td>\n",
              "    </tr>\n",
              "    <tr>\n",
              "      <th>12</th>\n",
              "      <td>ramchander-chikkala-995b9385</td>\n",
              "      <td>Java C JavaScript Python Programming Language MySQL SQL HTML Microsoft Word Machine Learning Microsoft Office CSS C Software Development Life Cycle SDLC Microsoft Excel Customer Service Github Statistics Data Science PowerPoint Hadoop Flume Hive HBase Yarn Apache Pig Sqoop Software Architectural Design R ServiceOriented Architecture SOA Software Requirements Software Project Management Softwar...</td>\n",
              "      <td></td>\n",
              "      <td></td>\n",
              "      <td></td>\n",
              "      <td>Software Engineer ATMECS Inc</td>\n",
              "      <td>Data Engineer and Data Science Consultant ITVersity, Inc.</td>\n",
              "      <td>Data Engineer and Data Science Intern ITVersity, Inc.</td>\n",
              "      <td>Associate Software Developer Prime Ki Software Solutions Pvt.Ltd</td>\n",
              "      <td>Software Engineer</td>\n",
              "      <td>0</td>\n",
              "    </tr>\n",
              "    <tr>\n",
              "      <th>40</th>\n",
              "      <td>thimaldeemantha</td>\n",
              "      <td>Java C JavaScript PHP MySQL Cascading Style Sheets CSS SQL HTML Microsoft Word Software Development English Programming Microsoft Office Teamwork C Microsoft Excel Python PowerPoint Matlab Research Android Development Software Design Embedded Systems AJAX JSON</td>\n",
              "      <td></td>\n",
              "      <td></td>\n",
              "      <td></td>\n",
              "      <td>Associate Technical Lead Ziphio</td>\n",
              "      <td>Data Scientist ChiefDX Pte Ltd</td>\n",
              "      <td>Data Science Engineer Ziphio</td>\n",
              "      <td>Senior Software Engineer Project Lead JLanka Power and Energy (Pvt) Ltd</td>\n",
              "      <td>Associate Technical Lead</td>\n",
              "      <td>0</td>\n",
              "    </tr>\n",
              "    <tr>\n",
              "      <th>51</th>\n",
              "      <td>roy-ian-7a5b5b9a</td>\n",
              "      <td>Java Python Programming Language Machine Learning Leadership C Python Data Mining R TensorFlow Keras Big Data Networking AWS SageMaker Coaching People Management Digital Libraries Diversity Inclusion</td>\n",
              "      <td></td>\n",
              "      <td></td>\n",
              "      <td></td>\n",
              "      <td>Visiting Lecturer Cardiff Metropolitan University</td>\n",
              "      <td>Visiting Lecturer AEMC - Australian Education and Management Consultants</td>\n",
              "      <td>Visiting Lecturer University of Moratuwa</td>\n",
              "      <td>Data Scientist ADA</td>\n",
              "      <td>Visiting Lecturer</td>\n",
              "      <td>0</td>\n",
              "    </tr>\n",
              "    <tr>\n",
              "      <th>59</th>\n",
              "      <td>chathurdi-vibhuda-wedage-b16a7015b</td>\n",
              "      <td>Python Programming Language HTML Microsoft Word C Programming Language Microsoft Office java Leadership C Microsoft Excel Microsoft PowerPoint R Matlab Analytical Skills C Visual Basic NET VBNET Dance</td>\n",
              "      <td></td>\n",
              "      <td></td>\n",
              "      <td></td>\n",
              "      <td>Intern software developer Deep Lab (Pvt) Ltd</td>\n",
              "      <td>Trainee data scientist DataDisca Pty Ltd</td>\n",
              "      <td></td>\n",
              "      <td></td>\n",
              "      <td>Intern software developer</td>\n",
              "      <td>0</td>\n",
              "    </tr>\n",
              "    <tr>\n",
              "      <th>60</th>\n",
              "      <td>karthikswasaka</td>\n",
              "      <td>Python Programming Language Machine Learning Deep Learning Python Algorithms Data Mining Natural Language Processing NLP Data Science Tableau Pycharm Microsoft SQL Server Feature Engineering Google Colab</td>\n",
              "      <td></td>\n",
              "      <td></td>\n",
              "      <td></td>\n",
              "      <td>Senior Business Analyst Tredence Inc.</td>\n",
              "      <td>Junior Data Scientist Riosoft</td>\n",
              "      <td>Associate Wipro Ltd. - India</td>\n",
              "      <td></td>\n",
              "      <td>Senior Business Analyst</td>\n",
              "      <td>0</td>\n",
              "    </tr>\n",
              "    <tr>\n",
              "      <th>62</th>\n",
              "      <td>chinmaysashittal</td>\n",
              "      <td>Java C MySQL SQL Linux HTML Microsoft Word Machine Learning Data Analysis Databases Problem Solving Programming Microsoft Office Teamwork Leadership Public Speaking C Computer Science Microsoft Excel Microsoft PowerPoint Deep Learning Python Statistics Data Science R Tableau Statistical Modeling Research Management Microsoft Power BI Analytics Business Analysis Ubuntu Data Modeling Engineering...</td>\n",
              "      <td></td>\n",
              "      <td></td>\n",
              "      <td></td>\n",
              "      <td>Insights Analyst LinkedIn</td>\n",
              "      <td>Decision Scientist  Mu Sigma Inc.</td>\n",
              "      <td>Data Science Intern Eduvanz</td>\n",
              "      <td>Android Developement Intern RSalesArm</td>\n",
              "      <td>Insights Analyst</td>\n",
              "      <td>0</td>\n",
              "    </tr>\n",
              "    <tr>\n",
              "      <th>67</th>\n",
              "      <td>pritampatel99</td>\n",
              "      <td>SQL Machine Learning Data Analysis Public Speaking Deep Learning Natural Language Processing NLP Data Science Artificial Intelligence AI</td>\n",
              "      <td></td>\n",
              "      <td></td>\n",
              "      <td></td>\n",
              "      <td>Associate TheMathCompany</td>\n",
              "      <td>Data Scientist Zeeksphere Solutions</td>\n",
              "      <td></td>\n",
              "      <td></td>\n",
              "      <td>Associate</td>\n",
              "      <td>0</td>\n",
              "    </tr>\n",
              "    <tr>\n",
              "      <th>80</th>\n",
              "      <td>madurangajayasooriya</td>\n",
              "      <td>Java JavaScript Python Programming Language XML HTML Machine Learning Data Analysis Scala Microsoft Azure Microsoft Office C Data Science Research C Spring Boot Database Design PHP</td>\n",
              "      <td></td>\n",
              "      <td></td>\n",
              "      <td></td>\n",
              "      <td>Software Engineer Creative Software</td>\n",
              "      <td>Data Scientist Creative Software</td>\n",
              "      <td></td>\n",
              "      <td></td>\n",
              "      <td>Software Engineer</td>\n",
              "      <td>0</td>\n",
              "    </tr>\n",
              "    <tr>\n",
              "      <th>92</th>\n",
              "      <td>pramuditha-rajadasa-b0157917b</td>\n",
              "      <td>Python Programming Language Web Development Machine Learning Data Analysis Project Management Deep Learning Natural Language Processing NLP Tableau Statistical Data Analysis Statistical Modeling Computer Vision Critical Thinking Research Presentation Skills Microsoft Power BI R Programming Language SAS Programming SAS Applied Machine Learning Feature Engineering R Shiny                        ...</td>\n",
              "      <td></td>\n",
              "      <td></td>\n",
              "      <td></td>\n",
              "      <td>Acedemic Instructor  University of Colombo</td>\n",
              "      <td>Trainee Data Scientist Research  &amp; Development Informatics International Limited</td>\n",
              "      <td>Undergraduate Research Fellow University of Colombo</td>\n",
              "      <td></td>\n",
              "      <td>Acedemic Instructor</td>\n",
              "      <td>0</td>\n",
              "    </tr>\n",
              "    <tr>\n",
              "      <th>100</th>\n",
              "      <td>supunkarunanayaka</td>\n",
              "      <td>Python Programming Language SQL Linux Machine Learning Data Analysis Software Development Teamwork Leadership Public Speaking Python Team Leadership Statistics Data Science Hadoop R Software Project Management Tableau Time Series Analysis Research Management Microsoft SQL Server Business Analysis RStudio Forecasting Business Intelligence BI Predictive Analytics Strategic Planning Big Data Data...</td>\n",
              "      <td></td>\n",
              "      <td></td>\n",
              "      <td></td>\n",
              "      <td>Assistant Manager - Data Analytics MAS Holdings</td>\n",
              "      <td>Senior Engineer - Data Science POTENZA</td>\n",
              "      <td>Senior Business Intelligence Analyst Daraz Sri Lanka</td>\n",
              "      <td>Senior Data Analyst Daraz Sri Lanka</td>\n",
              "      <td>Assistant Manager - Data Analytics</td>\n",
              "      <td>0</td>\n",
              "    </tr>\n",
              "    <tr>\n",
              "      <th>106</th>\n",
              "      <td>harini-perera</td>\n",
              "      <td>Java C JavaScript PHP MySQL XML SQL Web Development HTML Software Development Databases Programming Microsoft Office CSS Teamwork ObjectOriented Programming OOP Project Management Management Team Management Microsoft SQL Server NetBeans Business Analysis Data Modeling Software Engineering C HTML OOP jQuery Eclipse Visual Basic Visual C Visual Studio JavaSE Web Services Web Applications Java En...</td>\n",
              "      <td></td>\n",
              "      <td></td>\n",
              "      <td></td>\n",
              "      <td>Business Analyst (Corporate Affairs, Data &amp; MI/BI) Design Studio</td>\n",
              "      <td>Freelance Web Developer Freelancer.com</td>\n",
              "      <td>Data Scientist SHERP PRO</td>\n",
              "      <td>Associate Data Scientist X.O Concepts</td>\n",
              "      <td>Business Analyst (Corporate Affairs, Data &amp; MI/BI)</td>\n",
              "      <td>0</td>\n",
              "    </tr>\n",
              "    <tr>\n",
              "      <th>107</th>\n",
              "      <td>samadhi-chathuranga-rathnayake</td>\n",
              "      <td>Java SQL Machine Learning C Programming Language Teamwork Leadership C Project Management Python Data Mining Statistics R Statistical Data Analysis Statistical Modeling Matlab Minitab SPSS Management Microsoft Power BI Statistical Inference Mathematical Modeling Applied Mathematics Bayesian statistics Artificial Intelligence C Statistical Tools Statistical Process Control SPC Software Engineer...</td>\n",
              "      <td></td>\n",
              "      <td></td>\n",
              "      <td></td>\n",
              "      <td>Visiting Lecturer GISM Campus, Sri Lanka</td>\n",
              "      <td>Lecturer University of Moratuwa</td>\n",
              "      <td>Module Coordinator &amp; Grader - CODL University of Moratuwa University of Moratuwa</td>\n",
              "      <td>Academic Instructor University of Moratuwa</td>\n",
              "      <td>Visiting Lecturer</td>\n",
              "      <td>0</td>\n",
              "    </tr>\n",
              "    <tr>\n",
              "      <th>108</th>\n",
              "      <td>rohitsasidharan</td>\n",
              "      <td>Java C JavaScript Python Programming Language Big Data Analytics Machine Learning Data Analysis Software Development Programming Microsoft Office Leadership C Customer Service Python Algorithms Data Mining Programming Languages Data Science Data Analytics Predictive Modeling Hadoop R Decision Trees Artificial Intelligence AI Machine Learning Algorithms Exploratory Data Analysis Predictive Anal...</td>\n",
              "      <td></td>\n",
              "      <td></td>\n",
              "      <td></td>\n",
              "      <td>Test Analyst Fair Work Commission</td>\n",
              "      <td>Data Analyst APM</td>\n",
              "      <td>Data Analyst AI Australia</td>\n",
              "      <td>Junior Data Scienctist Center for Technology Infusion</td>\n",
              "      <td>Test Analyst</td>\n",
              "      <td>0</td>\n",
              "    </tr>\n",
              "    <tr>\n",
              "      <th>112</th>\n",
              "      <td>methmal-udan-abeywickrama-6b22a4190</td>\n",
              "      <td>Data Analysis Problem Solving Teamwork Leadership Communication Tools Technologies</td>\n",
              "      <td></td>\n",
              "      <td></td>\n",
              "      <td></td>\n",
              "      <td>Trainee data scientist DataDisca</td>\n",
              "      <td></td>\n",
              "      <td></td>\n",
              "      <td></td>\n",
              "      <td>Trainee data scientist</td>\n",
              "      <td>0</td>\n",
              "    </tr>\n",
              "    <tr>\n",
              "      <th>113</th>\n",
              "      <td>gowthami05</td>\n",
              "      <td>Java JavaScript Python Programming Language MySQL Cascading Style Sheets CSS AngularJS HTML Machine Learning Problem Solving Microsoft Office Teamwork Leadership Public Speaking Project Management Data Analytics Management JavaFX TypeScript Blockchain Internet of Things IoT</td>\n",
              "      <td></td>\n",
              "      <td></td>\n",
              "      <td></td>\n",
              "      <td>Lecturer London Institute of Business &amp; Technology</td>\n",
              "      <td>Academic Tutor Open University of Sri Lanka</td>\n",
              "      <td>Lecturer(Data Science) Yarl IT Hub</td>\n",
              "      <td>Junior Machine Learning Engineer  Omdena</td>\n",
              "      <td>Lecturer</td>\n",
              "      <td>0</td>\n",
              "    </tr>\n",
              "    <tr>\n",
              "      <th>116</th>\n",
              "      <td>sagara-sumathipala-275a4b38</td>\n",
              "      <td>Java C JavaScript Python Programming Language PHP MySQL XML SQL Machine Learning Data Analysis Software Development Databases Python Data Mining Arduino Statistics Data Visualization Data Science Hadoop Matlab Research Apache Big Data Data Modeling Software Engineering HTML Eclipse Web Services Java Enterprise Edition JUnit Hibernate Natural Language Processing JSP Robotics Spring Scientific W...</td>\n",
              "      <td></td>\n",
              "      <td></td>\n",
              "      <td></td>\n",
              "      <td>Director/ Faculty of Information Technology Research Unit (ITRU) University of Moratuwa</td>\n",
              "      <td>Treasurer IEEE Robotics and Automation Society</td>\n",
              "      <td>EXCO Member - University of Moratuwa Teachers’ Association (UMTA) University of Moratuwa</td>\n",
              "      <td>Consultant Data Scientist Mobitel (Pvt) Ltd</td>\n",
              "      <td>Director/ Faculty of Information Technology Research Unit (ITRU)</td>\n",
              "      <td>0</td>\n",
              "    </tr>\n",
              "    <tr>\n",
              "      <th>117</th>\n",
              "      <td>akhilsakhardande</td>\n",
              "      <td>SQL Big Data Analytics Machine Learning Software Development Deep Learning Python Data Mining Data Science Predictive Modeling Hadoop Hive Sqoop R Tableau Time Series Analysis Image Processing Analytics Business Intelligence BI Big Data Requirements Analysis Business Intelligence Natural Language Processing Text Mining Oracle Unix Business Analytics Consulting ETL</td>\n",
              "      <td></td>\n",
              "      <td></td>\n",
              "      <td></td>\n",
              "      <td>Staff Scientist Rakuten</td>\n",
              "      <td>Lead Data Scientist Rakuten</td>\n",
              "      <td>Senior ML Scientist Karvy Analytics Limited</td>\n",
              "      <td>Machine Learning Researcher ThirdLeap Inc</td>\n",
              "      <td>Staff Scientist</td>\n",
              "      <td>0</td>\n",
              "    </tr>\n",
              "    <tr>\n",
              "      <th>118</th>\n",
              "      <td>aarthif-nawaz-61a390191</td>\n",
              "      <td>Java JavaScript Python Programming Language PHP MySQL AngularJS Nodejs SQL Web Development HTML Machine Learning Software Development Databases Programming ObjectOriented Programming OOP MongoDB Flutter Deep Learning Algorithms Data Mining Programming Languages Data Science Artificial Intelligence AI Google Cloud Platform GCP Big Data Amazon Web Services AWS Django Engineering Android Developm...</td>\n",
              "      <td></td>\n",
              "      <td></td>\n",
              "      <td></td>\n",
              "      <td>Software Engineer Reshift</td>\n",
              "      <td>Data Scientist Upwork.com</td>\n",
              "      <td>Machine Learning Engineer Freelancer.com</td>\n",
              "      <td>Associate Software Engineering Analog IT Solutions</td>\n",
              "      <td>Software Engineer</td>\n",
              "      <td>0</td>\n",
              "    </tr>\n",
              "    <tr>\n",
              "      <th>122</th>\n",
              "      <td>kasun-weerasooriya-a83600a9</td>\n",
              "      <td>Java C HTML Microsoft Word Big Data Analytics Machine Learning Data Analysis CSS C Project Management Deep Learning Python Data Science R Tableau Matlab Artificial Intelligence AI Research SolidWorks Big Data Eclipse Product Management Microcontrollers Verilog PSpice NI Multisim Internet of Things IoT HFSS</td>\n",
              "      <td></td>\n",
              "      <td></td>\n",
              "      <td></td>\n",
              "      <td>Artificial Intelligence Applications Development Manager  GoMicro</td>\n",
              "      <td>Freelance Data Scientist Upwork</td>\n",
              "      <td>Engineer - Business Development and Operations Fentons Limited</td>\n",
              "      <td>Management Trainee The Hayleys Group (Hayleys PLC)</td>\n",
              "      <td>Artificial Intelligence Applications Development Manager</td>\n",
              "      <td>0</td>\n",
              "    </tr>\n",
              "    <tr>\n",
              "      <th>125</th>\n",
              "      <td>yasithfernando</td>\n",
              "      <td>Big Data Analytics Teamwork Leadership Team Leadership Data Science Data Analytics Analytical Skills Analysis Management Team Management Analytics Business Analysis Predictive Analytics Business Strategy Data Modeling Operations Management Telecommunications Insurance Financial Analysis Risk Assessment Financial Modeling Business Analytics Consulting Negotiation Finance Lecturing New Business ...</td>\n",
              "      <td></td>\n",
              "      <td></td>\n",
              "      <td></td>\n",
              "      <td>Deputy General Manager Cargills Ceylon</td>\n",
              "      <td>Board Member International Society of Chief Data Officers (isCDO)</td>\n",
              "      <td>Senior Manager - Data &amp; Analytics | Digital Strategy &amp; Transformation EY</td>\n",
              "      <td>Data Scientist | Business Analytics Consultant Accenture</td>\n",
              "      <td>Deputy General Manager</td>\n",
              "      <td>0</td>\n",
              "    </tr>\n",
              "    <tr>\n",
              "      <th>126</th>\n",
              "      <td>vishva-gayan</td>\n",
              "      <td>Java Python Programming Language Git Data Engineering Machine Learning Software Development Databases C Programming Language Graphic Design Microsoft Office Computer Science Reactjs Deep Learning Data Structures Algorithms Natural Language Processing NLP R Research Machine Learning Algorithms TensorFlow PyTorch Relational Databases Android Development ScikitLearn JSON Algorithm Development AWS...</td>\n",
              "      <td></td>\n",
              "      <td></td>\n",
              "      <td></td>\n",
              "      <td>Software Engineer :Different</td>\n",
              "      <td>Web Developer Upwork</td>\n",
              "      <td>Student University of Peradeniya</td>\n",
              "      <td>Freelance Graphic and Web Designer Fiverr</td>\n",
              "      <td>Software Engineer</td>\n",
              "      <td>0</td>\n",
              "    </tr>\n",
              "    <tr>\n",
              "      <th>127</th>\n",
              "      <td>chandika-johan-ariyaratne</td>\n",
              "      <td>Python Programming Language Microsoft Word Data Analysis Microsoft Office Teamwork Leadership Public Speaking Project Management Microsoft Excel Team Leadership Statistics Data Visualization Data Science PowerPoint R Statistical Modeling Matlab SPSS Research Management Team Management Business Analysis Power BI Social Media Event Management Sharepoint Data Strategies</td>\n",
              "      <td></td>\n",
              "      <td></td>\n",
              "      <td></td>\n",
              "      <td>Product Analyst Innovation Quotient (Pvt)Ltd</td>\n",
              "      <td>Product Manager Linear Squared</td>\n",
              "      <td>Data Scientist - Customer Insights Linear Squared</td>\n",
              "      <td>Executive - Talent Analytics MAS Holdings</td>\n",
              "      <td>Product Analyst</td>\n",
              "      <td>0</td>\n",
              "    </tr>\n",
              "    <tr>\n",
              "      <th>128</th>\n",
              "      <td>dinindu-seneviratne-259697120</td>\n",
              "      <td>Data Analysis Programming Microsoft Office Leadership MongoDB Microsoft Excel Team Leadership Data Visualization Data Science Data Analytics R Tableau Statistical Data Analysis Presentation Skills Team Management Microsoft Power BI Business Intelligence BI Strategic Planning Business Strategy Data Modeling Web Scraping Business Intelligence Tools SAP ERP Database Design Statistical Programming...</td>\n",
              "      <td></td>\n",
              "      <td></td>\n",
              "      <td></td>\n",
              "      <td>Head of Solutions Engineering (Production Software) Zilingo</td>\n",
              "      <td>Associate Data Scientist nCinga Innovations (Pvt) Ltd</td>\n",
              "      <td>Executive - Data Analytics (Linea Aqua - Swimwear Manufacturing) MAS Holdings</td>\n",
              "      <td>Executive - Planning (Linea Aqua - Swimwear Manufacturing) MAS Holdings</td>\n",
              "      <td>Head of Solutions Engineering (Production Software)</td>\n",
              "      <td>0</td>\n",
              "    </tr>\n",
              "    <tr>\n",
              "      <th>129</th>\n",
              "      <td>hong-vu-576958144</td>\n",
              "      <td>Teamwork Negotiation Human Resources Employee Relations Banking</td>\n",
              "      <td></td>\n",
              "      <td></td>\n",
              "      <td></td>\n",
              "      <td>Talent Acquisition Specialist Vietnam International Bank (VIB) - Ngân Hàng Quốc Tế</td>\n",
              "      <td>Senior Recruiter Vietnam International Bank (VIB) - Ngân Hàng Quốc Tế</td>\n",
              "      <td>Recruiter VPBank</td>\n",
              "      <td></td>\n",
              "      <td>Talent Acquisition Specialist</td>\n",
              "      <td>0</td>\n",
              "    </tr>\n",
              "    <tr>\n",
              "      <th>130</th>\n",
              "      <td>swati-chanchal</td>\n",
              "      <td>JavaScript Python Programming Language HTML Cascading Style Sheets CSS Nodejs SQL Microsoft Word Machine Learning Data Analysis Microsoft Azure Leadership Public Speaking Project Management Microsoft Excel Deep Learning Data Visualization OpenCV Team Management TensorFlow Time Management Neural Networks Flask Tkinter</td>\n",
              "      <td></td>\n",
              "      <td></td>\n",
              "      <td></td>\n",
              "      <td>Associate Professional Software Engineer DXC Technology</td>\n",
              "      <td>Freelance Software Developer Freelance</td>\n",
              "      <td>Campus Ambassador Verzeo</td>\n",
              "      <td>Data Science Intern Alpha AI Ltd.</td>\n",
              "      <td>Associate Professional Software Engineer</td>\n",
              "      <td>0</td>\n",
              "    </tr>\n",
              "    <tr>\n",
              "      <th>132</th>\n",
              "      <td>shainy-dsouza-812955174</td>\n",
              "      <td>Java JavaScript Python Programming Language MySQL Cascading Style Sheets CSS SQL Big Data Analytics Machine Learning Data Analysis C Programming Language C Microsoft Excel Algorithms Statistics R Tableau Microsoft Power BI Microsoft SQL Server Business Analysis Google Cloud Platform GCP Machine Learning Algorithms PySpark C</td>\n",
              "      <td></td>\n",
              "      <td></td>\n",
              "      <td></td>\n",
              "      <td>Trainee Decision Scientist Mu Sigma Inc.</td>\n",
              "      <td></td>\n",
              "      <td></td>\n",
              "      <td></td>\n",
              "      <td>Trainee Decision Scientist</td>\n",
              "      <td>0</td>\n",
              "    </tr>\n",
              "    <tr>\n",
              "      <th>150</th>\n",
              "      <td>thakshika-thirilojanan</td>\n",
              "      <td>Java JavaScript Python Programming Language PHP MySQL HTML Machine Learning Programming Microsoft Office C Project Management Microsoft PowerPoint Deep Learning Data Mining Matlab Computer Vision Artificial Intelligence AI Software Engineering Computer Engineering</td>\n",
              "      <td></td>\n",
              "      <td></td>\n",
              "      <td></td>\n",
              "      <td>Instructor Faculty of Engineering, University of Sri Jayewardenepura</td>\n",
              "      <td>Data Scientist Linear Squared (PVT) Ltd</td>\n",
              "      <td>Research Intern Indian Institute of Technology Gandhinagar</td>\n",
              "      <td>Network Intern Sri Lanka Telecom</td>\n",
              "      <td>Instructor</td>\n",
              "      <td>0</td>\n",
              "    </tr>\n",
              "    <tr>\n",
              "      <th>151</th>\n",
              "      <td>di-edward-ai</td>\n",
              "      <td>Java Python Programming Language SQL Microsoft Word WordPress Machine Learning Data Analysis Adobe Photoshop Teamwork Microsoft Excel Microsoft PowerPoint Adobe Illustrator Python Hadoop SPSS Time Management Strategic Planning Data Modeling LaTeX Java Enterprise Edition Microsoft Access Digital Marketing Unix R  Microsoft Outlook Adobe Dreamweaver Adobe Photoshop Lightroom Tableau Keynote Mark...</td>\n",
              "      <td></td>\n",
              "      <td></td>\n",
              "      <td></td>\n",
              "      <td>Machine Learning Scientist Walmart Global Tech</td>\n",
              "      <td>Data Scientist Walmart Global Tech</td>\n",
              "      <td>Associate Data Scientist Walmart Global Tech</td>\n",
              "      <td>Data Scienctist Intern BatesForum</td>\n",
              "      <td>Machine Learning Scientist</td>\n",
              "      <td>0</td>\n",
              "    </tr>\n",
              "    <tr>\n",
              "      <th>153</th>\n",
              "      <td>imesha-jayasundara-a7962917a</td>\n",
              "      <td>Python Programming Language Machine Learning Microsoft Office Statistics Data Science Time Series Analysis Minitab Research Mathematics Applied Mathematics Regression Analysis LaTeX MATLAB Quantitative Finance Finance Advanced Excel Actuarial Science IBM SPSS Statistics Ratio Analysis Financial Statement Analysis</td>\n",
              "      <td></td>\n",
              "      <td></td>\n",
              "      <td></td>\n",
              "      <td>Business Development Executive Vidullanka PLC</td>\n",
              "      <td>Associate Data Scientist Epic Lanka Technologies (Pvt.) Ltd.</td>\n",
              "      <td>Trainee Data Scientist Epic Lanka Technologies (Pvt.) Ltd</td>\n",
              "      <td></td>\n",
              "      <td>Business Development Executive</td>\n",
              "      <td>0</td>\n",
              "    </tr>\n",
              "    <tr>\n",
              "      <th>158</th>\n",
              "      <td>nuwan12</td>\n",
              "      <td>Machine Learning Data Analysis Python Statistics Probability Matlab Applied Mathematics ScikitLearn Natural Language Processing keras Optimization Sentiment Analysis Stochastic Processes</td>\n",
              "      <td></td>\n",
              "      <td></td>\n",
              "      <td></td>\n",
              "      <td>Director Of Engineering Codify</td>\n",
              "      <td>Data Scientist Self Employed - Data Scientist</td>\n",
              "      <td>Founder  NLP project focused on online publishers.</td>\n",
              "      <td>Postdoctoral Researcher in Computational Neuroscience New York University</td>\n",
              "      <td>Director Of Engineering</td>\n",
              "      <td>0</td>\n",
              "    </tr>\n",
              "    <tr>\n",
              "      <th>160</th>\n",
              "      <td>viny-vyas-32b7a81b3</td>\n",
              "      <td>Python Programming Language SQL Machine Learning Problem Solving Microsoft Office Microsoft Excel Data Science Written Communication Digital Marketing</td>\n",
              "      <td></td>\n",
              "      <td></td>\n",
              "      <td></td>\n",
              "      <td>Data Scienctist  Marktine Technology Solutions</td>\n",
              "      <td>Intern Coding Ninjas</td>\n",
              "      <td></td>\n",
              "      <td></td>\n",
              "      <td>Data Scienctist</td>\n",
              "      <td>0</td>\n",
              "    </tr>\n",
              "    <tr>\n",
              "      <th>163</th>\n",
              "      <td>zain-ul-abdeen-1130971b9</td>\n",
              "      <td></td>\n",
              "      <td></td>\n",
              "      <td></td>\n",
              "      <td></td>\n",
              "      <td>Data scienctist at NSTP NUST ISB at Orel Vision  National Science &amp; Technology Park</td>\n",
              "      <td>Real Estate Investment Advisor  AAA Associates</td>\n",
              "      <td>I was working as a freelancer NerdyTurtlez.com</td>\n",
              "      <td></td>\n",
              "      <td>Data scienctist at NSTP NUST ISB at Orel Vision</td>\n",
              "      <td>0</td>\n",
              "    </tr>\n",
              "    <tr>\n",
              "      <th>180</th>\n",
              "      <td>emmanuel-ravin-0687a5165</td>\n",
              "      <td>Python Programming Language SQL python Microsoft Excel Data Mining R Tableau Microsoft Power BI TensorFlow PyTorch Agile Methodologies JIRA</td>\n",
              "      <td></td>\n",
              "      <td></td>\n",
              "      <td></td>\n",
              "      <td>Senior Analyst LatentView Analytics</td>\n",
              "      <td>Intern AI Australia</td>\n",
              "      <td>Data Analyst Monash College</td>\n",
              "      <td>Data Scientist Mu Sigma Inc.</td>\n",
              "      <td>Senior Analyst</td>\n",
              "      <td>0</td>\n",
              "    </tr>\n",
              "    <tr>\n",
              "      <th>186</th>\n",
              "      <td>divya-krishnani-b8914a137</td>\n",
              "      <td>C PHP MySQL HTML Cascading Style Sheets CSS Bootstrap Web Development Linux HTML WordPress Machine Learning Data Analysis C Programming Language C Deep Learning Python Data Structures Image Processing OpenCV Shell Scripting Matplotlib Oracle Database Numpy Socket Programming</td>\n",
              "      <td></td>\n",
              "      <td></td>\n",
              "      <td></td>\n",
              "      <td>Data and Applied Scientist Microsoft</td>\n",
              "      <td>Software Engineer Microsoft</td>\n",
              "      <td>Software Engineer Intern Microsoft</td>\n",
              "      <td>Software Engineer Intern Microsoft</td>\n",
              "      <td>Data and Applied Scientist</td>\n",
              "      <td>0</td>\n",
              "    </tr>\n",
              "    <tr>\n",
              "      <th>209</th>\n",
              "      <td>khushali-shah-8242107a</td>\n",
              "      <td>C Python Programming Language PHP MySQL Microsoft Word Big Data Analytics Machine Learning Data Analysis Microsoft Office CSS C Microsoft Excel Python Data Mining Data Visualization Data Science R Tableau Image Processing Matlab Research Keras LaTeX Neural Networks Natural Language Processing</td>\n",
              "      <td></td>\n",
              "      <td></td>\n",
              "      <td></td>\n",
              "      <td>Research Engineer Jekson Vision</td>\n",
              "      <td>Data Scientist OmniMD</td>\n",
              "      <td>Associate Data Scientist OmniMD</td>\n",
              "      <td>Data Analyst Rangam India</td>\n",
              "      <td>Research Engineer</td>\n",
              "      <td>0</td>\n",
              "    </tr>\n",
              "    <tr>\n",
              "      <th>219</th>\n",
              "      <td>suchit-dehury-374436a6</td>\n",
              "      <td>MySQL Machine Learning Data Analysis Python Data Mining Data Visualization Predictive Modeling Linear Regression Tableau Predictive Analytics Neural Networks Text Analytics Natural Language Processing Text Mining r Data Classification Cluster Analysis</td>\n",
              "      <td></td>\n",
              "      <td></td>\n",
              "      <td></td>\n",
              "      <td>Quality Analytics Specialist Refinitiv</td>\n",
              "      <td>Software Design Engineer WinWire Technologies Inc.</td>\n",
              "      <td>Data Scientist DXC Technology</td>\n",
              "      <td>SAP BI Consultant Hewlett Packard Enterprise</td>\n",
              "      <td>Quality Analytics Specialist</td>\n",
              "      <td>0</td>\n",
              "    </tr>\n",
              "    <tr>\n",
              "      <th>221</th>\n",
              "      <td>prajwal-mannure-32b749191</td>\n",
              "      <td>Python Programming Language SQL Machine Learning Data Analysis Microsoft Excel Deep Learning Data Mining Data Visualization Data Science Data Analytics Tableau Machine Learning Algorithms RStudio Microsoft Outlook Web scraping</td>\n",
              "      <td></td>\n",
              "      <td></td>\n",
              "      <td></td>\n",
              "      <td>Process Executive - Business Intelligence Paragon Digital Services</td>\n",
              "      <td>Data Scientist INNODATATICS * Innovation | Data | Analytics</td>\n",
              "      <td>PLC Programmer JR Machinery &amp; Controls</td>\n",
              "      <td></td>\n",
              "      <td>Process Executive - Business Intelligence</td>\n",
              "      <td>0</td>\n",
              "    </tr>\n",
              "    <tr>\n",
              "      <th>226</th>\n",
              "      <td>viraj-kulathunge</td>\n",
              "      <td>Java C JavaScript MySQL SQL HTML Machine Learning Scala Databases Problem Solving Teamwork C Python Algorithms Data Mining Team Leadership Data Science Hadoop Linear Regression Tableau Decision Trees Matlab Computer Vision Artificial Intelligence AI Analytical Skills R Programming Language Apache Spark PySpark Django Software Engineering Networking OOP Pattern Recognition Splunk</td>\n",
              "      <td></td>\n",
              "      <td></td>\n",
              "      <td></td>\n",
              "      <td>Consultant  DXC Technology</td>\n",
              "      <td>Data Scientist Commonwealth Bank</td>\n",
              "      <td>Graduate Researcher Monash University</td>\n",
              "      <td>Software Engineer WSO2</td>\n",
              "      <td>Consultant</td>\n",
              "      <td>0</td>\n",
              "    </tr>\n",
              "    <tr>\n",
              "      <th>231</th>\n",
              "      <td>dkharshanath</td>\n",
              "      <td>Java JavaScript Python Programming Language MySQL SQL HTML Machine Learning Data Analysis Databases Programming Microsoft Office Leadership C ObjectOriented Programming OOP Deep Learning Data Mining Natural Language Processing NLP Data Visualization Data Science Data Analytics Predictive Modeling R Time Series Analysis Statistical Data Analysis Artificial Intelligence AI Research Analytics Bus...</td>\n",
              "      <td></td>\n",
              "      <td></td>\n",
              "      <td></td>\n",
              "      <td>Visiting Lecturer University of Wollongong</td>\n",
              "      <td>Data Science Researcher SMART Infrastructure Facility, University of Wollongong</td>\n",
              "      <td>Casual Academic University of Wollongong</td>\n",
              "      <td>Data Scientist Combined Business Analyst nCinga Innovations (Pvt) Ltd</td>\n",
              "      <td>Visiting Lecturer</td>\n",
              "      <td>0</td>\n",
              "    </tr>\n",
              "    <tr>\n",
              "      <th>235</th>\n",
              "      <td>abhishek-singh-kushwaha</td>\n",
              "      <td>Java C JavaScript Python Programming Language MySQL Cascading Style Sheets CSS Nodejs Git HTML Machine Learning Reactjs MongoDB Expressjs Natural Language Processing NLP Data Visualization R Tableau Forecasting Data Modeling Web Scraping Flask Oracle Database Text Mining</td>\n",
              "      <td></td>\n",
              "      <td></td>\n",
              "      <td></td>\n",
              "      <td>Subject Matter Expert Chegg Inc.</td>\n",
              "      <td>Data Scientist INNODATATICS * Innovation | Data | Analytics</td>\n",
              "      <td></td>\n",
              "      <td></td>\n",
              "      <td>Subject Matter Expert</td>\n",
              "      <td>0</td>\n",
              "    </tr>\n",
              "    <tr>\n",
              "      <th>239</th>\n",
              "      <td>dinuka-nicholas</td>\n",
              "      <td>Java JavaScript Data Analysis Microsoft Office Teamwork Leadership Project Management Microsoft Excel Python Team Leadership Statistics R Statistical Modeling SPSS Analytical Skills Research Analytics Survey Design Perl Team Motivation Psychometrics Project Delivery Employee Training Data Segmentation Sawtooth Survey Research Employee Surveys Survey Methodology Customer Surveys Online Survey D...</td>\n",
              "      <td></td>\n",
              "      <td></td>\n",
              "      <td></td>\n",
              "      <td>Senior Business Analyst Axiata Digital Labs</td>\n",
              "      <td>Data Scientist - Customer Insights Linear Squared (PVT) Ltd</td>\n",
              "      <td>Business Analyst Linear Squared (PVT) Ltd</td>\n",
              "      <td>Statistical Analyst at Stax Inc. Stax Inc.</td>\n",
              "      <td>Senior Business Analyst</td>\n",
              "      <td>0</td>\n",
              "    </tr>\n",
              "    <tr>\n",
              "      <th>242</th>\n",
              "      <td>srihari-nune-899b39146</td>\n",
              "      <td>SQL Machine Learning Data Analysis MongoDB Deep Learning Python Data Science R Computer Vision Natural Language Processing</td>\n",
              "      <td></td>\n",
              "      <td></td>\n",
              "      <td></td>\n",
              "      <td>Senior Software Engineer Tech Mahindra</td>\n",
              "      <td>Data Scientist TensorGo Technologies</td>\n",
              "      <td>Associate data scientist AppsTek</td>\n",
              "      <td>Associate data scientist mtwlabs</td>\n",
              "      <td>Senior Software Engineer</td>\n",
              "      <td>0</td>\n",
              "    </tr>\n",
              "    <tr>\n",
              "      <th>249</th>\n",
              "      <td>vicky-gupta-583016168</td>\n",
              "      <td>Python Programming Language MySQL SQL HTML Machine Learning Microsoft Azure C Programming Language Teamwork C Microsoft Excel Deep Learning Data Structures Data Mining Natural Language Processing NLP Statistics Data Visualization Data Science Data Analytics Predictive Modeling Logistic Regression Linear Regression Artificial Neural Networks Support Vector Machine SVM Tableau Time Series Analys...</td>\n",
              "      <td></td>\n",
              "      <td></td>\n",
              "      <td></td>\n",
              "      <td>Application Development Associate Accenture in India</td>\n",
              "      <td>Deep Learning Intern iNeuron.ai</td>\n",
              "      <td>Data Science &amp; Analytics The Sparks Foundation</td>\n",
              "      <td>Behavioral Data Scientist- Intern BEAST</td>\n",
              "      <td>Application Development Associate</td>\n",
              "      <td>0</td>\n",
              "    </tr>\n",
              "    <tr>\n",
              "      <th>253</th>\n",
              "      <td>kritisahu</td>\n",
              "      <td>JavaScript Python Programming Language SQL python Linux HTML Machine Learning Microsoft Office CSS Deep Learning Algorithms Natural Language Processing NLP Data Visualization Data Science Predictive Modeling Artificial Neural Networks OpenCV Computer Vision Artificial Intelligence AI Django NumPy ScikitLearn Neural Networks c SciPy keras Neoj pandas Unix Image processing data structure pytorch...</td>\n",
              "      <td></td>\n",
              "      <td></td>\n",
              "      <td></td>\n",
              "      <td>Contributor Stack Overflow</td>\n",
              "      <td>Data Scientist Bayshore Intelligence Solutions</td>\n",
              "      <td>Junior Data Science Engineer Bayshore Intelligence Solutions</td>\n",
              "      <td></td>\n",
              "      <td>Contributor</td>\n",
              "      <td>0</td>\n",
              "    </tr>\n",
              "    <tr>\n",
              "      <th>254</th>\n",
              "      <td>nishant-babel-5141283a</td>\n",
              "      <td>C SQL HTML Microsoft Word Machine Learning Data Analysis Programming Microsoft Office Teamwork C Microsoft Excel PowerPoint R Statistical Data Analysis Matlab Research Analysis Market Research Team Management SAS Social Services AutoCAD GNU Octave Business Analytics Security Analysis Portfolio Management Principles of Economics Principles of Finance Decision Sciences</td>\n",
              "      <td></td>\n",
              "      <td></td>\n",
              "      <td></td>\n",
              "      <td>Senior Business Analyst Money View</td>\n",
              "      <td>Core Member | Training &amp; Product  Corpnce Technologies</td>\n",
              "      <td>Data Scientist Money View</td>\n",
              "      <td>Data Scientist Educational Initiatives</td>\n",
              "      <td>Senior Business Analyst</td>\n",
              "      <td>0</td>\n",
              "    </tr>\n",
              "    <tr>\n",
              "      <th>265</th>\n",
              "      <td>soham-sen-8a597218</td>\n",
              "      <td>Java Machine Learning Data Analysis Databases Python Data Mining Data Visualization Statistical Modeling Matlab Apache Spark DevOps Amazon Web Services AWS Kubernetes Presentations Modeling and Simulation Natural Language Processing Spreadsheets Red Hat Linux Ontologies Web Framework Red Hat Enterprise Linux RHEL Openshift Cloud Application Development CRP</td>\n",
              "      <td></td>\n",
              "      <td></td>\n",
              "      <td></td>\n",
              "      <td>Assistant Manager IDA Automation Private Limited</td>\n",
              "      <td>Senior Software Engineer IDA Automation Private Limited</td>\n",
              "      <td>Senior Software Engineer Allianz Technology</td>\n",
              "      <td>Consultant (Deployment) Allianz Technology</td>\n",
              "      <td>Assistant Manager</td>\n",
              "      <td>0</td>\n",
              "    </tr>\n",
              "    <tr>\n",
              "      <th>274</th>\n",
              "      <td>ashish-dhakad-84679a142</td>\n",
              "      <td>MySQL Machine Learning Data Analysis Problem Solving MongoDB Microsoft Excel Python Data Mining Statistics Data Visualization Data Science Tableau Decision Trees Statistical Data Analysis Statistical Modeling SPSS Microsoft Power BI Exploratory Data Analysis Predictive Analytics Communication Storytelling Data Cleaning Google Data Studio R Programming Statistical Analysis Multivariate Statisti...</td>\n",
              "      <td></td>\n",
              "      <td></td>\n",
              "      <td></td>\n",
              "      <td>Decision Scientist Fractal</td>\n",
              "      <td>Data Associate Vernacular.ai</td>\n",
              "      <td>Subject Matter Expert (Statistics) Chegg Inc.</td>\n",
              "      <td>Sentiment Analyst Gfactors</td>\n",
              "      <td>Decision Scientist</td>\n",
              "      <td>0</td>\n",
              "    </tr>\n",
              "    <tr>\n",
              "      <th>279</th>\n",
              "      <td>rounak-roy-742a44175</td>\n",
              "      <td>Java Python Programming Language MySQL SQL Microsoft Word Machine Learning Data Analysis C Programming Language Microsoft Office C Microsoft Excel Microsoft PowerPoint Data Analytics Predictive Modeling Hive Apache Pig R Business Analysis Apache Spark SAS Programming Big Data Operations Management Web Scraping ASPNET Anomaly Detection Business Analytics Supply Chain Optimization Clustering and...</td>\n",
              "      <td></td>\n",
              "      <td></td>\n",
              "      <td></td>\n",
              "      <td>Decision Scientist Mu Sigma Inc.</td>\n",
              "      <td></td>\n",
              "      <td></td>\n",
              "      <td></td>\n",
              "      <td>Decision Scientist</td>\n",
              "      <td>0</td>\n",
              "    </tr>\n",
              "    <tr>\n",
              "      <th>280</th>\n",
              "      <td>gayakshikagimhani</td>\n",
              "      <td>Java JavaScript Python Programming Language PHP MySQL Cascading Style Sheets CSS XML Web Development Linux HTML Machine Learning Software Development Microsoft Azure Problem Solving English Microsoft Office Teamwork Leadership ObjectOriented Programming OOP MongoDB Arduino Software Project Management Anaconda Google Cloud Platform GCP DevOps Time Management Android Development jQuery Web Servi...</td>\n",
              "      <td></td>\n",
              "      <td></td>\n",
              "      <td></td>\n",
              "      <td>Senior Software Engineer Novigi Pty Ltd</td>\n",
              "      <td>Data Scientist | Developer Dialog Network Services (Private) Limited</td>\n",
              "      <td>Software Engineer Trainee LOLC Technologies Limited</td>\n",
              "      <td></td>\n",
              "      <td>Senior Software Engineer</td>\n",
              "      <td>0</td>\n",
              "    </tr>\n",
              "    <tr>\n",
              "      <th>283</th>\n",
              "      <td>prakhar-agrawal-67b451104</td>\n",
              "      <td>Java C Python Programming Language MySQL SQL Microsoft Word Data Analysis Problem Solving Microsoft Office Leadership Public Speaking C Project Management Microsoft Excel Customer Service PowerPoint Analytical Skills Critical Thinking Research Management Business Analysis PostgreSQL DBMS TransactSQL TSQL Communication Skills communication skills WinSCP</td>\n",
              "      <td></td>\n",
              "      <td></td>\n",
              "      <td></td>\n",
              "      <td>Analyst - Risk Management ll American Express</td>\n",
              "      <td>Data Scientist Tata Consultancy Services</td>\n",
              "      <td>Summer Intern Defence Research and Development Organisation (DRDO)</td>\n",
              "      <td>Summer Intern Tata Consultancy Services</td>\n",
              "      <td>Analyst - Risk Management ll</td>\n",
              "      <td>0</td>\n",
              "    </tr>\n",
              "    <tr>\n",
              "      <th>284</th>\n",
              "      <td>rohithramr</td>\n",
              "      <td>Java C JavaScript SQL Git Machine Learning Data Analysis Microsoft Office Teamwork C MongoDB Microsoft Excel Microsoft PowerPoint Deep Learning Python Natural Language Processing NLP Time Series Analysis Statistical Modeling Pycharm Presentation Skills Exploratory Data Analysis TensorFlow PyTorch Keras LaTeX Android Development ScikitLearn Anomaly Detection Cluster Analysis Mean Stack Backend ...</td>\n",
              "      <td></td>\n",
              "      <td></td>\n",
              "      <td></td>\n",
              "      <td>Data &amp; Applied Scientist Microsoft</td>\n",
              "      <td>ML Software Engineer Cargill</td>\n",
              "      <td>Data Science Intern Gartner</td>\n",
              "      <td>Deep Learning Research Intern Indian Institute of Management Bangalore</td>\n",
              "      <td>Data &amp; Applied Scientist</td>\n",
              "      <td>0</td>\n",
              "    </tr>\n",
              "    <tr>\n",
              "      <th>285</th>\n",
              "      <td>jawad--arshad</td>\n",
              "      <td>C SQL Big Data Analytics Machine Learning Data Analysis Databases C Deep Learning Python Natural Language Processing NLP Data Visualization Data Science Data Analytics Hadoop Hive Support Vector Machine SVM Tableau Decision Trees Microsoft SQL Server Apache Spark TensorFlow Keras MapReduce Matplotlib Pandas Software NumPy ScikitLearn Neural Networks Unsupervised Learning Microcontrollers Xilin...</td>\n",
              "      <td></td>\n",
              "      <td></td>\n",
              "      <td></td>\n",
              "      <td>Co-Founder The Data Atelier</td>\n",
              "      <td>Data Scientist and Machine Learning Engineer ADDO AI</td>\n",
              "      <td>Technical Team Lead ADDO AI</td>\n",
              "      <td>Graduate Teaching Assistant Information Technology University</td>\n",
              "      <td>Co-Founder</td>\n",
              "      <td>0</td>\n",
              "    </tr>\n",
              "    <tr>\n",
              "      <th>288</th>\n",
              "      <td>vansh-jatana</td>\n",
              "      <td>C JavaScript PHP SQL Web Development HTML Machine Learning Data Analysis Microsoft Office C Microsoft Excel Python Data Mining Data Visualization Data Science R Matlab Apache Big Data Ruby</td>\n",
              "      <td></td>\n",
              "      <td></td>\n",
              "      <td></td>\n",
              "      <td>Technical Writer Analytics Vidhya</td>\n",
              "      <td>Data Scientist Pattern ai</td>\n",
              "      <td>Data Analyst ANZ</td>\n",
              "      <td>Data Scientist All About IT</td>\n",
              "      <td>Technical Writer</td>\n",
              "      <td>0</td>\n",
              "    </tr>\n",
              "    <tr>\n",
              "      <th>289</th>\n",
              "      <td>parulpandeyindia</td>\n",
              "      <td>Python Programming Language Big Data Analytics Data Analysis Deep Learning Python Team Management Predictive Analytics TensorFlow Keras Engineering Electrical Engineering Project Planning NLP AutoCAD tableau Power Distribution Smart Grid Reliability CYME GIS Application Meters electrical Network analysis Drake</td>\n",
              "      <td></td>\n",
              "      <td></td>\n",
              "      <td></td>\n",
              "      <td>Co-Founder Women in Coding &amp; Data Science</td>\n",
              "      <td>Kaggle Grandmaster(Notebooks) Kaggle</td>\n",
              "      <td>Contributing Author O'Reilly Media</td>\n",
              "      <td>Organizer-WiMLDS Hyderabad (WiMLDS) Women in Machine Learning &amp; Data Science</td>\n",
              "      <td>Co-Founder</td>\n",
              "      <td>0</td>\n",
              "    </tr>\n",
              "    <tr>\n",
              "      <th>290</th>\n",
              "      <td>kashyapbarua</td>\n",
              "      <td>Java C Python Programming Language SQL Linux HTML Machine Learning Data Analysis Problem Solving Programming CSS Microsoft Excel Data Analytics Predictive Modeling Hive R Tableau Microsoft Power BI Business Analysis Big Data Windows SciPy AB Testing Apache Ambari Teradata SQL SQL Tools Design of Experiments DOE</td>\n",
              "      <td></td>\n",
              "      <td></td>\n",
              "      <td></td>\n",
              "      <td>Product Analyst I MiQ</td>\n",
              "      <td>Product Analyst BlackBuck (Zinka Logistics Solutions Pvt. Ltd.)</td>\n",
              "      <td>Decision Scientist Mu Sigma Inc.</td>\n",
              "      <td></td>\n",
              "      <td>Product Analyst I</td>\n",
              "      <td>0</td>\n",
              "    </tr>\n",
              "    <tr>\n",
              "      <th>293</th>\n",
              "      <td>swatirai1410</td>\n",
              "      <td>Java JavaScript Python Programming Language MySQL SQL HTML Machine Learning C Programming Language Microsoft Excel Data Visualization Data Science Data Analytics Database Management System DBMS Digital Marketing Social Media Marketing Cascading Style SheetsCSS</td>\n",
              "      <td></td>\n",
              "      <td></td>\n",
              "      <td></td>\n",
              "      <td>Data Scienctist and Business Analytics The Sparks Foundation</td>\n",
              "      <td>Frontend Web Developer CCXNEWS</td>\n",
              "      <td></td>\n",
              "      <td></td>\n",
              "      <td>Data Scienctist and Business Analytics</td>\n",
              "      <td>0</td>\n",
              "    </tr>\n",
              "    <tr>\n",
              "      <th>294</th>\n",
              "      <td>aash07</td>\n",
              "      <td>Java JavaScript Python Programming Language SQL HTML Machine Learning Data Analysis Software Development Life Cycle SDLC MongoDB Data Mining Data Visualization Data Science Data Analytics Hadoop Hive Apache Pig Tableau Statistical Data Analysis Statistical Modeling Artificial Intelligence AI Microsoft Power BI Apache Spark Big Data Apache Spark Streaming Data Warehousing C jQuery Statistical T...</td>\n",
              "      <td></td>\n",
              "      <td></td>\n",
              "      <td></td>\n",
              "      <td>Software Engineer Infogain</td>\n",
              "      <td>Data Scientist Seceon Inc.</td>\n",
              "      <td>Application Developer Cassquare Engineering Llp</td>\n",
              "      <td></td>\n",
              "      <td>Software Engineer</td>\n",
              "      <td>0</td>\n",
              "    </tr>\n",
              "    <tr>\n",
              "      <th>298</th>\n",
              "      <td>ritabhash</td>\n",
              "      <td>Java C MySQL Git Machine Learning Microsoft Office Deep Learning Python Natural Language Processing NLP Data Science Tableau Big Data Cloud Computing Bash ComputerAided Design CAD Spring MVC Data Structures and Algorithms Search Advertising Thoughtspot</td>\n",
              "      <td></td>\n",
              "      <td></td>\n",
              "      <td></td>\n",
              "      <td>Trainee Decision Scientist Mu Sigma Inc.</td>\n",
              "      <td>Decision Science Apprentice Mu Sigma Inc.</td>\n",
              "      <td>Analyst - Microsoft Bing Search InMobi</td>\n",
              "      <td>Consultant - Microsoft Bing Search InMobi</td>\n",
              "      <td>Trainee Decision Scientist</td>\n",
              "      <td>0</td>\n",
              "    </tr>\n",
              "    <tr>\n",
              "      <th>307</th>\n",
              "      <td>dineshmk594</td>\n",
              "      <td>C Python Programming Language MySQL XML SQL Machine Learning Data Analysis Teamwork C Microsoft Excel Microsoft PowerPoint Data Science Data Analytics Hadoop R Tableau Microsoft Power BI Exploratory Data Analysis Communication R Shiny Unix Banking Snowflake COBOL Core Banking blockchain html distributed ledger NEFT RTGS dbtdata build tool</td>\n",
              "      <td>Post graduate program, Data science and Engineering Great Lakes Institute of Management</td>\n",
              "      <td>Bachelor of Engineering (B.E.), Electrical, Electronics and Communications Engineering Rajalakshmi Institute of Technology</td>\n",
              "      <td>Master of Business Administration - MBA  (CDE), SYSTEMS Bharathidasan University, Tiruchirappalli</td>\n",
              "      <td>Founder Data Caffee</td>\n",
              "      <td>Data scientist Indium Software</td>\n",
              "      <td>Systems Engineer Tata Consultancy Services</td>\n",
              "      <td></td>\n",
              "      <td>Founder</td>\n",
              "      <td>0</td>\n",
              "    </tr>\n",
              "    <tr>\n",
              "      <th>310</th>\n",
              "      <td>fezancs</td>\n",
              "      <td>Python Programming Language Machine Learning Data Analysis Microsoft Office Deep Learning Algorithms Statistics Data Science Research Pandas Software Data Cleaning</td>\n",
              "      <td>Master's degree, Computer Science Lahore University of Management Sciences</td>\n",
              "      <td>Bachelor's Degree, BS (Computer Science) Government College University, Lahore</td>\n",
              "      <td>Intermediate in , Computer Science Superior College</td>\n",
              "      <td>Research Assistant Lahore University of Management Sciences</td>\n",
              "      <td>Teaching Assistant Lahore University of Management Sciences</td>\n",
              "      <td>Data Scientist Environment Protection Department Punjab</td>\n",
              "      <td></td>\n",
              "      <td>Research Assistant</td>\n",
              "      <td>0</td>\n",
              "    </tr>\n",
              "    <tr>\n",
              "      <th>311</th>\n",
              "      <td>dolmayeshi</td>\n",
              "      <td>Java C JavaScript PHP MySQL SQL python Linux HTML Software Development Programming Microsoft Office Data Structures Algorithms Matlab Computer Vision LaTeX C Windows Computer Graphics c Network Architecture Game Theory machine learning Haskell</td>\n",
              "      <td>Integrated B.Tech.-M.Tech. Dual degree, Computer Science and Engineering Indian Institute of Technology, Kanpur</td>\n",
              "      <td>All India Senior School Certificate Examination, CBSE Curriculum Kendriya Vidyalaya</td>\n",
              "      <td>All India Secondary School Examination, CBSE Curriculum Vivekananda Kendra Vidyalaya, Itanagar</td>\n",
              "      <td>Data and Applied Scientist 2 Microsoft</td>\n",
              "      <td>Teaching Assistant Indian Institute of Technology, Kanpur</td>\n",
              "      <td>Masters Student Indian Institute of Technology, Kanpur</td>\n",
              "      <td>Undergraduate Student Indian Institute of Technology, Kanpur</td>\n",
              "      <td>Data and Applied Scientist 2</td>\n",
              "      <td>0</td>\n",
              "    </tr>\n",
              "    <tr>\n",
              "      <th>317</th>\n",
              "      <td>erandi-silva</td>\n",
              "      <td>Python Programming Language Microsoft Word WordPress Microsoft Excel Microsoft PowerPoint R Statistical Data Analysis Presentation Skills Survey Design IBM SPSS Statistics User Story Development Account Management</td>\n",
              "      <td>Special degree in Statistics, Statistics University of Colombo</td>\n",
              "      <td>Visakha Vidyalaya</td>\n",
              "      <td></td>\n",
              "      <td>Business Analyst Zone24x7</td>\n",
              "      <td>Data Scientist - Customer Insights Linear Squared (PVT) Ltd</td>\n",
              "      <td>Business Analyst Linear Squared (PVT) Ltd</td>\n",
              "      <td></td>\n",
              "      <td>Business Analyst</td>\n",
              "      <td>0</td>\n",
              "    </tr>\n",
              "    <tr>\n",
              "      <th>318</th>\n",
              "      <td>sehran-imam-b3b41979</td>\n",
              "      <td>Python Programming Language SQL English Leadership Hadoop R Microsoft Power BI Alteryx Teradata</td>\n",
              "      <td>Bachelor of Engineering (B.E.), Mechanical Engineering Siddaganga Institute Of Technology (Official)</td>\n",
              "      <td></td>\n",
              "      <td></td>\n",
              "      <td>Senior Pricing Analyst Lowe's India</td>\n",
              "      <td>Business Analyst Amazon</td>\n",
              "      <td>Decision Scientist Mu Sigma Inc.</td>\n",
              "      <td>Trainee Decision Scientist Mu Sigma Inc.</td>\n",
              "      <td>Senior Pricing Analyst</td>\n",
              "      <td>0</td>\n",
              "    </tr>\n",
              "    <tr>\n",
              "      <th>320</th>\n",
              "      <td>norah-alasfour</td>\n",
              "      <td>Java Python Programming Language SQL Git Machine Learning Data Analysis Problem Solving Graphic Design Programming Microsoft Office Teamwork Project Management Computer Science Microsoft Excel Data Structures Algorithms Data Mining Statistics Data Visualization Data Science Data Analytics R Tableau Image Processing Statistical Data Analysis Matlab Computer Vision Artificial Intelligence AI Ana...</td>\n",
              "      <td>Bachelor's degree, Computer Science King Saud University</td>\n",
              "      <td>Nanodegree, Data Visualization Udacity</td>\n",
              "      <td>Nanodegree, Self-Driving Car Engineer Udacity</td>\n",
              "      <td>System Analyst Confidential</td>\n",
              "      <td>Data scientist - Participant  General Assembly Middle East</td>\n",
              "      <td>Research Trainee King Faisal Specialist Hospital and Research Centre</td>\n",
              "      <td>Student Trainee Badir Program - Saar Institution</td>\n",
              "      <td>System Analyst</td>\n",
              "      <td>0</td>\n",
              "    </tr>\n",
              "    <tr>\n",
              "      <th>323</th>\n",
              "      <td>ematinov</td>\n",
              "      <td>SQL Git Machine Learning C Deep Learning Python Statistics Image Processing OpenCV Computer Vision Research TensorFlow PyTorch Keras LaTeX Artificial Intelligence Neural Networks Algorithms</td>\n",
              "      <td>Master's degree, Applied Mathematics and Computer Science Belarusian State University</td>\n",
              "      <td>Bachelor's degree, Mathematics and Computer Science Belarusian State University</td>\n",
              "      <td></td>\n",
              "      <td>Deep Learning Engineer iTechArt Group</td>\n",
              "      <td>Data Scientist EPAM Systems</td>\n",
              "      <td>Deep Learning Engineer Oxagile</td>\n",
              "      <td></td>\n",
              "      <td>Deep Learning Engineer</td>\n",
              "      <td>0</td>\n",
              "    </tr>\n",
              "    <tr>\n",
              "      <th>325</th>\n",
              "      <td>nitin-kumar-pal</td>\n",
              "      <td>Java Python Programming Language SQL Machine Learning Data Analysis Microsoft Excel Python Algorithms Natural Language Processing NLP Statistics Predictive Modeling R Logistic Regression Linear Regression Support Vector Machine SVM Decision Trees Time Series Analysis Statistical Modeling Artificial Intelligence AI Mathematical Modeling R Programming Language Regression Analysis Data Modeling S...</td>\n",
              "      <td>Bachelor of Engineering (BE) Army Institute of Technology, Pune</td>\n",
              "      <td></td>\n",
              "      <td></td>\n",
              "      <td>Senior Business Analyst Flipkart</td>\n",
              "      <td>Senior Planning Analyst Flipkart</td>\n",
              "      <td>Decision Scientist Mu Sigma Inc.</td>\n",
              "      <td>Trainee Decision Scientist Mu Sigma Inc.</td>\n",
              "      <td>Senior Business Analyst</td>\n",
              "      <td>0</td>\n",
              "    </tr>\n",
              "    <tr>\n",
              "      <th>327</th>\n",
              "      <td>jayesh-dosi-030192121</td>\n",
              "      <td>Java C Python Programming Language MySQL SQL Data Analysis C Project Management Microsoft Excel Data Visualization Data Science Data Analytics R Tableau Statistical Data Analysis Mathematics SAS Social Services Digital Marketing Social Media Marketing Technical Writing Clinical Research Real World Data RWD HEOR Oncology Oncology Clinical Research Healthcare Information Technology HIT Pharmacov...</td>\n",
              "      <td>Bachelor of Engineering - BE, Computer Science and Engineering Institute of Engineering and Technology, DAVV indore india</td>\n",
              "      <td>Higher secondary, Science and mathematics St. Norbert S.S. School</td>\n",
              "      <td>Secondary Education St Norbert S. S. School</td>\n",
              "      <td>Decision Scientist Mu Sigma Inc.</td>\n",
              "      <td>Trainee Decision Scientist Mu Sigma Inc.</td>\n",
              "      <td>Mentor Rang De Zindagi</td>\n",
              "      <td>Ambassador Grapevine India</td>\n",
              "      <td>Decision Scientist</td>\n",
              "      <td>0</td>\n",
              "    </tr>\n",
              "    <tr>\n",
              "      <th>331</th>\n",
              "      <td>liamliuyuan</td>\n",
              "      <td>Java C Python Programming Language SQL Machine Learning Microsoft Office Project Management Deep Learning Python Data Mining Data Science Tableau Google Cloud Platform GCP R Programming Language Apache Spark Business Intelligence BI TensorFlow PyTorch Keras Text Mining Jira Digital Marketing Visual Basic for Applications VBA Event Planning AB Testing Digital Transformation Image Classification...</td>\n",
              "      <td>Bachelor's degree, Electrical and Electronics Engineering (Information Communication) Nanyang Technological University</td>\n",
              "      <td></td>\n",
              "      <td></td>\n",
              "      <td>Consultant, Advanced Analytics McKinsey &amp; Company</td>\n",
              "      <td>Fellow, Advanced Analytics McKinsey &amp; Company</td>\n",
              "      <td>Algorithm Researcher, Computer Vision SenseTime 商汤科技</td>\n",
              "      <td>Founder, President (2018-19) Machine Learning and Data Analytics Lab at NTU EEE</td>\n",
              "      <td>Consultant, Advanced Analytics</td>\n",
              "      <td>0</td>\n",
              "    </tr>\n",
              "    <tr>\n",
              "      <th>334</th>\n",
              "      <td>shirishcshetty</td>\n",
              "      <td>C SQL C PowerPoint Market Research Business Analysis Strategic Planning Business Strategy Product Development Corporate Finance Digital Marketing Productivity Improvement Social Media Marketing Account Management Online Marketing International Business Sales Management Accounting Solutions Marketing Business English Direct Sales International Relations Sales Process Presentation Development Ac...</td>\n",
              "      <td>Masters in Business Administration (with Distinction), Marketing/Marketing Management, General Hult International Business School</td>\n",
              "      <td>Master of Business Administration (MBA), Finance IMT Business School</td>\n",
              "      <td>Engineering, Computer Science Birla Institute Of Technology and Science, Pilani Dubai</td>\n",
              "      <td>Digital Marketing Manager Brickworks Building Products</td>\n",
              "      <td>Digital Marketing &amp; Project Manager Leads Dubai</td>\n",
              "      <td>Marketing Analyst Google</td>\n",
              "      <td>CRM Solution Analyst (Technology Stategy) Cisco Systems</td>\n",
              "      <td>Digital Marketing Manager</td>\n",
              "      <td>0</td>\n",
              "    </tr>\n",
              "    <tr>\n",
              "      <th>335</th>\n",
              "      <td>ayush-ranjan-080502169</td>\n",
              "      <td>Python Programming Language MySQL SQL HTML Microsoft Word Machine Learning Data Analysis Problem Solving English C Programming Language Microsoft Office Teamwork Leadership Public Speaking Microsoft Excel Microsoft PowerPoint Deep Learning Data Mining Natural Language Processing NLP Statistics Data Visualization Data Science Data Analytics Predictive Modeling Hive R Statistical Data Analysis M...</td>\n",
              "      <td>Bachelor of Engineering - BE, ELECTRONICS AND TELECOMMUNICATION Maharashtra Institute of Technology</td>\n",
              "      <td></td>\n",
              "      <td></td>\n",
              "      <td>Decision Scientist Mu Sigma Inc.</td>\n",
              "      <td>Campaign Analyst Mu Sigma Inc.</td>\n",
              "      <td>Trainee Decision Scientist Mu Sigma Inc.</td>\n",
              "      <td>Campus Ambassador Indian Institute of Management Bangalore</td>\n",
              "      <td>Decision Scientist</td>\n",
              "      <td>0</td>\n",
              "    </tr>\n",
              "    <tr>\n",
              "      <th>336</th>\n",
              "      <td>palakodeti-bharadwaj-37a838166</td>\n",
              "      <td>Python Programming Language MySQL Cascading Style Sheets CSS SQL HTML Machine Learning Teamwork Leadership Public Speaking Reactjs Microsoft Excel Data Science Tableau Statistical Modeling Artificial Intelligence AI Analytical Skills Windows DecisionMaking SQL Server Management Studio Digital Marketing</td>\n",
              "      <td>Bachelor's degree, Computer Science Gitam University, Hyderabad</td>\n",
              "      <td></td>\n",
              "      <td></td>\n",
              "      <td>Trainee decision scientist Mu Sigma Inc.</td>\n",
              "      <td>Back-end Developer Virtusa</td>\n",
              "      <td></td>\n",
              "      <td></td>\n",
              "      <td>Trainee decision scientist</td>\n",
              "      <td>0</td>\n",
              "    </tr>\n",
              "    <tr>\n",
              "      <th>337</th>\n",
              "      <td>anwesha-mohanty-24b68815b</td>\n",
              "      <td>Java Python Programming Language PHP HTML Data Analysis C Programming Language Public Speaking C R Android Web Design Search Engine Optimization SEO Motivational Speaking Web Content Writing Search Engines</td>\n",
              "      <td>Bachelor of Technology, Computer Science and Engineering ITER College,Soa University</td>\n",
              "      <td>Higher Senior Secondary Education , Science D. A. V Public School,  Chandrasekharpur</td>\n",
              "      <td>Senior Secondary Education , Affliliated to CBSE D. A. V Public School,  Balasore</td>\n",
              "      <td>Trainee Decision Scientist  Mu Sigma Inc.</td>\n",
              "      <td>Decision Scientist Apprenticeship  Mu Sigma Inc.</td>\n",
              "      <td>Blockchain Intern Coinvarsity</td>\n",
              "      <td>Web Developer upmyscale</td>\n",
              "      <td>Trainee Decision Scientist</td>\n",
              "      <td>0</td>\n",
              "    </tr>\n",
              "    <tr>\n",
              "      <th>340</th>\n",
              "      <td>waqqas-ansari-36395686</td>\n",
              "      <td>Python Programming Language Bootstrap Machine Learning C Deep Learning Natural Language Processing NLP Statistics Data Visualization Image Processing OpenCV Computer Vision TensorFlow PyTorch Amazon Web Services AWS Django Matplotlib NumPy ScikitLearn Convolutional Neural Networks CNN Recurrent Neural Networks RNN Seaborn keras Object Detection pandas c Image Segmentation Video Processing     ...</td>\n",
              "      <td>Bachelor of Technology (B.Tech), Computer Science Engineering Babu Banarsi Das Northern India Institute of Technology</td>\n",
              "      <td>junior college, Science (Physics, chemistry, Maths) Adarsh Inter College</td>\n",
              "      <td>High School, Science (Physics, chemistry, Math) Adarsh Inter College</td>\n",
              "      <td>Software Trainee PYAPP TECHNOLOGIES PRIVATE LIMITED</td>\n",
              "      <td>Data Scientist The Sparks Foundation</td>\n",
              "      <td></td>\n",
              "      <td></td>\n",
              "      <td>Software Trainee</td>\n",
              "      <td>0</td>\n",
              "    </tr>\n",
              "    <tr>\n",
              "      <th>354</th>\n",
              "      <td>prabod-rathnayaka</td>\n",
              "      <td>Java C JavaScript PHP MySQL Cascading Style Sheets CSS Nodejs HTML Microsoft Word WordPress Machine Learning Data Analysis Programming Microsoft Office CSS Adobe Photoshop Teamwork Leadership C Project Management Reactjs MongoDB Microsoft Excel Deep Learning Python Natural Language Processing NLP Data Science Ubuntu Data Warehousing Django Android Development Joomla Photoshop Prolog PhoneGap S...</td>\n",
              "      <td>Doctor of Philosophy - PhD, Artificial Intelligence La Trobe University</td>\n",
              "      <td>Bachelor of Science (BSc) in Engineering, Computer Science and Engineering University of Moratuwa</td>\n",
              "      <td></td>\n",
              "      <td>Teaching Assistant La Trobe University</td>\n",
              "      <td>Graduate Research Assistant La Trobe University</td>\n",
              "      <td>Data Scientist John Snow Labs</td>\n",
              "      <td>Research Engineer Singapore Management University</td>\n",
              "      <td>Teaching Assistant</td>\n",
              "      <td>0</td>\n",
              "    </tr>\n",
              "    <tr>\n",
              "      <th>355</th>\n",
              "      <td>tsk-chaitanya-84993a78</td>\n",
              "      <td>Java Microsoft Word Data Analysis Programming Microsoft Office Microsoft Excel PowerPoint R Matlab Research Analysis Business Strategy</td>\n",
              "      <td>Bachelor's degree, Engineering Physics Indian Institute of Technology, Guwahati</td>\n",
              "      <td>Little Flower High School, Hyderabad</td>\n",
              "      <td></td>\n",
              "      <td>Manager CitiusTech</td>\n",
              "      <td>Apprentice Leader Mu Sigma Inc.</td>\n",
              "      <td>Data Scientist Mu Sigma Inc.</td>\n",
              "      <td></td>\n",
              "      <td>Manager</td>\n",
              "      <td>0</td>\n",
              "    </tr>\n",
              "    <tr>\n",
              "      <th>368</th>\n",
              "      <td>gnana-prasath</td>\n",
              "      <td>Python Programming Language HTML Machine Learning Deep Learning Python OpenCV Computer Vision PostgreSQL Testing Tensorflow</td>\n",
              "      <td>Bachelor of Engineering (B.E.), Mechatronics, Robotics, and Automation Engineering Kumaraguru College of Technology</td>\n",
              "      <td></td>\n",
              "      <td></td>\n",
              "      <td>Associate Data scientist TheMathCompany</td>\n",
              "      <td>Application development Senior Analyst Accenture in India</td>\n",
              "      <td>Application Development Analyst Accenture in India</td>\n",
              "      <td>Associate Software Engineer Accenture in India</td>\n",
              "      <td>Associate Data scientist</td>\n",
              "      <td>0</td>\n",
              "    </tr>\n",
              "    <tr>\n",
              "      <th>379</th>\n",
              "      <td>abhismatrix</td>\n",
              "      <td>SQL Data Analysis Microsoft Excel Deep Learning Python Algorithms Data Mining Natural Language Processing NLP Statistics Data Science Predictive Modeling Artificial Neural Networks Image Processing Computer Vision Team Management Microsoft SQL Server Analytics Business Analysis TensorFlow PyTorch Keras Strategic Planning Business Strategy Data Modeling Product Management NoSQL Financial Modeli...</td>\n",
              "      <td>Btech, Mechanical Engineering Indian Institute of Technology, Bombay</td>\n",
              "      <td>Artificial Intelligence and Specializations Nanodegree (Co-created by IBM Watson, Amazon, DiDi) Udacity</td>\n",
              "      <td>Deep Reinforcement Learning NanoDegree (Co-Created with Unity &amp; NVIDIA) Udacity</td>\n",
              "      <td>Angel investor Inflection Point Ventures</td>\n",
              "      <td>Senior Data Scientist Walmart Global Tech</td>\n",
              "      <td>Senior Data Scientist SigTuple</td>\n",
              "      <td>Senior Data Scientist Brillio</td>\n",
              "      <td>Angel investor</td>\n",
              "      <td>0</td>\n",
              "    </tr>\n",
              "    <tr>\n",
              "      <th>410</th>\n",
              "      <td>khalil-henchi</td>\n",
              "      <td>C Python Programming Language Microsoft Word Machine Learning Data Analysis Microsoft Office Leadership C ObjectOriented Programming OOP Microsoft Excel Microsoft PowerPoint Deep Learning Python Scrum R Matlab Management TensorFlow SolidWorks LaTeX Simulations AutoCAD Automation ANSYS CATIA Science des donnes Gestion de projet Planification de projets Modlisation D Conception assiste par ordin...</td>\n",
              "      <td>Master Systèmes intelligents en robotique, Ingénierie mécatronique, robotique et automatisation Sorbonne Université</td>\n",
              "      <td>Mechanical engineer, Robotics, design, mechanical structure, Finite Elements in Analysis and Design Ecole Nationale d'Ingénieurs de Sfax (ENIS)</td>\n",
              "      <td>Classes Préparatoires PC (Physiques &amp; Chimies) Faculté des Sciences de Sfax</td>\n",
              "      <td>Local Chapter Lead Omdena</td>\n",
              "      <td>Data Scientist  -  Ingénieur Machine Learning  Omdena</td>\n",
              "      <td>Développeur  Python  -  Matlab ACENSI</td>\n",
              "      <td>Ingénieur R&amp;D UVSQ Université de Versailles Saint-Quentin-en-Yvelines</td>\n",
              "      <td>Local Chapter Lead</td>\n",
              "      <td>0</td>\n",
              "    </tr>\n",
              "  </tbody>\n",
              "</table>\n",
              "</div>\n",
              "      <button class=\"colab-df-convert\" onclick=\"convertToInteractive('df-f4d0ce76-ce6b-4de3-935f-3c949cc93129')\"\n",
              "              title=\"Convert this dataframe to an interactive table.\"\n",
              "              style=\"display:none;\">\n",
              "        \n",
              "  <svg xmlns=\"http://www.w3.org/2000/svg\" height=\"24px\"viewBox=\"0 0 24 24\"\n",
              "       width=\"24px\">\n",
              "    <path d=\"M0 0h24v24H0V0z\" fill=\"none\"/>\n",
              "    <path d=\"M18.56 5.44l.94 2.06.94-2.06 2.06-.94-2.06-.94-.94-2.06-.94 2.06-2.06.94zm-11 1L8.5 8.5l.94-2.06 2.06-.94-2.06-.94L8.5 2.5l-.94 2.06-2.06.94zm10 10l.94 2.06.94-2.06 2.06-.94-2.06-.94-.94-2.06-.94 2.06-2.06.94z\"/><path d=\"M17.41 7.96l-1.37-1.37c-.4-.4-.92-.59-1.43-.59-.52 0-1.04.2-1.43.59L10.3 9.45l-7.72 7.72c-.78.78-.78 2.05 0 2.83L4 21.41c.39.39.9.59 1.41.59.51 0 1.02-.2 1.41-.59l7.78-7.78 2.81-2.81c.8-.78.8-2.07 0-2.86zM5.41 20L4 18.59l7.72-7.72 1.47 1.35L5.41 20z\"/>\n",
              "  </svg>\n",
              "      </button>\n",
              "      \n",
              "  <style>\n",
              "    .colab-df-container {\n",
              "      display:flex;\n",
              "      flex-wrap:wrap;\n",
              "      gap: 12px;\n",
              "    }\n",
              "\n",
              "    .colab-df-convert {\n",
              "      background-color: #E8F0FE;\n",
              "      border: none;\n",
              "      border-radius: 50%;\n",
              "      cursor: pointer;\n",
              "      display: none;\n",
              "      fill: #1967D2;\n",
              "      height: 32px;\n",
              "      padding: 0 0 0 0;\n",
              "      width: 32px;\n",
              "    }\n",
              "\n",
              "    .colab-df-convert:hover {\n",
              "      background-color: #E2EBFA;\n",
              "      box-shadow: 0px 1px 2px rgba(60, 64, 67, 0.3), 0px 1px 3px 1px rgba(60, 64, 67, 0.15);\n",
              "      fill: #174EA6;\n",
              "    }\n",
              "\n",
              "    [theme=dark] .colab-df-convert {\n",
              "      background-color: #3B4455;\n",
              "      fill: #D2E3FC;\n",
              "    }\n",
              "\n",
              "    [theme=dark] .colab-df-convert:hover {\n",
              "      background-color: #434B5C;\n",
              "      box-shadow: 0px 1px 3px 1px rgba(0, 0, 0, 0.15);\n",
              "      filter: drop-shadow(0px 1px 2px rgba(0, 0, 0, 0.3));\n",
              "      fill: #FFFFFF;\n",
              "    }\n",
              "  </style>\n",
              "\n",
              "      <script>\n",
              "        const buttonEl =\n",
              "          document.querySelector('#df-f4d0ce76-ce6b-4de3-935f-3c949cc93129 button.colab-df-convert');\n",
              "        buttonEl.style.display =\n",
              "          google.colab.kernel.accessAllowed ? 'block' : 'none';\n",
              "\n",
              "        async function convertToInteractive(key) {\n",
              "          const element = document.querySelector('#df-f4d0ce76-ce6b-4de3-935f-3c949cc93129');\n",
              "          const dataTable =\n",
              "            await google.colab.kernel.invokeFunction('convertToInteractive',\n",
              "                                                     [key], {});\n",
              "          if (!dataTable) return;\n",
              "\n",
              "          const docLinkHtml = 'Like what you see? Visit the ' +\n",
              "            '<a target=\"_blank\" href=https://colab.research.google.com/notebooks/data_table.ipynb>data table notebook</a>'\n",
              "            + ' to learn more about interactive tables.';\n",
              "          element.innerHTML = '';\n",
              "          dataTable['output_type'] = 'display_data';\n",
              "          await google.colab.output.renderOutput(dataTable, element);\n",
              "          const docLink = document.createElement('div');\n",
              "          docLink.innerHTML = docLinkHtml;\n",
              "          element.appendChild(docLink);\n",
              "        }\n",
              "      </script>\n",
              "    </div>\n",
              "  </div>\n",
              "  "
            ],
            "text/plain": [
              "                                      id  ... label\n",
              "0                          asha-sulaiman  ...     0\n",
              "1           hasanka-senadheera-7b9183162  ...     0\n",
              "2                         sahan-poornaka  ...     0\n",
              "3         thilaksi-gunathilaka-22589b199  ...     0\n",
              "4                         ashani-fonseka  ...     0\n",
              "5                    sithija-siriwardana  ...     0\n",
              "6                               rnithees  ...     0\n",
              "10                 dilantha-haputhanthri  ...     0\n",
              "11                   ruban-sran-3a274a4b  ...     0\n",
              "12          ramchander-chikkala-995b9385  ...     0\n",
              "40                       thimaldeemantha  ...     0\n",
              "51                      roy-ian-7a5b5b9a  ...     0\n",
              "59    chathurdi-vibhuda-wedage-b16a7015b  ...     0\n",
              "60                        karthikswasaka  ...     0\n",
              "62                      chinmaysashittal  ...     0\n",
              "67                         pritampatel99  ...     0\n",
              "80                  madurangajayasooriya  ...     0\n",
              "92         pramuditha-rajadasa-b0157917b  ...     0\n",
              "100                    supunkarunanayaka  ...     0\n",
              "106                        harini-perera  ...     0\n",
              "107       samadhi-chathuranga-rathnayake  ...     0\n",
              "108                      rohitsasidharan  ...     0\n",
              "112  methmal-udan-abeywickrama-6b22a4190  ...     0\n",
              "113                           gowthami05  ...     0\n",
              "116          sagara-sumathipala-275a4b38  ...     0\n",
              "117                     akhilsakhardande  ...     0\n",
              "118              aarthif-nawaz-61a390191  ...     0\n",
              "122          kasun-weerasooriya-a83600a9  ...     0\n",
              "125                       yasithfernando  ...     0\n",
              "126                         vishva-gayan  ...     0\n",
              "127            chandika-johan-ariyaratne  ...     0\n",
              "128        dinindu-seneviratne-259697120  ...     0\n",
              "129                    hong-vu-576958144  ...     0\n",
              "130                       swati-chanchal  ...     0\n",
              "132              shainy-dsouza-812955174  ...     0\n",
              "150               thakshika-thirilojanan  ...     0\n",
              "151                         di-edward-ai  ...     0\n",
              "153         imesha-jayasundara-a7962917a  ...     0\n",
              "158                              nuwan12  ...     0\n",
              "160                  viny-vyas-32b7a81b3  ...     0\n",
              "163             zain-ul-abdeen-1130971b9  ...     0\n",
              "180             emmanuel-ravin-0687a5165  ...     0\n",
              "186            divya-krishnani-b8914a137  ...     0\n",
              "209               khushali-shah-8242107a  ...     0\n",
              "219               suchit-dehury-374436a6  ...     0\n",
              "221            prajwal-mannure-32b749191  ...     0\n",
              "226                     viraj-kulathunge  ...     0\n",
              "231                         dkharshanath  ...     0\n",
              "235              abhishek-singh-kushwaha  ...     0\n",
              "239                      dinuka-nicholas  ...     0\n",
              "242               srihari-nune-899b39146  ...     0\n",
              "249                vicky-gupta-583016168  ...     0\n",
              "253                            kritisahu  ...     0\n",
              "254               nishant-babel-5141283a  ...     0\n",
              "265                   soham-sen-8a597218  ...     0\n",
              "274              ashish-dhakad-84679a142  ...     0\n",
              "279                 rounak-roy-742a44175  ...     0\n",
              "280                    gayakshikagimhani  ...     0\n",
              "283            prakhar-agrawal-67b451104  ...     0\n",
              "284                           rohithramr  ...     0\n",
              "285                        jawad--arshad  ...     0\n",
              "288                         vansh-jatana  ...     0\n",
              "289                     parulpandeyindia  ...     0\n",
              "290                         kashyapbarua  ...     0\n",
              "293                         swatirai1410  ...     0\n",
              "294                               aash07  ...     0\n",
              "298                            ritabhash  ...     0\n",
              "307                          dineshmk594  ...     0\n",
              "310                              fezancs  ...     0\n",
              "311                           dolmayeshi  ...     0\n",
              "317                         erandi-silva  ...     0\n",
              "318                 sehran-imam-b3b41979  ...     0\n",
              "320                       norah-alasfour  ...     0\n",
              "323                             ematinov  ...     0\n",
              "325                      nitin-kumar-pal  ...     0\n",
              "327                jayesh-dosi-030192121  ...     0\n",
              "331                          liamliuyuan  ...     0\n",
              "334                       shirishcshetty  ...     0\n",
              "335               ayush-ranjan-080502169  ...     0\n",
              "336       palakodeti-bharadwaj-37a838166  ...     0\n",
              "337            anwesha-mohanty-24b68815b  ...     0\n",
              "340               waqqas-ansari-36395686  ...     0\n",
              "354                    prabod-rathnayaka  ...     0\n",
              "355               tsk-chaitanya-84993a78  ...     0\n",
              "368                        gnana-prasath  ...     0\n",
              "379                          abhismatrix  ...     0\n",
              "410                        khalil-henchi  ...     0\n",
              "\n",
              "[87 rows x 11 columns]"
            ]
          },
          "metadata": {},
          "execution_count": 78
        }
      ]
    },
    {
      "cell_type": "code",
      "source": [
        "DataScience3 = DataSci_Check7.loc[[10,11,12,40,59,62,67,92,112,113,116,122,127,128,130,132,151,153,158,160,163,180,209,221,226,231,235,239,242,249,253,254,274,279,280,283,284,285,288,289,307,310,311,317,320,323,340,354,368,379],:]"
      ],
      "metadata": {
        "id": "8X3ScIP1I72w"
      },
      "execution_count": 79,
      "outputs": []
    },
    {
      "cell_type": "code",
      "source": [
        "DataScience3.shape"
      ],
      "metadata": {
        "colab": {
          "base_uri": "https://localhost:8080/"
        },
        "id": "jRL_8t0WOeey",
        "outputId": "aa386bf5-9e73-4665-95cc-de420a93c49f"
      },
      "execution_count": 80,
      "outputs": [
        {
          "output_type": "execute_result",
          "data": {
            "text/plain": [
              "(50, 11)"
            ]
          },
          "metadata": {},
          "execution_count": 80
        }
      ]
    },
    {
      "cell_type": "code",
      "source": [
        "Data_Science_Pro = pd.concat([DataScience1,DataScience2,DataScience3],ignore_index=True)"
      ],
      "metadata": {
        "id": "v8eLzpChOgEo"
      },
      "execution_count": 81,
      "outputs": []
    },
    {
      "cell_type": "code",
      "source": [
        "Data_Science_Pro.shape"
      ],
      "metadata": {
        "colab": {
          "base_uri": "https://localhost:8080/"
        },
        "id": "rze7smkXO0ko",
        "outputId": "6ff9ef4d-2771-4117-bc6b-f6709b3416fa"
      },
      "execution_count": 82,
      "outputs": [
        {
          "output_type": "execute_result",
          "data": {
            "text/plain": [
              "(350, 11)"
            ]
          },
          "metadata": {},
          "execution_count": 82
        }
      ]
    },
    {
      "cell_type": "code",
      "source": [
        "MachineLearning_ProDaSc = pd.concat([MAchineLearning1,MAchineLearning2,MAchineLearning3],ignore_index=True)"
      ],
      "metadata": {
        "id": "WQcogPCYO2Dw"
      },
      "execution_count": 83,
      "outputs": []
    },
    {
      "cell_type": "code",
      "source": [
        "MachineLearning_ProDaSc.shape"
      ],
      "metadata": {
        "colab": {
          "base_uri": "https://localhost:8080/"
        },
        "id": "W1P-yj2OPJpx",
        "outputId": "8982dfad-a662-41a8-ee4d-60c1f6f20a24"
      },
      "execution_count": 84,
      "outputs": [
        {
          "output_type": "execute_result",
          "data": {
            "text/plain": [
              "(15, 11)"
            ]
          },
          "metadata": {},
          "execution_count": 84
        }
      ]
    },
    {
      "cell_type": "code",
      "source": [
        "DataEngineer1.shape"
      ],
      "metadata": {
        "colab": {
          "base_uri": "https://localhost:8080/"
        },
        "id": "opbn0SBTPLRY",
        "outputId": "81cea0a7-66c6-432f-b9db-5cd023844e83"
      },
      "execution_count": 85,
      "outputs": [
        {
          "output_type": "execute_result",
          "data": {
            "text/plain": [
              "(13, 11)"
            ]
          },
          "metadata": {},
          "execution_count": 85
        }
      ]
    },
    {
      "cell_type": "code",
      "source": [
        "DataAnalytics1.shape"
      ],
      "metadata": {
        "colab": {
          "base_uri": "https://localhost:8080/"
        },
        "id": "6D6i-9AuPTdQ",
        "outputId": "a16fed41-1d5d-4d01-edea-981e6a012870"
      },
      "execution_count": 86,
      "outputs": [
        {
          "output_type": "execute_result",
          "data": {
            "text/plain": [
              "(8, 11)"
            ]
          },
          "metadata": {},
          "execution_count": 86
        }
      ]
    },
    {
      "cell_type": "code",
      "source": [
        "Data_Science_Pro"
      ],
      "metadata": {
        "id": "d_lPEPNBPXBI"
      },
      "execution_count": null,
      "outputs": []
    },
    {
      "cell_type": "code",
      "source": [
        "MachineLearning_ProDaSc"
      ],
      "metadata": {
        "id": "NFRFv615Plzd"
      },
      "execution_count": null,
      "outputs": []
    },
    {
      "cell_type": "code",
      "source": [
        "DataEngineer1"
      ],
      "metadata": {
        "id": "B8yO3Tz4QE_B"
      },
      "execution_count": null,
      "outputs": []
    },
    {
      "cell_type": "code",
      "source": [
        "DataAnalytics1"
      ],
      "metadata": {
        "id": "oO7_3jMZQJw4"
      },
      "execution_count": null,
      "outputs": []
    },
    {
      "cell_type": "code",
      "source": [
        "Data_Science_out = pd.read_csv('/content/drive/MyDrive/Research Dataset/processed_data/Added_Target/DataSci_ML_DataEng/DSci_full.csv')"
      ],
      "metadata": {
        "id": "Aw4Af05jQPlQ"
      },
      "execution_count": 91,
      "outputs": []
    },
    {
      "cell_type": "code",
      "source": [
        "Data_Science_out.shape"
      ],
      "metadata": {
        "colab": {
          "base_uri": "https://localhost:8080/"
        },
        "id": "Sx_B_eL9Rx84",
        "outputId": "3c321e13-c588-411a-fe18-a7790f5a9a02"
      },
      "execution_count": 92,
      "outputs": [
        {
          "output_type": "execute_result",
          "data": {
            "text/plain": [
              "(104, 12)"
            ]
          },
          "metadata": {},
          "execution_count": 92
        }
      ]
    },
    {
      "cell_type": "code",
      "source": [
        "Data_Science_out = Data_Science_out.drop(['Unnamed: 0'], axis=1)"
      ],
      "metadata": {
        "id": "njUdi7v_SAuZ"
      },
      "execution_count": 94,
      "outputs": []
    },
    {
      "cell_type": "code",
      "source": [
        "Data_Science_out.shape"
      ],
      "metadata": {
        "colab": {
          "base_uri": "https://localhost:8080/"
        },
        "id": "MywUib7IVVZC",
        "outputId": "35818054-dc28-436a-b891-1eaeb30a7974"
      },
      "execution_count": 95,
      "outputs": [
        {
          "output_type": "execute_result",
          "data": {
            "text/plain": [
              "(104, 11)"
            ]
          },
          "metadata": {},
          "execution_count": 95
        }
      ]
    },
    {
      "cell_type": "code",
      "source": [
        "Data_Science = pd.concat([Data_Science_out,Data_Science_Pro],ignore_index=True)"
      ],
      "metadata": {
        "id": "wvp3h3lIRzbA"
      },
      "execution_count": 96,
      "outputs": []
    },
    {
      "cell_type": "code",
      "source": [
        "Data_Science.shape"
      ],
      "metadata": {
        "colab": {
          "base_uri": "https://localhost:8080/"
        },
        "id": "ZHqZSjlcWPpH",
        "outputId": "54bd575f-dc1b-44ea-df78-ea03a6505d1e"
      },
      "execution_count": 97,
      "outputs": [
        {
          "output_type": "execute_result",
          "data": {
            "text/plain": [
              "(454, 11)"
            ]
          },
          "metadata": {},
          "execution_count": 97
        }
      ]
    },
    {
      "cell_type": "code",
      "source": [
        "Data_Science_w_o_dup = Data_Science.drop_duplicates(subset='id', keep=\"first\")"
      ],
      "metadata": {
        "id": "4K1n-zMgWRDX"
      },
      "execution_count": 98,
      "outputs": []
    },
    {
      "cell_type": "code",
      "source": [
        "Data_Science_w_o_dup.shape"
      ],
      "metadata": {
        "colab": {
          "base_uri": "https://localhost:8080/"
        },
        "id": "o1i18oPFW_S2",
        "outputId": "0f38e760-7f62-4cec-aaa3-d66301507e7e"
      },
      "execution_count": 99,
      "outputs": [
        {
          "output_type": "execute_result",
          "data": {
            "text/plain": [
              "(422, 11)"
            ]
          },
          "metadata": {},
          "execution_count": 99
        }
      ]
    },
    {
      "cell_type": "code",
      "source": [
        "Data_Science_w_o_dup.insert(10,'Target','Data Science')"
      ],
      "metadata": {
        "id": "WfCnbwkWaNF4"
      },
      "execution_count": 101,
      "outputs": []
    },
    {
      "cell_type": "code",
      "source": [
        "Data_Science_w_o_dup = Data_Science_w_o_dup.drop(['organization_title_1','label'], axis=1)"
      ],
      "metadata": {
        "id": "9utMLXE4aTp4"
      },
      "execution_count": 102,
      "outputs": []
    },
    {
      "cell_type": "code",
      "source": [
        "Data_Science_w_o_dup.shape"
      ],
      "metadata": {
        "colab": {
          "base_uri": "https://localhost:8080/"
        },
        "id": "rdsmsQhFZMsv",
        "outputId": "c7dfb322-7dd4-418c-d550-bd9c526406a1"
      },
      "execution_count": 103,
      "outputs": [
        {
          "output_type": "execute_result",
          "data": {
            "text/plain": [
              "(422, 10)"
            ]
          },
          "metadata": {},
          "execution_count": 103
        }
      ]
    },
    {
      "cell_type": "code",
      "source": [
        "Data_Science_w_o_dup.to_csv(r'/content/drive/MyDrive/Research Dataset/processed_data/Added_Target/Data_Science_processed_WithTarget_Value.csv')"
      ],
      "metadata": {
        "id": "8hpv2RjLXA1f"
      },
      "execution_count": 105,
      "outputs": []
    },
    {
      "cell_type": "code",
      "source": [
        "Machine_Learning_out = pd.read_csv('/content/drive/MyDrive/Research Dataset/processed_data/Added_Target/DataSci_ML_DataEng/ML_full.csv')"
      ],
      "metadata": {
        "id": "GZp2aVdVaqZY"
      },
      "execution_count": 106,
      "outputs": []
    },
    {
      "cell_type": "code",
      "source": [
        "Machine_Learning_out.shape"
      ],
      "metadata": {
        "colab": {
          "base_uri": "https://localhost:8080/"
        },
        "id": "WKMEZDxdbrBL",
        "outputId": "0f507dd9-ce1b-4118-835a-e0e5228b6d93"
      },
      "execution_count": 107,
      "outputs": [
        {
          "output_type": "execute_result",
          "data": {
            "text/plain": [
              "(478, 12)"
            ]
          },
          "metadata": {},
          "execution_count": 107
        }
      ]
    },
    {
      "cell_type": "code",
      "source": [
        "Machine_Learning_out = Machine_Learning_out.drop(['Unnamed: 0'], axis=1)"
      ],
      "metadata": {
        "id": "xdkTv34TcKpP"
      },
      "execution_count": 109,
      "outputs": []
    },
    {
      "cell_type": "code",
      "source": [
        "Machine_Learning = pd.concat([Machine_Learning_out,MachineLearning_ProDaSc],ignore_index=True)"
      ],
      "metadata": {
        "id": "fDtsaMgbcZPX"
      },
      "execution_count": 111,
      "outputs": []
    },
    {
      "cell_type": "code",
      "source": [
        "Machine_Learning_out.shape"
      ],
      "metadata": {
        "colab": {
          "base_uri": "https://localhost:8080/"
        },
        "id": "DLkFs-b9cR3B",
        "outputId": "6fd0febf-7c0e-45eb-bf9e-c11e7cdb9141"
      },
      "execution_count": 110,
      "outputs": [
        {
          "output_type": "execute_result",
          "data": {
            "text/plain": [
              "(478, 11)"
            ]
          },
          "metadata": {},
          "execution_count": 110
        }
      ]
    },
    {
      "cell_type": "code",
      "source": [
        "MachineLearning_ProDaSc.shape"
      ],
      "metadata": {
        "colab": {
          "base_uri": "https://localhost:8080/"
        },
        "id": "5gWT-smGbq8u",
        "outputId": "1b8ca24c-5b94-4ff9-8892-d7796637dfbb"
      },
      "execution_count": 108,
      "outputs": [
        {
          "output_type": "execute_result",
          "data": {
            "text/plain": [
              "(15, 11)"
            ]
          },
          "metadata": {},
          "execution_count": 108
        }
      ]
    },
    {
      "cell_type": "code",
      "source": [
        "Machine_Learning.shape"
      ],
      "metadata": {
        "colab": {
          "base_uri": "https://localhost:8080/"
        },
        "id": "ufHPTtL9bq6l",
        "outputId": "a90b30ac-7229-4294-9153-00b901b391bc"
      },
      "execution_count": 112,
      "outputs": [
        {
          "output_type": "execute_result",
          "data": {
            "text/plain": [
              "(493, 11)"
            ]
          },
          "metadata": {},
          "execution_count": 112
        }
      ]
    },
    {
      "cell_type": "code",
      "source": [
        "Machine_Learning_w_o_dup = Machine_Learning.drop_duplicates(subset='id', keep=\"first\")"
      ],
      "metadata": {
        "id": "AHmaJ9RXbq3N"
      },
      "execution_count": 113,
      "outputs": []
    },
    {
      "cell_type": "code",
      "source": [
        "Machine_Learning_w_o_dup.shape"
      ],
      "metadata": {
        "colab": {
          "base_uri": "https://localhost:8080/"
        },
        "id": "yVQlRcEQbqyH",
        "outputId": "acfefdaf-3859-4656-b534-44dbbb82cff6"
      },
      "execution_count": 114,
      "outputs": [
        {
          "output_type": "execute_result",
          "data": {
            "text/plain": [
              "(486, 11)"
            ]
          },
          "metadata": {},
          "execution_count": 114
        }
      ]
    },
    {
      "cell_type": "code",
      "source": [
        "Machine_Learning_w_o_dup.insert(10,'Target','Machine Learning Engineer')"
      ],
      "metadata": {
        "id": "gdDvS2lOeDKH"
      },
      "execution_count": 118,
      "outputs": []
    },
    {
      "cell_type": "code",
      "source": [
        "Machine_Learning_w_o_dup = Machine_Learning_w_o_dup.drop(['organization_title_1','label'], axis=1)"
      ],
      "metadata": {
        "id": "hBmUyaDKeVIw"
      },
      "execution_count": 120,
      "outputs": []
    },
    {
      "cell_type": "code",
      "source": [
        "Machine_Learning_w_o_dup.shape"
      ],
      "metadata": {
        "colab": {
          "base_uri": "https://localhost:8080/"
        },
        "id": "NmeUScjKeM8Y",
        "outputId": "d1bd48a4-e527-4efe-bd47-aa806ecc0da5"
      },
      "execution_count": 121,
      "outputs": [
        {
          "output_type": "execute_result",
          "data": {
            "text/plain": [
              "(486, 10)"
            ]
          },
          "metadata": {},
          "execution_count": 121
        }
      ]
    },
    {
      "cell_type": "code",
      "source": [
        "Machine_Learning_w_o_dup.to_csv(r'/content/drive/MyDrive/Research Dataset/processed_data/Added_Target/Machine_Learning_processed_WithTarget_Value.csv')"
      ],
      "metadata": {
        "id": "MiT5dMY6czU-"
      },
      "execution_count": 122,
      "outputs": []
    },
    {
      "cell_type": "code",
      "source": [
        "Data_Engineer_out = pd.read_csv('/content/drive/MyDrive/Research Dataset/processed_data/Added_Target/DataSci_ML_DataEng/DEng_full.csv')"
      ],
      "metadata": {
        "id": "imYO5jVkdTO_"
      },
      "execution_count": 116,
      "outputs": []
    },
    {
      "cell_type": "code",
      "source": [
        "Data_Engineer_out.shape"
      ],
      "metadata": {
        "colab": {
          "base_uri": "https://localhost:8080/"
        },
        "id": "k8bpJn7Sd7pd",
        "outputId": "1ccc54a0-6048-497d-9589-631289be4ef1"
      },
      "execution_count": 117,
      "outputs": [
        {
          "output_type": "execute_result",
          "data": {
            "text/plain": [
              "(274, 12)"
            ]
          },
          "metadata": {},
          "execution_count": 117
        }
      ]
    },
    {
      "cell_type": "code",
      "source": [
        "Data_Engineer_out = Data_Engineer_out.drop(['Unnamed: 0'], axis=1)"
      ],
      "metadata": {
        "id": "g54zCAx1d9nn"
      },
      "execution_count": 123,
      "outputs": []
    },
    {
      "cell_type": "code",
      "source": [
        "Data_Engineer_out.shape"
      ],
      "metadata": {
        "colab": {
          "base_uri": "https://localhost:8080/"
        },
        "id": "dRatpEQ5e5v2",
        "outputId": "f6e9a6ca-efbf-4eb7-dc7f-c146f8319665"
      },
      "execution_count": 124,
      "outputs": [
        {
          "output_type": "execute_result",
          "data": {
            "text/plain": [
              "(274, 11)"
            ]
          },
          "metadata": {},
          "execution_count": 124
        }
      ]
    },
    {
      "cell_type": "code",
      "source": [
        "Data_Engineer = pd.concat([Data_Engineer_out,DataEngineer1],ignore_index=True)"
      ],
      "metadata": {
        "id": "z0p6LO-de7Un"
      },
      "execution_count": 125,
      "outputs": []
    },
    {
      "cell_type": "code",
      "source": [
        "Data_Engineer.shape"
      ],
      "metadata": {
        "colab": {
          "base_uri": "https://localhost:8080/"
        },
        "id": "GSOhUR88fMYH",
        "outputId": "b8b038b0-b9e2-4732-acae-b75f193b2029"
      },
      "execution_count": 126,
      "outputs": [
        {
          "output_type": "execute_result",
          "data": {
            "text/plain": [
              "(287, 11)"
            ]
          },
          "metadata": {},
          "execution_count": 126
        }
      ]
    },
    {
      "cell_type": "code",
      "source": [
        "Data_Engineer_w_o_dup = Data_Engineer.drop_duplicates(subset='id', keep=\"first\")"
      ],
      "metadata": {
        "id": "-7XYqAc2fOsp"
      },
      "execution_count": 127,
      "outputs": []
    },
    {
      "cell_type": "code",
      "source": [
        "Data_Engineer_w_o_dup.shape"
      ],
      "metadata": {
        "colab": {
          "base_uri": "https://localhost:8080/"
        },
        "id": "jlGfMnXyfYn_",
        "outputId": "6eee8638-b71c-43ca-b7c9-be218d73c1a4"
      },
      "execution_count": 128,
      "outputs": [
        {
          "output_type": "execute_result",
          "data": {
            "text/plain": [
              "(273, 11)"
            ]
          },
          "metadata": {},
          "execution_count": 128
        }
      ]
    },
    {
      "cell_type": "code",
      "source": [
        "Data_Engineer_w_o_dup.insert(10,'Target','Data Engineer')"
      ],
      "metadata": {
        "id": "HjWMWk0bfaj3"
      },
      "execution_count": 129,
      "outputs": []
    },
    {
      "cell_type": "code",
      "source": [
        "Data_Engineer_w_o_dup.shape"
      ],
      "metadata": {
        "colab": {
          "base_uri": "https://localhost:8080/"
        },
        "id": "ASno0muCfhvX",
        "outputId": "4603241a-9ad5-4499-c32d-23602fe5d258"
      },
      "execution_count": 130,
      "outputs": [
        {
          "output_type": "execute_result",
          "data": {
            "text/plain": [
              "(273, 12)"
            ]
          },
          "metadata": {},
          "execution_count": 130
        }
      ]
    },
    {
      "cell_type": "code",
      "source": [
        "Data_Engineer_w_o_dup = Data_Engineer_w_o_dup.drop(['organization_title_1','label'], axis=1)"
      ],
      "metadata": {
        "id": "akoEiT38fkvf"
      },
      "execution_count": 131,
      "outputs": []
    },
    {
      "cell_type": "code",
      "source": [
        "Data_Engineer_w_o_dup.shape"
      ],
      "metadata": {
        "colab": {
          "base_uri": "https://localhost:8080/"
        },
        "id": "meRlxhPcft33",
        "outputId": "5ae634f6-38b2-4349-f3d9-9c0b81204541"
      },
      "execution_count": 132,
      "outputs": [
        {
          "output_type": "execute_result",
          "data": {
            "text/plain": [
              "(273, 10)"
            ]
          },
          "metadata": {},
          "execution_count": 132
        }
      ]
    },
    {
      "cell_type": "code",
      "source": [
        "Data_Engineer_w_o_dup.to_csv(r'/content/drive/MyDrive/Research Dataset/processed_data/Added_Target/Data_Engineer_processed_WithTarget_Value.csv')"
      ],
      "metadata": {
        "id": "MskWZ22tfvaH"
      },
      "execution_count": 133,
      "outputs": []
    },
    {
      "cell_type": "code",
      "source": [
        ""
      ],
      "metadata": {
        "id": "MrZNItPXgBq_"
      },
      "execution_count": null,
      "outputs": []
    }
  ]
}