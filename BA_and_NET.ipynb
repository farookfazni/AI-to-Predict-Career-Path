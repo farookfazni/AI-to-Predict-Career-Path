{
  "nbformat": 4,
  "nbformat_minor": 0,
  "metadata": {
    "colab": {
      "name": "BA_and_NET.ipynb",
      "provenance": [],
      "mount_file_id": "1o1R42p8Os1_XugO_d7qHMIAzkVJjl41J",
      "authorship_tag": "ABX9TyMpcNO6uvMTL9gXNd66WNP6",
      "include_colab_link": true
    },
    "kernelspec": {
      "name": "python3",
      "display_name": "Python 3"
    },
    "language_info": {
      "name": "python"
    }
  },
  "cells": [
    {
      "cell_type": "markdown",
      "metadata": {
        "id": "view-in-github",
        "colab_type": "text"
      },
      "source": [
        "<a href=\"https://colab.research.google.com/github/farookfazni/AI-to-Predict-Career-Path/blob/master/BA_and_NET.ipynb\" target=\"_parent\"><img src=\"https://colab.research.google.com/assets/colab-badge.svg\" alt=\"Open In Colab\"/></a>"
      ]
    },
    {
      "cell_type": "code",
      "execution_count": 1,
      "metadata": {
        "id": "jLQzu1UqPUX6"
      },
      "outputs": [],
      "source": [
        "import pandas as pd"
      ]
    },
    {
      "cell_type": "code",
      "source": [
        "BA = pd.read_csv('/content/drive/MyDrive/Research Dataset/processed_data/Cleaned_Data_Step1/BA_processed1.csv')\n",
        "NET = pd.read_csv('/content/drive/MyDrive/Research Dataset/processed_data/Cleaned_Data_Step1/NET_processed1.csv')"
      ],
      "metadata": {
        "id": "GLdysCUwPe6y"
      },
      "execution_count": 2,
      "outputs": []
    },
    {
      "cell_type": "code",
      "source": [
        "BA_title = pd.read_csv('/content/drive/MyDrive/Research Dataset/processed_data/Fully_Extracted_Data/BA_processed1.csv')\n",
        "NET_title = pd.read_csv('/content/drive/MyDrive/Research Dataset/processed_data/Fully_Extracted_Data/NET_processed1.csv')"
      ],
      "metadata": {
        "id": "slk5Y8uRP1Ki"
      },
      "execution_count": 3,
      "outputs": []
    },
    {
      "cell_type": "code",
      "source": [
        "BA_title['organization_title_1']"
      ],
      "metadata": {
        "colab": {
          "base_uri": "https://localhost:8080/"
        },
        "id": "k7LrAGaKP-IR",
        "outputId": "d860b8ea-8525-48c5-8dc5-4e26cfcad8de"
      },
      "execution_count": 4,
      "outputs": [
        {
          "output_type": "execute_result",
          "data": {
            "text/plain": [
              "0                         Business Analyst\n",
              "1                         Business Analyst\n",
              "2                         Business Analyst\n",
              "3               Associate Business Analyst\n",
              "4                         Business Analyst\n",
              "                      ...                 \n",
              "495    Software Quality Assurance Engineer\n",
              "496                       Business Analyst\n",
              "497                 Business Analyst - PVH\n",
              "498          Accounts Receivable Associate\n",
              "499                       Business Analyst\n",
              "Name: organization_title_1, Length: 500, dtype: object"
            ]
          },
          "metadata": {},
          "execution_count": 4
        }
      ]
    },
    {
      "cell_type": "code",
      "source": [
        "NET_title['organization_title_1']"
      ],
      "metadata": {
        "colab": {
          "base_uri": "https://localhost:8080/"
        },
        "id": "sPXzrbFbQgPi",
        "outputId": "90cee677-5efc-4fa4-e472-a44e002fd819"
      },
      "execution_count": 5,
      "outputs": [
        {
          "output_type": "execute_result",
          "data": {
            "text/plain": [
              "0                                      Network Engineer\n",
              "1                                      Network Engineer\n",
              "2                                 Core Network Engineer\n",
              "3                               Senior Network Engineer\n",
              "4                                      Network Engineer\n",
              "                             ...                       \n",
              "516                                     DevOps Engineer\n",
              "517                           System Support Specialist\n",
              "518    Cluster Leader / Senior Network Support Engineer\n",
              "519                        Senior Engineer Core Network\n",
              "520     Team Lead - Network security and Virtualization\n",
              "Name: organization_title_1, Length: 521, dtype: object"
            ]
          },
          "metadata": {},
          "execution_count": 5
        }
      ]
    },
    {
      "cell_type": "code",
      "source": [
        "BA_Data = pd.concat([BA,BA_title['organization_title_1']], axis=1)\n",
        "NET_Data = pd.concat([NET,NET_title['organization_title_1']], axis=1)"
      ],
      "metadata": {
        "id": "548B-ArOQD1S"
      },
      "execution_count": 6,
      "outputs": []
    },
    {
      "cell_type": "code",
      "source": [
        "# Drop column\n",
        "BA_Data = BA_Data.drop(['Unnamed: 0','Unnamed: 0.1'], axis=1)\n",
        "NET_Data = NET_Data.drop(['Unnamed: 0','Unnamed: 0.1'], axis=1)"
      ],
      "metadata": {
        "id": "hfVSSJh8QUBK"
      },
      "execution_count": 7,
      "outputs": []
    },
    {
      "cell_type": "code",
      "source": [
        "def check_Avalaiblity(datset,x=\"Software Engineer\"):\n",
        "  countpos = 0\n",
        "  countneg = 0\n",
        "  other_labels = []\n",
        "  label = []\n",
        "  label_name = []\n",
        "  # goimg through the datset\n",
        "  for i in datset['organization_title_1']:\n",
        "    # making sure all values are string\n",
        "    st = str(i)\n",
        "    # cheking the sub string exisits in string\n",
        "    if x in st:\n",
        "      # if sting is available adding 1 to label\n",
        "      label.append(1)\n",
        "      label_name.append(st)\n",
        "      # Keep count\n",
        "      countpos += 1\n",
        "    else:\n",
        "      # if sting is not available adding 0 to label\n",
        "      label.append(0)\n",
        "      # adding the values of other string values to the other_label\n",
        "      other_labels.append(st)\n",
        "      countneg += 1\n",
        "  return label, other_labels, label_name, countpos, countneg"
      ],
      "metadata": {
        "id": "PA2xOIlMQbN6"
      },
      "execution_count": 8,
      "outputs": []
    },
    {
      "cell_type": "code",
      "source": [
        "BA_Data.shape"
      ],
      "metadata": {
        "colab": {
          "base_uri": "https://localhost:8080/"
        },
        "id": "twkdho6mQeah",
        "outputId": "31902557-2694-44c4-c952-0d48b02be779"
      },
      "execution_count": null,
      "outputs": [
        {
          "output_type": "execute_result",
          "data": {
            "text/plain": [
              "(500, 10)"
            ]
          },
          "metadata": {},
          "execution_count": 10
        }
      ]
    },
    {
      "cell_type": "code",
      "source": [
        "NET_Data.shape"
      ],
      "metadata": {
        "colab": {
          "base_uri": "https://localhost:8080/"
        },
        "id": "HWYah1eVQoAx",
        "outputId": "4997956f-b679-4364-aa21-d670fa875466"
      },
      "execution_count": null,
      "outputs": [
        {
          "output_type": "execute_result",
          "data": {
            "text/plain": [
              "(521, 10)"
            ]
          },
          "metadata": {},
          "execution_count": 11
        }
      ]
    },
    {
      "cell_type": "code",
      "source": [
        "label, other_labels, label_name, countpos, countneg = check_Avalaiblity(BA_Data,\"Business Analyst\")"
      ],
      "metadata": {
        "id": "2N3lSpFlQqEK"
      },
      "execution_count": null,
      "outputs": []
    },
    {
      "cell_type": "code",
      "source": [
        "countpos"
      ],
      "metadata": {
        "colab": {
          "base_uri": "https://localhost:8080/"
        },
        "id": "ZKlvV1BCRIhZ",
        "outputId": "eed3cdad-28ef-4d10-ac75-0a261e23d1d8"
      },
      "execution_count": null,
      "outputs": [
        {
          "output_type": "execute_result",
          "data": {
            "text/plain": [
              "477"
            ]
          },
          "metadata": {},
          "execution_count": 15
        }
      ]
    },
    {
      "cell_type": "code",
      "source": [
        "countneg"
      ],
      "metadata": {
        "colab": {
          "base_uri": "https://localhost:8080/"
        },
        "id": "7oBxiLPGRMU5",
        "outputId": "226cfe99-f291-4b42-cf72-1e2c0623428b"
      },
      "execution_count": null,
      "outputs": [
        {
          "output_type": "execute_result",
          "data": {
            "text/plain": [
              "23"
            ]
          },
          "metadata": {},
          "execution_count": 17
        }
      ]
    },
    {
      "cell_type": "code",
      "source": [
        "other_labels"
      ],
      "metadata": {
        "colab": {
          "base_uri": "https://localhost:8080/"
        },
        "id": "jKPGmOsLRQIh",
        "outputId": "fb56b731-cb73-4fc1-d2cd-56cfaf2d8828"
      },
      "execution_count": null,
      "outputs": [
        {
          "output_type": "execute_result",
          "data": {
            "text/plain": [
              "['Business Intelligence Analyst',\n",
              " 'Project Management Intern',\n",
              " 'Software Designer',\n",
              " 'Operations Manager',\n",
              " 'Software Engineer',\n",
              " 'Assistant Project Manager',\n",
              " 'Assistant Manager',\n",
              " 'Analyst',\n",
              " 'Associate lead business analyst',\n",
              " 'Merchandiser',\n",
              " 'Senior Operations Analyst',\n",
              " 'Business Intelligence Analyst',\n",
              " 'Executive - Business Consulting',\n",
              " 'Digital Transformation Analyst ',\n",
              " 'Founder',\n",
              " 'Digital Transformation Analyst',\n",
              " 'IEEE Brand Ambassador',\n",
              " 'Global Intern - Business Analysis',\n",
              " 'Executive',\n",
              " 'Executive',\n",
              " 'Game Master',\n",
              " 'Software Quality Assurance Engineer',\n",
              " 'Accounts Receivable Associate']"
            ]
          },
          "metadata": {},
          "execution_count": 18
        }
      ]
    },
    {
      "cell_type": "code",
      "source": [
        "BA_Data['label'] = label"
      ],
      "metadata": {
        "id": "JZ2zTyhmRZ4C"
      },
      "execution_count": null,
      "outputs": []
    },
    {
      "cell_type": "code",
      "source": [
        "BA_Data_New = BA_Data.loc[BA_Data['label']==0]"
      ],
      "metadata": {
        "id": "nXEVGUtFRhVJ"
      },
      "execution_count": null,
      "outputs": []
    },
    {
      "cell_type": "code",
      "source": [
        "BA_Data_New"
      ],
      "metadata": {
        "colab": {
          "base_uri": "https://localhost:8080/",
          "height": 1000
        },
        "id": "uiuQVwf3Rmky",
        "outputId": "da991539-5592-405d-fbd5-58a8e10cf25e"
      },
      "execution_count": null,
      "outputs": [
        {
          "output_type": "execute_result",
          "data": {
            "text/html": [
              "\n",
              "  <div id=\"df-4ddc250f-6a24-4e8b-98df-bf7f31944fe3\">\n",
              "    <div class=\"colab-df-container\">\n",
              "      <div>\n",
              "<style scoped>\n",
              "    .dataframe tbody tr th:only-of-type {\n",
              "        vertical-align: middle;\n",
              "    }\n",
              "\n",
              "    .dataframe tbody tr th {\n",
              "        vertical-align: top;\n",
              "    }\n",
              "\n",
              "    .dataframe thead th {\n",
              "        text-align: right;\n",
              "    }\n",
              "</style>\n",
              "<table border=\"1\" class=\"dataframe\">\n",
              "  <thead>\n",
              "    <tr style=\"text-align: right;\">\n",
              "      <th></th>\n",
              "      <th>id</th>\n",
              "      <th>skills</th>\n",
              "      <th>edu_1</th>\n",
              "      <th>edu_2</th>\n",
              "      <th>edu_3</th>\n",
              "      <th>org_1</th>\n",
              "      <th>org_2</th>\n",
              "      <th>org_3</th>\n",
              "      <th>org_4</th>\n",
              "      <th>organization_title_1</th>\n",
              "      <th>label</th>\n",
              "    </tr>\n",
              "  </thead>\n",
              "  <tbody>\n",
              "    <tr>\n",
              "      <th>48</th>\n",
              "      <td>harsh-edirisinghe</td>\n",
              "      <td>Microsoft Office MySQL SQL Teamwork Android St...</td>\n",
              "      <td>Bachelor's degree The London School of Economi...</td>\n",
              "      <td>High School Graduation   Asian International S...</td>\n",
              "      <td></td>\n",
              "      <td>Business Intelligence Analyst Vetstoria</td>\n",
              "      <td>Technology Consulting Associate EY</td>\n",
              "      <td>Intern - Data &amp; Analysis EY</td>\n",
              "      <td>Management Trainee Hela Clothing</td>\n",
              "      <td>Business Intelligence Analyst</td>\n",
              "      <td>0</td>\n",
              "    </tr>\n",
              "    <tr>\n",
              "      <th>88</th>\n",
              "      <td>ravipprasath-dineshkumar-83b5a612a</td>\n",
              "      <td>C Project Management Microsoft Office Microsof...</td>\n",
              "      <td>BSc Speacial Honours Degree in Information Tec...</td>\n",
              "      <td>Chartered Institute of Personnel Management (...</td>\n",
              "      <td></td>\n",
              "      <td>Project Management Intern rainbow Resources lanka</td>\n",
              "      <td>Business Analyst POTENZA</td>\n",
              "      <td>Assistant Project Coordinator Rainbow Institut...</td>\n",
              "      <td></td>\n",
              "      <td>Project Management Intern</td>\n",
              "      <td>0</td>\n",
              "    </tr>\n",
              "    <tr>\n",
              "      <th>91</th>\n",
              "      <td>amanda-marasinghe-29196582</td>\n",
              "      <td>Easily Adaptable Motivational Speaking Human R...</td>\n",
              "      <td>Science and Technology uva wellassa university</td>\n",
              "      <td></td>\n",
              "      <td></td>\n",
              "      <td>Software Designer IFS</td>\n",
              "      <td>Executive Industrial Engineer MAS Holdings</td>\n",
              "      <td></td>\n",
              "      <td></td>\n",
              "      <td>Software Designer</td>\n",
              "      <td>0</td>\n",
              "    </tr>\n",
              "    <tr>\n",
              "      <th>94</th>\n",
              "      <td>thushara88</td>\n",
              "      <td>Java C Project Management Microsoft Office MyS...</td>\n",
              "      <td>G.C.E (Advanced Level) Ananda College, Colombo 10</td>\n",
              "      <td>Faculty of Asian Vocational Education</td>\n",
              "      <td>Technical Engineering College- Sri Lanka</td>\n",
              "      <td>Operations Manager Powered365</td>\n",
              "      <td>Team Leader EMERALD HOSPITALITY PRIVATE LIMITED</td>\n",
              "      <td>Part time worker Multiple companies</td>\n",
              "      <td>Tutor Rajarata University of Sri Lanka</td>\n",
              "      <td>Operations Manager</td>\n",
              "      <td>0</td>\n",
              "    </tr>\n",
              "    <tr>\n",
              "      <th>111</th>\n",
              "      <td>hanarshanya-ganeshan-a2356314b</td>\n",
              "      <td>Leadership Java C Project Management Microsoft...</td>\n",
              "      <td>Undergraduate at SLIIT - BSc (Hons) in Informa...</td>\n",
              "      <td>St'Marys College</td>\n",
              "      <td></td>\n",
              "      <td>Software Engineer Neirah Tech Solution</td>\n",
              "      <td>Software Engineer Internship Texus Information...</td>\n",
              "      <td>Professional  Photo Designer Asvin Studio</td>\n",
              "      <td></td>\n",
              "      <td>Software Engineer</td>\n",
              "      <td>0</td>\n",
              "    </tr>\n",
              "    <tr>\n",
              "      <th>143</th>\n",
              "      <td>nipuna-samaradiwakara-0105a015b</td>\n",
              "      <td></td>\n",
              "      <td>certificate program Oxford college of business.</td>\n",
              "      <td>primary and secondary education Sri Dharmaloka...</td>\n",
              "      <td></td>\n",
              "      <td>Assistant Project Manager Mr Appu.lk</td>\n",
              "      <td>Junior Business Analyst Mr Appu.lk</td>\n",
              "      <td>Junior Executive Commercial Bank of Ceylon Ltd</td>\n",
              "      <td></td>\n",
              "      <td>Assistant Project Manager</td>\n",
              "      <td>0</td>\n",
              "    </tr>\n",
              "    <tr>\n",
              "      <th>151</th>\n",
              "      <td>sudharshan-ravindran-8b95b1b0</td>\n",
              "      <td>Team Leadership Business Analysis Employee Tra...</td>\n",
              "      <td>Master of Business Administration - MBA London...</td>\n",
              "      <td>Hindu College Colombo</td>\n",
              "      <td></td>\n",
              "      <td>Assistant Manager HSBC</td>\n",
              "      <td>Senior banking associate  HSBC</td>\n",
              "      <td></td>\n",
              "      <td></td>\n",
              "      <td>Assistant Manager</td>\n",
              "      <td>0</td>\n",
              "    </tr>\n",
              "    <tr>\n",
              "      <th>183</th>\n",
              "      <td>arani-yohendran-7409aaa6</td>\n",
              "      <td>Java C Microsoft Office System Testing User Ac...</td>\n",
              "      <td>Master's degree University of Colombo</td>\n",
              "      <td>Bsc in it specializing in it SLIIT</td>\n",
              "      <td>CIMA Achievers</td>\n",
              "      <td>Analyst KPMG Sri Lanka</td>\n",
              "      <td>Trainee Analyst KPMG Sri Lanka</td>\n",
              "      <td>Business Analyst Intern KPMG Sri Lanka</td>\n",
              "      <td></td>\n",
              "      <td>Analyst</td>\n",
              "      <td>0</td>\n",
              "    </tr>\n",
              "    <tr>\n",
              "      <th>233</th>\n",
              "      <td>thishan-haththallage-94b517146</td>\n",
              "      <td>JavaScript Requirements Analysis XML JIRA Conf...</td>\n",
              "      <td>Bachelor of Engineering - BE University of Wes...</td>\n",
              "      <td>S.Thomas' College, Mount Lavinia</td>\n",
              "      <td></td>\n",
              "      <td>Associate lead business analyst Innovative Sof...</td>\n",
              "      <td>Business Analyst Cloud Solutions International</td>\n",
              "      <td>Senior Business Analyst 99X Technology</td>\n",
              "      <td>Quality Assurance Engineer Cambio Software Eng...</td>\n",
              "      <td>Associate lead business analyst</td>\n",
              "      <td>0</td>\n",
              "    </tr>\n",
              "    <tr>\n",
              "      <th>235</th>\n",
              "      <td>ovin-abeykoon-b3535812b</td>\n",
              "      <td>Microsoft Excel Teamwork Team Leadership Time ...</td>\n",
              "      <td>Bsc in Business Management Special   NSBM Gree...</td>\n",
              "      <td>Advance Level  St. Sebastian's College</td>\n",
              "      <td></td>\n",
              "      <td>Merchandiser MAS Holdings</td>\n",
              "      <td>Merchandising Intern MAS Holdings</td>\n",
              "      <td>Audit Trainee EY</td>\n",
              "      <td></td>\n",
              "      <td>Merchandiser</td>\n",
              "      <td>0</td>\n",
              "    </tr>\n",
              "    <tr>\n",
              "      <th>240</th>\n",
              "      <td>maziya</td>\n",
              "      <td></td>\n",
              "      <td>Bachelor of Science - BS University of Peradeniya</td>\n",
              "      <td>The Chartered Institute of Management Account...</td>\n",
              "      <td>Girls High School,Kandy</td>\n",
              "      <td>Senior Operations Analyst Virtual Office Solut...</td>\n",
              "      <td>Intern Business Analyst  Eyepax</td>\n",
              "      <td>Billing Associate MediGain</td>\n",
              "      <td></td>\n",
              "      <td>Senior Operations Analyst</td>\n",
              "      <td>0</td>\n",
              "    </tr>\n",
              "    <tr>\n",
              "      <th>241</th>\n",
              "      <td>chatura-a</td>\n",
              "      <td>Microsoft Office MySQL Microsoft Excel SQL PHP...</td>\n",
              "      <td>English British Council Sri Lanka</td>\n",
              "      <td>GCE(AL) D.S Senanayake College,Colombo 7</td>\n",
              "      <td>Information Technology Gateway School of Compu...</td>\n",
              "      <td>Business Intelligence Analyst Trabeya</td>\n",
              "      <td>Planning Analyst MAS Holdings</td>\n",
              "      <td>Intern MAS Holdings</td>\n",
              "      <td></td>\n",
              "      <td>Business Intelligence Analyst</td>\n",
              "      <td>0</td>\n",
              "    </tr>\n",
              "    <tr>\n",
              "      <th>260</th>\n",
              "      <td>anushka-kodithuwakku-178759128</td>\n",
              "      <td>Java C MySQL HTML JavaScript C Selenium WebDri...</td>\n",
              "      <td>Software Engineering SLIIT</td>\n",
              "      <td>Kandy girls high school</td>\n",
              "      <td></td>\n",
              "      <td>Executive - Business Consulting TIQRI</td>\n",
              "      <td>Software Engineer QA TIQRI</td>\n",
              "      <td>Associate Technical Quality Assurance Engineer...</td>\n",
              "      <td>Associate Software Engineer Datavail</td>\n",
              "      <td>Executive - Business Consulting</td>\n",
              "      <td>0</td>\n",
              "    </tr>\n",
              "    <tr>\n",
              "      <th>350</th>\n",
              "      <td>lakshika-madhumali</td>\n",
              "      <td>Leadership Microsoft Office Microsoft Excel Te...</td>\n",
              "      <td>Bachelor's degree in Applied Sciences Universi...</td>\n",
              "      <td>Central College Kuliyapitiya</td>\n",
              "      <td>CIMA</td>\n",
              "      <td>Digital Transformation Analyst  INVORG</td>\n",
              "      <td>Trainee Assistant Engineer Alta Vision Solar</td>\n",
              "      <td></td>\n",
              "      <td></td>\n",
              "      <td>Digital Transformation Analyst</td>\n",
              "      <td>0</td>\n",
              "    </tr>\n",
              "    <tr>\n",
              "      <th>372</th>\n",
              "      <td>miuli-kalubowila-318223143</td>\n",
              "      <td>Leadership Microsoft Office Microsoft Excel Re...</td>\n",
              "      <td>BCS BCS, The Chartered Institute for IT</td>\n",
              "      <td>Diploma in IT Esoft metro campus</td>\n",
              "      <td>Taxila Central College</td>\n",
              "      <td>Founder Generation ALPHA</td>\n",
              "      <td>Business Analyst X.O Concepts (Private) Limited</td>\n",
              "      <td>Member Toastmaster International</td>\n",
              "      <td>Founder  Imperial Designs</td>\n",
              "      <td>Founder</td>\n",
              "      <td>0</td>\n",
              "    </tr>\n",
              "    <tr>\n",
              "      <th>374</th>\n",
              "      <td>dulanga-geekiyanage-a6045a190</td>\n",
              "      <td>Project Management Data Analysis Analytic Prob...</td>\n",
              "      <td>Bachelor of Science in University of Peradeniya</td>\n",
              "      <td>Mo/Malwaththawala National School</td>\n",
              "      <td></td>\n",
              "      <td>Digital Transformation Analyst INVORG</td>\n",
              "      <td>Plant Lean Enterprise  MAS Holdings</td>\n",
              "      <td>In Plant Trainee - Plant Lean Enterprise  MAS ...</td>\n",
              "      <td></td>\n",
              "      <td>Digital Transformation Analyst</td>\n",
              "      <td>0</td>\n",
              "    </tr>\n",
              "    <tr>\n",
              "      <th>395</th>\n",
              "      <td>kanashyam-yoganandasivam-9ba9a7b6</td>\n",
              "      <td>Microsoft Office HTML Teamwork Public Speaking...</td>\n",
              "      <td>Bachelor’s Degree University of Westminster</td>\n",
              "      <td>High School S.Thomas' College, Mount Lavinia</td>\n",
              "      <td>High School S. Thomas'​ Preparatory School</td>\n",
              "      <td>IEEE Brand Ambassador IEEE</td>\n",
              "      <td>Ambassador AngelHack</td>\n",
              "      <td>Trainee Associate Business Analyst Zone24x7</td>\n",
              "      <td></td>\n",
              "      <td>IEEE Brand Ambassador</td>\n",
              "      <td>0</td>\n",
              "    </tr>\n",
              "    <tr>\n",
              "      <th>410</th>\n",
              "      <td>thivvyankaruneswaran</td>\n",
              "      <td>Leadership Microsoft Office HTML Microsoft Exc...</td>\n",
              "      <td>Bachelor's degree University of Westminster</td>\n",
              "      <td>Diploma in Management Accounting  Wisdom Busin...</td>\n",
              "      <td>General Certificate of Education, Advanced lev...</td>\n",
              "      <td>Global Intern - Business Analysis hSenid Mobil...</td>\n",
              "      <td></td>\n",
              "      <td></td>\n",
              "      <td></td>\n",
              "      <td>Global Intern - Business Analysis</td>\n",
              "      <td>0</td>\n",
              "    </tr>\n",
              "    <tr>\n",
              "      <th>417</th>\n",
              "      <td>bhanuka-gamage-256ab11b5</td>\n",
              "      <td>Management Financial Accounting Business Analy...</td>\n",
              "      <td>Bachelor's degree University of Kelaniya Sri L...</td>\n",
              "      <td>Certified Management Accountant  Institute of ...</td>\n",
              "      <td>Chartered Accountancy  Institute of Chartered ...</td>\n",
              "      <td>Executive Insurance Regulatory Commission of S...</td>\n",
              "      <td>Senior Account Executive The Hayleys Group (Ha...</td>\n",
              "      <td>Account Executive Walkers CML Group</td>\n",
              "      <td>Audit Intern EY</td>\n",
              "      <td>Executive</td>\n",
              "      <td>0</td>\n",
              "    </tr>\n",
              "    <tr>\n",
              "      <th>440</th>\n",
              "      <td>nipuni-gunatilake-070b87114</td>\n",
              "      <td>Leadership Java Project Management Microsoft O...</td>\n",
              "      <td>Master of Science CQUniversity</td>\n",
              "      <td>Bachelor of Science SLIIT</td>\n",
              "      <td>G.C.E.A/L 2008 Our Lady of Victories Convent</td>\n",
              "      <td>Executive Allianz Insurance Lanka Ltd</td>\n",
              "      <td>Associate Web Developer Lanka SunRay Creation</td>\n",
              "      <td></td>\n",
              "      <td></td>\n",
              "      <td>Executive</td>\n",
              "      <td>0</td>\n",
              "    </tr>\n",
              "    <tr>\n",
              "      <th>442</th>\n",
              "      <td>nabeel-m-b589a8b3</td>\n",
              "      <td>Leadership Research Public Speaking Management...</td>\n",
              "      <td>The Chartered Institute of Management Account...</td>\n",
              "      <td>Zahira college Matale</td>\n",
              "      <td></td>\n",
              "      <td>Game Master Escape The Room Sri Lanka</td>\n",
              "      <td>Business Analyst Nike</td>\n",
              "      <td>Intern Nike AITC</td>\n",
              "      <td>Intern content specialist 3Musk</td>\n",
              "      <td>Game Master</td>\n",
              "      <td>0</td>\n",
              "    </tr>\n",
              "    <tr>\n",
              "      <th>495</th>\n",
              "      <td>kavitha-selvasenakurukkal</td>\n",
              "      <td>Leadership Java Project Management Microsoft O...</td>\n",
              "      <td>BSc Hons in Business Information System Inform...</td>\n",
              "      <td>Bachelor's degree  University of Westminster</td>\n",
              "      <td></td>\n",
              "      <td>Software Quality Assurance Engineer Mutants In...</td>\n",
              "      <td>Business Analyst Mutants International (Pvt) Ltd.</td>\n",
              "      <td></td>\n",
              "      <td></td>\n",
              "      <td>Software Quality Assurance Engineer</td>\n",
              "      <td>0</td>\n",
              "    </tr>\n",
              "    <tr>\n",
              "      <th>498</th>\n",
              "      <td>binara-panduwawala-16350b168</td>\n",
              "      <td>Leadership Microsoft Office Microsoft Excel Cu...</td>\n",
              "      <td>gateway college sri Lanka</td>\n",
              "      <td></td>\n",
              "      <td></td>\n",
              "      <td>Accounts Receivable Associate Exetel</td>\n",
              "      <td>Customer Service Representative HSBC ELECTRONI...</td>\n",
              "      <td></td>\n",
              "      <td></td>\n",
              "      <td>Accounts Receivable Associate</td>\n",
              "      <td>0</td>\n",
              "    </tr>\n",
              "  </tbody>\n",
              "</table>\n",
              "</div>\n",
              "      <button class=\"colab-df-convert\" onclick=\"convertToInteractive('df-4ddc250f-6a24-4e8b-98df-bf7f31944fe3')\"\n",
              "              title=\"Convert this dataframe to an interactive table.\"\n",
              "              style=\"display:none;\">\n",
              "        \n",
              "  <svg xmlns=\"http://www.w3.org/2000/svg\" height=\"24px\"viewBox=\"0 0 24 24\"\n",
              "       width=\"24px\">\n",
              "    <path d=\"M0 0h24v24H0V0z\" fill=\"none\"/>\n",
              "    <path d=\"M18.56 5.44l.94 2.06.94-2.06 2.06-.94-2.06-.94-.94-2.06-.94 2.06-2.06.94zm-11 1L8.5 8.5l.94-2.06 2.06-.94-2.06-.94L8.5 2.5l-.94 2.06-2.06.94zm10 10l.94 2.06.94-2.06 2.06-.94-2.06-.94-.94-2.06-.94 2.06-2.06.94z\"/><path d=\"M17.41 7.96l-1.37-1.37c-.4-.4-.92-.59-1.43-.59-.52 0-1.04.2-1.43.59L10.3 9.45l-7.72 7.72c-.78.78-.78 2.05 0 2.83L4 21.41c.39.39.9.59 1.41.59.51 0 1.02-.2 1.41-.59l7.78-7.78 2.81-2.81c.8-.78.8-2.07 0-2.86zM5.41 20L4 18.59l7.72-7.72 1.47 1.35L5.41 20z\"/>\n",
              "  </svg>\n",
              "      </button>\n",
              "      \n",
              "  <style>\n",
              "    .colab-df-container {\n",
              "      display:flex;\n",
              "      flex-wrap:wrap;\n",
              "      gap: 12px;\n",
              "    }\n",
              "\n",
              "    .colab-df-convert {\n",
              "      background-color: #E8F0FE;\n",
              "      border: none;\n",
              "      border-radius: 50%;\n",
              "      cursor: pointer;\n",
              "      display: none;\n",
              "      fill: #1967D2;\n",
              "      height: 32px;\n",
              "      padding: 0 0 0 0;\n",
              "      width: 32px;\n",
              "    }\n",
              "\n",
              "    .colab-df-convert:hover {\n",
              "      background-color: #E2EBFA;\n",
              "      box-shadow: 0px 1px 2px rgba(60, 64, 67, 0.3), 0px 1px 3px 1px rgba(60, 64, 67, 0.15);\n",
              "      fill: #174EA6;\n",
              "    }\n",
              "\n",
              "    [theme=dark] .colab-df-convert {\n",
              "      background-color: #3B4455;\n",
              "      fill: #D2E3FC;\n",
              "    }\n",
              "\n",
              "    [theme=dark] .colab-df-convert:hover {\n",
              "      background-color: #434B5C;\n",
              "      box-shadow: 0px 1px 3px 1px rgba(0, 0, 0, 0.15);\n",
              "      filter: drop-shadow(0px 1px 2px rgba(0, 0, 0, 0.3));\n",
              "      fill: #FFFFFF;\n",
              "    }\n",
              "  </style>\n",
              "\n",
              "      <script>\n",
              "        const buttonEl =\n",
              "          document.querySelector('#df-4ddc250f-6a24-4e8b-98df-bf7f31944fe3 button.colab-df-convert');\n",
              "        buttonEl.style.display =\n",
              "          google.colab.kernel.accessAllowed ? 'block' : 'none';\n",
              "\n",
              "        async function convertToInteractive(key) {\n",
              "          const element = document.querySelector('#df-4ddc250f-6a24-4e8b-98df-bf7f31944fe3');\n",
              "          const dataTable =\n",
              "            await google.colab.kernel.invokeFunction('convertToInteractive',\n",
              "                                                     [key], {});\n",
              "          if (!dataTable) return;\n",
              "\n",
              "          const docLinkHtml = 'Like what you see? Visit the ' +\n",
              "            '<a target=\"_blank\" href=https://colab.research.google.com/notebooks/data_table.ipynb>data table notebook</a>'\n",
              "            + ' to learn more about interactive tables.';\n",
              "          element.innerHTML = '';\n",
              "          dataTable['output_type'] = 'display_data';\n",
              "          await google.colab.output.renderOutput(dataTable, element);\n",
              "          const docLink = document.createElement('div');\n",
              "          docLink.innerHTML = docLinkHtml;\n",
              "          element.appendChild(docLink);\n",
              "        }\n",
              "      </script>\n",
              "    </div>\n",
              "  </div>\n",
              "  "
            ],
            "text/plain": [
              "                                     id  ... label\n",
              "48                    harsh-edirisinghe  ...     0\n",
              "88   ravipprasath-dineshkumar-83b5a612a  ...     0\n",
              "91           amanda-marasinghe-29196582  ...     0\n",
              "94                           thushara88  ...     0\n",
              "111      hanarshanya-ganeshan-a2356314b  ...     0\n",
              "143     nipuna-samaradiwakara-0105a015b  ...     0\n",
              "151       sudharshan-ravindran-8b95b1b0  ...     0\n",
              "183            arani-yohendran-7409aaa6  ...     0\n",
              "233      thishan-haththallage-94b517146  ...     0\n",
              "235             ovin-abeykoon-b3535812b  ...     0\n",
              "240                              maziya  ...     0\n",
              "241                           chatura-a  ...     0\n",
              "260      anushka-kodithuwakku-178759128  ...     0\n",
              "350                  lakshika-madhumali  ...     0\n",
              "372          miuli-kalubowila-318223143  ...     0\n",
              "374       dulanga-geekiyanage-a6045a190  ...     0\n",
              "395   kanashyam-yoganandasivam-9ba9a7b6  ...     0\n",
              "410                thivvyankaruneswaran  ...     0\n",
              "417            bhanuka-gamage-256ab11b5  ...     0\n",
              "440         nipuni-gunatilake-070b87114  ...     0\n",
              "442                   nabeel-m-b589a8b3  ...     0\n",
              "495           kavitha-selvasenakurukkal  ...     0\n",
              "498        binara-panduwawala-16350b168  ...     0\n",
              "\n",
              "[23 rows x 11 columns]"
            ]
          },
          "metadata": {},
          "execution_count": 22
        }
      ]
    },
    {
      "cell_type": "code",
      "source": [
        "BA_Data = BA_Data.drop(94)\n",
        "BA_Data = BA_Data.drop(111)\n",
        "BA_Data = BA_Data.drop(151)\n",
        "BA_Data = BA_Data.drop(235)\n",
        "BA_Data = BA_Data.drop(240)\n",
        "BA_Data = BA_Data.drop(350)\n",
        "BA_Data = BA_Data.drop(417)\n",
        "BA_Data = BA_Data.drop(440)\n",
        "BA_Data = BA_Data.drop(498)"
      ],
      "metadata": {
        "id": "zDHsumlRRpe6"
      },
      "execution_count": null,
      "outputs": []
    },
    {
      "cell_type": "code",
      "source": [
        "BA_Data.shape"
      ],
      "metadata": {
        "colab": {
          "base_uri": "https://localhost:8080/"
        },
        "id": "IkjHlO2ASw87",
        "outputId": "d3dc5f05-9d38-42f1-ef43-c10b7e1eda6f"
      },
      "execution_count": null,
      "outputs": [
        {
          "output_type": "execute_result",
          "data": {
            "text/plain": [
              "(490, 11)"
            ]
          },
          "metadata": {},
          "execution_count": 25
        }
      ]
    },
    {
      "cell_type": "code",
      "source": [
        "BA_Data.insert(10,'Target','Business Analyst')"
      ],
      "metadata": {
        "id": "TCuOX5KHS6Sq"
      },
      "execution_count": null,
      "outputs": []
    },
    {
      "cell_type": "code",
      "source": [
        "BA_Data = BA_Data.drop(['organization_title_1','label'], axis=1)"
      ],
      "metadata": {
        "id": "FWCXgSaITERT"
      },
      "execution_count": null,
      "outputs": []
    },
    {
      "cell_type": "code",
      "source": [
        "BA_Data"
      ],
      "metadata": {
        "colab": {
          "base_uri": "https://localhost:8080/",
          "height": 936
        },
        "id": "ZG_lB9hhTH-C",
        "outputId": "2cbc54ba-6737-4cda-b025-c0559978ea2e"
      },
      "execution_count": null,
      "outputs": [
        {
          "output_type": "execute_result",
          "data": {
            "text/html": [
              "\n",
              "  <div id=\"df-22dcbfd2-d734-4fa8-bdcb-43677fa9c479\">\n",
              "    <div class=\"colab-df-container\">\n",
              "      <div>\n",
              "<style scoped>\n",
              "    .dataframe tbody tr th:only-of-type {\n",
              "        vertical-align: middle;\n",
              "    }\n",
              "\n",
              "    .dataframe tbody tr th {\n",
              "        vertical-align: top;\n",
              "    }\n",
              "\n",
              "    .dataframe thead th {\n",
              "        text-align: right;\n",
              "    }\n",
              "</style>\n",
              "<table border=\"1\" class=\"dataframe\">\n",
              "  <thead>\n",
              "    <tr style=\"text-align: right;\">\n",
              "      <th></th>\n",
              "      <th>id</th>\n",
              "      <th>skills</th>\n",
              "      <th>edu_1</th>\n",
              "      <th>edu_2</th>\n",
              "      <th>edu_3</th>\n",
              "      <th>org_1</th>\n",
              "      <th>org_2</th>\n",
              "      <th>org_3</th>\n",
              "      <th>org_4</th>\n",
              "      <th>Target</th>\n",
              "    </tr>\n",
              "  </thead>\n",
              "  <tbody>\n",
              "    <tr>\n",
              "      <th>0</th>\n",
              "      <td>tharuka-nanayakkara-306986165</td>\n",
              "      <td>Java Project Management Microsoft Office MySQL...</td>\n",
              "      <td>Bachelor's degree University of Bedfordshire</td>\n",
              "      <td>Higher diploma SLIIT</td>\n",
              "      <td>Musaeus College</td>\n",
              "      <td>Business Analyst CodeGen International</td>\n",
              "      <td>Project Management Intern London Stock Exchang...</td>\n",
              "      <td></td>\n",
              "      <td></td>\n",
              "      <td>Business Analyst</td>\n",
              "    </tr>\n",
              "    <tr>\n",
              "      <th>1</th>\n",
              "      <td>lakshika-jayakody-981070170</td>\n",
              "      <td>Leadership Microsoft Office C Teamwork Jira Ag...</td>\n",
              "      <td>BSc.(Hons)  University of Moratuwa</td>\n",
              "      <td>Yasodara Devi Balika M.V, Gampaha</td>\n",
              "      <td></td>\n",
              "      <td>Business Analyst Axiata Digital Labs</td>\n",
              "      <td>Software Engineer Intern Board of Investment o...</td>\n",
              "      <td>Fomer Intern Software Enginerr Board of Invest...</td>\n",
              "      <td></td>\n",
              "      <td>Business Analyst</td>\n",
              "    </tr>\n",
              "    <tr>\n",
              "      <th>2</th>\n",
              "      <td>shakkya-jayawardena-113094173</td>\n",
              "      <td>Leadership Java Microsoft Office MySQL HTML Ca...</td>\n",
              "      <td>Bachelor of Science - BSc (Hons) University of...</td>\n",
              "      <td>St.Anthony's College Kandy</td>\n",
              "      <td></td>\n",
              "      <td>Business Analyst Flash Health</td>\n",
              "      <td>Undergraduate University of Plymouth</td>\n",
              "      <td>Intern Flash Health</td>\n",
              "      <td>volunteer  Mozilla Sri Lanka</td>\n",
              "      <td>Business Analyst</td>\n",
              "    </tr>\n",
              "    <tr>\n",
              "      <th>3</th>\n",
              "      <td>krishnica-mariyathas-62a9a8165</td>\n",
              "      <td>Leadership Microsoft Office SQL Customer Servi...</td>\n",
              "      <td>Bachelor's degree University of Moratuwa</td>\n",
              "      <td>St. Cecelia's Girls' College, Batticaloa</td>\n",
              "      <td>Foundation Certificate BCS, The Chartered Inst...</td>\n",
              "      <td>Associate Business Analyst PickMe (Digital Mob...</td>\n",
              "      <td>Business Analyst Intern Pearson Lanka</td>\n",
              "      <td>IT Business Analyst Intern ZILLIONe</td>\n",
              "      <td>University Trainee Regional Head Office, Peopl...</td>\n",
              "      <td>Business Analyst</td>\n",
              "    </tr>\n",
              "    <tr>\n",
              "      <th>4</th>\n",
              "      <td>romeshwijesiri</td>\n",
              "      <td>Leadership Project Management Microsoft Office...</td>\n",
              "      <td>Doctor of Philosophy - PhD Monash University</td>\n",
              "      <td>Bachelor of Engineering - BE Monash University</td>\n",
              "      <td>High School Royal College Colombo</td>\n",
              "      <td>Business Analyst McKinsey &amp; Company</td>\n",
              "      <td>Finance Manager Monash BrewLab</td>\n",
              "      <td>Teaching Associate Monash University</td>\n",
              "      <td>PhD Candidate Monash University</td>\n",
              "      <td>Business Analyst</td>\n",
              "    </tr>\n",
              "    <tr>\n",
              "      <th>...</th>\n",
              "      <td>...</td>\n",
              "      <td>...</td>\n",
              "      <td>...</td>\n",
              "      <td>...</td>\n",
              "      <td>...</td>\n",
              "      <td>...</td>\n",
              "      <td>...</td>\n",
              "      <td>...</td>\n",
              "      <td>...</td>\n",
              "      <td>...</td>\n",
              "    </tr>\n",
              "    <tr>\n",
              "      <th>494</th>\n",
              "      <td>kalani-dhanushika-3487b11aa</td>\n",
              "      <td></td>\n",
              "      <td>Bachelor of Science - BS Open University of Sr...</td>\n",
              "      <td>Dharmapala Vidyalaya, pannipitiya</td>\n",
              "      <td>College of Chemical Sciences, Institute of Ch...</td>\n",
              "      <td>Business Analyst OIT</td>\n",
              "      <td>Associate image processor  OREL IT</td>\n",
              "      <td></td>\n",
              "      <td></td>\n",
              "      <td>Business Analyst</td>\n",
              "    </tr>\n",
              "    <tr>\n",
              "      <th>495</th>\n",
              "      <td>kavitha-selvasenakurukkal</td>\n",
              "      <td>Leadership Java Project Management Microsoft O...</td>\n",
              "      <td>BSc Hons in Business Information System Inform...</td>\n",
              "      <td>Bachelor's degree  University of Westminster</td>\n",
              "      <td></td>\n",
              "      <td>Software Quality Assurance Engineer Mutants In...</td>\n",
              "      <td>Business Analyst Mutants International (Pvt) Ltd.</td>\n",
              "      <td></td>\n",
              "      <td></td>\n",
              "      <td>Business Analyst</td>\n",
              "    </tr>\n",
              "    <tr>\n",
              "      <th>496</th>\n",
              "      <td>pramila-bopearachchi-49a4356b</td>\n",
              "      <td>Leadership Project Management Microsoft Office...</td>\n",
              "      <td>ACA Institute of Chartered Accountants of Sri ...</td>\n",
              "      <td>Devi Balika Vidyalaya, Colombo 08</td>\n",
              "      <td>University of Colombo</td>\n",
              "      <td>Business Analyst Axiata Digital Labs</td>\n",
              "      <td></td>\n",
              "      <td></td>\n",
              "      <td></td>\n",
              "      <td>Business Analyst</td>\n",
              "    </tr>\n",
              "    <tr>\n",
              "      <th>497</th>\n",
              "      <td>nethmi-wickramasinghe-890080101</td>\n",
              "      <td>Customer Service Teamwork Analytical Skills Pu...</td>\n",
              "      <td>Bachelor’s Degree University of London</td>\n",
              "      <td>Executive Diploma in Human Resource Management...</td>\n",
              "      <td>Master of Business Administration - MBA Univer...</td>\n",
              "      <td>Business Analyst - PVH MAS Holdings</td>\n",
              "      <td>Product Development Merchandiser - Victoria's ...</td>\n",
              "      <td>Management Trainee MAS Holdings</td>\n",
              "      <td>Executive Branding and Corporate Communication...</td>\n",
              "      <td>Business Analyst</td>\n",
              "    </tr>\n",
              "    <tr>\n",
              "      <th>499</th>\n",
              "      <td>shalindri-gunasekera-537282211</td>\n",
              "      <td>Project Management Requirements Analysis Analy...</td>\n",
              "      <td>Information Systems with Business Management U...</td>\n",
              "      <td>Master of Business Management University of Co...</td>\n",
              "      <td>Holy Family Convent Colombo 04</td>\n",
              "      <td>Business Analyst Proitzen</td>\n",
              "      <td>Associate Business Analyst Camms</td>\n",
              "      <td>Management Intern Dialog Axiata PLC</td>\n",
              "      <td></td>\n",
              "      <td>Business Analyst</td>\n",
              "    </tr>\n",
              "  </tbody>\n",
              "</table>\n",
              "<p>490 rows × 10 columns</p>\n",
              "</div>\n",
              "      <button class=\"colab-df-convert\" onclick=\"convertToInteractive('df-22dcbfd2-d734-4fa8-bdcb-43677fa9c479')\"\n",
              "              title=\"Convert this dataframe to an interactive table.\"\n",
              "              style=\"display:none;\">\n",
              "        \n",
              "  <svg xmlns=\"http://www.w3.org/2000/svg\" height=\"24px\"viewBox=\"0 0 24 24\"\n",
              "       width=\"24px\">\n",
              "    <path d=\"M0 0h24v24H0V0z\" fill=\"none\"/>\n",
              "    <path d=\"M18.56 5.44l.94 2.06.94-2.06 2.06-.94-2.06-.94-.94-2.06-.94 2.06-2.06.94zm-11 1L8.5 8.5l.94-2.06 2.06-.94-2.06-.94L8.5 2.5l-.94 2.06-2.06.94zm10 10l.94 2.06.94-2.06 2.06-.94-2.06-.94-.94-2.06-.94 2.06-2.06.94z\"/><path d=\"M17.41 7.96l-1.37-1.37c-.4-.4-.92-.59-1.43-.59-.52 0-1.04.2-1.43.59L10.3 9.45l-7.72 7.72c-.78.78-.78 2.05 0 2.83L4 21.41c.39.39.9.59 1.41.59.51 0 1.02-.2 1.41-.59l7.78-7.78 2.81-2.81c.8-.78.8-2.07 0-2.86zM5.41 20L4 18.59l7.72-7.72 1.47 1.35L5.41 20z\"/>\n",
              "  </svg>\n",
              "      </button>\n",
              "      \n",
              "  <style>\n",
              "    .colab-df-container {\n",
              "      display:flex;\n",
              "      flex-wrap:wrap;\n",
              "      gap: 12px;\n",
              "    }\n",
              "\n",
              "    .colab-df-convert {\n",
              "      background-color: #E8F0FE;\n",
              "      border: none;\n",
              "      border-radius: 50%;\n",
              "      cursor: pointer;\n",
              "      display: none;\n",
              "      fill: #1967D2;\n",
              "      height: 32px;\n",
              "      padding: 0 0 0 0;\n",
              "      width: 32px;\n",
              "    }\n",
              "\n",
              "    .colab-df-convert:hover {\n",
              "      background-color: #E2EBFA;\n",
              "      box-shadow: 0px 1px 2px rgba(60, 64, 67, 0.3), 0px 1px 3px 1px rgba(60, 64, 67, 0.15);\n",
              "      fill: #174EA6;\n",
              "    }\n",
              "\n",
              "    [theme=dark] .colab-df-convert {\n",
              "      background-color: #3B4455;\n",
              "      fill: #D2E3FC;\n",
              "    }\n",
              "\n",
              "    [theme=dark] .colab-df-convert:hover {\n",
              "      background-color: #434B5C;\n",
              "      box-shadow: 0px 1px 3px 1px rgba(0, 0, 0, 0.15);\n",
              "      filter: drop-shadow(0px 1px 2px rgba(0, 0, 0, 0.3));\n",
              "      fill: #FFFFFF;\n",
              "    }\n",
              "  </style>\n",
              "\n",
              "      <script>\n",
              "        const buttonEl =\n",
              "          document.querySelector('#df-22dcbfd2-d734-4fa8-bdcb-43677fa9c479 button.colab-df-convert');\n",
              "        buttonEl.style.display =\n",
              "          google.colab.kernel.accessAllowed ? 'block' : 'none';\n",
              "\n",
              "        async function convertToInteractive(key) {\n",
              "          const element = document.querySelector('#df-22dcbfd2-d734-4fa8-bdcb-43677fa9c479');\n",
              "          const dataTable =\n",
              "            await google.colab.kernel.invokeFunction('convertToInteractive',\n",
              "                                                     [key], {});\n",
              "          if (!dataTable) return;\n",
              "\n",
              "          const docLinkHtml = 'Like what you see? Visit the ' +\n",
              "            '<a target=\"_blank\" href=https://colab.research.google.com/notebooks/data_table.ipynb>data table notebook</a>'\n",
              "            + ' to learn more about interactive tables.';\n",
              "          element.innerHTML = '';\n",
              "          dataTable['output_type'] = 'display_data';\n",
              "          await google.colab.output.renderOutput(dataTable, element);\n",
              "          const docLink = document.createElement('div');\n",
              "          docLink.innerHTML = docLinkHtml;\n",
              "          element.appendChild(docLink);\n",
              "        }\n",
              "      </script>\n",
              "    </div>\n",
              "  </div>\n",
              "  "
            ],
            "text/plain": [
              "                                  id  ...            Target\n",
              "0      tharuka-nanayakkara-306986165  ...  Business Analyst\n",
              "1        lakshika-jayakody-981070170  ...  Business Analyst\n",
              "2      shakkya-jayawardena-113094173  ...  Business Analyst\n",
              "3     krishnica-mariyathas-62a9a8165  ...  Business Analyst\n",
              "4                     romeshwijesiri  ...  Business Analyst\n",
              "..                               ...  ...               ...\n",
              "494      kalani-dhanushika-3487b11aa  ...  Business Analyst\n",
              "495        kavitha-selvasenakurukkal  ...  Business Analyst\n",
              "496    pramila-bopearachchi-49a4356b  ...  Business Analyst\n",
              "497  nethmi-wickramasinghe-890080101  ...  Business Analyst\n",
              "499   shalindri-gunasekera-537282211  ...  Business Analyst\n",
              "\n",
              "[490 rows x 10 columns]"
            ]
          },
          "metadata": {},
          "execution_count": 28
        }
      ]
    },
    {
      "cell_type": "code",
      "source": [
        "BA_Data.to_csv(r'/content/drive/MyDrive/Research Dataset/processed_data/Added_Target/BA_Data_processed_WithTarget_Value.csv')"
      ],
      "metadata": {
        "id": "knPa5B7xTIti"
      },
      "execution_count": null,
      "outputs": []
    },
    {
      "cell_type": "code",
      "source": [
        "label2, other_labels2, label_name2, countpos2, countneg2 = check_Avalaiblity(NET_Data,\"Network Engineer\")"
      ],
      "metadata": {
        "id": "cp_T09c5TU_6"
      },
      "execution_count": 9,
      "outputs": []
    },
    {
      "cell_type": "code",
      "source": [
        "countpos2"
      ],
      "metadata": {
        "colab": {
          "base_uri": "https://localhost:8080/"
        },
        "id": "gEkGBPomT-Ii",
        "outputId": "c5ebbfef-961f-4079-aecc-800ebafc2497"
      },
      "execution_count": 10,
      "outputs": [
        {
          "output_type": "execute_result",
          "data": {
            "text/plain": [
              "252"
            ]
          },
          "metadata": {},
          "execution_count": 10
        }
      ]
    },
    {
      "cell_type": "code",
      "source": [
        "label_name2"
      ],
      "metadata": {
        "id": "Dm-yUR0FUB2i"
      },
      "execution_count": null,
      "outputs": []
    },
    {
      "cell_type": "code",
      "source": [
        "countneg2"
      ],
      "metadata": {
        "colab": {
          "base_uri": "https://localhost:8080/"
        },
        "id": "Mo-f87JkUFMi",
        "outputId": "b92e5e9e-105c-4143-c74a-35b6668d5951"
      },
      "execution_count": 12,
      "outputs": [
        {
          "output_type": "execute_result",
          "data": {
            "text/plain": [
              "269"
            ]
          },
          "metadata": {},
          "execution_count": 12
        }
      ]
    },
    {
      "cell_type": "code",
      "source": [
        "other_labels2"
      ],
      "metadata": {
        "id": "hjvi0FzDULB6"
      },
      "execution_count": null,
      "outputs": []
    },
    {
      "cell_type": "code",
      "source": [
        "NET_Data['label'] = label2"
      ],
      "metadata": {
        "id": "3Jzsi1q0UOgq"
      },
      "execution_count": 14,
      "outputs": []
    },
    {
      "cell_type": "code",
      "source": [
        "NET_Data_New = NET_Data.loc[NET_Data['label']==1]"
      ],
      "metadata": {
        "id": "XxjmBlOQU7ET"
      },
      "execution_count": 15,
      "outputs": []
    },
    {
      "cell_type": "code",
      "source": [
        "NET_Data_New.shape"
      ],
      "metadata": {
        "colab": {
          "base_uri": "https://localhost:8080/"
        },
        "id": "NZBlE0wcVJ5S",
        "outputId": "5a9a5aee-6e9b-420e-9f99-1b15d3538db7"
      },
      "execution_count": 16,
      "outputs": [
        {
          "output_type": "execute_result",
          "data": {
            "text/plain": [
              "(252, 11)"
            ]
          },
          "metadata": {},
          "execution_count": 16
        }
      ]
    },
    {
      "cell_type": "code",
      "source": [
        "NET_Data_check = NET_Data.loc[NET_Data['label']==0]"
      ],
      "metadata": {
        "id": "Hq3uYqcbVLLJ"
      },
      "execution_count": 17,
      "outputs": []
    },
    {
      "cell_type": "code",
      "source": [
        "NET_Data_check.shape"
      ],
      "metadata": {
        "colab": {
          "base_uri": "https://localhost:8080/"
        },
        "id": "gtFtlNqPVQoi",
        "outputId": "2ec27c2a-e4d6-4591-f920-c08cba80ecb4"
      },
      "execution_count": 18,
      "outputs": [
        {
          "output_type": "execute_result",
          "data": {
            "text/plain": [
              "(269, 11)"
            ]
          },
          "metadata": {},
          "execution_count": 18
        }
      ]
    },
    {
      "cell_type": "code",
      "source": [
        "label3, other_labels3, label_name3, countpos3, countneg3 = check_Avalaiblity(NET_Data_check,\"Network Support Engineer\")"
      ],
      "metadata": {
        "id": "eArq4tgTVSBh"
      },
      "execution_count": 19,
      "outputs": []
    },
    {
      "cell_type": "code",
      "source": [
        "countpos3"
      ],
      "metadata": {
        "colab": {
          "base_uri": "https://localhost:8080/"
        },
        "id": "0R5pIPYvVhb6",
        "outputId": "2c542d5f-ba08-428a-beb6-0468e9e5c218"
      },
      "execution_count": 20,
      "outputs": [
        {
          "output_type": "execute_result",
          "data": {
            "text/plain": [
              "35"
            ]
          },
          "metadata": {},
          "execution_count": 20
        }
      ]
    },
    {
      "cell_type": "code",
      "source": [
        "label_name3"
      ],
      "metadata": {
        "id": "S4tBTrngVjVq"
      },
      "execution_count": null,
      "outputs": []
    },
    {
      "cell_type": "code",
      "source": [
        "other_labels3"
      ],
      "metadata": {
        "id": "1Y2mqV9gVk5S"
      },
      "execution_count": null,
      "outputs": []
    },
    {
      "cell_type": "code",
      "source": [
        "NET_Data_check['label'] = label3"
      ],
      "metadata": {
        "colab": {
          "base_uri": "https://localhost:8080/"
        },
        "id": "Yv0_UwGNWQDF",
        "outputId": "916dff77-1656-4b16-f89a-d0f8f74b5aa5"
      },
      "execution_count": 23,
      "outputs": [
        {
          "output_type": "stream",
          "name": "stderr",
          "text": [
            "/usr/local/lib/python3.7/dist-packages/ipykernel_launcher.py:1: SettingWithCopyWarning: \n",
            "A value is trying to be set on a copy of a slice from a DataFrame.\n",
            "Try using .loc[row_indexer,col_indexer] = value instead\n",
            "\n",
            "See the caveats in the documentation: https://pandas.pydata.org/pandas-docs/stable/user_guide/indexing.html#returning-a-view-versus-a-copy\n",
            "  \"\"\"Entry point for launching an IPython kernel.\n"
          ]
        }
      ]
    },
    {
      "cell_type": "code",
      "source": [
        "NET_Data_New2 = NET_Data_check.loc[NET_Data_check['label']==1]"
      ],
      "metadata": {
        "id": "JwYRn0MFVs8i"
      },
      "execution_count": 24,
      "outputs": []
    },
    {
      "cell_type": "code",
      "source": [
        "NET_Data_New2.shape"
      ],
      "metadata": {
        "colab": {
          "base_uri": "https://localhost:8080/"
        },
        "id": "YjwhMYdfWMZj",
        "outputId": "dadb5abb-52af-4e2d-adeb-7fc2ca8baf19"
      },
      "execution_count": 25,
      "outputs": [
        {
          "output_type": "execute_result",
          "data": {
            "text/plain": [
              "(35, 11)"
            ]
          },
          "metadata": {},
          "execution_count": 25
        }
      ]
    },
    {
      "cell_type": "code",
      "source": [
        "NET_Data_check2 = NET_Data_check.loc[NET_Data_check['label']==0]"
      ],
      "metadata": {
        "id": "833YZ--CWN_y"
      },
      "execution_count": 26,
      "outputs": []
    },
    {
      "cell_type": "code",
      "source": [
        "NET_Data_check2.shape"
      ],
      "metadata": {
        "colab": {
          "base_uri": "https://localhost:8080/"
        },
        "id": "wkqU2VfFWlt7",
        "outputId": "830b5182-238b-42c4-fa66-a809ff688fd1"
      },
      "execution_count": 27,
      "outputs": [
        {
          "output_type": "execute_result",
          "data": {
            "text/plain": [
              "(234, 11)"
            ]
          },
          "metadata": {},
          "execution_count": 27
        }
      ]
    },
    {
      "cell_type": "code",
      "source": [
        "label4, other_labels4, label_name4, countpos4, countneg4 = check_Avalaiblity(NET_Data_check2,\"Network\")"
      ],
      "metadata": {
        "id": "ra7RvIx5WnMZ"
      },
      "execution_count": 28,
      "outputs": []
    },
    {
      "cell_type": "code",
      "source": [
        "countneg4"
      ],
      "metadata": {
        "colab": {
          "base_uri": "https://localhost:8080/"
        },
        "id": "eMqbowKJXUX6",
        "outputId": "87a60432-af2b-49e1-8e37-78a815d15ce9"
      },
      "execution_count": 29,
      "outputs": [
        {
          "output_type": "execute_result",
          "data": {
            "text/plain": [
              "108"
            ]
          },
          "metadata": {},
          "execution_count": 29
        }
      ]
    },
    {
      "cell_type": "code",
      "source": [
        "other_labels4"
      ],
      "metadata": {
        "id": "YZig4n-XXXeT"
      },
      "execution_count": null,
      "outputs": []
    },
    {
      "cell_type": "code",
      "source": [
        "countpos4"
      ],
      "metadata": {
        "colab": {
          "base_uri": "https://localhost:8080/"
        },
        "id": "fXCrmnFlW4c6",
        "outputId": "3d1de1ad-c636-4597-9a2c-0a0fff0b1373"
      },
      "execution_count": 31,
      "outputs": [
        {
          "output_type": "execute_result",
          "data": {
            "text/plain": [
              "126"
            ]
          },
          "metadata": {},
          "execution_count": 31
        }
      ]
    },
    {
      "cell_type": "code",
      "source": [
        "label_name4"
      ],
      "metadata": {
        "id": "cJnlQ6R6W5zK"
      },
      "execution_count": null,
      "outputs": []
    },
    {
      "cell_type": "code",
      "source": [
        "NET_Data_check2['label'] = label4"
      ],
      "metadata": {
        "colab": {
          "base_uri": "https://localhost:8080/"
        },
        "id": "nm3eOVFAXogK",
        "outputId": "ab46028a-a64b-4651-e152-a1c6ce2c86c1"
      },
      "execution_count": 33,
      "outputs": [
        {
          "output_type": "stream",
          "name": "stderr",
          "text": [
            "/usr/local/lib/python3.7/dist-packages/ipykernel_launcher.py:1: SettingWithCopyWarning: \n",
            "A value is trying to be set on a copy of a slice from a DataFrame.\n",
            "Try using .loc[row_indexer,col_indexer] = value instead\n",
            "\n",
            "See the caveats in the documentation: https://pandas.pydata.org/pandas-docs/stable/user_guide/indexing.html#returning-a-view-versus-a-copy\n",
            "  \"\"\"Entry point for launching an IPython kernel.\n"
          ]
        }
      ]
    },
    {
      "cell_type": "code",
      "source": [
        "NET_Data_check3 = NET_Data_check2.loc[NET_Data_check2['label']==1]"
      ],
      "metadata": {
        "id": "BeUFAwUDXKnq"
      },
      "execution_count": 34,
      "outputs": []
    },
    {
      "cell_type": "code",
      "source": [
        "NET_Data_check3.shape"
      ],
      "metadata": {
        "colab": {
          "base_uri": "https://localhost:8080/"
        },
        "id": "jNaOTbdiX47c",
        "outputId": "5960af61-3762-4ecc-8fee-fc64fbf4c990"
      },
      "execution_count": 35,
      "outputs": [
        {
          "output_type": "execute_result",
          "data": {
            "text/plain": [
              "(126, 11)"
            ]
          },
          "metadata": {},
          "execution_count": 35
        }
      ]
    },
    {
      "cell_type": "code",
      "source": [
        "pd.set_option('max_rows', 99999)\n",
        "pd.set_option('max_colwidth', 400)\n",
        "pd.describe_option('max_colwidth')"
      ],
      "metadata": {
        "id": "FgCioovpYHDT",
        "outputId": "9ecd9c95-8797-49aa-9e6d-d5d7e3c68677",
        "colab": {
          "base_uri": "https://localhost:8080/"
        }
      },
      "execution_count": 36,
      "outputs": [
        {
          "output_type": "stream",
          "name": "stdout",
          "text": [
            "display.max_colwidth : int or None\n",
            "    The maximum width in characters of a column in the repr of\n",
            "    a pandas data structure. When the column overflows, a \"...\"\n",
            "    placeholder is embedded in the output. A 'None' value means unlimited.\n",
            "    [default: 50] [currently: 400]\n"
          ]
        }
      ]
    },
    {
      "cell_type": "code",
      "source": [
        "NET_Data_check3"
      ],
      "metadata": {
        "id": "1ij3OPsgX6eb"
      },
      "execution_count": null,
      "outputs": []
    },
    {
      "cell_type": "code",
      "source": [
        "NET_Data_check3 = NET_Data_check3.drop(19)\n",
        "NET_Data_check3 = NET_Data_check3.drop(111)\n",
        "NET_Data_check3 = NET_Data_check3.drop(172)\n",
        "NET_Data_check3 = NET_Data_check3.drop(179)\n",
        "NET_Data_check3 = NET_Data_check3.drop(253)\n",
        "NET_Data_check3 = NET_Data_check3.drop(276)\n",
        "NET_Data_check3 = NET_Data_check3.drop(337)\n",
        "NET_Data_check3 = NET_Data_check3.drop(395)\n",
        "NET_Data_check3 = NET_Data_check3.drop(414)\n",
        "NET_Data_check3 = NET_Data_check3.drop(459)\n",
        "NET_Data_check3 = NET_Data_check3.drop(469)\n",
        "NET_Data_check3 = NET_Data_check3.drop(480)\n",
        "NET_Data_check3 = NET_Data_check3.drop(504)\n",
        "NET_Data_check3 = NET_Data_check3.drop(512)"
      ],
      "metadata": {
        "id": "5Qg722YOX7QS"
      },
      "execution_count": 38,
      "outputs": []
    },
    {
      "cell_type": "code",
      "source": [
        "NET_Data_check3.shape"
      ],
      "metadata": {
        "colab": {
          "base_uri": "https://localhost:8080/"
        },
        "id": "5MLIh3rO62F7",
        "outputId": "9d6b8c50-ba38-473c-90a6-d1fea60a2818"
      },
      "execution_count": 39,
      "outputs": [
        {
          "output_type": "execute_result",
          "data": {
            "text/plain": [
              "(112, 11)"
            ]
          },
          "metadata": {},
          "execution_count": 39
        }
      ]
    },
    {
      "cell_type": "code",
      "source": [
        "NET_Data_check4 = NET_Data_check2.loc[NET_Data_check2['label']==0]"
      ],
      "metadata": {
        "id": "C6RnzW5464jL"
      },
      "execution_count": 40,
      "outputs": []
    },
    {
      "cell_type": "code",
      "source": [
        "NET_Data_check4.shape"
      ],
      "metadata": {
        "colab": {
          "base_uri": "https://localhost:8080/"
        },
        "id": "eT25lDqe7KEM",
        "outputId": "cef8d0e8-66a1-49b8-c2a5-dcb85389ed96"
      },
      "execution_count": 42,
      "outputs": [
        {
          "output_type": "execute_result",
          "data": {
            "text/plain": [
              "(108, 11)"
            ]
          },
          "metadata": {},
          "execution_count": 42
        }
      ]
    },
    {
      "cell_type": "code",
      "source": [
        "NET_Data_check4"
      ],
      "metadata": {
        "id": "4lYoAOq17Gv8"
      },
      "execution_count": null,
      "outputs": []
    },
    {
      "cell_type": "code",
      "source": [
        "NET_Data_check4 =NET_Data_check4.dropna(subset=['organization_title_1'])"
      ],
      "metadata": {
        "id": "oN30oUzk7IGL"
      },
      "execution_count": 45,
      "outputs": []
    },
    {
      "cell_type": "code",
      "source": [
        "NET_Data_check4.shape"
      ],
      "metadata": {
        "colab": {
          "base_uri": "https://localhost:8080/"
        },
        "id": "vehYO-Sj8UmN",
        "outputId": "760cf800-fba6-4a59-abbf-0797ef7a5a69"
      },
      "execution_count": 46,
      "outputs": [
        {
          "output_type": "execute_result",
          "data": {
            "text/plain": [
              "(104, 11)"
            ]
          },
          "metadata": {},
          "execution_count": 46
        }
      ]
    },
    {
      "cell_type": "code",
      "source": [
        "NET_Data_check4"
      ],
      "metadata": {
        "id": "FXSX-wTE8Y7c"
      },
      "execution_count": null,
      "outputs": []
    },
    {
      "cell_type": "code",
      "source": [
        "NET_Data_check4 = NET_Data_check4.drop(128)\n",
        "NET_Data_check4 = NET_Data_check4.drop(129)\n",
        "NET_Data_check4 = NET_Data_check4.drop(141)\n",
        "NET_Data_check4 = NET_Data_check4.drop(181)\n",
        "NET_Data_check4 = NET_Data_check4.drop(192)\n",
        "NET_Data_check4 = NET_Data_check4.drop(214)\n",
        "NET_Data_check4 = NET_Data_check4.drop(235)\n",
        "NET_Data_check4 = NET_Data_check4.drop(249)\n",
        "NET_Data_check4 = NET_Data_check4.drop(268)\n",
        "NET_Data_check4 = NET_Data_check4.drop(288)\n",
        "NET_Data_check4 = NET_Data_check4.drop(334)\n",
        "NET_Data_check4 = NET_Data_check4.drop(336)\n",
        "NET_Data_check4 = NET_Data_check4.drop(344)\n",
        "NET_Data_check4 = NET_Data_check4.drop(376)\n",
        "NET_Data_check4 = NET_Data_check4.drop(382)\n",
        "NET_Data_check4 = NET_Data_check4.drop(396)\n",
        "NET_Data_check4 = NET_Data_check4.drop(445)\n",
        "NET_Data_check4 = NET_Data_check4.drop(478)\n",
        "NET_Data_check4 = NET_Data_check4.drop(482)\n",
        "NET_Data_check4 = NET_Data_check4.drop(483)\n",
        "NET_Data_check4 = NET_Data_check4.drop(484)\n",
        "NET_Data_check4 = NET_Data_check4.drop(493)\n",
        "NET_Data_check4 = NET_Data_check4.drop(502)\n",
        "NET_Data_check4 = NET_Data_check4.drop(513)\n",
        "NET_Data_check4 = NET_Data_check4.drop(516)"
      ],
      "metadata": {
        "id": "jQg2pgSU8dSV"
      },
      "execution_count": 49,
      "outputs": []
    },
    {
      "cell_type": "code",
      "source": [
        "NET_Data_check4.shape"
      ],
      "metadata": {
        "colab": {
          "base_uri": "https://localhost:8080/"
        },
        "id": "ZHMEvcvq_2kM",
        "outputId": "670b1d9f-eb63-4668-d9a9-304a297220cf"
      },
      "execution_count": 50,
      "outputs": [
        {
          "output_type": "execute_result",
          "data": {
            "text/plain": [
              "(79, 11)"
            ]
          },
          "metadata": {},
          "execution_count": 50
        }
      ]
    },
    {
      "cell_type": "code",
      "source": [
        "# concat two dataframes\n",
        "Data_NET_Pro = pd.concat([NET_Data_New,NET_Data_New2,NET_Data_check3,NET_Data_check4],ignore_index=True)"
      ],
      "metadata": {
        "id": "6xIfxOKe_4bz"
      },
      "execution_count": 51,
      "outputs": []
    },
    {
      "cell_type": "code",
      "source": [
        "Data_NET_Pro.shape"
      ],
      "metadata": {
        "colab": {
          "base_uri": "https://localhost:8080/"
        },
        "id": "4P8puY0BAl38",
        "outputId": "fa41368e-2080-4671-f9e8-d36d68076c7a"
      },
      "execution_count": 52,
      "outputs": [
        {
          "output_type": "execute_result",
          "data": {
            "text/plain": [
              "(478, 11)"
            ]
          },
          "metadata": {},
          "execution_count": 52
        }
      ]
    },
    {
      "cell_type": "code",
      "source": [
        "Data_NET_Pro.insert(10,'Target','Network Engineer')"
      ],
      "metadata": {
        "id": "dJF_zO29An38"
      },
      "execution_count": 53,
      "outputs": []
    },
    {
      "cell_type": "code",
      "source": [
        "Data_NET_Pro = Data_NET_Pro.drop(['organization_title_1','label'], axis=1)"
      ],
      "metadata": {
        "id": "ooxozmyuA1gM"
      },
      "execution_count": 54,
      "outputs": []
    },
    {
      "cell_type": "code",
      "source": [
        "Data_NET_Pro.shape"
      ],
      "metadata": {
        "colab": {
          "base_uri": "https://localhost:8080/"
        },
        "id": "LIW3VDnJA6bk",
        "outputId": "885429a1-8c1d-4202-92a7-5b4b27fb823f"
      },
      "execution_count": 55,
      "outputs": [
        {
          "output_type": "execute_result",
          "data": {
            "text/plain": [
              "(478, 10)"
            ]
          },
          "metadata": {},
          "execution_count": 55
        }
      ]
    },
    {
      "cell_type": "code",
      "source": [
        "Data_NET_Pro"
      ],
      "metadata": {
        "id": "IfyQr7HxBEoe"
      },
      "execution_count": null,
      "outputs": []
    },
    {
      "cell_type": "code",
      "source": [
        "Data_NET_Pro.to_csv(r'/content/drive/MyDrive/Research Dataset/processed_data/Added_Target/NET_Data_processed_WithTarget_Value.csv')"
      ],
      "metadata": {
        "id": "pGVIbSSrA7qj"
      },
      "execution_count": 57,
      "outputs": []
    },
    {
      "cell_type": "code",
      "source": [
        ""
      ],
      "metadata": {
        "id": "gF3y5WguBIDj"
      },
      "execution_count": null,
      "outputs": []
    }
  ]
}