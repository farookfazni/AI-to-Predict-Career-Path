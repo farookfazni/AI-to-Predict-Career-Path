{
  "nbformat": 4,
  "nbformat_minor": 0,
  "metadata": {
    "colab": {
      "name": "Merge.ipynb",
      "provenance": [],
      "mount_file_id": "17r7AJAiv1GdUX7NIDa18nbeArtV2nElJ",
      "authorship_tag": "ABX9TyNmetplwUKsgoxB1H+zXAzH",
      "include_colab_link": true
    },
    "kernelspec": {
      "name": "python3",
      "display_name": "Python 3"
    },
    "language_info": {
      "name": "python"
    }
  },
  "cells": [
    {
      "cell_type": "markdown",
      "metadata": {
        "id": "view-in-github",
        "colab_type": "text"
      },
      "source": [
        "<a href=\"https://colab.research.google.com/github/farookfazni/AI-to-Predict-Career-Path/blob/master/Merge.ipynb\" target=\"_parent\"><img src=\"https://colab.research.google.com/assets/colab-badge.svg\" alt=\"Open In Colab\"/></a>"
      ]
    },
    {
      "cell_type": "code",
      "execution_count": 1,
      "metadata": {
        "id": "5ajY7sSWtZak"
      },
      "outputs": [],
      "source": [
        "import pandas as pd"
      ]
    },
    {
      "cell_type": "code",
      "source": [
        "MOB = pd.read_csv('/content/drive/MyDrive/Research Dataset/processed_data/Added_Target/MOB_Data_processed_WithTarget_Value.csv')\n",
        "SE = pd.read_csv('/content/drive/MyDrive/Research Dataset/processed_data/Added_Target/SE_Data_processed_WithTarget_Value.csv')\n",
        "NET = pd.read_csv('/content/drive/MyDrive/Research Dataset/processed_data/Added_Target/NET_Data_processed_WithTarget_Value.csv')\n",
        "BA = pd.read_csv('/content/drive/MyDrive/Research Dataset/processed_data/Added_Target/BA_Data_processed_WithTarget_Value.csv')\n",
        "DEV = pd.read_csv('/content/drive/MyDrive/Research Dataset/processed_data/Added_Target/DEV_Data_processed_WithTarget_Value.csv')\n",
        "Cyber = pd.read_csv('/content/drive/MyDrive/Research Dataset/processed_data/Added_Target/Cyber_Data_processed_WithTarget_Value.csv')\n",
        "QA = pd.read_csv('/content/drive/MyDrive/Research Dataset/processed_data/Added_Target/QA_Data_processed_WithTarget_Value.csv')"
      ],
      "metadata": {
        "id": "R-wr3JJ8t4e0"
      },
      "execution_count": 5,
      "outputs": []
    },
    {
      "cell_type": "code",
      "source": [
        "SE"
      ],
      "metadata": {
        "id": "TaiJtmVYuOfr"
      },
      "execution_count": null,
      "outputs": []
    },
    {
      "cell_type": "code",
      "source": [
        "SE_QA_Data = pd.concat([SE,QA],ignore_index=True)"
      ],
      "metadata": {
        "id": "UUHsy-1qDcoM"
      },
      "execution_count": 7,
      "outputs": []
    },
    {
      "cell_type": "code",
      "source": [
        "SE_QA_Data"
      ],
      "metadata": {
        "id": "QVj32Gw8EqUF"
      },
      "execution_count": null,
      "outputs": []
    },
    {
      "cell_type": "code",
      "source": [
        "SE_QA_Data.shape"
      ],
      "metadata": {
        "colab": {
          "base_uri": "https://localhost:8080/"
        },
        "id": "Xz9ppX9BErxT",
        "outputId": "800d4df4-f92d-4f68-8c91-a25c93418992"
      },
      "execution_count": 9,
      "outputs": [
        {
          "output_type": "execute_result",
          "data": {
            "text/plain": [
              "(1079, 11)"
            ]
          },
          "metadata": {},
          "execution_count": 9
        }
      ]
    },
    {
      "cell_type": "code",
      "source": [
        "SE_QA_Data_w_o_dup = SE_QA_Data.drop_duplicates(subset='id', keep=\"last\")"
      ],
      "metadata": {
        "id": "LArt3uZsE27T"
      },
      "execution_count": 10,
      "outputs": []
    },
    {
      "cell_type": "code",
      "source": [
        "SE_QA_Data_w_o_dup.shape"
      ],
      "metadata": {
        "colab": {
          "base_uri": "https://localhost:8080/"
        },
        "id": "OLn5w2z2FBVr",
        "outputId": "78b35184-e184-44e3-f9dc-22a819cd3f13"
      },
      "execution_count": 11,
      "outputs": [
        {
          "output_type": "execute_result",
          "data": {
            "text/plain": [
              "(1079, 11)"
            ]
          },
          "metadata": {},
          "execution_count": 11
        }
      ]
    },
    {
      "cell_type": "code",
      "source": [
        "SE_QA__BA_Data = pd.concat([SE_QA_Data,BA],ignore_index=True)"
      ],
      "metadata": {
        "id": "69pUVEaQFDFr"
      },
      "execution_count": 12,
      "outputs": []
    },
    {
      "cell_type": "code",
      "source": [
        "SE_QA__BA_Data.shape"
      ],
      "metadata": {
        "colab": {
          "base_uri": "https://localhost:8080/"
        },
        "id": "8Fk65LJHFZED",
        "outputId": "bd68ee9b-8d98-4cac-dbd6-1f2fa6a115b0"
      },
      "execution_count": 14,
      "outputs": [
        {
          "output_type": "execute_result",
          "data": {
            "text/plain": [
              "(1569, 11)"
            ]
          },
          "metadata": {},
          "execution_count": 14
        }
      ]
    },
    {
      "cell_type": "code",
      "source": [
        "SEQA_BA_Data_w_o_dup = SE_QA__BA_Data.drop_duplicates(subset='id', keep=\"last\")"
      ],
      "metadata": {
        "id": "2qNub73_Fa9r"
      },
      "execution_count": 15,
      "outputs": []
    },
    {
      "cell_type": "code",
      "source": [
        "SEQA_BA_Data_w_o_dup.shape"
      ],
      "metadata": {
        "colab": {
          "base_uri": "https://localhost:8080/"
        },
        "id": "Y0V3wajLFpjT",
        "outputId": "948a8a9a-0d95-4894-89e1-dbe6859b2bd3"
      },
      "execution_count": 16,
      "outputs": [
        {
          "output_type": "execute_result",
          "data": {
            "text/plain": [
              "(1569, 11)"
            ]
          },
          "metadata": {},
          "execution_count": 16
        }
      ]
    },
    {
      "cell_type": "code",
      "source": [
        "Cyber_NET_Data = pd.concat([Cyber,NET],ignore_index=True)"
      ],
      "metadata": {
        "id": "sOF4mN29Fr4T"
      },
      "execution_count": 33,
      "outputs": []
    },
    {
      "cell_type": "code",
      "source": [
        "Cyber_NET_Data.shape"
      ],
      "metadata": {
        "colab": {
          "base_uri": "https://localhost:8080/"
        },
        "id": "T7rkoP5iGma7",
        "outputId": "6900771c-7921-4e55-c3e3-e064d24e2b24"
      },
      "execution_count": 50,
      "outputs": [
        {
          "output_type": "execute_result",
          "data": {
            "text/plain": [
              "(874, 11)"
            ]
          },
          "metadata": {},
          "execution_count": 50
        }
      ]
    },
    {
      "cell_type": "code",
      "source": [
        "duplicate = Cyber_NET_Data[Cyber_NET_Data.duplicated(['id'])]"
      ],
      "metadata": {
        "id": "GUJdVbzzJl-5"
      },
      "execution_count": 55,
      "outputs": []
    },
    {
      "cell_type": "code",
      "source": [
        "duplicate"
      ],
      "metadata": {
        "colab": {
          "base_uri": "https://localhost:8080/",
          "height": 468
        },
        "id": "0KCZHij6Jl8I",
        "outputId": "4890ecfc-ea82-4cd1-8480-2d34027ef795"
      },
      "execution_count": 56,
      "outputs": [
        {
          "output_type": "execute_result",
          "data": {
            "text/html": [
              "\n",
              "  <div id=\"df-ff3d39f5-cf76-4f45-81a0-e22483e355af\">\n",
              "    <div class=\"colab-df-container\">\n",
              "      <div>\n",
              "<style scoped>\n",
              "    .dataframe tbody tr th:only-of-type {\n",
              "        vertical-align: middle;\n",
              "    }\n",
              "\n",
              "    .dataframe tbody tr th {\n",
              "        vertical-align: top;\n",
              "    }\n",
              "\n",
              "    .dataframe thead th {\n",
              "        text-align: right;\n",
              "    }\n",
              "</style>\n",
              "<table border=\"1\" class=\"dataframe\">\n",
              "  <thead>\n",
              "    <tr style=\"text-align: right;\">\n",
              "      <th></th>\n",
              "      <th>Unnamed: 0</th>\n",
              "      <th>id</th>\n",
              "      <th>skills</th>\n",
              "      <th>edu_1</th>\n",
              "      <th>edu_2</th>\n",
              "      <th>edu_3</th>\n",
              "      <th>org_1</th>\n",
              "      <th>org_2</th>\n",
              "      <th>org_3</th>\n",
              "      <th>org_4</th>\n",
              "      <th>Target</th>\n",
              "    </tr>\n",
              "  </thead>\n",
              "  <tbody>\n",
              "    <tr>\n",
              "      <th>780</th>\n",
              "      <td>384</td>\n",
              "      <td>sampath-badullawage-8bb50aab</td>\n",
              "      <td>Information Technology Windows Team Leadership...</td>\n",
              "      <td>Master's degree Kingston University</td>\n",
              "      <td>Bachelor’s Degree Kingston University</td>\n",
              "      <td>Bachelor's degree Glyndŵr University</td>\n",
              "      <td>Network Security Engineer Sri Lanaka Airforce</td>\n",
              "      <td>IT Support Specialist WATA LTD</td>\n",
              "      <td>Network Administrator Access Engineering</td>\n",
              "      <td></td>\n",
              "      <td>Network Engineer</td>\n",
              "    </tr>\n",
              "    <tr>\n",
              "      <th>815</th>\n",
              "      <td>419</td>\n",
              "      <td>samanguruge</td>\n",
              "      <td>Leadership NET Framework C Public Speaking Tea...</td>\n",
              "      <td>Bachelor of Information Technology  University...</td>\n",
              "      <td>HND in Network Engineering  PIBT | Pioneer Ins...</td>\n",
              "      <td>Cisco Cetified Network Assistant  SLIIT</td>\n",
              "      <td>Senior Engineer MillenniumIT ESP</td>\n",
              "      <td>Solutions Developer JOHN KEELLS IT</td>\n",
              "      <td></td>\n",
              "      <td></td>\n",
              "      <td>Network Engineer</td>\n",
              "    </tr>\n",
              "    <tr>\n",
              "      <th>819</th>\n",
              "      <td>423</td>\n",
              "      <td>mohamed-rinaz-b541b7146</td>\n",
              "      <td>Leadership Time Management Microsoft Office Mi...</td>\n",
              "      <td>Bachelor's degree Solent University</td>\n",
              "      <td>WinSYS Neyworks City Campus</td>\n",
              "      <td>Bachelor of Technology - BTech Pearson College...</td>\n",
              "      <td>ASSOCIATE JUNIOR NETWORK ENGINEER Hayat Commun...</td>\n",
              "      <td>ASSOCIATE JUNIOR NETWORK ENGINEER BCAS Kandy C...</td>\n",
              "      <td></td>\n",
              "      <td></td>\n",
              "      <td>Network Engineer</td>\n",
              "    </tr>\n",
              "  </tbody>\n",
              "</table>\n",
              "</div>\n",
              "      <button class=\"colab-df-convert\" onclick=\"convertToInteractive('df-ff3d39f5-cf76-4f45-81a0-e22483e355af')\"\n",
              "              title=\"Convert this dataframe to an interactive table.\"\n",
              "              style=\"display:none;\">\n",
              "        \n",
              "  <svg xmlns=\"http://www.w3.org/2000/svg\" height=\"24px\"viewBox=\"0 0 24 24\"\n",
              "       width=\"24px\">\n",
              "    <path d=\"M0 0h24v24H0V0z\" fill=\"none\"/>\n",
              "    <path d=\"M18.56 5.44l.94 2.06.94-2.06 2.06-.94-2.06-.94-.94-2.06-.94 2.06-2.06.94zm-11 1L8.5 8.5l.94-2.06 2.06-.94-2.06-.94L8.5 2.5l-.94 2.06-2.06.94zm10 10l.94 2.06.94-2.06 2.06-.94-2.06-.94-.94-2.06-.94 2.06-2.06.94z\"/><path d=\"M17.41 7.96l-1.37-1.37c-.4-.4-.92-.59-1.43-.59-.52 0-1.04.2-1.43.59L10.3 9.45l-7.72 7.72c-.78.78-.78 2.05 0 2.83L4 21.41c.39.39.9.59 1.41.59.51 0 1.02-.2 1.41-.59l7.78-7.78 2.81-2.81c.8-.78.8-2.07 0-2.86zM5.41 20L4 18.59l7.72-7.72 1.47 1.35L5.41 20z\"/>\n",
              "  </svg>\n",
              "      </button>\n",
              "      \n",
              "  <style>\n",
              "    .colab-df-container {\n",
              "      display:flex;\n",
              "      flex-wrap:wrap;\n",
              "      gap: 12px;\n",
              "    }\n",
              "\n",
              "    .colab-df-convert {\n",
              "      background-color: #E8F0FE;\n",
              "      border: none;\n",
              "      border-radius: 50%;\n",
              "      cursor: pointer;\n",
              "      display: none;\n",
              "      fill: #1967D2;\n",
              "      height: 32px;\n",
              "      padding: 0 0 0 0;\n",
              "      width: 32px;\n",
              "    }\n",
              "\n",
              "    .colab-df-convert:hover {\n",
              "      background-color: #E2EBFA;\n",
              "      box-shadow: 0px 1px 2px rgba(60, 64, 67, 0.3), 0px 1px 3px 1px rgba(60, 64, 67, 0.15);\n",
              "      fill: #174EA6;\n",
              "    }\n",
              "\n",
              "    [theme=dark] .colab-df-convert {\n",
              "      background-color: #3B4455;\n",
              "      fill: #D2E3FC;\n",
              "    }\n",
              "\n",
              "    [theme=dark] .colab-df-convert:hover {\n",
              "      background-color: #434B5C;\n",
              "      box-shadow: 0px 1px 3px 1px rgba(0, 0, 0, 0.15);\n",
              "      filter: drop-shadow(0px 1px 2px rgba(0, 0, 0, 0.3));\n",
              "      fill: #FFFFFF;\n",
              "    }\n",
              "  </style>\n",
              "\n",
              "      <script>\n",
              "        const buttonEl =\n",
              "          document.querySelector('#df-ff3d39f5-cf76-4f45-81a0-e22483e355af button.colab-df-convert');\n",
              "        buttonEl.style.display =\n",
              "          google.colab.kernel.accessAllowed ? 'block' : 'none';\n",
              "\n",
              "        async function convertToInteractive(key) {\n",
              "          const element = document.querySelector('#df-ff3d39f5-cf76-4f45-81a0-e22483e355af');\n",
              "          const dataTable =\n",
              "            await google.colab.kernel.invokeFunction('convertToInteractive',\n",
              "                                                     [key], {});\n",
              "          if (!dataTable) return;\n",
              "\n",
              "          const docLinkHtml = 'Like what you see? Visit the ' +\n",
              "            '<a target=\"_blank\" href=https://colab.research.google.com/notebooks/data_table.ipynb>data table notebook</a>'\n",
              "            + ' to learn more about interactive tables.';\n",
              "          element.innerHTML = '';\n",
              "          dataTable['output_type'] = 'display_data';\n",
              "          await google.colab.output.renderOutput(dataTable, element);\n",
              "          const docLink = document.createElement('div');\n",
              "          docLink.innerHTML = docLinkHtml;\n",
              "          element.appendChild(docLink);\n",
              "        }\n",
              "      </script>\n",
              "    </div>\n",
              "  </div>\n",
              "  "
            ],
            "text/plain": [
              "     Unnamed: 0                            id  ... org_4            Target\n",
              "780         384  sampath-badullawage-8bb50aab  ...        Network Engineer\n",
              "815         419                   samanguruge  ...        Network Engineer\n",
              "819         423       mohamed-rinaz-b541b7146  ...        Network Engineer\n",
              "\n",
              "[3 rows x 11 columns]"
            ]
          },
          "metadata": {},
          "execution_count": 56
        }
      ]
    },
    {
      "cell_type": "code",
      "source": [
        "Cyber_NET_Data_w_o_dup = Cyber_NET_Data.drop_duplicates(subset='id', keep=\"last\")"
      ],
      "metadata": {
        "id": "OjEfloiRJl5_"
      },
      "execution_count": 57,
      "outputs": []
    },
    {
      "cell_type": "code",
      "source": [
        "Cyber_NET_Data_w_o_dup.shape"
      ],
      "metadata": {
        "colab": {
          "base_uri": "https://localhost:8080/"
        },
        "id": "yLYMH6gsJl3G",
        "outputId": "efcf77e0-68ee-4238-93a8-ac465cae285a"
      },
      "execution_count": 58,
      "outputs": [
        {
          "output_type": "execute_result",
          "data": {
            "text/plain": [
              "(871, 11)"
            ]
          },
          "metadata": {},
          "execution_count": 58
        }
      ]
    },
    {
      "cell_type": "code",
      "source": [
        "SE_QA_BA_Cyber_NET_Data = pd.concat([SE_QA__BA_Data,Cyber_NET_Data_w_o_dup],ignore_index=True)"
      ],
      "metadata": {
        "id": "buUkRonKJl0h"
      },
      "execution_count": 59,
      "outputs": []
    },
    {
      "cell_type": "code",
      "source": [
        "SE_QA_BA_Cyber_NET_Data.shape"
      ],
      "metadata": {
        "colab": {
          "base_uri": "https://localhost:8080/"
        },
        "id": "RTZSEiUKJlxF",
        "outputId": "0317522a-3a4e-4c91-dbe9-02f1f66dd7e3"
      },
      "execution_count": 60,
      "outputs": [
        {
          "output_type": "execute_result",
          "data": {
            "text/plain": [
              "(2440, 11)"
            ]
          },
          "metadata": {},
          "execution_count": 60
        }
      ]
    },
    {
      "cell_type": "code",
      "source": [
        "SE_QA_BA_Cyber_NET_Data_w_o_dup = SE_QA_BA_Cyber_NET_Data.drop_duplicates(subset='id', keep=\"last\")"
      ],
      "metadata": {
        "id": "UeRwJ3Z4JluT"
      },
      "execution_count": 61,
      "outputs": []
    },
    {
      "cell_type": "code",
      "source": [
        "SE_QA_BA_Cyber_NET_Data_w_o_dup.shape"
      ],
      "metadata": {
        "colab": {
          "base_uri": "https://localhost:8080/"
        },
        "id": "Tn9RzJVFHkrL",
        "outputId": "921e743a-e02b-4e85-a1f6-696b3bf9a963"
      },
      "execution_count": 62,
      "outputs": [
        {
          "output_type": "execute_result",
          "data": {
            "text/plain": [
              "(2440, 11)"
            ]
          },
          "metadata": {},
          "execution_count": 62
        }
      ]
    },
    {
      "cell_type": "code",
      "source": [
        "SE_QA_BA_Cyber_NET_MOB_Data = pd.concat([SE_QA_BA_Cyber_NET_Data,MOB],ignore_index=True)"
      ],
      "metadata": {
        "id": "NTODRHy9QHgW"
      },
      "execution_count": 63,
      "outputs": []
    },
    {
      "cell_type": "code",
      "source": [
        "SE_QA_BA_Cyber_NET_MOB_Data.shape"
      ],
      "metadata": {
        "colab": {
          "base_uri": "https://localhost:8080/"
        },
        "id": "yZlH_4C4QgpH",
        "outputId": "52357f54-7d38-4703-bf50-d6516d0356cf"
      },
      "execution_count": 64,
      "outputs": [
        {
          "output_type": "execute_result",
          "data": {
            "text/plain": [
              "(2830, 11)"
            ]
          },
          "metadata": {},
          "execution_count": 64
        }
      ]
    },
    {
      "cell_type": "code",
      "source": [
        "SE_QA_BA_Cyber_NET_MOB_Data_w_o_dup = SE_QA_BA_Cyber_NET_MOB_Data.drop_duplicates(subset='id', keep=\"last\")"
      ],
      "metadata": {
        "id": "1_D4w6RNQi0Z"
      },
      "execution_count": 65,
      "outputs": []
    },
    {
      "cell_type": "code",
      "source": [
        "SE_QA_BA_Cyber_NET_MOB_Data_w_o_dup.shape"
      ],
      "metadata": {
        "colab": {
          "base_uri": "https://localhost:8080/"
        },
        "id": "leVzrul_QrAm",
        "outputId": "539ffb42-4672-4cab-ea6c-d8d6ffc17c25"
      },
      "execution_count": 66,
      "outputs": [
        {
          "output_type": "execute_result",
          "data": {
            "text/plain": [
              "(2830, 11)"
            ]
          },
          "metadata": {},
          "execution_count": 66
        }
      ]
    },
    {
      "cell_type": "code",
      "source": [
        "SE_QA_BA_Cyber_NET_MOB_DEV_Data = pd.concat([SE_QA_BA_Cyber_NET_MOB_Data,DEV],ignore_index=True)"
      ],
      "metadata": {
        "id": "4m-4EFteQtNf"
      },
      "execution_count": 67,
      "outputs": []
    },
    {
      "cell_type": "code",
      "source": [
        "SE_QA_BA_Cyber_NET_MOB_DEV_Data.shape"
      ],
      "metadata": {
        "colab": {
          "base_uri": "https://localhost:8080/"
        },
        "id": "EUDLNylnQ7B2",
        "outputId": "6dff1299-f640-45a4-da71-1e617c07f465"
      },
      "execution_count": 68,
      "outputs": [
        {
          "output_type": "execute_result",
          "data": {
            "text/plain": [
              "(3300, 11)"
            ]
          },
          "metadata": {},
          "execution_count": 68
        }
      ]
    },
    {
      "cell_type": "code",
      "source": [
        "SE_QA_BA_Cyber_NET_MOB_DEV_Data_w_o_dup = SE_QA_BA_Cyber_NET_MOB_DEV_Data.drop_duplicates(subset='id', keep=\"last\")"
      ],
      "metadata": {
        "id": "90VgqLC5Q8sI"
      },
      "execution_count": 69,
      "outputs": []
    },
    {
      "cell_type": "code",
      "source": [
        "SE_QA_BA_Cyber_NET_MOB_DEV_Data_w_o_dup.shape"
      ],
      "metadata": {
        "colab": {
          "base_uri": "https://localhost:8080/"
        },
        "id": "9MuBiVdkRD3v",
        "outputId": "1f605cf0-7d69-4dec-dacc-6ef2369ee98f"
      },
      "execution_count": 70,
      "outputs": [
        {
          "output_type": "execute_result",
          "data": {
            "text/plain": [
              "(3297, 11)"
            ]
          },
          "metadata": {},
          "execution_count": 70
        }
      ]
    },
    {
      "cell_type": "code",
      "source": [
        "duplicate2 = SE_QA_BA_Cyber_NET_MOB_DEV_Data[SE_QA_BA_Cyber_NET_MOB_DEV_Data.duplicated(['id'])]"
      ],
      "metadata": {
        "id": "4mY8GMTTRGCv"
      },
      "execution_count": 71,
      "outputs": []
    },
    {
      "cell_type": "code",
      "source": [
        "duplicate2"
      ],
      "metadata": {
        "colab": {
          "base_uri": "https://localhost:8080/",
          "height": 430
        },
        "id": "lAce0NLORR2X",
        "outputId": "3fdff6a3-d892-4c8e-b640-f9da50b78f2a"
      },
      "execution_count": 72,
      "outputs": [
        {
          "output_type": "execute_result",
          "data": {
            "text/html": [
              "\n",
              "  <div id=\"df-bbdf46ab-018d-4fc6-88e4-05edf7542e17\">\n",
              "    <div class=\"colab-df-container\">\n",
              "      <div>\n",
              "<style scoped>\n",
              "    .dataframe tbody tr th:only-of-type {\n",
              "        vertical-align: middle;\n",
              "    }\n",
              "\n",
              "    .dataframe tbody tr th {\n",
              "        vertical-align: top;\n",
              "    }\n",
              "\n",
              "    .dataframe thead th {\n",
              "        text-align: right;\n",
              "    }\n",
              "</style>\n",
              "<table border=\"1\" class=\"dataframe\">\n",
              "  <thead>\n",
              "    <tr style=\"text-align: right;\">\n",
              "      <th></th>\n",
              "      <th>Unnamed: 0</th>\n",
              "      <th>id</th>\n",
              "      <th>skills</th>\n",
              "      <th>edu_1</th>\n",
              "      <th>edu_2</th>\n",
              "      <th>edu_3</th>\n",
              "      <th>org_1</th>\n",
              "      <th>org_2</th>\n",
              "      <th>org_3</th>\n",
              "      <th>org_4</th>\n",
              "      <th>Target</th>\n",
              "    </tr>\n",
              "  </thead>\n",
              "  <tbody>\n",
              "    <tr>\n",
              "      <th>3238</th>\n",
              "      <td>408</td>\n",
              "      <td>roshanthamalaka</td>\n",
              "      <td>Linux Cybersecurity C Microsoft Azure Amazon W...</td>\n",
              "      <td>Bachelor of Science special Honours Degree in ...</td>\n",
              "      <td>Master's degree University of Westminster</td>\n",
              "      <td></td>\n",
              "      <td>Senior Systems Engineer - DevOps WSO2</td>\n",
              "      <td>Associate Consultant-Operations JOHN KEELLS IT</td>\n",
              "      <td></td>\n",
              "      <td></td>\n",
              "      <td>DevOps</td>\n",
              "    </tr>\n",
              "    <tr>\n",
              "      <th>3260</th>\n",
              "      <td>430</td>\n",
              "      <td>dimosian-a-b98031165</td>\n",
              "      <td>Java Android Development HTML Microsoft Office...</td>\n",
              "      <td></td>\n",
              "      <td></td>\n",
              "      <td></td>\n",
              "      <td>Software Engineer Techorin Solutions (Pvt) Ltd</td>\n",
              "      <td>DevOps Engineer Foysonis</td>\n",
              "      <td>iOS Developer Techorin Solutions (Pvt) Ltd</td>\n",
              "      <td>Software Engineer Techorin Solutions (Pvt) Ltd</td>\n",
              "      <td>DevOps</td>\n",
              "    </tr>\n",
              "    <tr>\n",
              "      <th>3267</th>\n",
              "      <td>437</td>\n",
              "      <td>menuwan-rangana-943660176</td>\n",
              "      <td>Computer Science Java JavaScript PHP HTML Casc...</td>\n",
              "      <td>industrial information technology  Uva Wellass...</td>\n",
              "      <td></td>\n",
              "      <td></td>\n",
              "      <td>Software Engineer Acentura Inc</td>\n",
              "      <td>DevOps Engineer Dialog Axiata PLC</td>\n",
              "      <td>Software Engineer Auxenta Digital Labs Inc</td>\n",
              "      <td></td>\n",
              "      <td>DevOps</td>\n",
              "    </tr>\n",
              "  </tbody>\n",
              "</table>\n",
              "</div>\n",
              "      <button class=\"colab-df-convert\" onclick=\"convertToInteractive('df-bbdf46ab-018d-4fc6-88e4-05edf7542e17')\"\n",
              "              title=\"Convert this dataframe to an interactive table.\"\n",
              "              style=\"display:none;\">\n",
              "        \n",
              "  <svg xmlns=\"http://www.w3.org/2000/svg\" height=\"24px\"viewBox=\"0 0 24 24\"\n",
              "       width=\"24px\">\n",
              "    <path d=\"M0 0h24v24H0V0z\" fill=\"none\"/>\n",
              "    <path d=\"M18.56 5.44l.94 2.06.94-2.06 2.06-.94-2.06-.94-.94-2.06-.94 2.06-2.06.94zm-11 1L8.5 8.5l.94-2.06 2.06-.94-2.06-.94L8.5 2.5l-.94 2.06-2.06.94zm10 10l.94 2.06.94-2.06 2.06-.94-2.06-.94-.94-2.06-.94 2.06-2.06.94z\"/><path d=\"M17.41 7.96l-1.37-1.37c-.4-.4-.92-.59-1.43-.59-.52 0-1.04.2-1.43.59L10.3 9.45l-7.72 7.72c-.78.78-.78 2.05 0 2.83L4 21.41c.39.39.9.59 1.41.59.51 0 1.02-.2 1.41-.59l7.78-7.78 2.81-2.81c.8-.78.8-2.07 0-2.86zM5.41 20L4 18.59l7.72-7.72 1.47 1.35L5.41 20z\"/>\n",
              "  </svg>\n",
              "      </button>\n",
              "      \n",
              "  <style>\n",
              "    .colab-df-container {\n",
              "      display:flex;\n",
              "      flex-wrap:wrap;\n",
              "      gap: 12px;\n",
              "    }\n",
              "\n",
              "    .colab-df-convert {\n",
              "      background-color: #E8F0FE;\n",
              "      border: none;\n",
              "      border-radius: 50%;\n",
              "      cursor: pointer;\n",
              "      display: none;\n",
              "      fill: #1967D2;\n",
              "      height: 32px;\n",
              "      padding: 0 0 0 0;\n",
              "      width: 32px;\n",
              "    }\n",
              "\n",
              "    .colab-df-convert:hover {\n",
              "      background-color: #E2EBFA;\n",
              "      box-shadow: 0px 1px 2px rgba(60, 64, 67, 0.3), 0px 1px 3px 1px rgba(60, 64, 67, 0.15);\n",
              "      fill: #174EA6;\n",
              "    }\n",
              "\n",
              "    [theme=dark] .colab-df-convert {\n",
              "      background-color: #3B4455;\n",
              "      fill: #D2E3FC;\n",
              "    }\n",
              "\n",
              "    [theme=dark] .colab-df-convert:hover {\n",
              "      background-color: #434B5C;\n",
              "      box-shadow: 0px 1px 3px 1px rgba(0, 0, 0, 0.15);\n",
              "      filter: drop-shadow(0px 1px 2px rgba(0, 0, 0, 0.3));\n",
              "      fill: #FFFFFF;\n",
              "    }\n",
              "  </style>\n",
              "\n",
              "      <script>\n",
              "        const buttonEl =\n",
              "          document.querySelector('#df-bbdf46ab-018d-4fc6-88e4-05edf7542e17 button.colab-df-convert');\n",
              "        buttonEl.style.display =\n",
              "          google.colab.kernel.accessAllowed ? 'block' : 'none';\n",
              "\n",
              "        async function convertToInteractive(key) {\n",
              "          const element = document.querySelector('#df-bbdf46ab-018d-4fc6-88e4-05edf7542e17');\n",
              "          const dataTable =\n",
              "            await google.colab.kernel.invokeFunction('convertToInteractive',\n",
              "                                                     [key], {});\n",
              "          if (!dataTable) return;\n",
              "\n",
              "          const docLinkHtml = 'Like what you see? Visit the ' +\n",
              "            '<a target=\"_blank\" href=https://colab.research.google.com/notebooks/data_table.ipynb>data table notebook</a>'\n",
              "            + ' to learn more about interactive tables.';\n",
              "          element.innerHTML = '';\n",
              "          dataTable['output_type'] = 'display_data';\n",
              "          await google.colab.output.renderOutput(dataTable, element);\n",
              "          const docLink = document.createElement('div');\n",
              "          docLink.innerHTML = docLinkHtml;\n",
              "          element.appendChild(docLink);\n",
              "        }\n",
              "      </script>\n",
              "    </div>\n",
              "  </div>\n",
              "  "
            ],
            "text/plain": [
              "      Unnamed: 0  ...  Target\n",
              "3238         408  ...  DevOps\n",
              "3260         430  ...  DevOps\n",
              "3267         437  ...  DevOps\n",
              "\n",
              "[3 rows x 11 columns]"
            ]
          },
          "metadata": {},
          "execution_count": 72
        }
      ]
    },
    {
      "cell_type": "code",
      "source": [
        "SE_QA_BA_Cyber_NET_MOB_DEV_Data = SE_QA_BA_Cyber_NET_MOB_DEV_Data.drop(3260)\n",
        "SE_QA_BA_Cyber_NET_MOB_DEV_Data = SE_QA_BA_Cyber_NET_MOB_DEV_Data.drop(3267)"
      ],
      "metadata": {
        "id": "xb1lRzmzRS32"
      },
      "execution_count": 73,
      "outputs": []
    },
    {
      "cell_type": "code",
      "source": [
        "SE_QA_BA_Cyber_NET_MOB_DEV_Data.shape"
      ],
      "metadata": {
        "colab": {
          "base_uri": "https://localhost:8080/"
        },
        "id": "qBear5aXSBj4",
        "outputId": "319349b5-f083-4ee2-e4cf-80e9ebbb5cb9"
      },
      "execution_count": 74,
      "outputs": [
        {
          "output_type": "execute_result",
          "data": {
            "text/plain": [
              "(3298, 11)"
            ]
          },
          "metadata": {},
          "execution_count": 74
        }
      ]
    },
    {
      "cell_type": "code",
      "source": [
        "SE_QA_BA_Cyber_NET_MOB_DEV_Data_w_o_dup = SE_QA_BA_Cyber_NET_MOB_DEV_Data.drop_duplicates(subset='id', keep=\"last\")"
      ],
      "metadata": {
        "id": "OfpTHwE3R92_"
      },
      "execution_count": 75,
      "outputs": []
    },
    {
      "cell_type": "code",
      "source": [
        "SE_QA_BA_Cyber_NET_MOB_DEV_Data_w_o_dup.shape"
      ],
      "metadata": {
        "colab": {
          "base_uri": "https://localhost:8080/"
        },
        "id": "G-lsX5jzSIBW",
        "outputId": "4bd7905c-7e75-4b6b-ff5c-4796d121c908"
      },
      "execution_count": 76,
      "outputs": [
        {
          "output_type": "execute_result",
          "data": {
            "text/plain": [
              "(3297, 11)"
            ]
          },
          "metadata": {},
          "execution_count": 76
        }
      ]
    },
    {
      "cell_type": "code",
      "source": [
        "SE_QA_BA_Cyber_NET_MOB_DEV_Data_w_o_dup.to_csv(r'/content/drive/MyDrive/Research Dataset/processed_data/Added_Target/Merged_SE_QA_BA_Cyber_NET_MOB_DEV_3297.csv')"
      ],
      "metadata": {
        "id": "H78RQR89SJ3m"
      },
      "execution_count": 77,
      "outputs": []
    },
    {
      "cell_type": "code",
      "source": [
        ""
      ],
      "metadata": {
        "id": "jvDS9bwGSv6L"
      },
      "execution_count": null,
      "outputs": []
    }
  ]
}