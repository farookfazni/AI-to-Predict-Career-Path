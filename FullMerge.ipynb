{
  "nbformat": 4,
  "nbformat_minor": 0,
  "metadata": {
    "colab": {
      "name": "FullMerge.ipynb",
      "provenance": [],
      "mount_file_id": "1J16-Ot4dluQSFNUM0XPca4eWsN_PQT4W",
      "authorship_tag": "ABX9TyNMVLHAaa0uSDQoKAWPF8TH",
      "include_colab_link": true
    },
    "kernelspec": {
      "name": "python3",
      "display_name": "Python 3"
    },
    "language_info": {
      "name": "python"
    }
  },
  "cells": [
    {
      "cell_type": "markdown",
      "metadata": {
        "id": "view-in-github",
        "colab_type": "text"
      },
      "source": [
        "<a href=\"https://colab.research.google.com/github/farookfazni/AI-to-Predict-Career-Path/blob/master/FullMerge.ipynb\" target=\"_parent\"><img src=\"https://colab.research.google.com/assets/colab-badge.svg\" alt=\"Open In Colab\"/></a>"
      ]
    },
    {
      "cell_type": "code",
      "execution_count": 1,
      "metadata": {
        "id": "uAH_9-7Zm_RD"
      },
      "outputs": [],
      "source": [
        "import pandas as pd"
      ]
    },
    {
      "cell_type": "code",
      "source": [
        "SE = pd.read_csv('/content/drive/MyDrive/Research Dataset/processed_data/Added_Target/DataSci_ML_DataEng/Software_full.csv')\n",
        "QA = pd.read_csv('/content/drive/MyDrive/Research Dataset/processed_data/Added_Target/DataSci_ML_DataEng/QA_full.csv')\n",
        "NET = pd.read_csv('/content/drive/MyDrive/Research Dataset/processed_data/Added_Target/DataSci_ML_DataEng/NET_full.csv')"
      ],
      "metadata": {
        "id": "_vN2f9XbnhXR"
      },
      "execution_count": 2,
      "outputs": []
    },
    {
      "cell_type": "code",
      "source": [
        "SE.shape"
      ],
      "metadata": {
        "colab": {
          "base_uri": "https://localhost:8080/"
        },
        "id": "5P0QOcOzn_7C",
        "outputId": "f47ba330-47cd-466b-d145-7940f5ed96eb"
      },
      "execution_count": 3,
      "outputs": [
        {
          "output_type": "execute_result",
          "data": {
            "text/plain": [
              "(97, 12)"
            ]
          },
          "metadata": {},
          "execution_count": 3
        }
      ]
    },
    {
      "cell_type": "code",
      "source": [
        "SE = SE.drop(['Unnamed: 0'], axis=1)\n",
        "QA = QA.drop(['Unnamed: 0'], axis=1)\n",
        "NET = NET.drop(['Unnamed: 0'], axis=1)"
      ],
      "metadata": {
        "id": "XMy3VB-goDnf"
      },
      "execution_count": 5,
      "outputs": []
    },
    {
      "cell_type": "code",
      "source": [
        "SE.shape"
      ],
      "metadata": {
        "colab": {
          "base_uri": "https://localhost:8080/"
        },
        "id": "g1LGENymoKLH",
        "outputId": "f77d1450-6c27-4ab7-fd47-b7d8fac54cfb"
      },
      "execution_count": 6,
      "outputs": [
        {
          "output_type": "execute_result",
          "data": {
            "text/plain": [
              "(97, 11)"
            ]
          },
          "metadata": {},
          "execution_count": 6
        }
      ]
    },
    {
      "cell_type": "code",
      "source": [
        "SE.insert(10,'Target','Software Engineer')\n",
        "QA.insert(10,'Target','Quality Assurance')\n",
        "NET.insert(10,'Target','Network Engineer')"
      ],
      "metadata": {
        "id": "TPbiR-G_ojAf"
      },
      "execution_count": 7,
      "outputs": []
    },
    {
      "cell_type": "code",
      "source": [
        "SE.shape"
      ],
      "metadata": {
        "colab": {
          "base_uri": "https://localhost:8080/"
        },
        "id": "3JC9dvNmpAzJ",
        "outputId": "7390fb9d-2569-46b4-b003-275722b687c2"
      },
      "execution_count": 8,
      "outputs": [
        {
          "output_type": "execute_result",
          "data": {
            "text/plain": [
              "(97, 12)"
            ]
          },
          "metadata": {},
          "execution_count": 8
        }
      ]
    },
    {
      "cell_type": "code",
      "source": [
        "SE = SE.drop(['organization_title_1','label'], axis=1)\n",
        "QA = QA.drop(['organization_title_1','label'], axis=1)\n",
        "NET = NET.drop(['organization_title_1','label'], axis=1)"
      ],
      "metadata": {
        "id": "eSwEGvqupCj2"
      },
      "execution_count": 9,
      "outputs": []
    },
    {
      "cell_type": "code",
      "source": [
        "SE.shape"
      ],
      "metadata": {
        "colab": {
          "base_uri": "https://localhost:8080/"
        },
        "id": "75o5e0_fpNO3",
        "outputId": "9b7ad8ac-1ff2-4190-9d88-9d23b473d5f8"
      },
      "execution_count": 10,
      "outputs": [
        {
          "output_type": "execute_result",
          "data": {
            "text/plain": [
              "(97, 10)"
            ]
          },
          "metadata": {},
          "execution_count": 10
        }
      ]
    },
    {
      "cell_type": "code",
      "source": [
        "SE_QA_NET = pd.concat([NET,QA,SE],ignore_index=True)"
      ],
      "metadata": {
        "id": "4gdV6jWKpPPv"
      },
      "execution_count": 11,
      "outputs": []
    },
    {
      "cell_type": "code",
      "source": [
        "SE_QA_NET.shape"
      ],
      "metadata": {
        "colab": {
          "base_uri": "https://localhost:8080/"
        },
        "id": "ggTMQDCkprKB",
        "outputId": "2d433281-df3a-405b-98cb-f52b008552d3"
      },
      "execution_count": 12,
      "outputs": [
        {
          "output_type": "execute_result",
          "data": {
            "text/plain": [
              "(118, 10)"
            ]
          },
          "metadata": {},
          "execution_count": 12
        }
      ]
    },
    {
      "cell_type": "code",
      "source": [
        "SE_QA_NET_wo_dup = SE_QA_NET.drop_duplicates(subset='id', keep=\"first\")"
      ],
      "metadata": {
        "id": "1TJZkSXRpsz2"
      },
      "execution_count": 13,
      "outputs": []
    },
    {
      "cell_type": "code",
      "source": [
        "SE_QA_NET_wo_dup.shape"
      ],
      "metadata": {
        "colab": {
          "base_uri": "https://localhost:8080/"
        },
        "id": "sm4gNIDVp1x_",
        "outputId": "8c891f9f-c779-4db9-9d49-651ce6198971"
      },
      "execution_count": 14,
      "outputs": [
        {
          "output_type": "execute_result",
          "data": {
            "text/plain": [
              "(117, 10)"
            ]
          },
          "metadata": {},
          "execution_count": 14
        }
      ]
    },
    {
      "cell_type": "code",
      "source": [
        "MErged = pd.read_csv('/content/drive/MyDrive/Research Dataset/processed_data/Added_Target/Merged_SE_QA_BA_Cyber_NET_MOB_DEV_3297.csv')"
      ],
      "metadata": {
        "id": "0IFjY2Dkp3fO"
      },
      "execution_count": 16,
      "outputs": []
    },
    {
      "cell_type": "code",
      "source": [
        "MErged.shape"
      ],
      "metadata": {
        "colab": {
          "base_uri": "https://localhost:8080/"
        },
        "id": "CAHkCFnLqqTp",
        "outputId": "1d0b85e1-7a57-4b36-d181-5e5426401231"
      },
      "execution_count": 17,
      "outputs": [
        {
          "output_type": "execute_result",
          "data": {
            "text/plain": [
              "(3297, 12)"
            ]
          },
          "metadata": {},
          "execution_count": 17
        }
      ]
    },
    {
      "cell_type": "code",
      "source": [
        "Merged1 = pd.concat([MErged,SE_QA_NET_wo_dup],ignore_index=True)"
      ],
      "metadata": {
        "id": "F6n_nm7AqvR_"
      },
      "execution_count": 18,
      "outputs": []
    },
    {
      "cell_type": "code",
      "source": [
        "Merged1.shape"
      ],
      "metadata": {
        "colab": {
          "base_uri": "https://localhost:8080/"
        },
        "id": "fxCgKe8-q8NB",
        "outputId": "fbf829a2-4bbf-4993-9e35-bfed1b15eb1c"
      },
      "execution_count": 19,
      "outputs": [
        {
          "output_type": "execute_result",
          "data": {
            "text/plain": [
              "(3414, 12)"
            ]
          },
          "metadata": {},
          "execution_count": 19
        }
      ]
    },
    {
      "cell_type": "code",
      "source": [
        "Merged1_wo_dup = Merged1.drop_duplicates(subset='id', keep=\"first\")"
      ],
      "metadata": {
        "id": "WesUzn8Bq-Jp"
      },
      "execution_count": 20,
      "outputs": []
    },
    {
      "cell_type": "code",
      "source": [
        "Merged1_wo_dup.shape"
      ],
      "metadata": {
        "colab": {
          "base_uri": "https://localhost:8080/"
        },
        "id": "VlYx4rpErFYm",
        "outputId": "976fb40d-a2a9-4e52-b157-b9d7bda6a6aa"
      },
      "execution_count": 21,
      "outputs": [
        {
          "output_type": "execute_result",
          "data": {
            "text/plain": [
              "(3400, 12)"
            ]
          },
          "metadata": {},
          "execution_count": 21
        }
      ]
    },
    {
      "cell_type": "code",
      "source": [
        "Merged1_wo_dup"
      ],
      "metadata": {
        "id": "19tComKPrU6O"
      },
      "execution_count": null,
      "outputs": []
    },
    {
      "cell_type": "code",
      "source": [
        "Merged1_wo_dup = Merged1_wo_dup.drop(['Unnamed: 0','Unnamed: 0.1'], axis=1)"
      ],
      "metadata": {
        "id": "dpM13PR3rJNe"
      },
      "execution_count": 24,
      "outputs": []
    },
    {
      "cell_type": "code",
      "source": [
        "Merged1_wo_dup.shape"
      ],
      "metadata": {
        "colab": {
          "base_uri": "https://localhost:8080/"
        },
        "id": "vRjwjkEBrM4d",
        "outputId": "93358f58-bcc1-4304-a244-d4fee832ec64"
      },
      "execution_count": 25,
      "outputs": [
        {
          "output_type": "execute_result",
          "data": {
            "text/plain": [
              "(3400, 10)"
            ]
          },
          "metadata": {},
          "execution_count": 25
        }
      ]
    },
    {
      "cell_type": "code",
      "source": [
        "MErged2 = pd.read_csv('/content/drive/MyDrive/Research Dataset/processed_data/Added_Target/DEng_DSci_ML_processed_WithTarget_Value.csv')"
      ],
      "metadata": {
        "id": "8UfC2Qnlrd2W"
      },
      "execution_count": 26,
      "outputs": []
    },
    {
      "cell_type": "code",
      "source": [
        "MErged2.shape"
      ],
      "metadata": {
        "colab": {
          "base_uri": "https://localhost:8080/"
        },
        "id": "6YUjC_fqrvZ5",
        "outputId": "671e609e-1101-498b-bb94-68242707c191"
      },
      "execution_count": 27,
      "outputs": [
        {
          "output_type": "execute_result",
          "data": {
            "text/plain": [
              "(1178, 11)"
            ]
          },
          "metadata": {},
          "execution_count": 27
        }
      ]
    },
    {
      "cell_type": "code",
      "source": [
        "MErged2 = MErged2.drop(['Unnamed: 0'], axis=1)"
      ],
      "metadata": {
        "id": "Oo-6BFQErxXG"
      },
      "execution_count": 28,
      "outputs": []
    },
    {
      "cell_type": "code",
      "source": [
        "MErged2.shape"
      ],
      "metadata": {
        "colab": {
          "base_uri": "https://localhost:8080/"
        },
        "id": "vcv-cI6Zr2wm",
        "outputId": "ea4a302a-e4a7-41a7-9f25-302b10fdc981"
      },
      "execution_count": 29,
      "outputs": [
        {
          "output_type": "execute_result",
          "data": {
            "text/plain": [
              "(1178, 10)"
            ]
          },
          "metadata": {},
          "execution_count": 29
        }
      ]
    },
    {
      "cell_type": "code",
      "source": [
        "Full_Merged = pd.concat([Merged1_wo_dup,MErged2],ignore_index=True)"
      ],
      "metadata": {
        "id": "2Y5BMPQIr4Zm"
      },
      "execution_count": 30,
      "outputs": []
    },
    {
      "cell_type": "code",
      "source": [
        "Full_Merged.shape"
      ],
      "metadata": {
        "colab": {
          "base_uri": "https://localhost:8080/"
        },
        "id": "L98K1WXCsESv",
        "outputId": "0725c093-25ad-48c3-a623-f01228bf5b2f"
      },
      "execution_count": 31,
      "outputs": [
        {
          "output_type": "execute_result",
          "data": {
            "text/plain": [
              "(4578, 10)"
            ]
          },
          "metadata": {},
          "execution_count": 31
        }
      ]
    },
    {
      "cell_type": "code",
      "source": [
        "Full_Merged_wo_dup = Full_Merged.drop_duplicates(subset='id', keep=\"first\")"
      ],
      "metadata": {
        "id": "0QJIFbJEsGde"
      },
      "execution_count": 32,
      "outputs": []
    },
    {
      "cell_type": "code",
      "source": [
        "Full_Merged_wo_dup.shape"
      ],
      "metadata": {
        "colab": {
          "base_uri": "https://localhost:8080/"
        },
        "id": "VDqeV3bSsOHm",
        "outputId": "32bfaf60-3c72-46e8-c7b9-84dec324c0ff"
      },
      "execution_count": 33,
      "outputs": [
        {
          "output_type": "execute_result",
          "data": {
            "text/plain": [
              "(4576, 10)"
            ]
          },
          "metadata": {},
          "execution_count": 33
        }
      ]
    },
    {
      "cell_type": "code",
      "source": [
        "Full_Merged_wo_dup.to_csv(r'/content/drive/MyDrive/Research Dataset/processed_data/Added_Target/FullyMerged.csv')"
      ],
      "metadata": {
        "id": "G1eTs1CesPqu"
      },
      "execution_count": 34,
      "outputs": []
    },
    {
      "cell_type": "code",
      "source": [
        ""
      ],
      "metadata": {
        "id": "f_tpjJ02skOT"
      },
      "execution_count": null,
      "outputs": []
    }
  ]
}