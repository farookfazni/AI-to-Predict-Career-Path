{
  "nbformat": 4,
  "nbformat_minor": 0,
  "metadata": {
    "colab": {
      "name": "SE_and_QA_Dataset.ipynb",
      "provenance": [],
      "collapsed_sections": [],
      "mount_file_id": "172BBsm2z7HhNbOON0m-f_RChUiZKTnFe",
      "authorship_tag": "ABX9TyPlVrP2rpHQhjXTJTxoJ8sx",
      "include_colab_link": true
    },
    "kernelspec": {
      "name": "python3",
      "display_name": "Python 3"
    },
    "language_info": {
      "name": "python"
    }
  },
  "cells": [
    {
      "cell_type": "markdown",
      "metadata": {
        "id": "view-in-github",
        "colab_type": "text"
      },
      "source": [
        "<a href=\"https://colab.research.google.com/github/farookfazni/AI-to-Predict-Career-Path/blob/master/SE_and_QA_Dataset.ipynb\" target=\"_parent\"><img src=\"https://colab.research.google.com/assets/colab-badge.svg\" alt=\"Open In Colab\"/></a>"
      ]
    },
    {
      "cell_type": "code",
      "execution_count": 1,
      "metadata": {
        "id": "YkUKr9cBwThe"
      },
      "outputs": [],
      "source": [
        "import pandas as pd"
      ]
    },
    {
      "cell_type": "code",
      "source": [
        "QA = pd.read_csv('/content/drive/MyDrive/Research Dataset/processed_data/Cleaned_Data_Step1/QA_processed1.csv')\n",
        "SE = pd.read_csv('/content/drive/MyDrive/Research Dataset/processed_data/Cleaned_Data_Step1/SE_processed1.csv')"
      ],
      "metadata": {
        "id": "QeLlSxEbwlAb"
      },
      "execution_count": 2,
      "outputs": []
    },
    {
      "cell_type": "code",
      "source": [
        "QA_title = pd.read_csv('/content/drive/MyDrive/Research Dataset/processed_data/Fully_Extracted_Data/QA_processed1.csv')\n",
        "SE_title = pd.read_csv('/content/drive/MyDrive/Research Dataset/processed_data/Fully_Extracted_Data/SE_processed1.csv')"
      ],
      "metadata": {
        "id": "SgYcy9Sn2tBB"
      },
      "execution_count": 3,
      "outputs": []
    },
    {
      "cell_type": "code",
      "source": [
        "SE_title['organization_title_1']"
      ],
      "metadata": {
        "colab": {
          "base_uri": "https://localhost:8080/"
        },
        "id": "TuvmOhZx26i6",
        "outputId": "c7db327d-9e28-463f-fc2b-862c6c9abf60"
      },
      "execution_count": 4,
      "outputs": [
        {
          "output_type": "execute_result",
          "data": {
            "text/plain": [
              "0                Software Engineer\n",
              "1                Software Engineer\n",
              "2                Software Engineer\n",
              "3                Software Engineer\n",
              "4                Software Engineer\n",
              "                  ...             \n",
              "579                Student Member \n",
              "580    Associate Software Engineer\n",
              "581              Software Engineer\n",
              "582       Senior Software Engineer\n",
              "583              Software Engineer\n",
              "Name: organization_title_1, Length: 584, dtype: object"
            ]
          },
          "metadata": {},
          "execution_count": 4
        }
      ]
    },
    {
      "cell_type": "code",
      "source": [
        "SE_Data = pd.concat([SE,SE_title['organization_title_1']], axis=1)\n",
        "QA_Data = pd.concat([QA,QA_title['organization_title_1']], axis=1)"
      ],
      "metadata": {
        "id": "hnkujqAD3Dug"
      },
      "execution_count": 5,
      "outputs": []
    },
    {
      "cell_type": "code",
      "source": [
        "# Drop column\n",
        "QA_Data = QA_Data.drop(['Unnamed: 0','Unnamed: 0.1'], axis=1)\n",
        "SE_Data = SE_Data.drop(['Unnamed: 0','Unnamed: 0.1'], axis=1)"
      ],
      "metadata": {
        "id": "Lmc_IwjM-ZOp"
      },
      "execution_count": 6,
      "outputs": []
    },
    {
      "cell_type": "code",
      "source": [
        "def check_Avalaiblity(datset,x=\"Software Engineer\"):\n",
        "  countpos = 0\n",
        "  countneg = 0\n",
        "  other_labels = []\n",
        "  label = []\n",
        "  # goimg through the datset\n",
        "  for i in datset['organization_title_1']:\n",
        "    # making sure all values are string\n",
        "    st = str(i)\n",
        "    # cheking the sub string exisits in string\n",
        "    if x in st:\n",
        "      # if sting is available adding 1 to label\n",
        "      label.append(1)\n",
        "      # Keep count\n",
        "      countpos += 1\n",
        "    else:\n",
        "      # if sting is not available adding 0 to label\n",
        "      label.append(0)\n",
        "      # adding the values of other string values to the other_label\n",
        "      other_labels.append(st)\n",
        "      countneg += 1\n",
        "  return label, other_labels, countpos, countneg"
      ],
      "metadata": {
        "id": "rw86kodh_Irw"
      },
      "execution_count": 31,
      "outputs": []
    },
    {
      "cell_type": "code",
      "source": [
        "label, other_labels, countpos, countneg = check_Avalaiblity(SE_Data,\"Software Engineer\")"
      ],
      "metadata": {
        "id": "PIOyDvBB1qRW"
      },
      "execution_count": 32,
      "outputs": []
    },
    {
      "cell_type": "code",
      "source": [
        "countneg"
      ],
      "metadata": {
        "colab": {
          "base_uri": "https://localhost:8080/"
        },
        "id": "unu1TbF92SaF",
        "outputId": "5a878eef-3c25-497e-d95c-ad7b35b6d824"
      },
      "execution_count": 33,
      "outputs": [
        {
          "output_type": "execute_result",
          "data": {
            "text/plain": [
              "24"
            ]
          },
          "metadata": {},
          "execution_count": 33
        }
      ]
    },
    {
      "cell_type": "code",
      "source": [
        "SE_Data['label'] = label"
      ],
      "metadata": {
        "id": "IWMpKz962iRl"
      },
      "execution_count": 34,
      "outputs": []
    },
    {
      "cell_type": "code",
      "source": [
        "SE_Data_New = SE_Data.loc[SE_Data['label']==0]"
      ],
      "metadata": {
        "id": "IqIqDYEV2qMl"
      },
      "execution_count": 35,
      "outputs": []
    },
    {
      "cell_type": "code",
      "source": [
        "SE_Data_New"
      ],
      "metadata": {
        "colab": {
          "base_uri": "https://localhost:8080/",
          "height": 1000
        },
        "id": "IO7uIQTt2uEs",
        "outputId": "42d848d4-bd6c-4fef-cdad-c438005d8db8"
      },
      "execution_count": 36,
      "outputs": [
        {
          "output_type": "execute_result",
          "data": {
            "text/html": [
              "\n",
              "  <div id=\"df-4be6127b-be04-4bf1-aeec-15c8a351e131\">\n",
              "    <div class=\"colab-df-container\">\n",
              "      <div>\n",
              "<style scoped>\n",
              "    .dataframe tbody tr th:only-of-type {\n",
              "        vertical-align: middle;\n",
              "    }\n",
              "\n",
              "    .dataframe tbody tr th {\n",
              "        vertical-align: top;\n",
              "    }\n",
              "\n",
              "    .dataframe thead th {\n",
              "        text-align: right;\n",
              "    }\n",
              "</style>\n",
              "<table border=\"1\" class=\"dataframe\">\n",
              "  <thead>\n",
              "    <tr style=\"text-align: right;\">\n",
              "      <th></th>\n",
              "      <th>id</th>\n",
              "      <th>skills</th>\n",
              "      <th>edu_1</th>\n",
              "      <th>edu_2</th>\n",
              "      <th>edu_3</th>\n",
              "      <th>org_1</th>\n",
              "      <th>org_2</th>\n",
              "      <th>org_3</th>\n",
              "      <th>org_4</th>\n",
              "      <th>organization_title_1</th>\n",
              "      <th>label</th>\n",
              "    </tr>\n",
              "  </thead>\n",
              "  <tbody>\n",
              "    <tr>\n",
              "      <th>17</th>\n",
              "      <td>ashamad</td>\n",
              "      <td>Java JavaScript C Cascading Style Sheets CSS H...</td>\n",
              "      <td>Master of Business Administration - MBA Univer...</td>\n",
              "      <td>Bachelor of Science(Hons) University of Colomb...</td>\n",
              "      <td>G/ Dharmasoka college</td>\n",
              "      <td>Head Of Operations WiXis 360</td>\n",
              "      <td>Senior Software Engineer Intellidocs</td>\n",
              "      <td>Co-Founder w3tute.com</td>\n",
              "      <td>Member IEEE</td>\n",
              "      <td>Head Of Operations</td>\n",
              "      <td>0</td>\n",
              "    </tr>\n",
              "    <tr>\n",
              "      <th>20</th>\n",
              "      <td>ashant</td>\n",
              "      <td>Java JavaScript Cascading Style Sheets CSS HTM...</td>\n",
              "      <td>MBCS BCS, The Chartered Institute for IT</td>\n",
              "      <td>Graduate Diploma Institute of Java &amp; Software ...</td>\n",
              "      <td></td>\n",
              "      <td>Deputy Team Lead Dialog Axiata PLC</td>\n",
              "      <td>Senior Software Engineer Dialog Axiata PLC</td>\n",
              "      <td>Software Engineer Dialog Axiata PLC</td>\n",
              "      <td>Associate Software Engineer DataActs</td>\n",
              "      <td>Deputy Team Lead</td>\n",
              "      <td>0</td>\n",
              "    </tr>\n",
              "    <tr>\n",
              "      <th>25</th>\n",
              "      <td>chaithika-abeywickrame-a03332105</td>\n",
              "      <td>Java JavaScript Android Development PHP HTML C...</td>\n",
              "      <td>BSc in Software Engineering Curtin University</td>\n",
              "      <td>Higher National Diploma in Information Technol...</td>\n",
              "      <td>Advance level Demazenod college</td>\n",
              "      <td>Senior Associate Acuity Knowledge Partners</td>\n",
              "      <td>Software Engineer - (Frontend) ISM APAC</td>\n",
              "      <td>Software Engineer - (Frontend) Sana Commerce</td>\n",
              "      <td>Junior Software Engineer - (Front End) ISM APAC</td>\n",
              "      <td>Senior Associate</td>\n",
              "      <td>0</td>\n",
              "    </tr>\n",
              "    <tr>\n",
              "      <th>26</th>\n",
              "      <td>kavinda-nirushana-956438164</td>\n",
              "      <td>Leadership Microsoft Office Web Development Pr...</td>\n",
              "      <td>Software engineering University of Plymouth</td>\n",
              "      <td>Sri Lankan School Muscat</td>\n",
              "      <td></td>\n",
              "      <td>Student none</td>\n",
              "      <td></td>\n",
              "      <td></td>\n",
              "      <td></td>\n",
              "      <td>Student</td>\n",
              "      <td>0</td>\n",
              "    </tr>\n",
              "    <tr>\n",
              "      <th>33</th>\n",
              "      <td>chathura-samarajeewa</td>\n",
              "      <td>Java JavaScript Android Development Cascading ...</td>\n",
              "      <td>Zero To Mastery Academy</td>\n",
              "      <td>Cisco Networking Academy</td>\n",
              "      <td>Industrial Master</td>\n",
              "      <td>Tutor Open University of Sri Lanka</td>\n",
              "      <td>Software Engineer HCL Technologies</td>\n",
              "      <td>Temporary Demonstrator Vavuniya Campus of the ...</td>\n",
              "      <td></td>\n",
              "      <td>Tutor</td>\n",
              "      <td>0</td>\n",
              "    </tr>\n",
              "    <tr>\n",
              "      <th>73</th>\n",
              "      <td>sarmitha-krishnagobal-570407172</td>\n",
              "      <td>PHP HTML Data Analysis Machine Learning Mobile...</td>\n",
              "      <td>Bsc (computer science and technology) Uva Well...</td>\n",
              "      <td>J/Vadamaradchy Central Ladies College</td>\n",
              "      <td>J/Nelliady Methodist Mission Tamil Mixed School</td>\n",
              "      <td>Frontend Developer X-Venture Global Solutions ...</td>\n",
              "      <td>Software Engineer Digiratina</td>\n",
              "      <td>Associate Software Engineer Digiratina</td>\n",
              "      <td>Software Engineer Intern Digiratina</td>\n",
              "      <td>Frontend Developer</td>\n",
              "      <td>0</td>\n",
              "    </tr>\n",
              "    <tr>\n",
              "      <th>82</th>\n",
              "      <td>rnithees</td>\n",
              "      <td>Java JavaScript PHP Laravel Programming SQL My...</td>\n",
              "      <td>Certificate Course in C++ Esoft Medro Campus, ...</td>\n",
              "      <td>J/Chavakachcheri Hindu College</td>\n",
              "      <td>Primary Education  J/Sarasalai Sri GaneshaVidy...</td>\n",
              "      <td>Senior Consultant Zapmii</td>\n",
              "      <td>Software Engineer M.SaaS</td>\n",
              "      <td>Software Engineer Moneta (FinTech Hive (PVT) Ltd)</td>\n",
              "      <td>Associate Software Engineer Antyra Solutions</td>\n",
              "      <td>Senior Consultant</td>\n",
              "      <td>0</td>\n",
              "    </tr>\n",
              "    <tr>\n",
              "      <th>91</th>\n",
              "      <td>sahan1999</td>\n",
              "      <td>Java JavaScript Android Development PHP Androi...</td>\n",
              "      <td>Higher National Diploma NIBM</td>\n",
              "      <td>Diploma NIBM</td>\n",
              "      <td>A/L St. Thomas'​ College, Matara.</td>\n",
              "      <td>Co-Founder LUXN</td>\n",
              "      <td>Co-Founder CODEAERON</td>\n",
              "      <td>Software Engineer Intern Axiata Digital Labs</td>\n",
              "      <td></td>\n",
              "      <td>Co-Founder</td>\n",
              "      <td>0</td>\n",
              "    </tr>\n",
              "    <tr>\n",
              "      <th>111</th>\n",
              "      <td>sachintha96</td>\n",
              "      <td>Mobile Application Development Reactjs React N...</td>\n",
              "      <td>BSc Information communication technology Unive...</td>\n",
              "      <td>Dudley Senanayake Central College</td>\n",
              "      <td></td>\n",
              "      <td>Full-stack Developer Insteller</td>\n",
              "      <td>Software Engineer 99x</td>\n",
              "      <td>Club Member Career Skills Development Society</td>\n",
              "      <td>Club Member Society of Computer Science - Univ...</td>\n",
              "      <td>Full-stack Developer</td>\n",
              "      <td>0</td>\n",
              "    </tr>\n",
              "    <tr>\n",
              "      <th>123</th>\n",
              "      <td>chirathkarunarathna</td>\n",
              "      <td>Java JavaScript PHP C HTML Programming SQL MyS...</td>\n",
              "      <td>Bachelor of Science (BSc) uva wellassa univers...</td>\n",
              "      <td>st/Aloysias college Rathnapura</td>\n",
              "      <td></td>\n",
              "      <td>student Uva Wellassa University of Sri Lanka</td>\n",
              "      <td>Software Engineer JRC Software</td>\n",
              "      <td></td>\n",
              "      <td></td>\n",
              "      <td>student</td>\n",
              "      <td>0</td>\n",
              "    </tr>\n",
              "    <tr>\n",
              "      <th>133</th>\n",
              "      <td>lahiru-jayalath-00300</td>\n",
              "      <td>JavaScript Leadership Software Development Web...</td>\n",
              "      <td>Bachelor of Science (BSc) Hons. Buckinghamshir...</td>\n",
              "      <td></td>\n",
              "      <td></td>\n",
              "      <td>Manager IT General Sales Company (pvt) Ltd.</td>\n",
              "      <td>Software Engineer Ecologital</td>\n",
              "      <td>Software Engineer Sunshine Holdings PLC</td>\n",
              "      <td>Intern MIS KBSL Information Technologies Limited</td>\n",
              "      <td>Manager IT</td>\n",
              "      <td>0</td>\n",
              "    </tr>\n",
              "    <tr>\n",
              "      <th>142</th>\n",
              "      <td>manthika-kodikara</td>\n",
              "      <td>Computer Science Java JavaScript PHP Adobe XD ...</td>\n",
              "      <td>Master's degree University of Westminster</td>\n",
              "      <td>Bachelor's degree University of Westminster</td>\n",
              "      <td>Royal College Colombo</td>\n",
              "      <td>Full Stack Developer MEDIIO Ltd.</td>\n",
              "      <td>Software Engineer Developers-In : The Invisibl...</td>\n",
              "      <td>Research And Development Intern Informatics In...</td>\n",
              "      <td></td>\n",
              "      <td>Full Stack Developer</td>\n",
              "      <td>0</td>\n",
              "    </tr>\n",
              "    <tr>\n",
              "      <th>145</th>\n",
              "      <td>sandun-champika-7a5b3a71</td>\n",
              "      <td>Java JavaScript HTML Leadership SQL Microsoft ...</td>\n",
              "      <td>Postgraduate Institute of Management (PIM)</td>\n",
              "      <td>University of Colombo School of Computing</td>\n",
              "      <td>Bachelor’s Degree University of Colombo</td>\n",
              "      <td>Visiting lecturer/Researcher  Aquinas College ...</td>\n",
              "      <td>Senior Solution Architect  OpusXenta</td>\n",
              "      <td>Associate Manager Virtusa</td>\n",
              "      <td>Project Delivery Manager Anchortek</td>\n",
              "      <td>Visiting lecturer/Researcher</td>\n",
              "      <td>0</td>\n",
              "    </tr>\n",
              "    <tr>\n",
              "      <th>155</th>\n",
              "      <td>wasika-marambage-5a506845</td>\n",
              "      <td>Java JavaScript PHP C Software Development Web...</td>\n",
              "      <td>Bachelor of Science (B.Sc.) Uva Wellssa Univer...</td>\n",
              "      <td>Sujatha Balika Vidyalaya</td>\n",
              "      <td></td>\n",
              "      <td>Software Developer VizuaMatix</td>\n",
              "      <td>Associate Solution Developer TSD Technologies ...</td>\n",
              "      <td>Intern TSD Technologies Pvt Ltd</td>\n",
              "      <td></td>\n",
              "      <td>Software Developer</td>\n",
              "      <td>0</td>\n",
              "    </tr>\n",
              "    <tr>\n",
              "      <th>191</th>\n",
              "      <td>ridmagimhani</td>\n",
              "      <td>Java JavaScript PHP C HTML Programming SQL MyS...</td>\n",
              "      <td>BSc. (Hons) University of Moratuwa</td>\n",
              "      <td>GM/Rathnavali Balika Vidyalaya, Gampaha</td>\n",
              "      <td>Mary Immaculate Convent,Tudella, Ja-Ela</td>\n",
              "      <td>Freelance Developer(Odoo) Any</td>\n",
              "      <td>Software Engineer Ontash Systems</td>\n",
              "      <td>Private Tutor IT Academy</td>\n",
              "      <td>Software Engineer Internship Medical Research ...</td>\n",
              "      <td>Freelance Developer(Odoo)</td>\n",
              "      <td>0</td>\n",
              "    </tr>\n",
              "    <tr>\n",
              "      <th>198</th>\n",
              "      <td>chameeradulanga</td>\n",
              "      <td>Java JavaScript PHP C HTML SQL C Programming L...</td>\n",
              "      <td>Bachelor of Information Technology (Hons) Univ...</td>\n",
              "      <td>G C E Advanced Level Richmond College</td>\n",
              "      <td></td>\n",
              "      <td>AWS Community Builder Amazon Web Services (AWS)</td>\n",
              "      <td>Technical Writer daily.dev</td>\n",
              "      <td>Software Engineer 99x</td>\n",
              "      <td>Technical Writer Medium</td>\n",
              "      <td>AWS Community Builder</td>\n",
              "      <td>0</td>\n",
              "    </tr>\n",
              "    <tr>\n",
              "      <th>215</th>\n",
              "      <td>nalin-athukorala</td>\n",
              "      <td>Java JavaScript PHP Cascading Style Sheets CSS...</td>\n",
              "      <td>Diploma in Information Technology (DiTEC) ESOF...</td>\n",
              "      <td>CMJD IJSE - Institute of Software Engineering</td>\n",
              "      <td>Diploma of Graphics Design  Future World IPS</td>\n",
              "      <td>Instructor Unique Academy</td>\n",
              "      <td>Software Engineer Virtusa</td>\n",
              "      <td>Software Engineering Trainee Efito Solutions (...</td>\n",
              "      <td></td>\n",
              "      <td>Instructor</td>\n",
              "      <td>0</td>\n",
              "    </tr>\n",
              "    <tr>\n",
              "      <th>308</th>\n",
              "      <td>dinesh-udangamuwa-13a03150</td>\n",
              "      <td>Java JavaScript Android Development PHP C HTML...</td>\n",
              "      <td>Bachelor of Science (BSc) Uva Wellassa University</td>\n",
              "      <td>Science college Matale</td>\n",
              "      <td></td>\n",
              "      <td>Assistant Government Examiner of Questioned Do...</td>\n",
              "      <td>Software Engineer Info Share(Guarantee)Ltd</td>\n",
              "      <td>Associate Software Engineer Info Share(Guarant...</td>\n",
              "      <td>Trainee Software Engineer Info Share(Guarantee...</td>\n",
              "      <td>Assistant Government Examiner of Questioned Do...</td>\n",
              "      <td>0</td>\n",
              "    </tr>\n",
              "    <tr>\n",
              "      <th>370</th>\n",
              "      <td>methmasamaranayake</td>\n",
              "      <td>Java JavaScript PHP C Cascading Style Sheets C...</td>\n",
              "      <td>B.Sc.Information Technology (Hons) University ...</td>\n",
              "      <td>Institute of Personnel Management Sri Lanka (...</td>\n",
              "      <td>Taxila Central College. Horana</td>\n",
              "      <td>Associate Tech Lead WSO2</td>\n",
              "      <td>Senior Software Engineer WSO2</td>\n",
              "      <td>Software Engineer WSO2</td>\n",
              "      <td>Organizing Committee Vice President Aqua 2.0 A...</td>\n",
              "      <td>Associate Tech Lead</td>\n",
              "      <td>0</td>\n",
              "    </tr>\n",
              "    <tr>\n",
              "      <th>395</th>\n",
              "      <td>muditha-jayawardana-2b6aba57</td>\n",
              "      <td>Java JavaScript PHP C HTML SQL ASPNET MySQL CS...</td>\n",
              "      <td>Information &amp; communcation technology Universi...</td>\n",
              "      <td>Baudlla central college</td>\n",
              "      <td></td>\n",
              "      <td>Senior Engineer Software Zone24x7</td>\n",
              "      <td>Software Engineer Zone24x7</td>\n",
              "      <td>Associate software engineer Zone24x7</td>\n",
              "      <td>Trainee Associate software engineer Zone24x7</td>\n",
              "      <td>Senior Engineer Software</td>\n",
              "      <td>0</td>\n",
              "    </tr>\n",
              "    <tr>\n",
              "      <th>533</th>\n",
              "      <td>prabhash-dilhan-7b4b2b99</td>\n",
              "      <td>Java JavaScript PHP HTML C Cascading Style She...</td>\n",
              "      <td>Bachelor of Computer science (Special) Univers...</td>\n",
              "      <td>B/Dharmapala n.m.v,Bandarawela</td>\n",
              "      <td></td>\n",
              "      <td>Associate Technical Lead WSO2</td>\n",
              "      <td>Software Engineer WSO2</td>\n",
              "      <td>Software Engineering Intern WSO2</td>\n",
              "      <td>Developer(Remote) Crowderia</td>\n",
              "      <td>Associate Technical Lead</td>\n",
              "      <td>0</td>\n",
              "    </tr>\n",
              "    <tr>\n",
              "      <th>554</th>\n",
              "      <td>osanda-d</td>\n",
              "      <td>Java JavaScript Android Development PHP HTML C...</td>\n",
              "      <td>B.Sc. Engineering (Hon's) University of Moratuwa</td>\n",
              "      <td>G.C.E. (Ordinary Level), G.C.E. (Advanced Leve...</td>\n",
              "      <td></td>\n",
              "      <td>Academic Tutor Open University of Sri Lanka</td>\n",
              "      <td>Software Engineer Sysco LABS Sri Lanka</td>\n",
              "      <td>Freelance Developer Fiverr</td>\n",
              "      <td>Associate Engineer - Technology Virtusa</td>\n",
              "      <td>Academic Tutor</td>\n",
              "      <td>0</td>\n",
              "    </tr>\n",
              "    <tr>\n",
              "      <th>573</th>\n",
              "      <td>ravilal-senanayake</td>\n",
              "      <td>Java JavaScript Leadership Software Developmen...</td>\n",
              "      <td>National Institute of Business Management</td>\n",
              "      <td>Informatics Institute of Technology</td>\n",
              "      <td>Dharmaraja College - Kandy</td>\n",
              "      <td>Research Assistant University of Peradeniya</td>\n",
              "      <td>External Lecturer / Consultant National Instit...</td>\n",
              "      <td>Founder &amp; Executive Director CBase Labs</td>\n",
              "      <td>Software Engineering Trainee CodeGen Internati...</td>\n",
              "      <td>Research Assistant</td>\n",
              "      <td>0</td>\n",
              "    </tr>\n",
              "    <tr>\n",
              "      <th>579</th>\n",
              "      <td>sangeeth-raj</td>\n",
              "      <td>Java JavaScript Cascading Style Sheets CSS HTM...</td>\n",
              "      <td>Kingswood College Kandy</td>\n",
              "      <td>beginners Alliance française de kandy</td>\n",
              "      <td>Ordinary Level Oxford College Nawalapitiya</td>\n",
              "      <td>Student Member  IEEE</td>\n",
              "      <td>Student Member IEEE Computer Society</td>\n",
              "      <td>Java Software Engineer Virtusa</td>\n",
              "      <td></td>\n",
              "      <td>Student Member</td>\n",
              "      <td>0</td>\n",
              "    </tr>\n",
              "  </tbody>\n",
              "</table>\n",
              "</div>\n",
              "      <button class=\"colab-df-convert\" onclick=\"convertToInteractive('df-4be6127b-be04-4bf1-aeec-15c8a351e131')\"\n",
              "              title=\"Convert this dataframe to an interactive table.\"\n",
              "              style=\"display:none;\">\n",
              "        \n",
              "  <svg xmlns=\"http://www.w3.org/2000/svg\" height=\"24px\"viewBox=\"0 0 24 24\"\n",
              "       width=\"24px\">\n",
              "    <path d=\"M0 0h24v24H0V0z\" fill=\"none\"/>\n",
              "    <path d=\"M18.56 5.44l.94 2.06.94-2.06 2.06-.94-2.06-.94-.94-2.06-.94 2.06-2.06.94zm-11 1L8.5 8.5l.94-2.06 2.06-.94-2.06-.94L8.5 2.5l-.94 2.06-2.06.94zm10 10l.94 2.06.94-2.06 2.06-.94-2.06-.94-.94-2.06-.94 2.06-2.06.94z\"/><path d=\"M17.41 7.96l-1.37-1.37c-.4-.4-.92-.59-1.43-.59-.52 0-1.04.2-1.43.59L10.3 9.45l-7.72 7.72c-.78.78-.78 2.05 0 2.83L4 21.41c.39.39.9.59 1.41.59.51 0 1.02-.2 1.41-.59l7.78-7.78 2.81-2.81c.8-.78.8-2.07 0-2.86zM5.41 20L4 18.59l7.72-7.72 1.47 1.35L5.41 20z\"/>\n",
              "  </svg>\n",
              "      </button>\n",
              "      \n",
              "  <style>\n",
              "    .colab-df-container {\n",
              "      display:flex;\n",
              "      flex-wrap:wrap;\n",
              "      gap: 12px;\n",
              "    }\n",
              "\n",
              "    .colab-df-convert {\n",
              "      background-color: #E8F0FE;\n",
              "      border: none;\n",
              "      border-radius: 50%;\n",
              "      cursor: pointer;\n",
              "      display: none;\n",
              "      fill: #1967D2;\n",
              "      height: 32px;\n",
              "      padding: 0 0 0 0;\n",
              "      width: 32px;\n",
              "    }\n",
              "\n",
              "    .colab-df-convert:hover {\n",
              "      background-color: #E2EBFA;\n",
              "      box-shadow: 0px 1px 2px rgba(60, 64, 67, 0.3), 0px 1px 3px 1px rgba(60, 64, 67, 0.15);\n",
              "      fill: #174EA6;\n",
              "    }\n",
              "\n",
              "    [theme=dark] .colab-df-convert {\n",
              "      background-color: #3B4455;\n",
              "      fill: #D2E3FC;\n",
              "    }\n",
              "\n",
              "    [theme=dark] .colab-df-convert:hover {\n",
              "      background-color: #434B5C;\n",
              "      box-shadow: 0px 1px 3px 1px rgba(0, 0, 0, 0.15);\n",
              "      filter: drop-shadow(0px 1px 2px rgba(0, 0, 0, 0.3));\n",
              "      fill: #FFFFFF;\n",
              "    }\n",
              "  </style>\n",
              "\n",
              "      <script>\n",
              "        const buttonEl =\n",
              "          document.querySelector('#df-4be6127b-be04-4bf1-aeec-15c8a351e131 button.colab-df-convert');\n",
              "        buttonEl.style.display =\n",
              "          google.colab.kernel.accessAllowed ? 'block' : 'none';\n",
              "\n",
              "        async function convertToInteractive(key) {\n",
              "          const element = document.querySelector('#df-4be6127b-be04-4bf1-aeec-15c8a351e131');\n",
              "          const dataTable =\n",
              "            await google.colab.kernel.invokeFunction('convertToInteractive',\n",
              "                                                     [key], {});\n",
              "          if (!dataTable) return;\n",
              "\n",
              "          const docLinkHtml = 'Like what you see? Visit the ' +\n",
              "            '<a target=\"_blank\" href=https://colab.research.google.com/notebooks/data_table.ipynb>data table notebook</a>'\n",
              "            + ' to learn more about interactive tables.';\n",
              "          element.innerHTML = '';\n",
              "          dataTable['output_type'] = 'display_data';\n",
              "          await google.colab.output.renderOutput(dataTable, element);\n",
              "          const docLink = document.createElement('div');\n",
              "          docLink.innerHTML = docLinkHtml;\n",
              "          element.appendChild(docLink);\n",
              "        }\n",
              "      </script>\n",
              "    </div>\n",
              "  </div>\n",
              "  "
            ],
            "text/plain": [
              "                                   id  ... label\n",
              "17                            ashamad  ...     0\n",
              "20                             ashant  ...     0\n",
              "25   chaithika-abeywickrame-a03332105  ...     0\n",
              "26        kavinda-nirushana-956438164  ...     0\n",
              "33               chathura-samarajeewa  ...     0\n",
              "73    sarmitha-krishnagobal-570407172  ...     0\n",
              "82                           rnithees  ...     0\n",
              "91                          sahan1999  ...     0\n",
              "111                       sachintha96  ...     0\n",
              "123               chirathkarunarathna  ...     0\n",
              "133             lahiru-jayalath-00300  ...     0\n",
              "142                 manthika-kodikara  ...     0\n",
              "145          sandun-champika-7a5b3a71  ...     0\n",
              "155         wasika-marambage-5a506845  ...     0\n",
              "191                      ridmagimhani  ...     0\n",
              "198                   chameeradulanga  ...     0\n",
              "215                  nalin-athukorala  ...     0\n",
              "308        dinesh-udangamuwa-13a03150  ...     0\n",
              "370                methmasamaranayake  ...     0\n",
              "395      muditha-jayawardana-2b6aba57  ...     0\n",
              "533          prabhash-dilhan-7b4b2b99  ...     0\n",
              "554                          osanda-d  ...     0\n",
              "573                ravilal-senanayake  ...     0\n",
              "579                      sangeeth-raj  ...     0\n",
              "\n",
              "[24 rows x 11 columns]"
            ]
          },
          "metadata": {},
          "execution_count": 36
        }
      ]
    },
    {
      "cell_type": "code",
      "source": [
        "def drop_values(dataset,value):\n",
        "  # Drop row first filter value\n",
        "  Dropvalue = dataset[dataset['organization_title_1']== value]\n",
        "  # Droping the value that filtered above cell\n",
        "  dataset.drop(Dropvalue.index, inplace= True)\n",
        "  return dataset"
      ],
      "metadata": {
        "id": "d1-rKzvv34mW"
      },
      "execution_count": 41,
      "outputs": []
    },
    {
      "cell_type": "code",
      "source": [
        "SE_Data.shape"
      ],
      "metadata": {
        "colab": {
          "base_uri": "https://localhost:8080/"
        },
        "id": "0A9XS29s4RTM",
        "outputId": "afa9ad10-e1f3-459b-c829-62baee2b22c2"
      },
      "execution_count": 40,
      "outputs": [
        {
          "output_type": "execute_result",
          "data": {
            "text/plain": [
              "(584, 11)"
            ]
          },
          "metadata": {},
          "execution_count": 40
        }
      ]
    },
    {
      "cell_type": "code",
      "source": [
        "drop_values(SE_Data,'Student')"
      ],
      "metadata": {
        "id": "TPF1dtfk4mKu"
      },
      "execution_count": null,
      "outputs": []
    },
    {
      "cell_type": "code",
      "source": [
        "SE_Data.shape"
      ],
      "metadata": {
        "colab": {
          "base_uri": "https://localhost:8080/"
        },
        "id": "EMYFX4a541P3",
        "outputId": "06c92e28-cb61-40ef-a7b7-bc02e567ae13"
      },
      "execution_count": 43,
      "outputs": [
        {
          "output_type": "execute_result",
          "data": {
            "text/plain": [
              "(583, 11)"
            ]
          },
          "metadata": {},
          "execution_count": 43
        }
      ]
    },
    {
      "cell_type": "code",
      "source": [
        "drop_values(SE_Data,'Manager IT')"
      ],
      "metadata": {
        "id": "VsjD_Zuo5OtO"
      },
      "execution_count": null,
      "outputs": []
    },
    {
      "cell_type": "code",
      "source": [
        "drop_values(SE_Data,'Visiting lecturer/Researcher')"
      ],
      "metadata": {
        "id": "U3kag0bg5aSV"
      },
      "execution_count": null,
      "outputs": []
    },
    {
      "cell_type": "code",
      "source": [
        "SE_Data.shape"
      ],
      "metadata": {
        "colab": {
          "base_uri": "https://localhost:8080/"
        },
        "id": "tjWmFz-8515t",
        "outputId": "b20d3ea4-c7a9-404c-fa6c-fee581fa6462"
      },
      "execution_count": 56,
      "outputs": [
        {
          "output_type": "execute_result",
          "data": {
            "text/plain": [
              "(582, 12)"
            ]
          },
          "metadata": {},
          "execution_count": 56
        }
      ]
    },
    {
      "cell_type": "code",
      "source": [
        "SE_Data.insert(10,'Target','Software Engineer')"
      ],
      "metadata": {
        "id": "-OqOl7ci67Du"
      },
      "execution_count": null,
      "outputs": []
    },
    {
      "cell_type": "code",
      "source": [
        "SE_Data"
      ],
      "metadata": {
        "colab": {
          "base_uri": "https://localhost:8080/",
          "height": 1000
        },
        "id": "-FDvRTYb8L-q",
        "outputId": "b8d534d9-53f6-477e-beed-1eb3f0df8571"
      },
      "execution_count": 59,
      "outputs": [
        {
          "output_type": "execute_result",
          "data": {
            "text/html": [
              "\n",
              "  <div id=\"df-b8080db3-5d4a-404f-a698-7717f3aebd3e\">\n",
              "    <div class=\"colab-df-container\">\n",
              "      <div>\n",
              "<style scoped>\n",
              "    .dataframe tbody tr th:only-of-type {\n",
              "        vertical-align: middle;\n",
              "    }\n",
              "\n",
              "    .dataframe tbody tr th {\n",
              "        vertical-align: top;\n",
              "    }\n",
              "\n",
              "    .dataframe thead th {\n",
              "        text-align: right;\n",
              "    }\n",
              "</style>\n",
              "<table border=\"1\" class=\"dataframe\">\n",
              "  <thead>\n",
              "    <tr style=\"text-align: right;\">\n",
              "      <th></th>\n",
              "      <th>id</th>\n",
              "      <th>skills</th>\n",
              "      <th>edu_1</th>\n",
              "      <th>edu_2</th>\n",
              "      <th>edu_3</th>\n",
              "      <th>org_1</th>\n",
              "      <th>org_2</th>\n",
              "      <th>org_3</th>\n",
              "      <th>org_4</th>\n",
              "      <th>organization_title_1</th>\n",
              "      <th>Target</th>\n",
              "      <th>label</th>\n",
              "    </tr>\n",
              "  </thead>\n",
              "  <tbody>\n",
              "    <tr>\n",
              "      <th>0</th>\n",
              "      <td>gayanchinthaka</td>\n",
              "      <td>Java Android Development PHP HTML C Cascading ...</td>\n",
              "      <td>Computer Science and Technology Uva Wellassa U...</td>\n",
              "      <td>Diploma in English ESOFT Metro Campus</td>\n",
              "      <td>Diploma in Technology ESOFT Metro Campus</td>\n",
              "      <td>Software Engineer Typefi Systems</td>\n",
              "      <td>Associate Software Engineer Rezgateway</td>\n",
              "      <td>Internship Trainee Rezgateway</td>\n",
              "      <td></td>\n",
              "      <td>Software Engineer</td>\n",
              "      <td>Software Engineer</td>\n",
              "      <td>1</td>\n",
              "    </tr>\n",
              "    <tr>\n",
              "      <th>1</th>\n",
              "      <td>kashita-niranjan-udayanga-04106a47</td>\n",
              "      <td>...</td>\n",
              "      <td>BSc Engineering(Hons) University of Moratuwa</td>\n",
              "      <td></td>\n",
              "      <td></td>\n",
              "      <td>Software Engineer Atrenta</td>\n",
              "      <td>Undergraduate University of Moratuwa</td>\n",
              "      <td>Trainee Engineer Lanka Bell</td>\n",
              "      <td></td>\n",
              "      <td>Software Engineer</td>\n",
              "      <td>Software Engineer</td>\n",
              "      <td>1</td>\n",
              "    </tr>\n",
              "    <tr>\n",
              "      <th>2</th>\n",
              "      <td>lingeswaran-sivapiriyan-b90685177</td>\n",
              "      <td>JavaScript Reactjs MySQL ObjectOriented Progra...</td>\n",
              "      <td>B.Eng (Hons) Software Engineering  London Metr...</td>\n",
              "      <td></td>\n",
              "      <td></td>\n",
              "      <td>Software Engineer Invicta Innovations</td>\n",
              "      <td>Trainee Samuel Gnanam IT Centre</td>\n",
              "      <td></td>\n",
              "      <td></td>\n",
              "      <td>Software Engineer</td>\n",
              "      <td>Software Engineer</td>\n",
              "      <td>1</td>\n",
              "    </tr>\n",
              "    <tr>\n",
              "      <th>3</th>\n",
              "      <td>viraj-chamara-5b6751149</td>\n",
              "      <td>Java JavaScript PHP HTML Cascading Style Sheet...</td>\n",
              "      <td>Institute of Java and Software Engineering</td>\n",
              "      <td></td>\n",
              "      <td></td>\n",
              "      <td>Software Engineer I O N Groups Pvt Ltd</td>\n",
              "      <td>Software Engineer ites software pvt ltd</td>\n",
              "      <td></td>\n",
              "      <td></td>\n",
              "      <td>Software Engineer</td>\n",
              "      <td>Software Engineer</td>\n",
              "      <td>1</td>\n",
              "    </tr>\n",
              "    <tr>\n",
              "      <th>4</th>\n",
              "      <td>iyani-kalupahana-5b781951</td>\n",
              "      <td>Java Android Development C Communication HTML ...</td>\n",
              "      <td>Honours Degree of Bachelor of the Science of E...</td>\n",
              "      <td>High School Devi Balika Vidyalaya,Colombo 08</td>\n",
              "      <td></td>\n",
              "      <td>Software Engineer Creative Software</td>\n",
              "      <td>Student University of Moratuwa</td>\n",
              "      <td>Researcher National University of Singapore</td>\n",
              "      <td>Intern University of Moratuwa</td>\n",
              "      <td>Software Engineer</td>\n",
              "      <td>Software Engineer</td>\n",
              "      <td>1</td>\n",
              "    </tr>\n",
              "    <tr>\n",
              "      <th>...</th>\n",
              "      <td>...</td>\n",
              "      <td>...</td>\n",
              "      <td>...</td>\n",
              "      <td>...</td>\n",
              "      <td>...</td>\n",
              "      <td>...</td>\n",
              "      <td>...</td>\n",
              "      <td>...</td>\n",
              "      <td>...</td>\n",
              "      <td>...</td>\n",
              "      <td>...</td>\n",
              "      <td>...</td>\n",
              "    </tr>\n",
              "    <tr>\n",
              "      <th>579</th>\n",
              "      <td>sangeeth-raj</td>\n",
              "      <td>Java JavaScript Cascading Style Sheets CSS HTM...</td>\n",
              "      <td>Kingswood College Kandy</td>\n",
              "      <td>beginners Alliance française de kandy</td>\n",
              "      <td>Ordinary Level Oxford College Nawalapitiya</td>\n",
              "      <td>Student Member  IEEE</td>\n",
              "      <td>Student Member IEEE Computer Society</td>\n",
              "      <td>Java Software Engineer Virtusa</td>\n",
              "      <td></td>\n",
              "      <td>Student Member</td>\n",
              "      <td>Software Engineer</td>\n",
              "      <td>0</td>\n",
              "    </tr>\n",
              "    <tr>\n",
              "      <th>580</th>\n",
              "      <td>suraja-sandaruwan-58b022196</td>\n",
              "      <td>Java JavaScript HTML Cascading Style Sheets CS...</td>\n",
              "      <td>IT University of Moratuwa</td>\n",
              "      <td>Rahula College</td>\n",
              "      <td></td>\n",
              "      <td>Associate Software Engineer Efito Solutions (P...</td>\n",
              "      <td>Undergraduate</td>\n",
              "      <td></td>\n",
              "      <td></td>\n",
              "      <td>Associate Software Engineer</td>\n",
              "      <td>Software Engineer</td>\n",
              "      <td>1</td>\n",
              "    </tr>\n",
              "    <tr>\n",
              "      <th>581</th>\n",
              "      <td>nipuna-madhushan-0311</td>\n",
              "      <td>Java Python Programming Language Machine Learn...</td>\n",
              "      <td>University of Moratuwa</td>\n",
              "      <td></td>\n",
              "      <td></td>\n",
              "      <td>Software Engineer WSO2</td>\n",
              "      <td>Software Engineer Intern WSO2</td>\n",
              "      <td></td>\n",
              "      <td></td>\n",
              "      <td>Software Engineer</td>\n",
              "      <td>Software Engineer</td>\n",
              "      <td>1</td>\n",
              "    </tr>\n",
              "    <tr>\n",
              "      <th>582</th>\n",
              "      <td>nimesha-gunawardana</td>\n",
              "      <td>JavaScript PHP Laravel Reactjs MySQL CSS Linux...</td>\n",
              "      <td>Diploma in Software Engineering Sabaragamuwa U...</td>\n",
              "      <td>Badulla Central College</td>\n",
              "      <td>Uva College Badulla</td>\n",
              "      <td>Senior Software Engineer Otrium</td>\n",
              "      <td>Senior Software Engineer Gapstars - we're hiring</td>\n",
              "      <td>Co-Founder and TechLead  Priwoo</td>\n",
              "      <td>Senior Software Engineer Cyrup</td>\n",
              "      <td>Senior Software Engineer</td>\n",
              "      <td>Software Engineer</td>\n",
              "      <td>1</td>\n",
              "    </tr>\n",
              "    <tr>\n",
              "      <th>583</th>\n",
              "      <td>charithcj</td>\n",
              "      <td>Computer Science Java JavaScript HTML Cascadin...</td>\n",
              "      <td>Bachelor's degree University of Westminster</td>\n",
              "      <td>GCE Advanced Level St Annes College Kurunegala</td>\n",
              "      <td>GCE Ordinary Level Sussex College</td>\n",
              "      <td>Software Engineer WSO2</td>\n",
              "      <td>Trainee Associate Software Engineer Zone24x7</td>\n",
              "      <td></td>\n",
              "      <td></td>\n",
              "      <td>Software Engineer</td>\n",
              "      <td>Software Engineer</td>\n",
              "      <td>1</td>\n",
              "    </tr>\n",
              "  </tbody>\n",
              "</table>\n",
              "<p>582 rows × 12 columns</p>\n",
              "</div>\n",
              "      <button class=\"colab-df-convert\" onclick=\"convertToInteractive('df-b8080db3-5d4a-404f-a698-7717f3aebd3e')\"\n",
              "              title=\"Convert this dataframe to an interactive table.\"\n",
              "              style=\"display:none;\">\n",
              "        \n",
              "  <svg xmlns=\"http://www.w3.org/2000/svg\" height=\"24px\"viewBox=\"0 0 24 24\"\n",
              "       width=\"24px\">\n",
              "    <path d=\"M0 0h24v24H0V0z\" fill=\"none\"/>\n",
              "    <path d=\"M18.56 5.44l.94 2.06.94-2.06 2.06-.94-2.06-.94-.94-2.06-.94 2.06-2.06.94zm-11 1L8.5 8.5l.94-2.06 2.06-.94-2.06-.94L8.5 2.5l-.94 2.06-2.06.94zm10 10l.94 2.06.94-2.06 2.06-.94-2.06-.94-.94-2.06-.94 2.06-2.06.94z\"/><path d=\"M17.41 7.96l-1.37-1.37c-.4-.4-.92-.59-1.43-.59-.52 0-1.04.2-1.43.59L10.3 9.45l-7.72 7.72c-.78.78-.78 2.05 0 2.83L4 21.41c.39.39.9.59 1.41.59.51 0 1.02-.2 1.41-.59l7.78-7.78 2.81-2.81c.8-.78.8-2.07 0-2.86zM5.41 20L4 18.59l7.72-7.72 1.47 1.35L5.41 20z\"/>\n",
              "  </svg>\n",
              "      </button>\n",
              "      \n",
              "  <style>\n",
              "    .colab-df-container {\n",
              "      display:flex;\n",
              "      flex-wrap:wrap;\n",
              "      gap: 12px;\n",
              "    }\n",
              "\n",
              "    .colab-df-convert {\n",
              "      background-color: #E8F0FE;\n",
              "      border: none;\n",
              "      border-radius: 50%;\n",
              "      cursor: pointer;\n",
              "      display: none;\n",
              "      fill: #1967D2;\n",
              "      height: 32px;\n",
              "      padding: 0 0 0 0;\n",
              "      width: 32px;\n",
              "    }\n",
              "\n",
              "    .colab-df-convert:hover {\n",
              "      background-color: #E2EBFA;\n",
              "      box-shadow: 0px 1px 2px rgba(60, 64, 67, 0.3), 0px 1px 3px 1px rgba(60, 64, 67, 0.15);\n",
              "      fill: #174EA6;\n",
              "    }\n",
              "\n",
              "    [theme=dark] .colab-df-convert {\n",
              "      background-color: #3B4455;\n",
              "      fill: #D2E3FC;\n",
              "    }\n",
              "\n",
              "    [theme=dark] .colab-df-convert:hover {\n",
              "      background-color: #434B5C;\n",
              "      box-shadow: 0px 1px 3px 1px rgba(0, 0, 0, 0.15);\n",
              "      filter: drop-shadow(0px 1px 2px rgba(0, 0, 0, 0.3));\n",
              "      fill: #FFFFFF;\n",
              "    }\n",
              "  </style>\n",
              "\n",
              "      <script>\n",
              "        const buttonEl =\n",
              "          document.querySelector('#df-b8080db3-5d4a-404f-a698-7717f3aebd3e button.colab-df-convert');\n",
              "        buttonEl.style.display =\n",
              "          google.colab.kernel.accessAllowed ? 'block' : 'none';\n",
              "\n",
              "        async function convertToInteractive(key) {\n",
              "          const element = document.querySelector('#df-b8080db3-5d4a-404f-a698-7717f3aebd3e');\n",
              "          const dataTable =\n",
              "            await google.colab.kernel.invokeFunction('convertToInteractive',\n",
              "                                                     [key], {});\n",
              "          if (!dataTable) return;\n",
              "\n",
              "          const docLinkHtml = 'Like what you see? Visit the ' +\n",
              "            '<a target=\"_blank\" href=https://colab.research.google.com/notebooks/data_table.ipynb>data table notebook</a>'\n",
              "            + ' to learn more about interactive tables.';\n",
              "          element.innerHTML = '';\n",
              "          dataTable['output_type'] = 'display_data';\n",
              "          await google.colab.output.renderOutput(dataTable, element);\n",
              "          const docLink = document.createElement('div');\n",
              "          docLink.innerHTML = docLinkHtml;\n",
              "          element.appendChild(docLink);\n",
              "        }\n",
              "      </script>\n",
              "    </div>\n",
              "  </div>\n",
              "  "
            ],
            "text/plain": [
              "                                     id  ... label\n",
              "0                        gayanchinthaka  ...     1\n",
              "1    kashita-niranjan-udayanga-04106a47  ...     1\n",
              "2     lingeswaran-sivapiriyan-b90685177  ...     1\n",
              "3               viraj-chamara-5b6751149  ...     1\n",
              "4             iyani-kalupahana-5b781951  ...     1\n",
              "..                                  ...  ...   ...\n",
              "579                        sangeeth-raj  ...     0\n",
              "580         suraja-sandaruwan-58b022196  ...     1\n",
              "581               nipuna-madhushan-0311  ...     1\n",
              "582                 nimesha-gunawardana  ...     1\n",
              "583                           charithcj  ...     1\n",
              "\n",
              "[582 rows x 12 columns]"
            ]
          },
          "metadata": {},
          "execution_count": 59
        }
      ]
    },
    {
      "cell_type": "code",
      "source": [
        "SE_Data = SE_Data.drop(['organization_title_1','label'], axis=1)"
      ],
      "metadata": {
        "id": "UCCxIUGO-D9Z"
      },
      "execution_count": 61,
      "outputs": []
    },
    {
      "cell_type": "code",
      "source": [
        "SE_Data"
      ],
      "metadata": {
        "colab": {
          "base_uri": "https://localhost:8080/",
          "height": 1000
        },
        "id": "f4odKfcz-Uk-",
        "outputId": "855c7888-d98f-4c1f-9e96-c442c6ea2e9c"
      },
      "execution_count": 62,
      "outputs": [
        {
          "output_type": "execute_result",
          "data": {
            "text/html": [
              "\n",
              "  <div id=\"df-87e886cd-7085-4818-acca-0dbdd6ad00de\">\n",
              "    <div class=\"colab-df-container\">\n",
              "      <div>\n",
              "<style scoped>\n",
              "    .dataframe tbody tr th:only-of-type {\n",
              "        vertical-align: middle;\n",
              "    }\n",
              "\n",
              "    .dataframe tbody tr th {\n",
              "        vertical-align: top;\n",
              "    }\n",
              "\n",
              "    .dataframe thead th {\n",
              "        text-align: right;\n",
              "    }\n",
              "</style>\n",
              "<table border=\"1\" class=\"dataframe\">\n",
              "  <thead>\n",
              "    <tr style=\"text-align: right;\">\n",
              "      <th></th>\n",
              "      <th>id</th>\n",
              "      <th>skills</th>\n",
              "      <th>edu_1</th>\n",
              "      <th>edu_2</th>\n",
              "      <th>edu_3</th>\n",
              "      <th>org_1</th>\n",
              "      <th>org_2</th>\n",
              "      <th>org_3</th>\n",
              "      <th>org_4</th>\n",
              "      <th>Target</th>\n",
              "    </tr>\n",
              "  </thead>\n",
              "  <tbody>\n",
              "    <tr>\n",
              "      <th>0</th>\n",
              "      <td>gayanchinthaka</td>\n",
              "      <td>Java Android Development PHP HTML C Cascading ...</td>\n",
              "      <td>Computer Science and Technology Uva Wellassa U...</td>\n",
              "      <td>Diploma in English ESOFT Metro Campus</td>\n",
              "      <td>Diploma in Technology ESOFT Metro Campus</td>\n",
              "      <td>Software Engineer Typefi Systems</td>\n",
              "      <td>Associate Software Engineer Rezgateway</td>\n",
              "      <td>Internship Trainee Rezgateway</td>\n",
              "      <td></td>\n",
              "      <td>Software Engineer</td>\n",
              "    </tr>\n",
              "    <tr>\n",
              "      <th>1</th>\n",
              "      <td>kashita-niranjan-udayanga-04106a47</td>\n",
              "      <td>...</td>\n",
              "      <td>BSc Engineering(Hons) University of Moratuwa</td>\n",
              "      <td></td>\n",
              "      <td></td>\n",
              "      <td>Software Engineer Atrenta</td>\n",
              "      <td>Undergraduate University of Moratuwa</td>\n",
              "      <td>Trainee Engineer Lanka Bell</td>\n",
              "      <td></td>\n",
              "      <td>Software Engineer</td>\n",
              "    </tr>\n",
              "    <tr>\n",
              "      <th>2</th>\n",
              "      <td>lingeswaran-sivapiriyan-b90685177</td>\n",
              "      <td>JavaScript Reactjs MySQL ObjectOriented Progra...</td>\n",
              "      <td>B.Eng (Hons) Software Engineering  London Metr...</td>\n",
              "      <td></td>\n",
              "      <td></td>\n",
              "      <td>Software Engineer Invicta Innovations</td>\n",
              "      <td>Trainee Samuel Gnanam IT Centre</td>\n",
              "      <td></td>\n",
              "      <td></td>\n",
              "      <td>Software Engineer</td>\n",
              "    </tr>\n",
              "    <tr>\n",
              "      <th>3</th>\n",
              "      <td>viraj-chamara-5b6751149</td>\n",
              "      <td>Java JavaScript PHP HTML Cascading Style Sheet...</td>\n",
              "      <td>Institute of Java and Software Engineering</td>\n",
              "      <td></td>\n",
              "      <td></td>\n",
              "      <td>Software Engineer I O N Groups Pvt Ltd</td>\n",
              "      <td>Software Engineer ites software pvt ltd</td>\n",
              "      <td></td>\n",
              "      <td></td>\n",
              "      <td>Software Engineer</td>\n",
              "    </tr>\n",
              "    <tr>\n",
              "      <th>4</th>\n",
              "      <td>iyani-kalupahana-5b781951</td>\n",
              "      <td>Java Android Development C Communication HTML ...</td>\n",
              "      <td>Honours Degree of Bachelor of the Science of E...</td>\n",
              "      <td>High School Devi Balika Vidyalaya,Colombo 08</td>\n",
              "      <td></td>\n",
              "      <td>Software Engineer Creative Software</td>\n",
              "      <td>Student University of Moratuwa</td>\n",
              "      <td>Researcher National University of Singapore</td>\n",
              "      <td>Intern University of Moratuwa</td>\n",
              "      <td>Software Engineer</td>\n",
              "    </tr>\n",
              "    <tr>\n",
              "      <th>...</th>\n",
              "      <td>...</td>\n",
              "      <td>...</td>\n",
              "      <td>...</td>\n",
              "      <td>...</td>\n",
              "      <td>...</td>\n",
              "      <td>...</td>\n",
              "      <td>...</td>\n",
              "      <td>...</td>\n",
              "      <td>...</td>\n",
              "      <td>...</td>\n",
              "    </tr>\n",
              "    <tr>\n",
              "      <th>579</th>\n",
              "      <td>sangeeth-raj</td>\n",
              "      <td>Java JavaScript Cascading Style Sheets CSS HTM...</td>\n",
              "      <td>Kingswood College Kandy</td>\n",
              "      <td>beginners Alliance française de kandy</td>\n",
              "      <td>Ordinary Level Oxford College Nawalapitiya</td>\n",
              "      <td>Student Member  IEEE</td>\n",
              "      <td>Student Member IEEE Computer Society</td>\n",
              "      <td>Java Software Engineer Virtusa</td>\n",
              "      <td></td>\n",
              "      <td>Software Engineer</td>\n",
              "    </tr>\n",
              "    <tr>\n",
              "      <th>580</th>\n",
              "      <td>suraja-sandaruwan-58b022196</td>\n",
              "      <td>Java JavaScript HTML Cascading Style Sheets CS...</td>\n",
              "      <td>IT University of Moratuwa</td>\n",
              "      <td>Rahula College</td>\n",
              "      <td></td>\n",
              "      <td>Associate Software Engineer Efito Solutions (P...</td>\n",
              "      <td>Undergraduate</td>\n",
              "      <td></td>\n",
              "      <td></td>\n",
              "      <td>Software Engineer</td>\n",
              "    </tr>\n",
              "    <tr>\n",
              "      <th>581</th>\n",
              "      <td>nipuna-madhushan-0311</td>\n",
              "      <td>Java Python Programming Language Machine Learn...</td>\n",
              "      <td>University of Moratuwa</td>\n",
              "      <td></td>\n",
              "      <td></td>\n",
              "      <td>Software Engineer WSO2</td>\n",
              "      <td>Software Engineer Intern WSO2</td>\n",
              "      <td></td>\n",
              "      <td></td>\n",
              "      <td>Software Engineer</td>\n",
              "    </tr>\n",
              "    <tr>\n",
              "      <th>582</th>\n",
              "      <td>nimesha-gunawardana</td>\n",
              "      <td>JavaScript PHP Laravel Reactjs MySQL CSS Linux...</td>\n",
              "      <td>Diploma in Software Engineering Sabaragamuwa U...</td>\n",
              "      <td>Badulla Central College</td>\n",
              "      <td>Uva College Badulla</td>\n",
              "      <td>Senior Software Engineer Otrium</td>\n",
              "      <td>Senior Software Engineer Gapstars - we're hiring</td>\n",
              "      <td>Co-Founder and TechLead  Priwoo</td>\n",
              "      <td>Senior Software Engineer Cyrup</td>\n",
              "      <td>Software Engineer</td>\n",
              "    </tr>\n",
              "    <tr>\n",
              "      <th>583</th>\n",
              "      <td>charithcj</td>\n",
              "      <td>Computer Science Java JavaScript HTML Cascadin...</td>\n",
              "      <td>Bachelor's degree University of Westminster</td>\n",
              "      <td>GCE Advanced Level St Annes College Kurunegala</td>\n",
              "      <td>GCE Ordinary Level Sussex College</td>\n",
              "      <td>Software Engineer WSO2</td>\n",
              "      <td>Trainee Associate Software Engineer Zone24x7</td>\n",
              "      <td></td>\n",
              "      <td></td>\n",
              "      <td>Software Engineer</td>\n",
              "    </tr>\n",
              "  </tbody>\n",
              "</table>\n",
              "<p>582 rows × 10 columns</p>\n",
              "</div>\n",
              "      <button class=\"colab-df-convert\" onclick=\"convertToInteractive('df-87e886cd-7085-4818-acca-0dbdd6ad00de')\"\n",
              "              title=\"Convert this dataframe to an interactive table.\"\n",
              "              style=\"display:none;\">\n",
              "        \n",
              "  <svg xmlns=\"http://www.w3.org/2000/svg\" height=\"24px\"viewBox=\"0 0 24 24\"\n",
              "       width=\"24px\">\n",
              "    <path d=\"M0 0h24v24H0V0z\" fill=\"none\"/>\n",
              "    <path d=\"M18.56 5.44l.94 2.06.94-2.06 2.06-.94-2.06-.94-.94-2.06-.94 2.06-2.06.94zm-11 1L8.5 8.5l.94-2.06 2.06-.94-2.06-.94L8.5 2.5l-.94 2.06-2.06.94zm10 10l.94 2.06.94-2.06 2.06-.94-2.06-.94-.94-2.06-.94 2.06-2.06.94z\"/><path d=\"M17.41 7.96l-1.37-1.37c-.4-.4-.92-.59-1.43-.59-.52 0-1.04.2-1.43.59L10.3 9.45l-7.72 7.72c-.78.78-.78 2.05 0 2.83L4 21.41c.39.39.9.59 1.41.59.51 0 1.02-.2 1.41-.59l7.78-7.78 2.81-2.81c.8-.78.8-2.07 0-2.86zM5.41 20L4 18.59l7.72-7.72 1.47 1.35L5.41 20z\"/>\n",
              "  </svg>\n",
              "      </button>\n",
              "      \n",
              "  <style>\n",
              "    .colab-df-container {\n",
              "      display:flex;\n",
              "      flex-wrap:wrap;\n",
              "      gap: 12px;\n",
              "    }\n",
              "\n",
              "    .colab-df-convert {\n",
              "      background-color: #E8F0FE;\n",
              "      border: none;\n",
              "      border-radius: 50%;\n",
              "      cursor: pointer;\n",
              "      display: none;\n",
              "      fill: #1967D2;\n",
              "      height: 32px;\n",
              "      padding: 0 0 0 0;\n",
              "      width: 32px;\n",
              "    }\n",
              "\n",
              "    .colab-df-convert:hover {\n",
              "      background-color: #E2EBFA;\n",
              "      box-shadow: 0px 1px 2px rgba(60, 64, 67, 0.3), 0px 1px 3px 1px rgba(60, 64, 67, 0.15);\n",
              "      fill: #174EA6;\n",
              "    }\n",
              "\n",
              "    [theme=dark] .colab-df-convert {\n",
              "      background-color: #3B4455;\n",
              "      fill: #D2E3FC;\n",
              "    }\n",
              "\n",
              "    [theme=dark] .colab-df-convert:hover {\n",
              "      background-color: #434B5C;\n",
              "      box-shadow: 0px 1px 3px 1px rgba(0, 0, 0, 0.15);\n",
              "      filter: drop-shadow(0px 1px 2px rgba(0, 0, 0, 0.3));\n",
              "      fill: #FFFFFF;\n",
              "    }\n",
              "  </style>\n",
              "\n",
              "      <script>\n",
              "        const buttonEl =\n",
              "          document.querySelector('#df-87e886cd-7085-4818-acca-0dbdd6ad00de button.colab-df-convert');\n",
              "        buttonEl.style.display =\n",
              "          google.colab.kernel.accessAllowed ? 'block' : 'none';\n",
              "\n",
              "        async function convertToInteractive(key) {\n",
              "          const element = document.querySelector('#df-87e886cd-7085-4818-acca-0dbdd6ad00de');\n",
              "          const dataTable =\n",
              "            await google.colab.kernel.invokeFunction('convertToInteractive',\n",
              "                                                     [key], {});\n",
              "          if (!dataTable) return;\n",
              "\n",
              "          const docLinkHtml = 'Like what you see? Visit the ' +\n",
              "            '<a target=\"_blank\" href=https://colab.research.google.com/notebooks/data_table.ipynb>data table notebook</a>'\n",
              "            + ' to learn more about interactive tables.';\n",
              "          element.innerHTML = '';\n",
              "          dataTable['output_type'] = 'display_data';\n",
              "          await google.colab.output.renderOutput(dataTable, element);\n",
              "          const docLink = document.createElement('div');\n",
              "          docLink.innerHTML = docLinkHtml;\n",
              "          element.appendChild(docLink);\n",
              "        }\n",
              "      </script>\n",
              "    </div>\n",
              "  </div>\n",
              "  "
            ],
            "text/plain": [
              "                                     id  ...             Target\n",
              "0                        gayanchinthaka  ...  Software Engineer\n",
              "1    kashita-niranjan-udayanga-04106a47  ...  Software Engineer\n",
              "2     lingeswaran-sivapiriyan-b90685177  ...  Software Engineer\n",
              "3               viraj-chamara-5b6751149  ...  Software Engineer\n",
              "4             iyani-kalupahana-5b781951  ...  Software Engineer\n",
              "..                                  ...  ...                ...\n",
              "579                        sangeeth-raj  ...  Software Engineer\n",
              "580         suraja-sandaruwan-58b022196  ...  Software Engineer\n",
              "581               nipuna-madhushan-0311  ...  Software Engineer\n",
              "582                 nimesha-gunawardana  ...  Software Engineer\n",
              "583                           charithcj  ...  Software Engineer\n",
              "\n",
              "[582 rows x 10 columns]"
            ]
          },
          "metadata": {},
          "execution_count": 62
        }
      ]
    },
    {
      "cell_type": "code",
      "source": [
        "SE_Data.to_csv(r'/content/drive/MyDrive/Research Dataset/processed_data/Added_Target/SE_Data_processed_WithTarget_Value.csv')"
      ],
      "metadata": {
        "id": "aXxr2Hrd-Yum"
      },
      "execution_count": 63,
      "outputs": []
    },
    {
      "cell_type": "code",
      "source": [
        "# Drop duplicate columns using a unique(key) Value\n",
        "Data_new = Data.drop_duplicates(subset='id', keep=\"last\")"
      ],
      "metadata": {
        "id": "ZL5DOE8i60px"
      },
      "execution_count": null,
      "outputs": []
    },
    {
      "cell_type": "code",
      "source": [
        "# Drop row first filter value\n",
        "# Dropvalue = SE_Data[SE_Data['organization_title_1']=='Student']"
      ],
      "metadata": {
        "id": "_xG0xOh_yDM0"
      },
      "execution_count": 42,
      "outputs": []
    },
    {
      "cell_type": "code",
      "source": [
        "# Droping the value that filtered above cell\n",
        "# SE_Data.drop(Dropvalue.index, inplace= True)"
      ],
      "metadata": {
        "id": "CfPYyFlGwSOc"
      },
      "execution_count": 43,
      "outputs": []
    },
    {
      "cell_type": "code",
      "source": [
        "# pd.set_option('max_rows', 99999)\n",
        "# pd.set_option('max_colwidth', 400)\n",
        "# pd.describe_option('max_colwidth')"
      ],
      "metadata": {
        "id": "YvsueOMXFWf6"
      },
      "execution_count": 47,
      "outputs": []
    },
    {
      "cell_type": "code",
      "source": [
        "# SE_Data_New = SE_Data.loc[SE_Data['label']==0]"
      ],
      "metadata": {
        "id": "p_p2Wv-XEG1q"
      },
      "execution_count": 14,
      "outputs": []
    },
    {
      "cell_type": "code",
      "source": [
        "# SE_Data_New.shape"
      ],
      "metadata": {
        "colab": {
          "base_uri": "https://localhost:8080/"
        },
        "id": "IqwJFuuLLQe0",
        "outputId": "3e21e24e-fade-4fa0-ad39-b93f9f7a9dfc"
      },
      "execution_count": 15,
      "outputs": [
        {
          "output_type": "execute_result",
          "data": {
            "text/plain": [
              "(24, 11)"
            ]
          },
          "metadata": {},
          "execution_count": 15
        }
      ]
    },
    {
      "cell_type": "code",
      "source": [
        "# DEng_New.to_csv(r'/content/drive/MyDrive/Research Dataset/processed_data/DEng_New_processed_Check.csv')"
      ],
      "metadata": {
        "id": "mxvvEwraHWGi"
      },
      "execution_count": 41,
      "outputs": []
    },
    {
      "cell_type": "code",
      "source": [
        "# print(count)"
      ],
      "metadata": {
        "colab": {
          "base_uri": "https://localhost:8080/"
        },
        "id": "4SGTLCy1BCv6",
        "outputId": "1cc788bf-5e7a-45b5-cd64-b9339e155cb8"
      },
      "execution_count": 23,
      "outputs": [
        {
          "output_type": "stream",
          "name": "stdout",
          "text": [
            "218\n"
          ]
        }
      ]
    },
    {
      "cell_type": "code",
      "source": [
        "# Data_new.to_csv(r'/content/drive/MyDrive/Research Dataset/processed_data/DS_ML_processed1.csv')"
      ],
      "metadata": {
        "id": "iCxtq_uBz8KR"
      },
      "execution_count": null,
      "outputs": []
    },
    {
      "cell_type": "code",
      "source": [
        "# count = 0\n",
        "# # labelfound = []\n",
        "# label2 = []\n",
        "# for i in DEng_New['organization_title_1']:\n",
        "#   st = str(i) \n",
        "#   if \"Data\" in st:\n",
        "#     label2.append(1)\n",
        "#   else:\n",
        "#     count += 1\n",
        "#     label2.append(0)\n",
        "#     print(st)"
      ],
      "metadata": {
        "id": "9S9WqY1rIWX8"
      },
      "execution_count": null,
      "outputs": []
    },
    {
      "cell_type": "code",
      "source": [
        "# Data = pd.concat([ML_Data,DSci_Data,DEng_Data],ignore_index=True)"
      ],
      "metadata": {
        "id": "Vi1R93na6NQh"
      },
      "execution_count": null,
      "outputs": []
    },
    {
      "cell_type": "code",
      "source": [
        "# Drop Column\n",
        "# Data = Data.drop(['Unnamed: 0','Unnamed: 0.1'], axis=1)"
      ],
      "metadata": {
        "id": "XUOkaVV-3RfB"
      },
      "execution_count": null,
      "outputs": []
    },
    {
      "cell_type": "code",
      "source": [
        "# Data"
      ],
      "metadata": {
        "id": "Gpf7kug-6qZE"
      },
      "execution_count": 12,
      "outputs": []
    },
    {
      "cell_type": "code",
      "source": [
        "# Data_new"
      ],
      "metadata": {
        "id": "GN6LXXX_62BK"
      },
      "execution_count": 13,
      "outputs": []
    },
    {
      "cell_type": "code",
      "source": [
        "# Data.insert(9,Target,ML Engineer)"
      ],
      "metadata": {
        "id": "_I6SHdpT0GmR"
      },
      "execution_count": null,
      "outputs": []
    },
    {
      "cell_type": "code",
      "source": [
        ""
      ],
      "metadata": {
        "id": "yihW-hJe8i_K"
      },
      "execution_count": null,
      "outputs": []
    }
  ]
}